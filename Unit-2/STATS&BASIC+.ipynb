{
 "cells": [
  {
   "cell_type": "code",
   "execution_count": 48,
   "id": "87d28ad9",
   "metadata": {},
   "outputs": [],
   "source": [
    "from scipy.stats import norm\n",
    "import numpy as np"
   ]
  },
  {
   "cell_type": "markdown",
   "id": "463f42a8",
   "metadata": {},
   "source": [
    "В Python найти P(Z<z), используя функцию norm.cdf(z) Здесь большая буква Z обозначает стандартную нормальную величину, а z — конкретное число."
   ]
  },
  {
   "cell_type": "code",
   "execution_count": 2,
   "id": "b06e4509",
   "metadata": {},
   "outputs": [
    {
     "data": {
      "text/plain": [
       "0.705401483784302"
      ]
     },
     "execution_count": 2,
     "metadata": {},
     "output_type": "execute_result"
    }
   ],
   "source": [
    "norm.cdf(0.54)"
   ]
  },
  {
   "cell_type": "code",
   "execution_count": 3,
   "id": "eef93fb7",
   "metadata": {},
   "outputs": [
    {
     "data": {
      "text/plain": [
       "0.294598516215698"
      ]
     },
     "execution_count": 3,
     "metadata": {},
     "output_type": "execute_result"
    }
   ],
   "source": [
    "# P(Z>z) = 1 - P(Z<z), P(Z=z)=0\n",
    "1-norm.cdf(0.54)"
   ]
  },
  {
   "cell_type": "markdown",
   "id": "c094b984",
   "metadata": {},
   "source": [
    "Также можно решить обратную задачу: найти число z, зная соответствующую вероятность P(Z<=z). Это можно сделать, используя функцию norm.ppf(z). Например, если P(Z<=z)=0.9, то можно найти, что z==1.28, используя norm.ppf(0.9)."
   ]
  },
  {
   "cell_type": "code",
   "execution_count": 4,
   "id": "fe341383",
   "metadata": {},
   "outputs": [
    {
     "data": {
      "text/plain": [
       "1.2815515655446004"
      ]
     },
     "execution_count": 4,
     "metadata": {},
     "output_type": "execute_result"
    }
   ],
   "source": [
    "norm.ppf(0.9)"
   ]
  },
  {
   "cell_type": "code",
   "execution_count": 5,
   "id": "5bafafc8",
   "metadata": {},
   "outputs": [
    {
     "data": {
      "text/plain": [
       "0.02275013194817921"
      ]
     },
     "execution_count": 5,
     "metadata": {},
     "output_type": "execute_result"
    }
   ],
   "source": [
    "1-norm.cdf(2)"
   ]
  },
  {
   "cell_type": "markdown",
   "id": "2d96c9ad",
   "metadata": {},
   "source": [
    "norm.cdf(x, loc = 0, scale = 1)\n",
    "Возвращает нормальную функцию распределения для указанного среднего и стандартного отклонения.\n",
    "\n",
    "Синтаксис\n",
    "x — значение, для которого строится распределение\n",
    "loc — среднее арифметическое распределения\n",
    "scale — стандартное отклонение распределения"
   ]
  },
  {
   "cell_type": "markdown",
   "id": "5fd953f2",
   "metadata": {},
   "source": [
    "Например, если X~N(4,2), можно найти P(X<=5) через функцию norm.cdf(5, 4, 2) в Python.\n",
    "\n",
    "Первый аргумент — число, меньше (либо равно) которого должен быть X, второй и третий аргумент — это среднее и стандартное отклонение X. \n",
    "\n",
    "Вероятность значений в определенном интервале можно найти как разность вероятностей:\n",
    "P(a<=X<=b) = P(X<=b) - P(X<=a), каждую из которых можно вычислить, используя norm.cdf().\n",
    "\n",
    "Также:  P(X>=c) = 1 - P(X<=c)\n",
    "\n",
    "Если же вы хотите найти значение c, зная вероятность P(x<=c), используйте функцию norm.ppf().\n",
    "\n",
    "Так, если X~N(4,2), и P(X<=C)==0.75, то C можно найти  через функцию norm.ppf(0.75, 4, 2). Первый аргумент — вероятность, остальные два — это среднее и стандартное отклонение X."
   ]
  },
  {
   "cell_type": "code",
   "execution_count": 6,
   "id": "a7167d12",
   "metadata": {},
   "outputs": [
    {
     "data": {
      "text/plain": [
       "2.3263478740408408"
      ]
     },
     "execution_count": 6,
     "metadata": {},
     "output_type": "execute_result"
    }
   ],
   "source": [
    "norm.ppf(1-0.01)"
   ]
  },
  {
   "cell_type": "code",
   "execution_count": 7,
   "id": "9777bc89",
   "metadata": {},
   "outputs": [
    {
     "data": {
      "text/plain": [
       "0.0126736593387341"
      ]
     },
     "execution_count": 7,
     "metadata": {},
     "output_type": "execute_result"
    }
   ],
   "source": [
    "1-norm.cdf(75,70,5/5**0.5)"
   ]
  },
  {
   "cell_type": "code",
   "execution_count": 8,
   "id": "cfa29ae8",
   "metadata": {},
   "outputs": [
    {
     "data": {
      "text/plain": [
       "0.06680720126885807"
      ]
     },
     "execution_count": 8,
     "metadata": {},
     "output_type": "execute_result"
    }
   ],
   "source": [
    "norm.cdf(0.16,0.2,(0.2*(1-0.2)/225)**0.5)"
   ]
  },
  {
   "cell_type": "code",
   "execution_count": 9,
   "id": "feeb596f",
   "metadata": {},
   "outputs": [
    {
     "data": {
      "text/plain": [
       "0.24263842038561922"
      ]
     },
     "execution_count": 9,
     "metadata": {},
     "output_type": "execute_result"
    }
   ],
   "source": [
    "norm.cdf(820,700,120)-norm.cdf(730,700,120)"
   ]
  },
  {
   "cell_type": "code",
   "execution_count": 10,
   "id": "9b3d5e07",
   "metadata": {},
   "outputs": [
    {
     "data": {
      "text/plain": [
       "502.61756476582326"
      ]
     },
     "execution_count": 10,
     "metadata": {},
     "output_type": "execute_result"
    }
   ],
   "source": [
    "norm.ppf(0.05,700,120)"
   ]
  },
  {
   "cell_type": "code",
   "execution_count": 11,
   "id": "978b348c",
   "metadata": {},
   "outputs": [
    {
     "data": {
      "text/plain": [
       "0.050329551646610377"
      ]
     },
     "execution_count": 11,
     "metadata": {},
     "output_type": "execute_result"
    }
   ],
   "source": [
    "norm.cdf(503,700,120)"
   ]
  },
  {
   "cell_type": "code",
   "execution_count": 14,
   "id": "ba50eea9",
   "metadata": {},
   "outputs": [
    {
     "data": {
      "text/plain": [
       "-1.6448536269514729"
      ]
     },
     "execution_count": 14,
     "metadata": {},
     "output_type": "execute_result"
    }
   ],
   "source": [
    "norm.ppf(0.05)"
   ]
  },
  {
   "cell_type": "code",
   "execution_count": 65,
   "id": "fdb05b40",
   "metadata": {},
   "outputs": [],
   "source": [
    "from scipy.stats import norm\n",
    "from scipy.stats import t\n",
    "import math\n",
    "\n",
    "def confidence_interval_norm(alpha, sigma, n, mean):\n",
    "    value = -norm.ppf(alpha/2)*sigma/math.sqrt(n)\n",
    "    return mean - value, mean + value\n",
    "\n",
    "def confidence_interval_t(alpha, s, n, mean):\n",
    "    value = -t.ppf(alpha/2,n-1)*s/math.sqrt(n)\n",
    "    return mean - value, mean + value"
   ]
  },
  {
   "cell_type": "code",
   "execution_count": 66,
   "id": "c19ec144",
   "metadata": {},
   "outputs": [
    {
     "data": {
      "text/plain": [
       "(11.856543911914558, 12.843456088085441)"
      ]
     },
     "execution_count": 66,
     "metadata": {},
     "output_type": "execute_result"
    }
   ],
   "source": [
    "confidence_interval_norm(0.1,2.4,64,12.35)"
   ]
  },
  {
   "cell_type": "code",
   "execution_count": 45,
   "id": "703a11db",
   "metadata": {},
   "outputs": [
    {
     "data": {
      "text/plain": [
       "(1692.553004440083, 2307.446995559917)"
      ]
     },
     "execution_count": 45,
     "metadata": {},
     "output_type": "execute_result"
    }
   ],
   "source": [
    "alpha = 0.01\n",
    "s = 400\n",
    "n = 15\n",
    "mean = 2000\n",
    "\n",
    "confidence_interval_t(alpha, s, n, mean)"
   ]
  },
  {
   "cell_type": "code",
   "execution_count": 46,
   "id": "dbe49103",
   "metadata": {},
   "outputs": [
    {
     "data": {
      "text/plain": [
       "(3352.6537883505453, 3727.3462116494547)"
      ]
     },
     "execution_count": 46,
     "metadata": {},
     "output_type": "execute_result"
    }
   ],
   "source": [
    "confidence_interval_norm(0.01, 1150, 250, 3540)"
   ]
  },
  {
   "cell_type": "code",
   "execution_count": 53,
   "id": "3b5da09f",
   "metadata": {},
   "outputs": [
    {
     "data": {
      "text/plain": [
       "(0.5732883999380967, 1.8067116000619032)"
      ]
     },
     "execution_count": 53,
     "metadata": {},
     "output_type": "execute_result"
    }
   ],
   "source": [
    "x = [1.2, 0.2, 1.6, 1.9, -0.4, 0.5, 1.4, 1.7, 2.5, 1.3]\n",
    "alpha = 0.05\n",
    "s = np.std(x,ddof=1)\n",
    "n = len(x)\n",
    "mean = np.mean(x)\n",
    "\n",
    "confidence_interval_t(alpha, s, n, mean)"
   ]
  },
  {
   "cell_type": "code",
   "execution_count": 85,
   "id": "0c4888a1",
   "metadata": {},
   "outputs": [
    {
     "data": {
      "text/plain": [
       "-2.3263478740408408"
      ]
     },
     "execution_count": 85,
     "metadata": {},
     "output_type": "execute_result"
    }
   ],
   "source": [
    "norm.ppf(0.01)"
   ]
  },
  {
   "cell_type": "code",
   "execution_count": 74,
   "id": "f27d5aca",
   "metadata": {},
   "outputs": [
    {
     "data": {
      "text/plain": [
       "-1.9842169515086832"
      ]
     },
     "execution_count": 74,
     "metadata": {},
     "output_type": "execute_result"
    }
   ],
   "source": [
    "t.ppf(0.025,100-1)"
   ]
  },
  {
   "cell_type": "code",
   "execution_count": 100,
   "id": "6b8535f2",
   "metadata": {},
   "outputs": [
    {
     "data": {
      "text/plain": [
       "0.08165880232248085"
      ]
     },
     "execution_count": 100,
     "metadata": {},
     "output_type": "execute_result"
    }
   ],
   "source": [
    "norm.cdf(-1.394)"
   ]
  },
  {
   "cell_type": "code",
   "execution_count": 86,
   "id": "39f14bc0",
   "metadata": {},
   "outputs": [
    {
     "data": {
      "text/plain": [
       "0.12878370493088995"
      ]
     },
     "execution_count": 86,
     "metadata": {},
     "output_type": "execute_result"
    }
   ],
   "source": [
    "t.cdf(-1.137,134)"
   ]
  },
  {
   "cell_type": "code",
   "execution_count": 97,
   "id": "788cddc4",
   "metadata": {},
   "outputs": [
    {
     "data": {
      "text/plain": [
       "0.07730839448896329"
      ]
     },
     "execution_count": 97,
     "metadata": {},
     "output_type": "execute_result"
    }
   ],
   "source": [
    "x = [6.1, 9.2, 11.5, 8.6, 12.1, 3.9, 8.4, 10.1, 9.4, 8.9]\n",
    "n= len(x)\n",
    "s= np.std(x, ddof=1)\n",
    "mu_0 = 10\n",
    "x_ = np.mean(x)\n",
    "alpha = 0.05\n",
    "t_st = (x_ - mu_0)/(s/math.sqrt(n))\n",
    "t.cdf(t_st,n-1)"
   ]
  },
  {
   "cell_type": "code",
   "execution_count": 106,
   "id": "3d96e999",
   "metadata": {},
   "outputs": [
    {
     "data": {
      "text/plain": [
       "0.061634189543386425"
      ]
     },
     "execution_count": 106,
     "metadata": {},
     "output_type": "execute_result"
    }
   ],
   "source": [
    "t.cdf(-1.617,18)"
   ]
  },
  {
   "cell_type": "code",
   "execution_count": 107,
   "id": "03b94649",
   "metadata": {},
   "outputs": [],
   "source": [
    "import pandas as pd\n",
    "df = pd.DataFrame({\n",
    "    'x': [6.1, 9.2, 11.5, 8.6, 12.1, 3.9, 8.4, 10.1, 9.4, 8.9],\n",
    "    'y': [7.3, 8.7, 12.6, 6.8, 12, 6.9, 10.2, 17.1, 9.2, 11.6]\n",
    "})"
   ]
  },
  {
   "cell_type": "code",
   "execution_count": 108,
   "id": "736f7bb8",
   "metadata": {},
   "outputs": [],
   "source": [
    "from scipy import stats"
   ]
  },
  {
   "cell_type": "code",
   "execution_count": 112,
   "id": "a001ef70",
   "metadata": {},
   "outputs": [
    {
     "data": {
      "text/plain": [
       "Ttest_indResult(statistic=-1.1204320654469309, pvalue=0.27725689942256937)"
      ]
     },
     "execution_count": 112,
     "metadata": {},
     "output_type": "execute_result"
    }
   ],
   "source": [
    "stats.ttest_ind(df.x,df.y)"
   ]
  },
  {
   "cell_type": "code",
   "execution_count": 114,
   "id": "a4cc4f32",
   "metadata": {},
   "outputs": [
    {
     "data": {
      "text/plain": [
       "Ttest_indResult(statistic=-1.120432065446931, pvalue=0.2784090399452133)"
      ]
     },
     "execution_count": 114,
     "metadata": {},
     "output_type": "execute_result"
    }
   ],
   "source": [
    "stats.ttest_ind(df.x,df.y,equal_var=False)"
   ]
  },
  {
   "cell_type": "code",
   "execution_count": 116,
   "id": "c4308df5",
   "metadata": {},
   "outputs": [],
   "source": [
    "from statsmodels.stats import weightstats"
   ]
  },
  {
   "cell_type": "code",
   "execution_count": 117,
   "id": "8f1c620e",
   "metadata": {},
   "outputs": [
    {
     "data": {
      "text/plain": [
       "(-1.1204320654469322, 0.2772568994225689, 18.0)"
      ]
     },
     "execution_count": 117,
     "metadata": {},
     "output_type": "execute_result"
    }
   ],
   "source": [
    "weightstats.ttest_ind(df.x,df.y)"
   ]
  },
  {
   "cell_type": "code",
   "execution_count": 120,
   "id": "1681da8f",
   "metadata": {},
   "outputs": [
    {
     "data": {
      "text/plain": [
       "(-1.1204320654469324, 0.2784090399452127, 16.673890238780608)"
      ]
     },
     "execution_count": 120,
     "metadata": {},
     "output_type": "execute_result"
    }
   ],
   "source": [
    "weightstats.ttest_ind(df.x,df.y,usevar='unequal')"
   ]
  },
  {
   "cell_type": "code",
   "execution_count": 121,
   "id": "453d1d67",
   "metadata": {},
   "outputs": [],
   "source": [
    "from statsmodels.stats import proportion"
   ]
  },
  {
   "cell_type": "code",
   "execution_count": 131,
   "id": "220efe49",
   "metadata": {},
   "outputs": [
    {
     "name": "stdout",
     "output_type": "stream",
     "text": [
      "0.0000013935\n"
     ]
    }
   ],
   "source": [
    "stat, pval = proportion.proportions_ztest([62,29],[100,100],alternative='larger')\n",
    "print('{0:0.10f}'.format(pval))"
   ]
  }
 ],
 "metadata": {
  "kernelspec": {
   "display_name": "Python 3",
   "language": "python",
   "name": "python3"
  },
  "language_info": {
   "codemirror_mode": {
    "name": "ipython",
    "version": 3
   },
   "file_extension": ".py",
   "mimetype": "text/x-python",
   "name": "python",
   "nbconvert_exporter": "python",
   "pygments_lexer": "ipython3",
   "version": "3.8.6"
  }
 },
 "nbformat": 4,
 "nbformat_minor": 5
}
