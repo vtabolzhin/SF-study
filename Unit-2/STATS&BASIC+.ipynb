{
 "cells": [
  {
   "cell_type": "code",
   "execution_count": 1,
   "id": "87d28ad9",
   "metadata": {},
   "outputs": [],
   "source": [
    "from scipy.stats import norm"
   ]
  },
  {
   "cell_type": "markdown",
   "id": "463f42a8",
   "metadata": {},
   "source": [
    "В Python найти P(Z<z), используя функцию norm.cdf(z) Здесь большая буква Z обозначает стандартную нормальную величину, а z — конкретное число."
   ]
  },
  {
   "cell_type": "code",
   "execution_count": 2,
   "id": "b06e4509",
   "metadata": {},
   "outputs": [
    {
     "data": {
      "text/plain": [
       "0.705401483784302"
      ]
     },
     "execution_count": 2,
     "metadata": {},
     "output_type": "execute_result"
    }
   ],
   "source": [
    "norm.cdf(0.54)"
   ]
  },
  {
   "cell_type": "code",
   "execution_count": 3,
   "id": "eef93fb7",
   "metadata": {},
   "outputs": [
    {
     "data": {
      "text/plain": [
       "0.294598516215698"
      ]
     },
     "execution_count": 3,
     "metadata": {},
     "output_type": "execute_result"
    }
   ],
   "source": [
    "# P(Z>z) = 1 - P(Z<z), P(Z=z)=0\n",
    "1-norm.cdf(0.54)"
   ]
  },
  {
   "cell_type": "markdown",
   "id": "c094b984",
   "metadata": {},
   "source": [
    "Также можно решить обратную задачу: найти число z, зная соответствующую вероятность P(Z<=z). Это можно сделать, используя функцию norm.ppf(z). Например, если P(Z<=z)=0.9, то можно найти, что z==1.28, используя norm.ppf(0.9)."
   ]
  },
  {
   "cell_type": "code",
   "execution_count": 4,
   "id": "fe341383",
   "metadata": {},
   "outputs": [
    {
     "data": {
      "text/plain": [
       "1.2815515655446004"
      ]
     },
     "execution_count": 4,
     "metadata": {},
     "output_type": "execute_result"
    }
   ],
   "source": [
    "norm.ppf(0.9)"
   ]
  },
  {
   "cell_type": "code",
   "execution_count": 8,
   "id": "5bafafc8",
   "metadata": {},
   "outputs": [
    {
     "data": {
      "text/plain": [
       "0.02275013194817921"
      ]
     },
     "execution_count": 8,
     "metadata": {},
     "output_type": "execute_result"
    }
   ],
   "source": [
    "1-norm.cdf(2)"
   ]
  },
  {
   "cell_type": "markdown",
   "id": "2d96c9ad",
   "metadata": {},
   "source": [
    "norm.cdf(x, loc = 0, scale = 1)\n",
    "Возвращает нормальную функцию распределения для указанного среднего и стандартного отклонения.\n",
    "\n",
    "Синтаксис\n",
    "x — значение, для которого строится распределение\n",
    "loc — среднее арифметическое распределения\n",
    "scale — стандартное отклонение распределения"
   ]
  },
  {
   "cell_type": "markdown",
   "id": "5fd953f2",
   "metadata": {},
   "source": [
    "Например, если X~N(4,2), можно найти P(X<=5) через функцию norm.cdf(5, 4, 2) в Python.\n",
    "\n",
    "Первый аргумент — число, меньше (либо равно) которого должен быть X, второй и третий аргумент — это среднее и стандартное отклонение X. \n",
    "\n",
    "Вероятность значений в определенном интервале можно найти как разность вероятностей:\n",
    "P(a<=X<=b) = P(X<=b) - P(X<=a), каждую из которых можно вычислить, используя norm.cdf().\n",
    "\n",
    "Также:  P(X>=c) = 1 - P(X<=c)\n",
    "\n",
    "Если же вы хотите найти значение c, зная вероятность P(x<=c), используйте функцию norm.ppf().\n",
    "\n",
    "Так, если X~N(4,2), и P(X<=C)==0.75, то C можно найти  через функцию norm.ppf(0.75, 4, 2). Первый аргумент — вероятность, остальные два — это среднее и стандартное отклонение X."
   ]
  },
  {
   "cell_type": "code",
   "execution_count": 16,
   "id": "a7167d12",
   "metadata": {},
   "outputs": [
    {
     "data": {
      "text/plain": [
       "2.3263478740408408"
      ]
     },
     "execution_count": 16,
     "metadata": {},
     "output_type": "execute_result"
    }
   ],
   "source": [
    "norm.ppf(1-0.01)"
   ]
  }
 ],
 "metadata": {
  "kernelspec": {
   "display_name": "Python 3",
   "language": "python",
   "name": "python3"
  },
  "language_info": {
   "codemirror_mode": {
    "name": "ipython",
    "version": 3
   },
   "file_extension": ".py",
   "mimetype": "text/x-python",
   "name": "python",
   "nbconvert_exporter": "python",
   "pygments_lexer": "ipython3",
   "version": "3.9.4"
  }
 },
 "nbformat": 4,
 "nbformat_minor": 5
}
