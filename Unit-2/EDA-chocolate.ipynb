{
 "cells": [
  {
   "cell_type": "markdown",
   "id": "69e3e634",
   "metadata": {},
   "source": [
    "Bar id — ID батончика в базе данных\n",
    "Company (Maker-if known) — название компании, изготовившей батончик.\n",
    "Specific Bean Origin or Bar Name — точное место происхождения какао-бобов.\n",
    "Broad Bean Origin — название региона, где были выращены какао-бобы.\n",
    "Company Location — страна, в которой произведён шоколадный батончик.\n",
    "Bean Type — вид какао-бобов, используемых в батончике.\n",
    "REF — числовое значение, показывающее, как давно ревью было добавлено в базу. Чем выше значение, тем более свежее ревью.\n",
    "Review Date — год публикации рецензии.\n",
    "Cocoa Percent — процент какао в шоколаде.\n",
    "Rating — оценка батончика фокус-группой."
   ]
  },
  {
   "cell_type": "code",
   "execution_count": 1,
   "id": "fad80e25",
   "metadata": {},
   "outputs": [],
   "source": [
    "import numpy as np\n",
    "import pandas as pd\n",
    "import matplotlib.pyplot as plt\n",
    "import seaborn as sns\n",
    "from itertools import combinations\n",
    "from scipy.stats import ttest_ind\n",
    "from statsmodels import stats"
   ]
  },
  {
   "cell_type": "code",
   "execution_count": 2,
   "id": "5987eb2a",
   "metadata": {},
   "outputs": [],
   "source": [
    "pd.set_option('display.max_rows', 50) # показывать больше строк\n",
    "pd.set_option('display.max_columns', 50) # показывать больше колонок"
   ]
  },
  {
   "cell_type": "code",
   "execution_count": 3,
   "id": "18d32849",
   "metadata": {},
   "outputs": [
    {
     "data": {
      "text/html": [
       "<div>\n",
       "<style scoped>\n",
       "    .dataframe tbody tr th:only-of-type {\n",
       "        vertical-align: middle;\n",
       "    }\n",
       "\n",
       "    .dataframe tbody tr th {\n",
       "        vertical-align: top;\n",
       "    }\n",
       "\n",
       "    .dataframe thead th {\n",
       "        text-align: right;\n",
       "    }\n",
       "</style>\n",
       "<table border=\"1\" class=\"dataframe\">\n",
       "  <thead>\n",
       "    <tr style=\"text-align: right;\">\n",
       "      <th></th>\n",
       "      <th>Bar id</th>\n",
       "      <th>Company \\n(Maker-if known)</th>\n",
       "      <th>Specific Bean Origin\\nor Bar Name</th>\n",
       "      <th>REF</th>\n",
       "      <th>Review\\nDate</th>\n",
       "      <th>Cocoa\\nPercent</th>\n",
       "      <th>Company\\nLocation</th>\n",
       "      <th>Rating</th>\n",
       "      <th>Bean\\nType</th>\n",
       "      <th>Broad Bean\\nOrigin</th>\n",
       "    </tr>\n",
       "  </thead>\n",
       "  <tbody>\n",
       "    <tr>\n",
       "      <th>1790</th>\n",
       "      <td>1791</td>\n",
       "      <td>Zotter</td>\n",
       "      <td>Peru</td>\n",
       "      <td>647</td>\n",
       "      <td>2011</td>\n",
       "      <td>70%</td>\n",
       "      <td>Austria</td>\n",
       "      <td>3.75</td>\n",
       "      <td></td>\n",
       "      <td>Peru</td>\n",
       "    </tr>\n",
       "    <tr>\n",
       "      <th>1791</th>\n",
       "      <td>1792</td>\n",
       "      <td>Zotter</td>\n",
       "      <td>Congo</td>\n",
       "      <td>749</td>\n",
       "      <td>2011</td>\n",
       "      <td>65%</td>\n",
       "      <td>Austria</td>\n",
       "      <td>3.00</td>\n",
       "      <td>Forastero</td>\n",
       "      <td>Congo</td>\n",
       "    </tr>\n",
       "    <tr>\n",
       "      <th>1792</th>\n",
       "      <td>1793</td>\n",
       "      <td>Zotter</td>\n",
       "      <td>Kerala State</td>\n",
       "      <td>749</td>\n",
       "      <td>2011</td>\n",
       "      <td>65%</td>\n",
       "      <td>Austria</td>\n",
       "      <td>3.50</td>\n",
       "      <td>Forastero</td>\n",
       "      <td>India</td>\n",
       "    </tr>\n",
       "    <tr>\n",
       "      <th>1793</th>\n",
       "      <td>1794</td>\n",
       "      <td>Zotter</td>\n",
       "      <td>Kerala State</td>\n",
       "      <td>781</td>\n",
       "      <td>2011</td>\n",
       "      <td>62%</td>\n",
       "      <td>Austria</td>\n",
       "      <td>3.25</td>\n",
       "      <td></td>\n",
       "      <td>India</td>\n",
       "    </tr>\n",
       "    <tr>\n",
       "      <th>1794</th>\n",
       "      <td>1795</td>\n",
       "      <td>Zotter</td>\n",
       "      <td>Brazil, Mitzi Blue</td>\n",
       "      <td>486</td>\n",
       "      <td>2010</td>\n",
       "      <td>65%</td>\n",
       "      <td>Austria</td>\n",
       "      <td>3.00</td>\n",
       "      <td></td>\n",
       "      <td>Brazil</td>\n",
       "    </tr>\n",
       "  </tbody>\n",
       "</table>\n",
       "</div>"
      ],
      "text/plain": [
       "      Bar id Company \\n(Maker-if known) Specific Bean Origin\\nor Bar Name  \\\n",
       "1790    1791                     Zotter                              Peru   \n",
       "1791    1792                     Zotter                             Congo   \n",
       "1792    1793                     Zotter                      Kerala State   \n",
       "1793    1794                     Zotter                      Kerala State   \n",
       "1794    1795                     Zotter                Brazil, Mitzi Blue   \n",
       "\n",
       "      REF  Review\\nDate Cocoa\\nPercent Company\\nLocation  Rating Bean\\nType  \\\n",
       "1790  647          2011            70%           Austria    3.75              \n",
       "1791  749          2011            65%           Austria    3.00  Forastero   \n",
       "1792  749          2011            65%           Austria    3.50  Forastero   \n",
       "1793  781          2011            62%           Austria    3.25              \n",
       "1794  486          2010            65%           Austria    3.00              \n",
       "\n",
       "     Broad Bean\\nOrigin  \n",
       "1790               Peru  \n",
       "1791              Congo  \n",
       "1792              India  \n",
       "1793              India  \n",
       "1794             Brazil  "
      ]
     },
     "execution_count": 3,
     "metadata": {},
     "output_type": "execute_result"
    }
   ],
   "source": [
    "df = pd.read_csv('cacao_flavors.csv')\n",
    "df.tail()"
   ]
  },
  {
   "cell_type": "code",
   "execution_count": 4,
   "id": "5aab8554",
   "metadata": {},
   "outputs": [
    {
     "name": "stdout",
     "output_type": "stream",
     "text": [
      "<class 'pandas.core.frame.DataFrame'>\n",
      "RangeIndex: 1795 entries, 0 to 1794\n",
      "Data columns (total 10 columns):\n",
      " #   Column                            Non-Null Count  Dtype  \n",
      "---  ------                            --------------  -----  \n",
      " 0   Bar id                            1795 non-null   int64  \n",
      " 1   Company \n",
      "(Maker-if known)         1795 non-null   object \n",
      " 2   Specific Bean Origin\n",
      "or Bar Name  1795 non-null   object \n",
      " 3   REF                               1795 non-null   int64  \n",
      " 4   Review\n",
      "Date                       1795 non-null   int64  \n",
      " 5   Cocoa\n",
      "Percent                     1795 non-null   object \n",
      " 6   Company\n",
      "Location                  1795 non-null   object \n",
      " 7   Rating                            1795 non-null   float64\n",
      " 8   Bean\n",
      "Type                         1794 non-null   object \n",
      " 9   Broad Bean\n",
      "Origin                 1794 non-null   object \n",
      "dtypes: float64(1), int64(3), object(6)\n",
      "memory usage: 140.4+ KB\n"
     ]
    }
   ],
   "source": [
    "df.info()"
   ]
  },
  {
   "cell_type": "code",
   "execution_count": 7,
   "id": "ca829ba7",
   "metadata": {},
   "outputs": [
    {
     "data": {
      "text/plain": [
       "Bar id                               0\n",
       "Company \\n(Maker-if known)           0\n",
       "Specific Bean Origin\\nor Bar Name    0\n",
       "REF                                  0\n",
       "Review\\nDate                         0\n",
       "Cocoa\\nPercent                       0\n",
       "Company\\nLocation                    0\n",
       "Rating                               0\n",
       "Bean\\nType                           1\n",
       "Broad Bean\\nOrigin                   1\n",
       "dtype: int64"
      ]
     },
     "execution_count": 7,
     "metadata": {},
     "output_type": "execute_result"
    }
   ],
   "source": [
    "df.isnull().sum()"
   ]
  },
  {
   "cell_type": "code",
   "execution_count": 224,
   "id": "5f62d09f",
   "metadata": {},
   "outputs": [
    {
     "data": {
      "text/html": [
       "<div>\n",
       "<style scoped>\n",
       "    .dataframe tbody tr th:only-of-type {\n",
       "        vertical-align: middle;\n",
       "    }\n",
       "\n",
       "    .dataframe tbody tr th {\n",
       "        vertical-align: top;\n",
       "    }\n",
       "\n",
       "    .dataframe thead th {\n",
       "        text-align: right;\n",
       "    }\n",
       "</style>\n",
       "<table border=\"1\" class=\"dataframe\">\n",
       "  <thead>\n",
       "    <tr style=\"text-align: right;\">\n",
       "      <th></th>\n",
       "      <th>Bar id</th>\n",
       "      <th>REF</th>\n",
       "      <th>Review\\r\\nDate</th>\n",
       "      <th>Rating</th>\n",
       "    </tr>\n",
       "  </thead>\n",
       "  <tbody>\n",
       "    <tr>\n",
       "      <th>count</th>\n",
       "      <td>1795.000000</td>\n",
       "      <td>1795.000000</td>\n",
       "      <td>1795.000000</td>\n",
       "      <td>1795.000000</td>\n",
       "    </tr>\n",
       "    <tr>\n",
       "      <th>mean</th>\n",
       "      <td>898.000000</td>\n",
       "      <td>1035.904735</td>\n",
       "      <td>2012.325348</td>\n",
       "      <td>3.422981</td>\n",
       "    </tr>\n",
       "    <tr>\n",
       "      <th>std</th>\n",
       "      <td>518.316184</td>\n",
       "      <td>552.886365</td>\n",
       "      <td>2.927210</td>\n",
       "      <td>1.750584</td>\n",
       "    </tr>\n",
       "    <tr>\n",
       "      <th>min</th>\n",
       "      <td>1.000000</td>\n",
       "      <td>5.000000</td>\n",
       "      <td>2006.000000</td>\n",
       "      <td>1.000000</td>\n",
       "    </tr>\n",
       "    <tr>\n",
       "      <th>25%</th>\n",
       "      <td>449.500000</td>\n",
       "      <td>576.000000</td>\n",
       "      <td>2010.000000</td>\n",
       "      <td>3.000000</td>\n",
       "    </tr>\n",
       "    <tr>\n",
       "      <th>50%</th>\n",
       "      <td>898.000000</td>\n",
       "      <td>1069.000000</td>\n",
       "      <td>2013.000000</td>\n",
       "      <td>3.250000</td>\n",
       "    </tr>\n",
       "    <tr>\n",
       "      <th>75%</th>\n",
       "      <td>1346.500000</td>\n",
       "      <td>1502.000000</td>\n",
       "      <td>2015.000000</td>\n",
       "      <td>3.500000</td>\n",
       "    </tr>\n",
       "    <tr>\n",
       "      <th>max</th>\n",
       "      <td>1795.000000</td>\n",
       "      <td>1952.000000</td>\n",
       "      <td>2017.000000</td>\n",
       "      <td>19.750000</td>\n",
       "    </tr>\n",
       "  </tbody>\n",
       "</table>\n",
       "</div>"
      ],
      "text/plain": [
       "            Bar id          REF  Review\\r\\nDate       Rating\n",
       "count  1795.000000  1795.000000     1795.000000  1795.000000\n",
       "mean    898.000000  1035.904735     2012.325348     3.422981\n",
       "std     518.316184   552.886365        2.927210     1.750584\n",
       "min       1.000000     5.000000     2006.000000     1.000000\n",
       "25%     449.500000   576.000000     2010.000000     3.000000\n",
       "50%     898.000000  1069.000000     2013.000000     3.250000\n",
       "75%    1346.500000  1502.000000     2015.000000     3.500000\n",
       "max    1795.000000  1952.000000     2017.000000    19.750000"
      ]
     },
     "execution_count": 224,
     "metadata": {},
     "output_type": "execute_result"
    }
   ],
   "source": [
    "df.describe()"
   ]
  },
  {
   "cell_type": "code",
   "execution_count": 225,
   "id": "d445f00f",
   "metadata": {},
   "outputs": [
    {
     "data": {
      "text/plain": [
       "Index(['Bar id', 'Company \\r\\n(Maker-if known)',\n",
       "       'Specific Bean Origin\\r\\nor Bar Name', 'REF', 'Review\\r\\nDate',\n",
       "       'Cocoa\\r\\nPercent', 'Company\\r\\nLocation', 'Rating', 'Bean\\r\\nType',\n",
       "       'Broad Bean\\r\\nOrigin'],\n",
       "      dtype='object')"
      ]
     },
     "execution_count": 225,
     "metadata": {},
     "output_type": "execute_result"
    }
   ],
   "source": [
    "df.columns"
   ]
  },
  {
   "cell_type": "code",
   "execution_count": 226,
   "id": "b4d10fea",
   "metadata": {},
   "outputs": [
    {
     "data": {
      "text/html": [
       "<div>\n",
       "<style scoped>\n",
       "    .dataframe tbody tr th:only-of-type {\n",
       "        vertical-align: middle;\n",
       "    }\n",
       "\n",
       "    .dataframe tbody tr th {\n",
       "        vertical-align: top;\n",
       "    }\n",
       "\n",
       "    .dataframe thead th {\n",
       "        text-align: right;\n",
       "    }\n",
       "</style>\n",
       "<table border=\"1\" class=\"dataframe\">\n",
       "  <thead>\n",
       "    <tr style=\"text-align: right;\">\n",
       "      <th></th>\n",
       "      <th>bar_id</th>\n",
       "      <th>company</th>\n",
       "      <th>specific_origin</th>\n",
       "      <th>ref</th>\n",
       "      <th>review_date</th>\n",
       "      <th>cocoa_percent</th>\n",
       "      <th>company_location</th>\n",
       "      <th>rating</th>\n",
       "      <th>bean_type</th>\n",
       "      <th>broad_origin</th>\n",
       "    </tr>\n",
       "  </thead>\n",
       "  <tbody>\n",
       "    <tr>\n",
       "      <th>0</th>\n",
       "      <td>1</td>\n",
       "      <td>A. Morin</td>\n",
       "      <td>Agua Grande</td>\n",
       "      <td>1876</td>\n",
       "      <td>2016</td>\n",
       "      <td>63%</td>\n",
       "      <td>France</td>\n",
       "      <td>11.50</td>\n",
       "      <td></td>\n",
       "      <td>Sao Tome</td>\n",
       "    </tr>\n",
       "    <tr>\n",
       "      <th>1</th>\n",
       "      <td>2</td>\n",
       "      <td>A. Morin</td>\n",
       "      <td>Kpime</td>\n",
       "      <td>1676</td>\n",
       "      <td>2015</td>\n",
       "      <td>70%</td>\n",
       "      <td>France</td>\n",
       "      <td>2.75</td>\n",
       "      <td></td>\n",
       "      <td>Togo</td>\n",
       "    </tr>\n",
       "    <tr>\n",
       "      <th>2</th>\n",
       "      <td>3</td>\n",
       "      <td>A. Morin</td>\n",
       "      <td>Atsane</td>\n",
       "      <td>1676</td>\n",
       "      <td>2015</td>\n",
       "      <td>670%</td>\n",
       "      <td>France</td>\n",
       "      <td>3.00</td>\n",
       "      <td></td>\n",
       "      <td>Togo</td>\n",
       "    </tr>\n",
       "    <tr>\n",
       "      <th>3</th>\n",
       "      <td>4</td>\n",
       "      <td>A. Morin</td>\n",
       "      <td>Akata</td>\n",
       "      <td>1680</td>\n",
       "      <td>2015</td>\n",
       "      <td>70%</td>\n",
       "      <td>France</td>\n",
       "      <td>3.50</td>\n",
       "      <td></td>\n",
       "      <td>Togo</td>\n",
       "    </tr>\n",
       "    <tr>\n",
       "      <th>4</th>\n",
       "      <td>5</td>\n",
       "      <td>A. Morin</td>\n",
       "      <td>Quilla</td>\n",
       "      <td>1704</td>\n",
       "      <td>2015</td>\n",
       "      <td>70%</td>\n",
       "      <td>France</td>\n",
       "      <td>3.50</td>\n",
       "      <td></td>\n",
       "      <td>Peru</td>\n",
       "    </tr>\n",
       "  </tbody>\n",
       "</table>\n",
       "</div>"
      ],
      "text/plain": [
       "   bar_id   company specific_origin   ref  review_date cocoa_percent  \\\n",
       "0       1  A. Morin     Agua Grande  1876         2016           63%   \n",
       "1       2  A. Morin           Kpime  1676         2015           70%   \n",
       "2       3  A. Morin          Atsane  1676         2015          670%   \n",
       "3       4  A. Morin           Akata  1680         2015           70%   \n",
       "4       5  A. Morin          Quilla  1704         2015           70%   \n",
       "\n",
       "  company_location  rating bean_type broad_origin  \n",
       "0           France   11.50               Sao Tome  \n",
       "1           France    2.75                   Togo  \n",
       "2           France    3.00                   Togo  \n",
       "3           France    3.50                   Togo  \n",
       "4           France    3.50                   Peru  "
      ]
     },
     "execution_count": 226,
     "metadata": {},
     "output_type": "execute_result"
    }
   ],
   "source": [
    "df.columns=['bar_id', 'company', 'specific_origin', 'ref', 'review_date',\n",
    "           'cocoa_percent', 'company_location', 'rating', 'bean_type', 'broad_origin']\n",
    "df.head()"
   ]
  },
  {
   "cell_type": "code",
   "execution_count": 227,
   "id": "be6b548a",
   "metadata": {},
   "outputs": [
    {
     "name": "stdout",
     "output_type": "stream",
     "text": [
      "1795\n"
     ]
    },
    {
     "data": {
      "text/plain": [
       "<AxesSubplot:>"
      ]
     },
     "execution_count": 227,
     "metadata": {},
     "output_type": "execute_result"
    },
    {
     "data": {
      "image/png": "[encoded data removed]",
      "text/plain": [
       "<Figure size 432x288 with 1 Axes>"
      ]
     },
     "metadata": {
      "needs_background": "light"
     },
     "output_type": "display_data"
    }
   ],
   "source": [
    "print(df.bar_id.nunique())\n",
    "plt.plot(df.bar_id)\n",
    "df.bar_id.hist()"
   ]
  },
  {
   "cell_type": "markdown",
   "id": "8a7e92bb",
   "metadata": {},
   "source": [
    "id батончиков все уникальны, упорядочены, задвоениий и пропусков нет, поэтому этот столбец удалим"
   ]
  },
  {
   "cell_type": "code",
   "execution_count": 228,
   "id": "b94818ae",
   "metadata": {},
   "outputs": [
    {
     "data": {
      "text/html": [
       "<div>\n",
       "<style scoped>\n",
       "    .dataframe tbody tr th:only-of-type {\n",
       "        vertical-align: middle;\n",
       "    }\n",
       "\n",
       "    .dataframe tbody tr th {\n",
       "        vertical-align: top;\n",
       "    }\n",
       "\n",
       "    .dataframe thead th {\n",
       "        text-align: right;\n",
       "    }\n",
       "</style>\n",
       "<table border=\"1\" class=\"dataframe\">\n",
       "  <thead>\n",
       "    <tr style=\"text-align: right;\">\n",
       "      <th></th>\n",
       "      <th>company</th>\n",
       "      <th>specific_origin</th>\n",
       "      <th>ref</th>\n",
       "      <th>review_date</th>\n",
       "      <th>cocoa_percent</th>\n",
       "      <th>company_location</th>\n",
       "      <th>rating</th>\n",
       "      <th>bean_type</th>\n",
       "      <th>broad_origin</th>\n",
       "    </tr>\n",
       "  </thead>\n",
       "  <tbody>\n",
       "    <tr>\n",
       "      <th>0</th>\n",
       "      <td>A. Morin</td>\n",
       "      <td>Agua Grande</td>\n",
       "      <td>1876</td>\n",
       "      <td>2016</td>\n",
       "      <td>63%</td>\n",
       "      <td>France</td>\n",
       "      <td>11.50</td>\n",
       "      <td></td>\n",
       "      <td>Sao Tome</td>\n",
       "    </tr>\n",
       "    <tr>\n",
       "      <th>1</th>\n",
       "      <td>A. Morin</td>\n",
       "      <td>Kpime</td>\n",
       "      <td>1676</td>\n",
       "      <td>2015</td>\n",
       "      <td>70%</td>\n",
       "      <td>France</td>\n",
       "      <td>2.75</td>\n",
       "      <td></td>\n",
       "      <td>Togo</td>\n",
       "    </tr>\n",
       "    <tr>\n",
       "      <th>2</th>\n",
       "      <td>A. Morin</td>\n",
       "      <td>Atsane</td>\n",
       "      <td>1676</td>\n",
       "      <td>2015</td>\n",
       "      <td>670%</td>\n",
       "      <td>France</td>\n",
       "      <td>3.00</td>\n",
       "      <td></td>\n",
       "      <td>Togo</td>\n",
       "    </tr>\n",
       "    <tr>\n",
       "      <th>3</th>\n",
       "      <td>A. Morin</td>\n",
       "      <td>Akata</td>\n",
       "      <td>1680</td>\n",
       "      <td>2015</td>\n",
       "      <td>70%</td>\n",
       "      <td>France</td>\n",
       "      <td>3.50</td>\n",
       "      <td></td>\n",
       "      <td>Togo</td>\n",
       "    </tr>\n",
       "    <tr>\n",
       "      <th>4</th>\n",
       "      <td>A. Morin</td>\n",
       "      <td>Quilla</td>\n",
       "      <td>1704</td>\n",
       "      <td>2015</td>\n",
       "      <td>70%</td>\n",
       "      <td>France</td>\n",
       "      <td>3.50</td>\n",
       "      <td></td>\n",
       "      <td>Peru</td>\n",
       "    </tr>\n",
       "  </tbody>\n",
       "</table>\n",
       "</div>"
      ],
      "text/plain": [
       "    company specific_origin   ref  review_date cocoa_percent company_location  \\\n",
       "0  A. Morin     Agua Grande  1876         2016           63%           France   \n",
       "1  A. Morin           Kpime  1676         2015           70%           France   \n",
       "2  A. Morin          Atsane  1676         2015          670%           France   \n",
       "3  A. Morin           Akata  1680         2015           70%           France   \n",
       "4  A. Morin          Quilla  1704         2015           70%           France   \n",
       "\n",
       "   rating bean_type broad_origin  \n",
       "0   11.50               Sao Tome  \n",
       "1    2.75                   Togo  \n",
       "2    3.00                   Togo  \n",
       "3    3.50                   Togo  \n",
       "4    3.50                   Peru  "
      ]
     },
     "execution_count": 228,
     "metadata": {},
     "output_type": "execute_result"
    }
   ],
   "source": [
    "df.drop(['bar_id'], inplace=True, axis=1)\n",
    "df.head()"
   ]
  },
  {
   "cell_type": "markdown",
   "id": "ab2669ee",
   "metadata": {},
   "source": [
    "# Company"
   ]
  },
  {
   "cell_type": "code",
   "execution_count": 229,
   "id": "13203e83",
   "metadata": {},
   "outputs": [
    {
     "data": {
      "text/plain": [
       "                       99\n",
       "Soma                   45\n",
       "Fresco                 26\n",
       "Bonnat                 26\n",
       "Pralus                 25\n",
       "                       ..\n",
       "Friis Holm              1\n",
       "Vintage Plantations     1\n",
       "Park 75                 1\n",
       "Hachez                  1\n",
       "Rancho San Jacinto      1\n",
       "Name: company, Length: 408, dtype: int64"
      ]
     },
     "execution_count": 229,
     "metadata": {},
     "output_type": "execute_result"
    }
   ],
   "source": [
    "df.company.value_counts()"
   ]
  },
  {
   "cell_type": "code",
   "execution_count": 230,
   "id": "72c805a9",
   "metadata": {},
   "outputs": [
    {
     "data": {
      "text/plain": [
       "Soma                                 45\n",
       "Fresco                               26\n",
       "Bonnat                               26\n",
       "Pralus                               25\n",
       "Domori                               22\n",
       "                                     ..\n",
       "Pura Delizia                          1\n",
       "Cacao Arabuco                         1\n",
       "Cacaosuyo (Theobroma Inversiones)     1\n",
       "Monsieur Truffe                       1\n",
       "Rancho San Jacinto                    1\n",
       "Name: company, Length: 407, dtype: int64"
      ]
     },
     "execution_count": 230,
     "metadata": {},
     "output_type": "execute_result"
    }
   ],
   "source": [
    "# заменим пустые строки на None\n",
    "df.company = df.company.apply(lambda x: None if x.strip()=='' else x)\n",
    "df.company.value_counts()"
   ]
  },
  {
   "cell_type": "code",
   "execution_count": 231,
   "id": "27493a55",
   "metadata": {},
   "outputs": [
    {
     "data": {
      "text/html": [
       "<div>\n",
       "<style scoped>\n",
       "    .dataframe tbody tr th:only-of-type {\n",
       "        vertical-align: middle;\n",
       "    }\n",
       "\n",
       "    .dataframe tbody tr th {\n",
       "        vertical-align: top;\n",
       "    }\n",
       "\n",
       "    .dataframe thead th {\n",
       "        text-align: right;\n",
       "    }\n",
       "</style>\n",
       "<table border=\"1\" class=\"dataframe\">\n",
       "  <thead>\n",
       "    <tr style=\"text-align: right;\">\n",
       "      <th></th>\n",
       "      <th>company</th>\n",
       "    </tr>\n",
       "  </thead>\n",
       "  <tbody>\n",
       "    <tr>\n",
       "      <th>Soma</th>\n",
       "      <td>45</td>\n",
       "    </tr>\n",
       "    <tr>\n",
       "      <th>Fresco</th>\n",
       "      <td>26</td>\n",
       "    </tr>\n",
       "    <tr>\n",
       "      <th>Bonnat</th>\n",
       "      <td>26</td>\n",
       "    </tr>\n",
       "    <tr>\n",
       "      <th>Pralus</th>\n",
       "      <td>25</td>\n",
       "    </tr>\n",
       "    <tr>\n",
       "      <th>Domori</th>\n",
       "      <td>22</td>\n",
       "    </tr>\n",
       "    <tr>\n",
       "      <th>...</th>\n",
       "      <td>...</td>\n",
       "    </tr>\n",
       "    <tr>\n",
       "      <th>Pura Delizia</th>\n",
       "      <td>1</td>\n",
       "    </tr>\n",
       "    <tr>\n",
       "      <th>Cacao Arabuco</th>\n",
       "      <td>1</td>\n",
       "    </tr>\n",
       "    <tr>\n",
       "      <th>Cacaosuyo (Theobroma Inversiones)</th>\n",
       "      <td>1</td>\n",
       "    </tr>\n",
       "    <tr>\n",
       "      <th>Monsieur Truffe</th>\n",
       "      <td>1</td>\n",
       "    </tr>\n",
       "    <tr>\n",
       "      <th>Rancho San Jacinto</th>\n",
       "      <td>1</td>\n",
       "    </tr>\n",
       "  </tbody>\n",
       "</table>\n",
       "<p>407 rows × 1 columns</p>\n",
       "</div>"
      ],
      "text/plain": [
       "                                   company\n",
       "Soma                                    45\n",
       "Fresco                                  26\n",
       "Bonnat                                  26\n",
       "Pralus                                  25\n",
       "Domori                                  22\n",
       "...                                    ...\n",
       "Pura Delizia                             1\n",
       "Cacao Arabuco                            1\n",
       "Cacaosuyo (Theobroma Inversiones)        1\n",
       "Monsieur Truffe                          1\n",
       "Rancho San Jacinto                       1\n",
       "\n",
       "[407 rows x 1 columns]"
      ]
     },
     "metadata": {},
     "output_type": "display_data"
    },
    {
     "name": "stdout",
     "output_type": "stream",
     "text": [
      "Количество компаний, у которых более 10 оценок: 30\n"
     ]
    }
   ],
   "source": [
    "display(pd.DataFrame(df.company.value_counts()))\n",
    "print(f\"Количество компаний, у которых более 10 оценок: {(df.company.value_counts()>10).sum()}\")"
   ]
  },
  {
   "cell_type": "markdown",
   "id": "66c635f3",
   "metadata": {},
   "source": [
    "# specific_origin"
   ]
  },
  {
   "cell_type": "code",
   "execution_count": 232,
   "id": "1cac329a",
   "metadata": {},
   "outputs": [
    {
     "data": {
      "text/plain": [
       "                                            58\n",
       "Madagascar                                  55\n",
       "Peru                                        44\n",
       "Ecuador                                     39\n",
       "Dominican Republic                          33\n",
       "                                            ..\n",
       "Panama, Raven                                1\n",
       "Monte Alegre, Diego Badero                   1\n",
       "Caribe                                       1\n",
       "Maleku                                       1\n",
       "Camino Verde P., Balao, Guayas, \"Floral\"     1\n",
       "Name: specific_origin, Length: 1013, dtype: int64"
      ]
     },
     "execution_count": 232,
     "metadata": {},
     "output_type": "execute_result"
    }
   ],
   "source": [
    "df.specific_origin.value_counts()"
   ]
  },
  {
   "cell_type": "code",
   "execution_count": 233,
   "id": "47b0ff3e",
   "metadata": {},
   "outputs": [],
   "source": [
    "# заменим пустые строки на None\n",
    "df.specific_origin = df.specific_origin.apply(lambda x: None if x.strip()=='' else x)"
   ]
  },
  {
   "cell_type": "code",
   "execution_count": 234,
   "id": "9c8f153e",
   "metadata": {},
   "outputs": [
    {
     "data": {
      "text/plain": [
       "Madagascar                                  55\n",
       "Peru                                        44\n",
       "Ecuador                                     39\n",
       "Dominican Republic                          33\n",
       "Venezuela                                   21\n",
       "                                            ..\n",
       "Panama, Raven                                1\n",
       "Monte Alegre, Diego Badero                   1\n",
       "Caribe                                       1\n",
       "Maleku                                       1\n",
       "Camino Verde P., Balao, Guayas, \"Floral\"     1\n",
       "Name: specific_origin, Length: 1012, dtype: int64"
      ]
     },
     "metadata": {},
     "output_type": "display_data"
    },
    {
     "name": "stdout",
     "output_type": "stream",
     "text": [
      "Количество регионов, встретившихся более 10 раз: 15\n"
     ]
    },
    {
     "data": {
      "text/plain": [
       "1737"
      ]
     },
     "execution_count": 234,
     "metadata": {},
     "output_type": "execute_result"
    }
   ],
   "source": [
    "display(df.specific_origin.value_counts())\n",
    "print(f\"Количество регионов, встретившихся более 10 раз: {(df.specific_origin.value_counts()>10).sum()}\")\n",
    "(df.specific_origin.value_counts()).sum()"
   ]
  },
  {
   "cell_type": "markdown",
   "id": "ec28e31e",
   "metadata": {},
   "source": [
    "# ref"
   ]
  },
  {
   "cell_type": "code",
   "execution_count": 235,
   "id": "cd762fdf",
   "metadata": {},
   "outputs": [
    {
     "data": {
      "text/plain": [
       "count    1795.000000\n",
       "mean     1035.904735\n",
       "std       552.886365\n",
       "min         5.000000\n",
       "25%       576.000000\n",
       "50%      1069.000000\n",
       "75%      1502.000000\n",
       "max      1952.000000\n",
       "Name: ref, dtype: float64"
      ]
     },
     "execution_count": 235,
     "metadata": {},
     "output_type": "execute_result"
    },
    {
     "data": {
      "image/png": "[encoded data removed]",
      "text/plain": [
       "<Figure size 432x288 with 1 Axes>"
      ]
     },
     "metadata": {
      "needs_background": "light"
     },
     "output_type": "display_data"
    }
   ],
   "source": [
    "df.ref.hist()\n",
    "df.ref.describe()"
   ]
  },
  {
   "cell_type": "markdown",
   "id": "861f97ae",
   "metadata": {},
   "source": [
    "Как видно, у этого признака распределение без аномалий, выбросов нет. Заметен тренд на возрастание количества отзывов со временем (так как REF обозначает время внесения отзыва в базу). Интересно, почему так происходит?"
   ]
  },
  {
   "cell_type": "markdown",
   "id": "4b3907d5",
   "metadata": {},
   "source": [
    "# review_date"
   ]
  },
  {
   "cell_type": "code",
   "execution_count": 236,
   "id": "d84caa7d",
   "metadata": {},
   "outputs": [
    {
     "data": {
      "text/plain": [
       "count    1795.000000\n",
       "mean     2012.325348\n",
       "std         2.927210\n",
       "min      2006.000000\n",
       "25%      2010.000000\n",
       "50%      2013.000000\n",
       "75%      2015.000000\n",
       "max      2017.000000\n",
       "Name: review_date, dtype: float64"
      ]
     },
     "execution_count": 236,
     "metadata": {},
     "output_type": "execute_result"
    },
    {
     "data": {
      "image/png": "[encoded data removed]",
      "text/plain": [
       "<Figure size 432x288 with 1 Axes>"
      ]
     },
     "metadata": {
      "needs_background": "light"
     },
     "output_type": "display_data"
    }
   ],
   "source": [
    "df.review_date.hist()\n",
    "df.review_date.describe()"
   ]
  },
  {
   "cell_type": "markdown",
   "id": "512975d6",
   "metadata": {},
   "source": [
    "Здесь также заметен тренд на увеличение ревью со временем."
   ]
  },
  {
   "cell_type": "markdown",
   "id": "0eea5579",
   "metadata": {},
   "source": [
    "# cocoa_percent"
   ]
  },
  {
   "cell_type": "code",
   "execution_count": 237,
   "id": "601db003",
   "metadata": {},
   "outputs": [
    {
     "data": {
      "text/plain": [
       "70%      664\n",
       "75%      219\n",
       "72%      189\n",
       "65%       77\n",
       "80%       70\n",
       "        ... \n",
       "570%       1\n",
       "668%       1\n",
       "60.5%      1\n",
       "576%       1\n",
       "580%       1\n",
       "Name: cocoa_percent, Length: 59, dtype: int64"
      ]
     },
     "execution_count": 237,
     "metadata": {},
     "output_type": "execute_result"
    }
   ],
   "source": [
    "df.cocoa_percent.value_counts()"
   ]
  },
  {
   "cell_type": "code",
   "execution_count": 238,
   "id": "058f2af5",
   "metadata": {},
   "outputs": [
    {
     "data": {
      "text/plain": [
       "70.0     664\n",
       "75.0     219\n",
       "72.0     189\n",
       "65.0      77\n",
       "80.0      70\n",
       "        ... \n",
       "42.0       1\n",
       "571.0      1\n",
       "582.0      1\n",
       "57.0       1\n",
       "60.5       1\n",
       "Name: cocoa_percent, Length: 59, dtype: int64"
      ]
     },
     "execution_count": 238,
     "metadata": {},
     "output_type": "execute_result"
    }
   ],
   "source": [
    "# Значения в столбцах представлены в виде процентов.\n",
    "# Для дальнейшего анализа будет проще, если они будут представлены числами.\n",
    "# Трансформируем столбец:\n",
    "df.cocoa_percent = df.cocoa_percent.apply(lambda x: float(x.replace('%','')))\n",
    "df.cocoa_percent.value_counts()"
   ]
  },
  {
   "cell_type": "code",
   "execution_count": 239,
   "id": "2b5db5eb",
   "metadata": {},
   "outputs": [
    {
     "data": {
      "text/plain": [
       "count    1795.000000\n",
       "mean       75.932312\n",
       "std        44.475981\n",
       "min        42.000000\n",
       "25%        70.000000\n",
       "50%        70.000000\n",
       "75%        75.000000\n",
       "max       682.000000\n",
       "Name: cocoa_percent, dtype: float64"
      ]
     },
     "execution_count": 239,
     "metadata": {},
     "output_type": "execute_result"
    },
    {
     "data": {
      "image/png": "[encoded data removed]",
      "text/plain": [
       "<Figure size 432x288 with 1 Axes>"
      ]
     },
     "metadata": {
      "needs_background": "light"
     },
     "output_type": "display_data"
    }
   ],
   "source": [
    "df.cocoa_percent.hist()\n",
    "df.cocoa_percent.describe()"
   ]
  },
  {
   "cell_type": "markdown",
   "id": "6f443424",
   "metadata": {},
   "source": [
    "Очевидно, есть данные, противоречащие здравому смыслу: содержание какао-бобов больше 100%"
   ]
  },
  {
   "cell_type": "code",
   "execution_count": 240,
   "id": "603c0363",
   "metadata": {},
   "outputs": [
    {
     "data": {
      "text/plain": [
       "19"
      ]
     },
     "execution_count": 240,
     "metadata": {},
     "output_type": "execute_result"
    }
   ],
   "source": [
    "len(df[df.cocoa_percent>100])"
   ]
  },
  {
   "cell_type": "code",
   "execution_count": 241,
   "id": "9568c734",
   "metadata": {},
   "outputs": [
    {
     "name": "stdout",
     "output_type": "stream",
     "text": [
      "70.0 75.0 5.0\n"
     ]
    }
   ],
   "source": [
    "Q1 = df.cocoa_percent.quantile(0.25)\n",
    "Q3 = df.cocoa_percent.quantile(0.75)\n",
    "IQR = Q3 - Q1\n",
    "print(Q1,Q3,IQR)"
   ]
  },
  {
   "cell_type": "code",
   "execution_count": 242,
   "id": "582b2990",
   "metadata": {},
   "outputs": [
    {
     "data": {
      "text/plain": [
       "<matplotlib.legend.Legend at 0x1bc5aa6ba90>"
      ]
     },
     "execution_count": 242,
     "metadata": {},
     "output_type": "execute_result"
    },
    {
     "data": {
      "image/png": "[encoded data removed]",
      "text/plain": [
       "<Figure size 432x288 with 1 Axes>"
      ]
     },
     "metadata": {
      "needs_background": "light"
     },
     "output_type": "display_data"
    }
   ],
   "source": [
    "df[df.cocoa_percent<=100].cocoa_percent.hist(bins=16,range=(40,100),label=\"True\")\n",
    "df[df.cocoa_percent.between(Q1-1.5*IQR, Q3+1.5*IQR)].cocoa_percent.hist(bins=16,range=(40,100),label=\"IQR\")\n",
    "plt.legend()"
   ]
  },
  {
   "cell_type": "markdown",
   "id": "714b3fc4",
   "metadata": {},
   "source": [
    "Как видно, формула выбросов в нашем случае помечает как выбросы слишком много потенциально реальных значений, поэтому воспользуемся здравым смыслом. Очевидно, что при сборе данных произошла ошибка.\n",
    "Придется выбросить эти 19 строк."
   ]
  },
  {
   "cell_type": "code",
   "execution_count": 243,
   "id": "5433ce5f",
   "metadata": {},
   "outputs": [
    {
     "data": {
      "text/plain": [
       "1776"
      ]
     },
     "execution_count": 243,
     "metadata": {},
     "output_type": "execute_result"
    }
   ],
   "source": [
    "df=df[df.cocoa_percent<=100]\n",
    "len(df)"
   ]
  },
  {
   "cell_type": "markdown",
   "id": "7575266e",
   "metadata": {},
   "source": [
    "# company_location"
   ]
  },
  {
   "cell_type": "code",
   "execution_count": 244,
   "id": "0344eeb2",
   "metadata": {},
   "outputs": [
    {
     "data": {
      "text/html": [
       "<div>\n",
       "<style scoped>\n",
       "    .dataframe tbody tr th:only-of-type {\n",
       "        vertical-align: middle;\n",
       "    }\n",
       "\n",
       "    .dataframe tbody tr th {\n",
       "        vertical-align: top;\n",
       "    }\n",
       "\n",
       "    .dataframe thead th {\n",
       "        text-align: right;\n",
       "    }\n",
       "</style>\n",
       "<table border=\"1\" class=\"dataframe\">\n",
       "  <thead>\n",
       "    <tr style=\"text-align: right;\">\n",
       "      <th></th>\n",
       "      <th>company_location</th>\n",
       "    </tr>\n",
       "  </thead>\n",
       "  <tbody>\n",
       "    <tr>\n",
       "      <th>U.S.A.</th>\n",
       "      <td>756</td>\n",
       "    </tr>\n",
       "    <tr>\n",
       "      <th>France</th>\n",
       "      <td>155</td>\n",
       "    </tr>\n",
       "    <tr>\n",
       "      <th>Canada</th>\n",
       "      <td>124</td>\n",
       "    </tr>\n",
       "    <tr>\n",
       "      <th>U.K.</th>\n",
       "      <td>94</td>\n",
       "    </tr>\n",
       "    <tr>\n",
       "      <th>Italy</th>\n",
       "      <td>63</td>\n",
       "    </tr>\n",
       "    <tr>\n",
       "      <th>...</th>\n",
       "      <td>...</td>\n",
       "    </tr>\n",
       "    <tr>\n",
       "      <th>Czech Republic</th>\n",
       "      <td>1</td>\n",
       "    </tr>\n",
       "    <tr>\n",
       "      <th>Niacragua</th>\n",
       "      <td>1</td>\n",
       "    </tr>\n",
       "    <tr>\n",
       "      <th>Russia</th>\n",
       "      <td>1</td>\n",
       "    </tr>\n",
       "    <tr>\n",
       "      <th>Philippines</th>\n",
       "      <td>1</td>\n",
       "    </tr>\n",
       "    <tr>\n",
       "      <th>Ghana</th>\n",
       "      <td>1</td>\n",
       "    </tr>\n",
       "  </tbody>\n",
       "</table>\n",
       "<p>60 rows × 1 columns</p>\n",
       "</div>"
      ],
      "text/plain": [
       "                company_location\n",
       "U.S.A.                       756\n",
       "France                       155\n",
       "Canada                       124\n",
       "U.K.                          94\n",
       "Italy                         63\n",
       "...                          ...\n",
       "Czech Republic                 1\n",
       "Niacragua                      1\n",
       "Russia                         1\n",
       "Philippines                    1\n",
       "Ghana                          1\n",
       "\n",
       "[60 rows x 1 columns]"
      ]
     },
     "metadata": {},
     "output_type": "display_data"
    },
    {
     "name": "stdout",
     "output_type": "stream",
     "text": [
      "Количество стран с более 10 оценками: 22\n"
     ]
    },
    {
     "data": {
      "text/plain": [
       "279           Puerto Rico\n",
       "345           New Zealand\n",
       "346           New Zealand\n",
       "347            Costa Rica\n",
       "348            Costa Rica\n",
       "349            Costa Rica\n",
       "350            Costa Rica\n",
       "351            Costa Rica\n",
       "385           South Korea\n",
       "386           South Korea\n",
       "434              Sao Tome\n",
       "435              Sao Tome\n",
       "436              Sao Tome\n",
       "437              Sao Tome\n",
       "521          South Africa\n",
       "617             St. Lucia\n",
       "618             St. Lucia\n",
       "655           Puerto Rico\n",
       "656           Puerto Rico\n",
       "807           New Zealand\n",
       "808           New Zealand\n",
       "809           New Zealand\n",
       "810           New Zealand\n",
       "825          South Africa\n",
       "879        Czech Republic\n",
       "883     Domincan Republic\n",
       "884     Domincan Republic\n",
       "885     Domincan Republic\n",
       "886     Domincan Republic\n",
       "976           Puerto Rico\n",
       "1160           Costa Rica\n",
       "1161           Costa Rica\n",
       "1204          New Zealand\n",
       "1205          New Zealand\n",
       "1206          New Zealand\n",
       "1207          New Zealand\n",
       "1208          New Zealand\n",
       "1209          New Zealand\n",
       "1381          South Korea\n",
       "1382          South Korea\n",
       "1456           Costa Rica\n",
       "1457           Costa Rica\n",
       "1499          New Zealand\n",
       "1500          New Zealand\n",
       "1732          New Zealand\n",
       "1733          New Zealand\n",
       "1734          New Zealand\n",
       "1758    Domincan Republic\n",
       "Name: company_location, dtype: object"
      ]
     },
     "execution_count": 244,
     "metadata": {},
     "output_type": "execute_result"
    }
   ],
   "source": [
    "display(pd.DataFrame(df.company_location.value_counts()))\n",
    "print(f\"Количество стран с более 10 оценками: {(df.company_location.value_counts()>10).sum()}\")\n",
    "df[df.company_location.str.contains(' ')].company_location"
   ]
  },
  {
   "cell_type": "markdown",
   "id": "941998fc",
   "metadata": {},
   "source": [
    "Стран намного меньше, чем регионов — всего 60. Стран, у которых больше 10 ревью — целых 22. Пустых значений нет (ура!)."
   ]
  },
  {
   "cell_type": "markdown",
   "id": "6384384d",
   "metadata": {},
   "source": [
    "# rating"
   ]
  },
  {
   "cell_type": "code",
   "execution_count": 245,
   "id": "97d46300",
   "metadata": {},
   "outputs": [
    {
     "data": {
      "text/plain": [
       "count    1776.000000\n",
       "mean        3.425816\n",
       "std         1.759007\n",
       "min         1.000000\n",
       "25%         3.000000\n",
       "50%         3.250000\n",
       "75%         3.500000\n",
       "max        19.750000\n",
       "Name: rating, dtype: float64"
      ]
     },
     "execution_count": 245,
     "metadata": {},
     "output_type": "execute_result"
    },
    {
     "data": {
      "image/png": "[encoded data removed]",
      "text/plain": [
       "<Figure size 432x288 with 1 Axes>"
      ]
     },
     "metadata": {
      "needs_background": "light"
     },
     "output_type": "display_data"
    }
   ],
   "source": [
    "df.rating.hist()\n",
    "df.rating.describe()"
   ]
  },
  {
   "cell_type": "markdown",
   "id": "8fa0424b",
   "metadata": {},
   "source": [
    "Как мы видим, большинство оценок распределены между 3 и 3.5 (медиана 3.25, 25-й перцентиль 3 и 75-й — 3.5), что позволяет сделать два предположения:\n",
    "\n",
    "1.Скорее всего была использована пятибалльная шкала оценивания\n",
    "2.В данных есть выбросы."
   ]
  },
  {
   "cell_type": "code",
   "execution_count": 246,
   "id": "b59b06a0",
   "metadata": {},
   "outputs": [
    {
     "data": {
      "text/html": [
       "<div>\n",
       "<style scoped>\n",
       "    .dataframe tbody tr th:only-of-type {\n",
       "        vertical-align: middle;\n",
       "    }\n",
       "\n",
       "    .dataframe tbody tr th {\n",
       "        vertical-align: top;\n",
       "    }\n",
       "\n",
       "    .dataframe thead th {\n",
       "        text-align: right;\n",
       "    }\n",
       "</style>\n",
       "<table border=\"1\" class=\"dataframe\">\n",
       "  <thead>\n",
       "    <tr style=\"text-align: right;\">\n",
       "      <th></th>\n",
       "      <th>company</th>\n",
       "      <th>specific_origin</th>\n",
       "      <th>ref</th>\n",
       "      <th>review_date</th>\n",
       "      <th>cocoa_percent</th>\n",
       "      <th>company_location</th>\n",
       "      <th>rating</th>\n",
       "      <th>bean_type</th>\n",
       "      <th>broad_origin</th>\n",
       "    </tr>\n",
       "  </thead>\n",
       "  <tbody>\n",
       "    <tr>\n",
       "      <th>431</th>\n",
       "      <td>Christopher Morel (Felchlin)</td>\n",
       "      <td>Maranon Canyon, Fortunato No. 4</td>\n",
       "      <td>666</td>\n",
       "      <td>2011</td>\n",
       "      <td>68.0</td>\n",
       "      <td>Canada</td>\n",
       "      <td>15.50</td>\n",
       "      <td>Forastero (Nacional)</td>\n",
       "      <td>Peru</td>\n",
       "    </tr>\n",
       "    <tr>\n",
       "      <th>153</th>\n",
       "      <td>Bar Au Chocolat</td>\n",
       "      <td>Duarte Province</td>\n",
       "      <td>983</td>\n",
       "      <td>2012</td>\n",
       "      <td>70.0</td>\n",
       "      <td>U.S.A.</td>\n",
       "      <td>10.25</td>\n",
       "      <td></td>\n",
       "      <td>Dominican Republic</td>\n",
       "    </tr>\n",
       "    <tr>\n",
       "      <th>698</th>\n",
       "      <td>Fresco</td>\n",
       "      <td>Sambirano Valley, #215, MR, MC</td>\n",
       "      <td>688</td>\n",
       "      <td>2011</td>\n",
       "      <td>74.0</td>\n",
       "      <td>U.S.A.</td>\n",
       "      <td>17.25</td>\n",
       "      <td>Trinitario</td>\n",
       "      <td>Madagascar</td>\n",
       "    </tr>\n",
       "    <tr>\n",
       "      <th>294</th>\n",
       "      <td>Cacao de Origen</td>\n",
       "      <td>None</td>\n",
       "      <td>1395</td>\n",
       "      <td>2014</td>\n",
       "      <td>70.0</td>\n",
       "      <td>Venezuela</td>\n",
       "      <td>11.50</td>\n",
       "      <td>Trinitario</td>\n",
       "      <td>Venezuela</td>\n",
       "    </tr>\n",
       "    <tr>\n",
       "      <th>104</th>\n",
       "      <td>Arete</td>\n",
       "      <td>Lachua</td>\n",
       "      <td>1904</td>\n",
       "      <td>2016</td>\n",
       "      <td>70.0</td>\n",
       "      <td>U.S.A.</td>\n",
       "      <td>18.50</td>\n",
       "      <td></td>\n",
       "      <td>Guatemala</td>\n",
       "    </tr>\n",
       "    <tr>\n",
       "      <th>695</th>\n",
       "      <td>Fresco</td>\n",
       "      <td>Jamaica, #210, DR, MC</td>\n",
       "      <td>642</td>\n",
       "      <td>2011</td>\n",
       "      <td>70.0</td>\n",
       "      <td>U.S.A.</td>\n",
       "      <td>16.75</td>\n",
       "      <td>Trinitario</td>\n",
       "      <td>Jamaica</td>\n",
       "    </tr>\n",
       "    <tr>\n",
       "      <th>1232</th>\n",
       "      <td>Original Beans (Felchlin)</td>\n",
       "      <td>Alto Beni, Wild Harvest, Itenez R. 24hr c.</td>\n",
       "      <td>733</td>\n",
       "      <td>2011</td>\n",
       "      <td>66.0</td>\n",
       "      <td>Switzerland</td>\n",
       "      <td>19.00</td>\n",
       "      <td></td>\n",
       "      <td>Bolivia</td>\n",
       "    </tr>\n",
       "    <tr>\n",
       "      <th>1371</th>\n",
       "      <td>Republica del Cacao (aka Confecta)</td>\n",
       "      <td>Los Rios</td>\n",
       "      <td>170</td>\n",
       "      <td>2007</td>\n",
       "      <td>75.0</td>\n",
       "      <td>Ecuador</td>\n",
       "      <td>14.25</td>\n",
       "      <td>Forastero (Arriba)</td>\n",
       "      <td>Ecuador</td>\n",
       "    </tr>\n",
       "    <tr>\n",
       "      <th>432</th>\n",
       "      <td>Chuao Chocolatier</td>\n",
       "      <td>Choroni</td>\n",
       "      <td>445</td>\n",
       "      <td>2009</td>\n",
       "      <td>61.0</td>\n",
       "      <td>U.S.A.</td>\n",
       "      <td>19.75</td>\n",
       "      <td>Criollo</td>\n",
       "      <td>Venezuela</td>\n",
       "    </tr>\n",
       "    <tr>\n",
       "      <th>0</th>\n",
       "      <td>A. Morin</td>\n",
       "      <td>Agua Grande</td>\n",
       "      <td>1876</td>\n",
       "      <td>2016</td>\n",
       "      <td>63.0</td>\n",
       "      <td>France</td>\n",
       "      <td>11.50</td>\n",
       "      <td></td>\n",
       "      <td>Sao Tome</td>\n",
       "    </tr>\n",
       "    <tr>\n",
       "      <th>845</th>\n",
       "      <td>Hotel Chocolat (Coppeneur)</td>\n",
       "      <td>Uganda</td>\n",
       "      <td>296</td>\n",
       "      <td>2008</td>\n",
       "      <td>80.0</td>\n",
       "      <td>U.K.</td>\n",
       "      <td>15.50</td>\n",
       "      <td>Forastero</td>\n",
       "      <td>Uganda</td>\n",
       "    </tr>\n",
       "    <tr>\n",
       "      <th>594</th>\n",
       "      <td>Dulcinea</td>\n",
       "      <td>Dominican Republic</td>\n",
       "      <td>1506</td>\n",
       "      <td>2015</td>\n",
       "      <td>70.0</td>\n",
       "      <td>U.S.A.</td>\n",
       "      <td>13.75</td>\n",
       "      <td></td>\n",
       "      <td>Dominican Republic</td>\n",
       "    </tr>\n",
       "    <tr>\n",
       "      <th>989</th>\n",
       "      <td>Machu Picchu Trading Co.</td>\n",
       "      <td>Peru</td>\n",
       "      <td>552</td>\n",
       "      <td>2010</td>\n",
       "      <td>55.0</td>\n",
       "      <td>Peru</td>\n",
       "      <td>10.50</td>\n",
       "      <td></td>\n",
       "      <td>Peru</td>\n",
       "    </tr>\n",
       "    <tr>\n",
       "      <th>94</th>\n",
       "      <td>Animas</td>\n",
       "      <td>None</td>\n",
       "      <td>1852</td>\n",
       "      <td>2016</td>\n",
       "      <td>75.0</td>\n",
       "      <td>U.S.A.</td>\n",
       "      <td>12.50</td>\n",
       "      <td></td>\n",
       "      <td>Bolivia</td>\n",
       "    </tr>\n",
       "    <tr>\n",
       "      <th>644</th>\n",
       "      <td>Felchlin</td>\n",
       "      <td>Supremo- SF</td>\n",
       "      <td>105</td>\n",
       "      <td>2006</td>\n",
       "      <td>62.0</td>\n",
       "      <td>Switzerland</td>\n",
       "      <td>11.00</td>\n",
       "      <td></td>\n",
       "      <td></td>\n",
       "    </tr>\n",
       "    <tr>\n",
       "      <th>315</th>\n",
       "      <td>Cacao Sampaka</td>\n",
       "      <td>Porcelana, Tabasco, La Joya</td>\n",
       "      <td>336</td>\n",
       "      <td>2009</td>\n",
       "      <td>70.0</td>\n",
       "      <td>Spain</td>\n",
       "      <td>18.25</td>\n",
       "      <td>Criollo</td>\n",
       "      <td>Mexico</td>\n",
       "    </tr>\n",
       "    <tr>\n",
       "      <th>939</th>\n",
       "      <td>La Maison du Chocolat (Valrhona)</td>\n",
       "      <td>Cuana, 2008</td>\n",
       "      <td>230</td>\n",
       "      <td>2008</td>\n",
       "      <td>74.0</td>\n",
       "      <td>France</td>\n",
       "      <td>10.00</td>\n",
       "      <td>Blend</td>\n",
       "      <td>Ven., Indonesia, Ecuad.</td>\n",
       "    </tr>\n",
       "    <tr>\n",
       "      <th>537</th>\n",
       "      <td>Dick Taylor</td>\n",
       "      <td>Alto Beni, Wild Harvest, Limited Ed.</td>\n",
       "      <td>1634</td>\n",
       "      <td>2015</td>\n",
       "      <td>70.0</td>\n",
       "      <td>U.S.A.</td>\n",
       "      <td>19.25</td>\n",
       "      <td></td>\n",
       "      <td>Bolivia</td>\n",
       "    </tr>\n",
       "    <tr>\n",
       "      <th>931</th>\n",
       "      <td>La Maison du Chocolat (Valrhona)</td>\n",
       "      <td>Tobago</td>\n",
       "      <td>1145</td>\n",
       "      <td>2013</td>\n",
       "      <td>60.0</td>\n",
       "      <td>France</td>\n",
       "      <td>17.75</td>\n",
       "      <td></td>\n",
       "      <td>Tobago</td>\n",
       "    </tr>\n",
       "    <tr>\n",
       "      <th>1727</th>\n",
       "      <td>Violet Sky</td>\n",
       "      <td>Peru</td>\n",
       "      <td>1458</td>\n",
       "      <td>2015</td>\n",
       "      <td>77.0</td>\n",
       "      <td>U.S.A.</td>\n",
       "      <td>15.50</td>\n",
       "      <td>Criollo, Trinitario</td>\n",
       "      <td>Peru</td>\n",
       "    </tr>\n",
       "  </tbody>\n",
       "</table>\n",
       "</div>"
      ],
      "text/plain": [
       "                                 company  \\\n",
       "431         Christopher Morel (Felchlin)   \n",
       "153                      Bar Au Chocolat   \n",
       "698                               Fresco   \n",
       "294                      Cacao de Origen   \n",
       "104                                Arete   \n",
       "695                               Fresco   \n",
       "1232           Original Beans (Felchlin)   \n",
       "1371  Republica del Cacao (aka Confecta)   \n",
       "432                    Chuao Chocolatier   \n",
       "0                               A. Morin   \n",
       "845           Hotel Chocolat (Coppeneur)   \n",
       "594                             Dulcinea   \n",
       "989             Machu Picchu Trading Co.   \n",
       "94                                Animas   \n",
       "644                             Felchlin   \n",
       "315                        Cacao Sampaka   \n",
       "939     La Maison du Chocolat (Valrhona)   \n",
       "537                          Dick Taylor   \n",
       "931     La Maison du Chocolat (Valrhona)   \n",
       "1727                          Violet Sky   \n",
       "\n",
       "                                 specific_origin   ref  review_date  \\\n",
       "431              Maranon Canyon, Fortunato No. 4   666         2011   \n",
       "153                              Duarte Province   983         2012   \n",
       "698               Sambirano Valley, #215, MR, MC   688         2011   \n",
       "294                                         None  1395         2014   \n",
       "104                                       Lachua  1904         2016   \n",
       "695                        Jamaica, #210, DR, MC   642         2011   \n",
       "1232  Alto Beni, Wild Harvest, Itenez R. 24hr c.   733         2011   \n",
       "1371                                    Los Rios   170         2007   \n",
       "432                                      Choroni   445         2009   \n",
       "0                                    Agua Grande  1876         2016   \n",
       "845                                       Uganda   296         2008   \n",
       "594                           Dominican Republic  1506         2015   \n",
       "989                                         Peru   552         2010   \n",
       "94                                          None  1852         2016   \n",
       "644                                  Supremo- SF   105         2006   \n",
       "315                  Porcelana, Tabasco, La Joya   336         2009   \n",
       "939                                  Cuana, 2008   230         2008   \n",
       "537         Alto Beni, Wild Harvest, Limited Ed.  1634         2015   \n",
       "931                                       Tobago  1145         2013   \n",
       "1727                                        Peru  1458         2015   \n",
       "\n",
       "      cocoa_percent company_location  rating             bean_type  \\\n",
       "431            68.0           Canada   15.50  Forastero (Nacional)   \n",
       "153            70.0           U.S.A.   10.25                         \n",
       "698            74.0           U.S.A.   17.25            Trinitario   \n",
       "294            70.0        Venezuela   11.50            Trinitario   \n",
       "104            70.0           U.S.A.   18.50                         \n",
       "695            70.0           U.S.A.   16.75            Trinitario   \n",
       "1232           66.0      Switzerland   19.00                         \n",
       "1371           75.0          Ecuador   14.25    Forastero (Arriba)   \n",
       "432            61.0           U.S.A.   19.75               Criollo   \n",
       "0              63.0           France   11.50                         \n",
       "845            80.0             U.K.   15.50             Forastero   \n",
       "594            70.0           U.S.A.   13.75                         \n",
       "989            55.0             Peru   10.50                         \n",
       "94             75.0           U.S.A.   12.50                         \n",
       "644            62.0      Switzerland   11.00                         \n",
       "315            70.0            Spain   18.25               Criollo   \n",
       "939            74.0           France   10.00                 Blend   \n",
       "537            70.0           U.S.A.   19.25                         \n",
       "931            60.0           France   17.75                         \n",
       "1727           77.0           U.S.A.   15.50   Criollo, Trinitario   \n",
       "\n",
       "                 broad_origin  \n",
       "431                      Peru  \n",
       "153        Dominican Republic  \n",
       "698                Madagascar  \n",
       "294                 Venezuela  \n",
       "104                 Guatemala  \n",
       "695                   Jamaica  \n",
       "1232                  Bolivia  \n",
       "1371                  Ecuador  \n",
       "432                 Venezuela  \n",
       "0                    Sao Tome  \n",
       "845                    Uganda  \n",
       "594        Dominican Republic  \n",
       "989                      Peru  \n",
       "94                    Bolivia  \n",
       "644                            \n",
       "315                    Mexico  \n",
       "939   Ven., Indonesia, Ecuad.  \n",
       "537                   Bolivia  \n",
       "931                    Tobago  \n",
       "1727                     Peru  "
      ]
     },
     "execution_count": 246,
     "metadata": {},
     "output_type": "execute_result"
    }
   ],
   "source": [
    "df[df.rating>5].sample(20)"
   ]
  },
  {
   "cell_type": "code",
   "execution_count": 247,
   "id": "996fc13c",
   "metadata": {},
   "outputs": [
    {
     "data": {
      "text/html": [
       "<div>\n",
       "<style scoped>\n",
       "    .dataframe tbody tr th:only-of-type {\n",
       "        vertical-align: middle;\n",
       "    }\n",
       "\n",
       "    .dataframe tbody tr th {\n",
       "        vertical-align: top;\n",
       "    }\n",
       "\n",
       "    .dataframe thead th {\n",
       "        text-align: right;\n",
       "    }\n",
       "</style>\n",
       "<table border=\"1\" class=\"dataframe\">\n",
       "  <thead>\n",
       "    <tr style=\"text-align: right;\">\n",
       "      <th></th>\n",
       "      <th>company</th>\n",
       "      <th>specific_origin</th>\n",
       "      <th>ref</th>\n",
       "      <th>review_date</th>\n",
       "      <th>cocoa_percent</th>\n",
       "      <th>company_location</th>\n",
       "      <th>rating</th>\n",
       "      <th>bean_type</th>\n",
       "      <th>broad_origin</th>\n",
       "    </tr>\n",
       "  </thead>\n",
       "  <tbody>\n",
       "    <tr>\n",
       "      <th>1626</th>\n",
       "      <td>TCHO</td>\n",
       "      <td>Chocolatey-beta</td>\n",
       "      <td>199</td>\n",
       "      <td>2008</td>\n",
       "      <td>70.0</td>\n",
       "      <td>U.S.A.</td>\n",
       "      <td>2.50</td>\n",
       "      <td>Forastero</td>\n",
       "      <td>Ghana</td>\n",
       "    </tr>\n",
       "    <tr>\n",
       "      <th>1</th>\n",
       "      <td>A. Morin</td>\n",
       "      <td>Kpime</td>\n",
       "      <td>1676</td>\n",
       "      <td>2015</td>\n",
       "      <td>70.0</td>\n",
       "      <td>France</td>\n",
       "      <td>2.75</td>\n",
       "      <td></td>\n",
       "      <td>Togo</td>\n",
       "    </tr>\n",
       "    <tr>\n",
       "      <th>558</th>\n",
       "      <td>Domori</td>\n",
       "      <td>Morogoro</td>\n",
       "      <td>863</td>\n",
       "      <td>2012</td>\n",
       "      <td>70.0</td>\n",
       "      <td>Italy</td>\n",
       "      <td>3.50</td>\n",
       "      <td></td>\n",
       "      <td>Tanzania</td>\n",
       "    </tr>\n",
       "    <tr>\n",
       "      <th>555</th>\n",
       "      <td>Domori</td>\n",
       "      <td>Hacienda Victoria</td>\n",
       "      <td>1672</td>\n",
       "      <td>2015</td>\n",
       "      <td>70.0</td>\n",
       "      <td>Italy</td>\n",
       "      <td>3.75</td>\n",
       "      <td></td>\n",
       "      <td>Ecuador</td>\n",
       "    </tr>\n",
       "    <tr>\n",
       "      <th>1264</th>\n",
       "      <td>Pangea</td>\n",
       "      <td>Matasawalevu</td>\n",
       "      <td>1860</td>\n",
       "      <td>2016</td>\n",
       "      <td>76.0</td>\n",
       "      <td>Spain</td>\n",
       "      <td>3.00</td>\n",
       "      <td></td>\n",
       "      <td>Fiji</td>\n",
       "    </tr>\n",
       "    <tr>\n",
       "      <th>411</th>\n",
       "      <td>Chocolats Privilege</td>\n",
       "      <td>Xoconusco</td>\n",
       "      <td>1219</td>\n",
       "      <td>2014</td>\n",
       "      <td>70.0</td>\n",
       "      <td>Canada</td>\n",
       "      <td>2.50</td>\n",
       "      <td>Criollo</td>\n",
       "      <td>Mexico</td>\n",
       "    </tr>\n",
       "    <tr>\n",
       "      <th>1274</th>\n",
       "      <td>Patric</td>\n",
       "      <td>Madagascar</td>\n",
       "      <td>439</td>\n",
       "      <td>2009</td>\n",
       "      <td>67.0</td>\n",
       "      <td>U.S.A.</td>\n",
       "      <td>3.50</td>\n",
       "      <td>Trinitario</td>\n",
       "      <td>Madagascar</td>\n",
       "    </tr>\n",
       "    <tr>\n",
       "      <th>798</th>\n",
       "      <td>Heirloom Cacao Preservation (Zokoko)</td>\n",
       "      <td>Alto Beni, Upper Rio Beni, 2015</td>\n",
       "      <td>1744</td>\n",
       "      <td>2016</td>\n",
       "      <td>68.0</td>\n",
       "      <td>U.S.A.</td>\n",
       "      <td>3.75</td>\n",
       "      <td>Amazon, ICS</td>\n",
       "      <td>Bolivia</td>\n",
       "    </tr>\n",
       "    <tr>\n",
       "      <th>439</th>\n",
       "      <td>None</td>\n",
       "      <td>Sambirano</td>\n",
       "      <td>1646</td>\n",
       "      <td>2015</td>\n",
       "      <td>75.0</td>\n",
       "      <td>U.S.A.</td>\n",
       "      <td>3.00</td>\n",
       "      <td>Trinitario</td>\n",
       "      <td>Madagascar</td>\n",
       "    </tr>\n",
       "    <tr>\n",
       "      <th>1169</th>\n",
       "      <td>Nathan Miller</td>\n",
       "      <td>Peru</td>\n",
       "      <td>1403</td>\n",
       "      <td>2014</td>\n",
       "      <td>72.0</td>\n",
       "      <td>U.S.A.</td>\n",
       "      <td>2.25</td>\n",
       "      <td></td>\n",
       "      <td>Peru</td>\n",
       "    </tr>\n",
       "    <tr>\n",
       "      <th>761</th>\n",
       "      <td>Guittard</td>\n",
       "      <td>Machu Pichu</td>\n",
       "      <td>259</td>\n",
       "      <td>2008</td>\n",
       "      <td>65.0</td>\n",
       "      <td>U.S.A.</td>\n",
       "      <td>3.00</td>\n",
       "      <td></td>\n",
       "      <td>Peru</td>\n",
       "    </tr>\n",
       "    <tr>\n",
       "      <th>34</th>\n",
       "      <td>Akesson's (Pralus)</td>\n",
       "      <td>None</td>\n",
       "      <td>508</td>\n",
       "      <td>2010</td>\n",
       "      <td>75.0</td>\n",
       "      <td>Switzerland</td>\n",
       "      <td>2.75</td>\n",
       "      <td>Forastero</td>\n",
       "      <td>Brazil</td>\n",
       "    </tr>\n",
       "    <tr>\n",
       "      <th>1674</th>\n",
       "      <td>twenty-four blackbirds</td>\n",
       "      <td>Dominican Republic</td>\n",
       "      <td>753</td>\n",
       "      <td>2011</td>\n",
       "      <td>73.0</td>\n",
       "      <td>U.S.A.</td>\n",
       "      <td>2.75</td>\n",
       "      <td></td>\n",
       "      <td>Dominican Republic</td>\n",
       "    </tr>\n",
       "    <tr>\n",
       "      <th>1105</th>\n",
       "      <td>Mesocacao</td>\n",
       "      <td>Honduras</td>\n",
       "      <td>1347</td>\n",
       "      <td>2014</td>\n",
       "      <td>70.0</td>\n",
       "      <td>Honduras</td>\n",
       "      <td>3.50</td>\n",
       "      <td></td>\n",
       "      <td>Honduras</td>\n",
       "    </tr>\n",
       "    <tr>\n",
       "      <th>1388</th>\n",
       "      <td>Rogue</td>\n",
       "      <td>Caranero, Choc. Garage Exclusive</td>\n",
       "      <td>1446</td>\n",
       "      <td>2015</td>\n",
       "      <td>70.0</td>\n",
       "      <td>U.S.A.</td>\n",
       "      <td>3.75</td>\n",
       "      <td></td>\n",
       "      <td>Venezuela</td>\n",
       "    </tr>\n",
       "    <tr>\n",
       "      <th>1361</th>\n",
       "      <td>Rancho San Jacinto</td>\n",
       "      <td>Ecuador</td>\n",
       "      <td>565</td>\n",
       "      <td>2010</td>\n",
       "      <td>75.0</td>\n",
       "      <td>Eucador</td>\n",
       "      <td>3.00</td>\n",
       "      <td>Forastero(Arriba, CCN)</td>\n",
       "      <td>Ecuador</td>\n",
       "    </tr>\n",
       "    <tr>\n",
       "      <th>616</th>\n",
       "      <td>El Rey</td>\n",
       "      <td>Carenero Superior, Gran Saman</td>\n",
       "      <td>32</td>\n",
       "      <td>2006</td>\n",
       "      <td>70.0</td>\n",
       "      <td>Venezuela</td>\n",
       "      <td>2.75</td>\n",
       "      <td>Criollo</td>\n",
       "      <td>Venezuela</td>\n",
       "    </tr>\n",
       "    <tr>\n",
       "      <th>1222</th>\n",
       "      <td>Omnom</td>\n",
       "      <td>Kakao Kamili, Kilombero Valley</td>\n",
       "      <td>1816</td>\n",
       "      <td>2016</td>\n",
       "      <td>70.0</td>\n",
       "      <td>Iceland</td>\n",
       "      <td>3.75</td>\n",
       "      <td>Trinitario</td>\n",
       "      <td>Tanzania</td>\n",
       "    </tr>\n",
       "    <tr>\n",
       "      <th>633</th>\n",
       "      <td>Ethel's Artisan (Mars)</td>\n",
       "      <td>Porcelana</td>\n",
       "      <td>666</td>\n",
       "      <td>2011</td>\n",
       "      <td>70.0</td>\n",
       "      <td>U.S.A.</td>\n",
       "      <td>2.50</td>\n",
       "      <td>Criollo (Porcelana)</td>\n",
       "      <td>Venezuela</td>\n",
       "    </tr>\n",
       "    <tr>\n",
       "      <th>897</th>\n",
       "      <td>Kaoka (Cemoi)</td>\n",
       "      <td>Noir</td>\n",
       "      <td>404</td>\n",
       "      <td>2009</td>\n",
       "      <td>70.0</td>\n",
       "      <td>France</td>\n",
       "      <td>2.75</td>\n",
       "      <td></td>\n",
       "      <td></td>\n",
       "    </tr>\n",
       "  </tbody>\n",
       "</table>\n",
       "</div>"
      ],
      "text/plain": [
       "                                   company                   specific_origin  \\\n",
       "1626                                  TCHO                   Chocolatey-beta   \n",
       "1                                 A. Morin                             Kpime   \n",
       "558                                 Domori                          Morogoro   \n",
       "555                                 Domori                 Hacienda Victoria   \n",
       "1264                                Pangea                      Matasawalevu   \n",
       "411                    Chocolats Privilege                         Xoconusco   \n",
       "1274                                Patric                        Madagascar   \n",
       "798   Heirloom Cacao Preservation (Zokoko)   Alto Beni, Upper Rio Beni, 2015   \n",
       "439                                   None                         Sambirano   \n",
       "1169                         Nathan Miller                              Peru   \n",
       "761                               Guittard                       Machu Pichu   \n",
       "34                      Akesson's (Pralus)                              None   \n",
       "1674                twenty-four blackbirds                Dominican Republic   \n",
       "1105                             Mesocacao                          Honduras   \n",
       "1388                                 Rogue  Caranero, Choc. Garage Exclusive   \n",
       "1361                    Rancho San Jacinto                           Ecuador   \n",
       "616                                 El Rey     Carenero Superior, Gran Saman   \n",
       "1222                                 Omnom    Kakao Kamili, Kilombero Valley   \n",
       "633                 Ethel's Artisan (Mars)                         Porcelana   \n",
       "897                          Kaoka (Cemoi)                              Noir   \n",
       "\n",
       "       ref  review_date  cocoa_percent company_location  rating  \\\n",
       "1626   199         2008           70.0           U.S.A.    2.50   \n",
       "1     1676         2015           70.0           France    2.75   \n",
       "558    863         2012           70.0            Italy    3.50   \n",
       "555   1672         2015           70.0            Italy    3.75   \n",
       "1264  1860         2016           76.0            Spain    3.00   \n",
       "411   1219         2014           70.0           Canada    2.50   \n",
       "1274   439         2009           67.0           U.S.A.    3.50   \n",
       "798   1744         2016           68.0           U.S.A.    3.75   \n",
       "439   1646         2015           75.0           U.S.A.    3.00   \n",
       "1169  1403         2014           72.0           U.S.A.    2.25   \n",
       "761    259         2008           65.0           U.S.A.    3.00   \n",
       "34     508         2010           75.0      Switzerland    2.75   \n",
       "1674   753         2011           73.0           U.S.A.    2.75   \n",
       "1105  1347         2014           70.0         Honduras    3.50   \n",
       "1388  1446         2015           70.0           U.S.A.    3.75   \n",
       "1361   565         2010           75.0          Eucador    3.00   \n",
       "616     32         2006           70.0        Venezuela    2.75   \n",
       "1222  1816         2016           70.0          Iceland    3.75   \n",
       "633    666         2011           70.0           U.S.A.    2.50   \n",
       "897    404         2009           70.0           France    2.75   \n",
       "\n",
       "                   bean_type        broad_origin  \n",
       "1626               Forastero               Ghana  \n",
       "1                                           Togo  \n",
       "558                                     Tanzania  \n",
       "555                                      Ecuador  \n",
       "1264                                        Fiji  \n",
       "411                  Criollo              Mexico  \n",
       "1274              Trinitario          Madagascar  \n",
       "798              Amazon, ICS             Bolivia  \n",
       "439               Trinitario          Madagascar  \n",
       "1169                                        Peru  \n",
       "761                                         Peru  \n",
       "34                 Forastero              Brazil  \n",
       "1674                          Dominican Republic  \n",
       "1105                                    Honduras  \n",
       "1388                                   Venezuela  \n",
       "1361  Forastero(Arriba, CCN)             Ecuador  \n",
       "616                  Criollo           Venezuela  \n",
       "1222              Trinitario            Tanzania  \n",
       "633      Criollo (Porcelana)           Venezuela  \n",
       "897                                               "
      ]
     },
     "execution_count": 247,
     "metadata": {},
     "output_type": "execute_result"
    }
   ],
   "source": [
    "df[df.rating<5].sample(20)"
   ]
  },
  {
   "cell_type": "code",
   "execution_count": 248,
   "id": "297b7050",
   "metadata": {},
   "outputs": [
    {
     "data": {
      "text/html": [
       "<div>\n",
       "<style scoped>\n",
       "    .dataframe tbody tr th:only-of-type {\n",
       "        vertical-align: middle;\n",
       "    }\n",
       "\n",
       "    .dataframe tbody tr th {\n",
       "        vertical-align: top;\n",
       "    }\n",
       "\n",
       "    .dataframe thead th {\n",
       "        text-align: right;\n",
       "    }\n",
       "</style>\n",
       "<table border=\"1\" class=\"dataframe\">\n",
       "  <thead>\n",
       "    <tr style=\"text-align: right;\">\n",
       "      <th></th>\n",
       "      <th>company</th>\n",
       "      <th>specific_origin</th>\n",
       "      <th>ref</th>\n",
       "      <th>review_date</th>\n",
       "      <th>cocoa_percent</th>\n",
       "      <th>company_location</th>\n",
       "      <th>rating</th>\n",
       "      <th>bean_type</th>\n",
       "      <th>broad_origin</th>\n",
       "    </tr>\n",
       "  </thead>\n",
       "  <tbody>\n",
       "    <tr>\n",
       "      <th>78</th>\n",
       "      <td>None</td>\n",
       "      <td>Chuao</td>\n",
       "      <td>111</td>\n",
       "      <td>2007</td>\n",
       "      <td>70.0</td>\n",
       "      <td>Italy</td>\n",
       "      <td>5.0</td>\n",
       "      <td>Trinitario</td>\n",
       "      <td>Venezuela</td>\n",
       "    </tr>\n",
       "    <tr>\n",
       "      <th>86</th>\n",
       "      <td>Amedei</td>\n",
       "      <td>Toscano Black</td>\n",
       "      <td>40</td>\n",
       "      <td>2006</td>\n",
       "      <td>70.0</td>\n",
       "      <td>Italy</td>\n",
       "      <td>5.0</td>\n",
       "      <td>Blend</td>\n",
       "      <td></td>\n",
       "    </tr>\n",
       "  </tbody>\n",
       "</table>\n",
       "</div>"
      ],
      "text/plain": [
       "   company specific_origin  ref  review_date  cocoa_percent company_location  \\\n",
       "78    None           Chuao  111         2007           70.0            Italy   \n",
       "86  Amedei   Toscano Black   40         2006           70.0            Italy   \n",
       "\n",
       "    rating   bean_type broad_origin  \n",
       "78     5.0  Trinitario    Venezuela  \n",
       "86     5.0       Blend               "
      ]
     },
     "execution_count": 248,
     "metadata": {},
     "output_type": "execute_result"
    }
   ],
   "source": [
    "df[df.rating==5]"
   ]
  },
  {
   "cell_type": "code",
   "execution_count": 249,
   "id": "093ca019",
   "metadata": {},
   "outputs": [
    {
     "data": {
      "text/plain": [
       "count    38.000000\n",
       "mean     14.447368\n",
       "std       3.197950\n",
       "min      10.000000\n",
       "25%      11.562500\n",
       "50%      14.000000\n",
       "75%      17.250000\n",
       "max      19.750000\n",
       "Name: rating, dtype: float64"
      ]
     },
     "execution_count": 249,
     "metadata": {},
     "output_type": "execute_result"
    },
    {
     "data": {
      "image/png": "[encoded data removed]",
      "text/plain": [
       "<Figure size 432x288 with 1 Axes>"
      ]
     },
     "metadata": {
      "needs_background": "light"
     },
     "output_type": "display_data"
    }
   ],
   "source": [
    "df[df.rating>5].rating.hist()\n",
    "df[df.rating>5].rating.describe()"
   ]
  },
  {
   "cell_type": "code",
   "execution_count": 250,
   "id": "a4f78b2f",
   "metadata": {},
   "outputs": [
    {
     "data": {
      "text/plain": [
       "count    1738.000000\n",
       "mean        3.184839\n",
       "std         0.477883\n",
       "min         1.000000\n",
       "25%         2.750000\n",
       "50%         3.250000\n",
       "75%         3.500000\n",
       "max         5.000000\n",
       "Name: rating, dtype: float64"
      ]
     },
     "execution_count": 250,
     "metadata": {},
     "output_type": "execute_result"
    },
    {
     "data": {
      "image/png": "[encoded data removed]",
      "text/plain": [
       "<Figure size 432x288 with 1 Axes>"
      ]
     },
     "metadata": {
      "needs_background": "light"
     },
     "output_type": "display_data"
    }
   ],
   "source": [
    "df[df.rating<=5].rating.hist()\n",
    "df[df.rating<=5].rating.describe()"
   ]
  },
  {
   "cell_type": "markdown",
   "id": "fc37e067",
   "metadata": {},
   "source": [
    "есть провал в оценочных баллах от 5 до 10. Вероятно сюда попали данные с другой шкалой оценки от 10 до 20. Врядли шкала была от 0 до 20, т.к. отсутствуют оценки в диапазоне (5;10). Благо, их немного, я бы их удалил, но сделаю как в примере, чтобы потом ответить на вопросы."
   ]
  },
  {
   "cell_type": "code",
   "execution_count": 252,
   "id": "54409a7e",
   "metadata": {},
   "outputs": [
    {
     "data": {
      "text/plain": [
       "1690"
      ]
     },
     "execution_count": 252,
     "metadata": {},
     "output_type": "execute_result"
    }
   ],
   "source": [
    "Q1 = df.rating.quantile(0.25)\n",
    "Q3 = df.rating.quantile(0.75)\n",
    "IQR = Q3 - Q1\n",
    "df = df.loc[df.rating.between(Q1 - 1.5*IQR, Q3 + 1.5*IQR)]\n",
    "len(df)"
   ]
  },
  {
   "cell_type": "markdown",
   "id": "1e1914c4",
   "metadata": {},
   "source": [
    "# bean_type"
   ]
  },
  {
   "cell_type": "code",
   "execution_count": 253,
   "id": "ca4bde9e",
   "metadata": {},
   "outputs": [
    {
     "data": {
      "text/plain": [
       "                            829\n",
       "Trinitario                  401\n",
       "Criollo                     147\n",
       "Forastero                    81\n",
       "Forastero (Nacional)         50\n",
       "Criollo, Trinitario          37\n",
       "Blend                        36\n",
       "Forastero (Arriba)           30\n",
       "Criollo (Porcelana)          10\n",
       "Trinitario, Criollo           9\n",
       "Forastero (Parazinho)         8\n",
       "Forastero (Arriba) ASS        5\n",
       "EET                           3\n",
       "Beniano                       3\n",
       "Nacional (Arriba)             3\n",
       "Matina                        3\n",
       "Nacional                      2\n",
       "Criollo, Forastero            2\n",
       "Criollo (Ocumare 61)          2\n",
       "Trinitario, Forastero         2\n",
       "Trinitario (85% Criollo)      2\n",
       "Amazon, ICS                   2\n",
       "Amazon mix                    2\n",
       "Forastero (Catongo)           2\n",
       "Criollo (Amarru)              2\n",
       "Forastero, Trinitario         1\n",
       "Trinitario (Scavina)          1\n",
       "Blend-Forastero,Criollo       1\n",
       "Criollo (Ocumare)             1\n",
       "CCN51                         1\n",
       "Criollo (Ocumare 67)          1\n",
       "Criollo, +                    1\n",
       "Trinitario (Amelonado)        1\n",
       "Criollo (Wild)                1\n",
       "Criollo (Ocumare 77)          1\n",
       "Forastero (Amelonado)         1\n",
       "Forastero (Arriba) ASSS       1\n",
       "Trinitario, TCGA              1\n",
       "Amazon                        1\n",
       "Trinitario, Nacional          1\n",
       "Forastero(Arriba, CCN)        1\n",
       "Name: bean_type, dtype: int64"
      ]
     },
     "execution_count": 253,
     "metadata": {},
     "output_type": "execute_result"
    }
   ],
   "source": [
    "df.bean_type.value_counts()"
   ]
  },
  {
   "cell_type": "code",
   "execution_count": 254,
   "id": "ba54943d",
   "metadata": {},
   "outputs": [],
   "source": [
    "# сразу заменим пропуски на None\n",
    "df.bean_type = df.bean_type.astype(str).apply(lambda x: None if x.strip()=='' else x)"
   ]
  },
  {
   "cell_type": "code",
   "execution_count": 255,
   "id": "5f7c2b62",
   "metadata": {},
   "outputs": [
    {
     "data": {
      "text/plain": [
       "Trinitario                  401\n",
       "Criollo                     147\n",
       "Forastero                    81\n",
       "Forastero (Nacional)         50\n",
       "Criollo, Trinitario          37\n",
       "Blend                        36\n",
       "Forastero (Arriba)           30\n",
       "Criollo (Porcelana)          10\n",
       "Trinitario, Criollo           9\n",
       "Forastero (Parazinho)         8\n",
       "Forastero (Arriba) ASS        5\n",
       "Nacional (Arriba)             3\n",
       "Beniano                       3\n",
       "EET                           3\n",
       "Matina                        3\n",
       "Trinitario (85% Criollo)      2\n",
       "Forastero (Catongo)           2\n",
       "Trinitario, Forastero         2\n",
       "Criollo, Forastero            2\n",
       "Amazon mix                    2\n",
       "Amazon, ICS                   2\n",
       "Criollo (Ocumare 61)          2\n",
       "Nacional                      2\n",
       "Criollo (Amarru)              2\n",
       "Forastero (Arriba) ASSS       1\n",
       "Trinitario (Scavina)          1\n",
       "Criollo (Ocumare 67)          1\n",
       "CCN51                         1\n",
       "Criollo (Ocumare)             1\n",
       "Trinitario (Amelonado)        1\n",
       "nan                           1\n",
       "Amazon                        1\n",
       "Trinitario, Nacional          1\n",
       "Forastero(Arriba, CCN)        1\n",
       "Criollo (Ocumare 77)          1\n",
       "Criollo, +                    1\n",
       "Criollo (Wild)                1\n",
       "Trinitario, TCGA              1\n",
       "Forastero (Amelonado)         1\n",
       "Forastero, Trinitario         1\n",
       "Blend-Forastero,Criollo       1\n",
       "Name: bean_type, dtype: int64"
      ]
     },
     "metadata": {},
     "output_type": "display_data"
    },
    {
     "name": "stdout",
     "output_type": "stream",
     "text": [
      "<class 'pandas.core.frame.DataFrame'>\n",
      "Int64Index: 1690 entries, 1 to 1794\n",
      "Data columns (total 1 columns):\n",
      " #   Column     Non-Null Count  Dtype \n",
      "---  ------     --------------  ----- \n",
      " 0   bean_type  861 non-null    object\n",
      "dtypes: object(1)\n",
      "memory usage: 26.4+ KB\n"
     ]
    }
   ],
   "source": [
    "display(df.bean_type.value_counts())\n",
    "df.loc[:,['bean_type']].info()"
   ]
  },
  {
   "cell_type": "code",
   "execution_count": 256,
   "id": "93a55dc1",
   "metadata": {},
   "outputs": [],
   "source": [
    "df.bean_type = df.bean_type.apply(lambda x: None if pd.isnull(x)\n",
    "                                            else None if x=='nan'\n",
    "                                            else x.strip() if '(' not in x\n",
    "                                            else x[:x.find('(')].strip()\n",
    "                                 )"
   ]
  },
  {
   "cell_type": "code",
   "execution_count": 264,
   "id": "6099a41e",
   "metadata": {},
   "outputs": [
    {
     "data": {
      "text/plain": [
       "Trinitario                 405\n",
       "Forastero                  179\n",
       "Criollo                    165\n",
       "Criollo, Trinitario         37\n",
       "Blend                       36\n",
       "Trinitario, Criollo          9\n",
       "Nacional                     5\n",
       "Beniano                      3\n",
       "EET                          3\n",
       "Matina                       3\n",
       "Trinitario, Forastero        2\n",
       "Criollo, Forastero           2\n",
       "Amazon mix                   2\n",
       "Amazon, ICS                  2\n",
       "CCN51                        1\n",
       "Trinitario, TCGA             1\n",
       "Amazon                       1\n",
       "Trinitario, Nacional         1\n",
       "Forastero, Trinitario        1\n",
       "Criollo, +                   1\n",
       "Blend-Forastero,Criollo      1\n",
       "Name: bean_type, dtype: int64"
      ]
     },
     "metadata": {},
     "output_type": "display_data"
    },
    {
     "name": "stdout",
     "output_type": "stream",
     "text": [
      "Значений, встретившихся в столбце более 10 раз: 5\n",
      "Уникальных значений: 21\n",
      "<class 'pandas.core.frame.DataFrame'>\n",
      "Int64Index: 1690 entries, 1 to 1794\n",
      "Data columns (total 1 columns):\n",
      " #   Column     Non-Null Count  Dtype \n",
      "---  ------     --------------  ----- \n",
      " 0   bean_type  860 non-null    object\n",
      "dtypes: object(1)\n",
      "memory usage: 26.4+ KB\n"
     ]
    }
   ],
   "source": [
    "display(df.bean_type.value_counts())\n",
    "print(\"Значений, встретившихся в столбце более 10 раз:\", (df.bean_type.value_counts()>10).sum())\n",
    "print(\"Уникальных значений:\", df.bean_type.nunique())\n",
    "pd.DataFrame(df.bean_type).info()"
   ]
  },
  {
   "cell_type": "markdown",
   "id": "2ff919b0",
   "metadata": {},
   "source": [
    "# broad_origin"
   ]
  },
  {
   "cell_type": "code",
   "execution_count": 258,
   "id": "b40a333b",
   "metadata": {},
   "outputs": [
    {
     "data": {
      "text/plain": [
       "Venezuela                    202\n",
       "Ecuador                      179\n",
       "Peru                         159\n",
       "Madagascar                   138\n",
       "Dominican Republic           135\n",
       "                            ... \n",
       "Africa, Carribean, C. Am.      1\n",
       "Peru, Dom. Rep                 1\n",
       "Ecuador, Costa Rica            1\n",
       "Ecuador, Mad., PNG             1\n",
       "Ven., Trinidad, Mad.           1\n",
       "Name: broad_origin, Length: 97, dtype: int64"
      ]
     },
     "execution_count": 258,
     "metadata": {},
     "output_type": "execute_result"
    }
   ],
   "source": [
    "df.broad_origin.value_counts()"
   ]
  },
  {
   "cell_type": "code",
   "execution_count": 265,
   "id": "a9ae5ce6",
   "metadata": {},
   "outputs": [],
   "source": [
    "df.broad_origin = df.broad_origin.apply(lambda x: None if pd.isnull(x)\n",
    "                                            else None if x=='nan'\n",
    "                                            else None if x.strip()==''\n",
    "                                            else x.strip()\n",
    "                                       )"
   ]
  },
  {
   "cell_type": "code",
   "execution_count": 266,
   "id": "7c8cfccf",
   "metadata": {},
   "outputs": [
    {
     "data": {
      "text/plain": [
       "Venezuela             202\n",
       "Ecuador               179\n",
       "Peru                  159\n",
       "Madagascar            138\n",
       "Dominican Republic    135\n",
       "                     ... \n",
       "Burma                   1\n",
       "Peru, Ecuador           1\n",
       "Ecuador, Mad., PNG      1\n",
       "Nigeria                 1\n",
       "Trinidad, Ecuador       1\n",
       "Name: broad_origin, Length: 96, dtype: int64"
      ]
     },
     "metadata": {},
     "output_type": "display_data"
    },
    {
     "name": "stdout",
     "output_type": "stream",
     "text": [
      "Значений, встретившихся в столбце более 10 раз: 25\n",
      "Уникальных значений: 96\n",
      "<class 'pandas.core.frame.DataFrame'>\n",
      "Int64Index: 1690 entries, 1 to 1794\n",
      "Data columns (total 1 columns):\n",
      " #   Column        Non-Null Count  Dtype \n",
      "---  ------        --------------  ----- \n",
      " 0   broad_origin  1630 non-null   object\n",
      "dtypes: object(1)\n",
      "memory usage: 26.4+ KB\n"
     ]
    }
   ],
   "source": [
    "display(df.broad_origin.value_counts())\n",
    "print(\"Значений, встретившихся в столбце более 10 раз:\", (df.broad_origin.value_counts()>10).sum())\n",
    "print(\"Уникальных значений:\", df.broad_origin.nunique())\n",
    "pd.DataFrame(df.broad_origin).info()"
   ]
  },
  {
   "cell_type": "code",
   "execution_count": 267,
   "id": "603f361e",
   "metadata": {},
   "outputs": [],
   "source": [
    "def fix_countries(x):\n",
    "    if pd.isnull(x):\n",
    "        return x\n",
    "    if x == 'nan':\n",
    "        return None\n",
    "    x = x.replace(' ', '')\n",
    "    x = x.replace('/', ',') # Venezuela/ Ghana\n",
    "    x = x.replace('&', ',')\n",
    "    if '(' in x:\n",
    "        x = x[:x.find('(')] #Peru(SMartin,Pangoa,nacional)\n",
    "    x = x.replace('Guat.', 'Guatemala')\n",
    "    \n",
    "    if 'Ven' in x and 'Venezuela' not in x:\n",
    "        x = x.replace('Venez', 'Venezuela') #Venez,Africa,Brasil,Peru,Mex\n",
    "        x = x.replace('Ven,', 'Venezuela,') #Ven, Trinidad, Ecuador\n",
    "        x = x.replace('Ven.', 'Venezuela') #Ven., Trinidad, Mad.\n",
    "        if 'Ven' in x and 'Venezuela' not in x:\n",
    "            x = x.replace('Ven', 'Venezuela')\n",
    "        \n",
    "    x = x.replace('Dom.Rep.', 'DomincanRepublic')\n",
    "    x = x.replace('DR', 'DomincanRepublic')\n",
    "    x = x.replace('Dom.Rep', 'DomincanRepublic')\n",
    "    x = x.replace('D.R.', 'DomincanRepublic')\n",
    "    x = x.replace('DominicanRep.', 'DomincanRepublic')\n",
    "    x = x.replace('Domin.Rep', 'DomincanRepublic')\n",
    "    x = x.replace('Domin.Re', 'DomincanRepublic')\n",
    "    \n",
    "    if 'Jam' in x and 'Jamaica' not in x:\n",
    "        x = x.replace('Jam', 'Jamaica')\n",
    "        \n",
    "    if 'Mad.' in x and 'Madagascar' not in x:\n",
    "        x = x.replace('Mad.', 'Madagascar')\n",
    "    elif 'Mad' in x and 'Madagascar' not in x:\n",
    "        x = x.replace('Mad', 'Madagascar')\n",
    "    elif 'Ma' in x and 'Madagascar' not in x:\n",
    "        x = x.replace('Ma', 'Madagascar')\n",
    "        \n",
    "    if 'Hait' in x and 'Haiti' not in x:\n",
    "        x = x.replace('Hait', 'Haiti')\n",
    "        \n",
    "    if 'Per' in x and 'Peru'  not in x:\n",
    "        x = x.replace('Per', 'Peru')\n",
    "    \n",
    "    x = x.replace('Nic.', 'Nicaragua')\n",
    "\n",
    "    x = x.replace('Gre.', 'Grenada')\n",
    "    \n",
    "    x = x.replace('PNG', 'PapuaNewGuinea')\n",
    "    \n",
    "    if 'Mex' in x and 'Mexico' not in x:\n",
    "        x = x.replace('Mex', 'Mexico')\n",
    "        \n",
    "    x = x.replace('Haw.', 'Hawaii')\n",
    "    \n",
    "    x = x.replace('Ecuad.', 'Ecuador')\n",
    "    x = x.replace('Ecu.', 'Ecuador')\n",
    "    \n",
    "    return x"
   ]
  },
  {
   "cell_type": "code",
   "execution_count": 268,
   "id": "02d0435c",
   "metadata": {},
   "outputs": [],
   "source": [
    "df.broad_origin = df.broad_origin.apply(fix_countries)"
   ]
  },
  {
   "cell_type": "code",
   "execution_count": 269,
   "id": "1e6d5018",
   "metadata": {},
   "outputs": [
    {
     "data": {
      "text/html": [
       "<div>\n",
       "<style scoped>\n",
       "    .dataframe tbody tr th:only-of-type {\n",
       "        vertical-align: middle;\n",
       "    }\n",
       "\n",
       "    .dataframe tbody tr th {\n",
       "        vertical-align: top;\n",
       "    }\n",
       "\n",
       "    .dataframe thead th {\n",
       "        text-align: right;\n",
       "    }\n",
       "</style>\n",
       "<table border=\"1\" class=\"dataframe\">\n",
       "  <thead>\n",
       "    <tr style=\"text-align: right;\">\n",
       "      <th></th>\n",
       "      <th>broad_origin</th>\n",
       "    </tr>\n",
       "  </thead>\n",
       "  <tbody>\n",
       "    <tr>\n",
       "      <th>Venezuela</th>\n",
       "      <td>202</td>\n",
       "    </tr>\n",
       "    <tr>\n",
       "      <th>Ecuador</th>\n",
       "      <td>179</td>\n",
       "    </tr>\n",
       "    <tr>\n",
       "      <th>Peru</th>\n",
       "      <td>160</td>\n",
       "    </tr>\n",
       "    <tr>\n",
       "      <th>Madagascar</th>\n",
       "      <td>138</td>\n",
       "    </tr>\n",
       "    <tr>\n",
       "      <th>DominicanRepublic</th>\n",
       "      <td>135</td>\n",
       "    </tr>\n",
       "    <tr>\n",
       "      <th>...</th>\n",
       "      <td>...</td>\n",
       "    </tr>\n",
       "    <tr>\n",
       "      <th>Ecuador,CostaRica</th>\n",
       "      <td>1</td>\n",
       "    </tr>\n",
       "    <tr>\n",
       "      <th>PapuaNewGuinea,Vanuatu,Madagascar</th>\n",
       "      <td>1</td>\n",
       "    </tr>\n",
       "    <tr>\n",
       "      <th>SouthAmerica,Africa</th>\n",
       "      <td>1</td>\n",
       "    </tr>\n",
       "    <tr>\n",
       "      <th>Africa,Carribean,C.Am.</th>\n",
       "      <td>1</td>\n",
       "    </tr>\n",
       "    <tr>\n",
       "      <th>Venezuela,Bolivia,DomincanRepublic</th>\n",
       "      <td>1</td>\n",
       "    </tr>\n",
       "  </tbody>\n",
       "</table>\n",
       "<p>93 rows × 1 columns</p>\n",
       "</div>"
      ],
      "text/plain": [
       "                                    broad_origin\n",
       "Venezuela                                    202\n",
       "Ecuador                                      179\n",
       "Peru                                         160\n",
       "Madagascar                                   138\n",
       "DominicanRepublic                            135\n",
       "...                                          ...\n",
       "Ecuador,CostaRica                              1\n",
       "PapuaNewGuinea,Vanuatu,Madagascar              1\n",
       "SouthAmerica,Africa                            1\n",
       "Africa,Carribean,C.Am.                         1\n",
       "Venezuela,Bolivia,DomincanRepublic             1\n",
       "\n",
       "[93 rows x 1 columns]"
      ]
     },
     "metadata": {},
     "output_type": "display_data"
    },
    {
     "name": "stdout",
     "output_type": "stream",
     "text": [
      "Значений, упомянутых более 10 раз: 25\n",
      "Уникальных значений: 93\n",
      "<class 'pandas.core.frame.DataFrame'>\n",
      "Int64Index: 1690 entries, 1 to 1794\n",
      "Data columns (total 1 columns):\n",
      " #   Column        Non-Null Count  Dtype \n",
      "---  ------        --------------  ----- \n",
      " 0   broad_origin  1630 non-null   object\n",
      "dtypes: object(1)\n",
      "memory usage: 26.4+ KB\n"
     ]
    }
   ],
   "source": [
    "display(pd.DataFrame(df.broad_origin.value_counts()))\n",
    "print('Значений, упомянутых более 10 раз:', (df.broad_origin.value_counts()>10).sum())\n",
    "print(\"Уникальных значений:\", df.broad_origin.nunique())\n",
    "df.loc[:, ['broad_origin']].info()"
   ]
  },
  {
   "cell_type": "markdown",
   "id": "26e7d9be",
   "metadata": {},
   "source": [
    "#### Выясним, какие столбцы коррелируют с оценкой шоколадных батончиков. Это поможет понять, какие параметры стоит оставить для модели, а какие — исключить. \n",
    "\n",
    "#### Корреляции рассмотрим только для числовых столбцов."
   ]
  },
  {
   "cell_type": "code",
   "execution_count": 275,
   "id": "d618d78c",
   "metadata": {},
   "outputs": [
    {
     "data": {
      "text/plain": [
       "<seaborn.axisgrid.PairGrid at 0x1bc6201cb80>"
      ]
     },
     "execution_count": 275,
     "metadata": {},
     "output_type": "execute_result"
    },
    {
     "data": {
      "image/png": "[encoded data removed]",
      "text/plain": [
       "<Figure size 720x720 with 20 Axes>"
      ]
     },
     "metadata": {
      "needs_background": "light"
     },
     "output_type": "display_data"
    }
   ],
   "source": [
    "sns.pairplot(df, kind='reg')"
   ]
  },
  {
   "cell_type": "code",
   "execution_count": 276,
   "id": "347b3098",
   "metadata": {},
   "outputs": [
    {
     "data": {
      "text/html": [
       "<div>\n",
       "<style scoped>\n",
       "    .dataframe tbody tr th:only-of-type {\n",
       "        vertical-align: middle;\n",
       "    }\n",
       "\n",
       "    .dataframe tbody tr th {\n",
       "        vertical-align: top;\n",
       "    }\n",
       "\n",
       "    .dataframe thead th {\n",
       "        text-align: right;\n",
       "    }\n",
       "</style>\n",
       "<table border=\"1\" class=\"dataframe\">\n",
       "  <thead>\n",
       "    <tr style=\"text-align: right;\">\n",
       "      <th></th>\n",
       "      <th>ref</th>\n",
       "      <th>review_date</th>\n",
       "      <th>cocoa_percent</th>\n",
       "      <th>rating</th>\n",
       "    </tr>\n",
       "  </thead>\n",
       "  <tbody>\n",
       "    <tr>\n",
       "      <th>ref</th>\n",
       "      <td>1.000000</td>\n",
       "      <td>0.984913</td>\n",
       "      <td>0.083765</td>\n",
       "      <td>0.016189</td>\n",
       "    </tr>\n",
       "    <tr>\n",
       "      <th>review_date</th>\n",
       "      <td>0.984913</td>\n",
       "      <td>1.000000</td>\n",
       "      <td>0.086523</td>\n",
       "      <td>0.006703</td>\n",
       "    </tr>\n",
       "    <tr>\n",
       "      <th>cocoa_percent</th>\n",
       "      <td>0.083765</td>\n",
       "      <td>0.086523</td>\n",
       "      <td>1.000000</td>\n",
       "      <td>-0.078156</td>\n",
       "    </tr>\n",
       "    <tr>\n",
       "      <th>rating</th>\n",
       "      <td>0.016189</td>\n",
       "      <td>0.006703</td>\n",
       "      <td>-0.078156</td>\n",
       "      <td>1.000000</td>\n",
       "    </tr>\n",
       "  </tbody>\n",
       "</table>\n",
       "</div>"
      ],
      "text/plain": [
       "                    ref  review_date  cocoa_percent    rating\n",
       "ref            1.000000     0.984913       0.083765  0.016189\n",
       "review_date    0.984913     1.000000       0.086523  0.006703\n",
       "cocoa_percent  0.083765     0.086523       1.000000 -0.078156\n",
       "rating         0.016189     0.006703      -0.078156  1.000000"
      ]
     },
     "execution_count": 276,
     "metadata": {},
     "output_type": "execute_result"
    }
   ],
   "source": [
    "df.corr()"
   ]
  },
  {
   "cell_type": "markdown",
   "id": "db768353",
   "metadata": {},
   "source": [
    "Так как переменные review_date и ref скоррелированы почти полностью, одну переменную можно исключить. Пусть это будет переменная REF.\n",
    "\n",
    "Останутся две слабоскоррелированные с рейтингом переменные: cocoa_percent и review_date.\n",
    "\n",
    "Интересно, что положительная корреляция параметра review_date и rating может говорить как о том, что со временем батончики действительно становятся лучше, так и о том, что рейтинги просто завышаются."
   ]
  },
  {
   "cell_type": "markdown",
   "id": "83aeb526",
   "metadata": {},
   "source": [
    "Очевидно, что для номинативных переменных использовать корреляционный анализ не получится. Однако можно посмотреть, различаются ли распределения рейтинга в зависимости от значения этих переменных. Это можно сделать, например, с помощью box-plot или KDE-plot (график показывает плотность распределения переменных).\n",
    "\n",
    "Номинативные переменные, которые осталось рассмотреть: company, specific_origin, company_location, bean_type, broad_origin.\n",
    "\n",
    "Так как уникальных значений в столбцах достаточно много, будем брать в рассмотрение по, например, 10 самых частотных."
   ]
  },
  {
   "cell_type": "code",
   "execution_count": 283,
   "id": "5fbdae73",
   "metadata": {},
   "outputs": [
    {
     "data": {
      "text/html": [
       "<div>\n",
       "<style scoped>\n",
       "    .dataframe tbody tr th:only-of-type {\n",
       "        vertical-align: middle;\n",
       "    }\n",
       "\n",
       "    .dataframe tbody tr th {\n",
       "        vertical-align: top;\n",
       "    }\n",
       "\n",
       "    .dataframe thead th {\n",
       "        text-align: right;\n",
       "    }\n",
       "</style>\n",
       "<table border=\"1\" class=\"dataframe\">\n",
       "  <thead>\n",
       "    <tr style=\"text-align: right;\">\n",
       "      <th></th>\n",
       "      <th>company</th>\n",
       "      <th>specific_origin</th>\n",
       "      <th>ref</th>\n",
       "      <th>review_date</th>\n",
       "      <th>cocoa_percent</th>\n",
       "      <th>company_location</th>\n",
       "      <th>rating</th>\n",
       "      <th>bean_type</th>\n",
       "      <th>broad_origin</th>\n",
       "    </tr>\n",
       "  </thead>\n",
       "  <tbody>\n",
       "    <tr>\n",
       "      <th>1</th>\n",
       "      <td>A. Morin</td>\n",
       "      <td>Kpime</td>\n",
       "      <td>1676</td>\n",
       "      <td>2015</td>\n",
       "      <td>70.0</td>\n",
       "      <td>France</td>\n",
       "      <td>2.75</td>\n",
       "      <td>None</td>\n",
       "      <td>Togo</td>\n",
       "    </tr>\n",
       "    <tr>\n",
       "      <th>3</th>\n",
       "      <td>A. Morin</td>\n",
       "      <td>Akata</td>\n",
       "      <td>1680</td>\n",
       "      <td>2015</td>\n",
       "      <td>70.0</td>\n",
       "      <td>France</td>\n",
       "      <td>3.50</td>\n",
       "      <td>None</td>\n",
       "      <td>Togo</td>\n",
       "    </tr>\n",
       "    <tr>\n",
       "      <th>4</th>\n",
       "      <td>A. Morin</td>\n",
       "      <td>Quilla</td>\n",
       "      <td>1704</td>\n",
       "      <td>2015</td>\n",
       "      <td>70.0</td>\n",
       "      <td>France</td>\n",
       "      <td>3.50</td>\n",
       "      <td>None</td>\n",
       "      <td>Peru</td>\n",
       "    </tr>\n",
       "    <tr>\n",
       "      <th>5</th>\n",
       "      <td>A. Morin</td>\n",
       "      <td>Carenero</td>\n",
       "      <td>1315</td>\n",
       "      <td>2014</td>\n",
       "      <td>70.0</td>\n",
       "      <td>France</td>\n",
       "      <td>2.75</td>\n",
       "      <td>Criollo</td>\n",
       "      <td>Venezuela</td>\n",
       "    </tr>\n",
       "    <tr>\n",
       "      <th>6</th>\n",
       "      <td>A. Morin</td>\n",
       "      <td>Cuba</td>\n",
       "      <td>1315</td>\n",
       "      <td>2014</td>\n",
       "      <td>70.0</td>\n",
       "      <td>France</td>\n",
       "      <td>3.50</td>\n",
       "      <td>None</td>\n",
       "      <td>Cuba</td>\n",
       "    </tr>\n",
       "    <tr>\n",
       "      <th>...</th>\n",
       "      <td>...</td>\n",
       "      <td>...</td>\n",
       "      <td>...</td>\n",
       "      <td>...</td>\n",
       "      <td>...</td>\n",
       "      <td>...</td>\n",
       "      <td>...</td>\n",
       "      <td>...</td>\n",
       "      <td>...</td>\n",
       "    </tr>\n",
       "    <tr>\n",
       "      <th>1698</th>\n",
       "      <td>Valrhona</td>\n",
       "      <td>Caraibe</td>\n",
       "      <td>63</td>\n",
       "      <td>2006</td>\n",
       "      <td>66.0</td>\n",
       "      <td>France</td>\n",
       "      <td>3.00</td>\n",
       "      <td>Trinitario</td>\n",
       "      <td>Carribean</td>\n",
       "    </tr>\n",
       "    <tr>\n",
       "      <th>1699</th>\n",
       "      <td>Valrhona</td>\n",
       "      <td>Guanaja</td>\n",
       "      <td>63</td>\n",
       "      <td>2006</td>\n",
       "      <td>70.0</td>\n",
       "      <td>France</td>\n",
       "      <td>4.00</td>\n",
       "      <td>Criollo, Trinitario</td>\n",
       "      <td>SouthAmerica</td>\n",
       "    </tr>\n",
       "    <tr>\n",
       "      <th>1700</th>\n",
       "      <td>Valrhona</td>\n",
       "      <td>Gran Couva 2005 P.</td>\n",
       "      <td>75</td>\n",
       "      <td>2006</td>\n",
       "      <td>64.0</td>\n",
       "      <td>France</td>\n",
       "      <td>2.50</td>\n",
       "      <td>Trinitario</td>\n",
       "      <td>Trinidad</td>\n",
       "    </tr>\n",
       "    <tr>\n",
       "      <th>1701</th>\n",
       "      <td>Valrhona</td>\n",
       "      <td>Porcelana, Maracaibo, Palmira P. 2005</td>\n",
       "      <td>75</td>\n",
       "      <td>2006</td>\n",
       "      <td>64.0</td>\n",
       "      <td>France</td>\n",
       "      <td>3.00</td>\n",
       "      <td>Criollo</td>\n",
       "      <td>Venezuela</td>\n",
       "    </tr>\n",
       "    <tr>\n",
       "      <th>1702</th>\n",
       "      <td>Valrhona</td>\n",
       "      <td>Sambirano, Ampamakia 2005, Millot P.</td>\n",
       "      <td>75</td>\n",
       "      <td>2006</td>\n",
       "      <td>64.0</td>\n",
       "      <td>France</td>\n",
       "      <td>3.50</td>\n",
       "      <td>Trinitario</td>\n",
       "      <td>Madagascar</td>\n",
       "    </tr>\n",
       "  </tbody>\n",
       "</table>\n",
       "<p>227 rows × 9 columns</p>\n",
       "</div>"
      ],
      "text/plain": [
       "       company                        specific_origin   ref  review_date  \\\n",
       "1     A. Morin                                  Kpime  1676         2015   \n",
       "3     A. Morin                                  Akata  1680         2015   \n",
       "4     A. Morin                                 Quilla  1704         2015   \n",
       "5     A. Morin                               Carenero  1315         2014   \n",
       "6     A. Morin                                   Cuba  1315         2014   \n",
       "...        ...                                    ...   ...          ...   \n",
       "1698  Valrhona                                Caraibe    63         2006   \n",
       "1699  Valrhona                                Guanaja    63         2006   \n",
       "1700  Valrhona                     Gran Couva 2005 P.    75         2006   \n",
       "1701  Valrhona  Porcelana, Maracaibo, Palmira P. 2005    75         2006   \n",
       "1702  Valrhona   Sambirano, Ampamakia 2005, Millot P.    75         2006   \n",
       "\n",
       "      cocoa_percent company_location  rating            bean_type  \\\n",
       "1              70.0           France    2.75                 None   \n",
       "3              70.0           France    3.50                 None   \n",
       "4              70.0           France    3.50                 None   \n",
       "5              70.0           France    2.75              Criollo   \n",
       "6              70.0           France    3.50                 None   \n",
       "...             ...              ...     ...                  ...   \n",
       "1698           66.0           France    3.00           Trinitario   \n",
       "1699           70.0           France    4.00  Criollo, Trinitario   \n",
       "1700           64.0           France    2.50           Trinitario   \n",
       "1701           64.0           France    3.00              Criollo   \n",
       "1702           64.0           France    3.50           Trinitario   \n",
       "\n",
       "      broad_origin  \n",
       "1             Togo  \n",
       "3             Togo  \n",
       "4             Peru  \n",
       "5        Venezuela  \n",
       "6             Cuba  \n",
       "...            ...  \n",
       "1698     Carribean  \n",
       "1699  SouthAmerica  \n",
       "1700      Trinidad  \n",
       "1701     Venezuela  \n",
       "1702    Madagascar  \n",
       "\n",
       "[227 rows x 9 columns]"
      ]
     },
     "execution_count": 283,
     "metadata": {},
     "output_type": "execute_result"
    }
   ],
   "source": [
    "df[df.company.isin(df.company.value_counts().index[:10])]"
   ]
  },
  {
   "cell_type": "code",
   "execution_count": 286,
   "id": "b5b9a74c",
   "metadata": {},
   "outputs": [
    {
     "data": {
      "text/plain": [
       "Index(['Ah Cacao', 'Malagasy (Chocolaterie Robert)', 'Rancho San Jacinto'], dtype='object')"
      ]
     },
     "execution_count": 286,
     "metadata": {},
     "output_type": "execute_result"
    }
   ],
   "source": [
    "df.company.value_counts().index[-3:]"
   ]
  },
  {
   "cell_type": "code",
   "execution_count": 288,
   "id": "89583ae7",
   "metadata": {},
   "outputs": [
    {
     "data": {
      "text/plain": [
       "Index(['Soma', 'Bonnat', 'Fresco'], dtype='object')"
      ]
     },
     "execution_count": 288,
     "metadata": {},
     "output_type": "execute_result"
    }
   ],
   "source": [
    "df.company.value_counts().index[:3]"
   ]
  },
  {
   "cell_type": "code",
   "execution_count": 287,
   "id": "c9217d36",
   "metadata": {},
   "outputs": [
    {
     "data": {
      "text/plain": [
       "Soma                                 45\n",
       "Bonnat                               24\n",
       "Fresco                               24\n",
       "Pralus                               23\n",
       "Domori                               22\n",
       "                                     ..\n",
       "Black River (A. Morin)                1\n",
       "Cacaosuyo (Theobroma Inversiones)     1\n",
       "Ah Cacao                              1\n",
       "Malagasy (Chocolaterie Robert)        1\n",
       "Rancho San Jacinto                    1\n",
       "Name: company, Length: 395, dtype: int64"
      ]
     },
     "execution_count": 287,
     "metadata": {},
     "output_type": "execute_result"
    }
   ],
   "source": [
    "df.company.value_counts()"
   ]
  },
  {
   "cell_type": "code",
   "execution_count": 298,
   "id": "255aec0c",
   "metadata": {},
   "outputs": [],
   "source": [
    "def get_boxplot(column):\n",
    "    fig, ax = plt.subplots(figsize=(14,4))\n",
    "    sns.boxplot(x=column,y='rating',\n",
    "               data=df[df.loc[:,column].isin(df.loc[:,column].value_counts().index[:10])],\n",
    "               ax=ax)\n",
    "    plt.xticks(rotation=45)\n",
    "    ax.set_title('Boxplot for '+column)\n",
    "    plt.show()    "
   ]
  },
  {
   "cell_type": "code",
   "execution_count": 299,
   "id": "c2a793b4",
   "metadata": {},
   "outputs": [
    {
     "data": {
      "image/png": "[encoded data removed]",
      "text/plain": [
       "<Figure size 1008x288 with 1 Axes>"
      ]
     },
     "metadata": {
      "needs_background": "light"
     },
     "output_type": "display_data"
    },
    {
     "data": {
      "image/png": "[encoded data removed]",
      "text/plain": [
       "<Figure size 1008x288 with 1 Axes>"
      ]
     },
     "metadata": {
      "needs_background": "light"
     },
     "output_type": "display_data"
    },
    {
     "data": {
      "image/png": "[encoded data removed]",
      "text/plain": [
       "<Figure size 1008x288 with 1 Axes>"
      ]
     },
     "metadata": {
      "needs_background": "light"
     },
     "output_type": "display_data"
    },
    {
     "data": {
      "image/png": "[encoded data removed]",
      "text/plain": [
       "<Figure size 1008x288 with 1 Axes>"
      ]
     },
     "metadata": {
      "needs_background": "light"
     },
     "output_type": "display_data"
    },
    {
     "data": {
      "image/png": "[encoded data removed]",
      "text/plain": [
       "<Figure size 1008x288 with 1 Axes>"
      ]
     },
     "metadata": {
      "needs_background": "light"
     },
     "output_type": "display_data"
    }
   ],
   "source": [
    "for col in ['company', 'specific_origin', 'company_location', 'bean_type', 'broad_origin']:\n",
    "    get_boxplot(col)"
   ]
  },
  {
   "cell_type": "markdown",
   "id": "489d08ee",
   "metadata": {},
   "source": [
    "По графикам похоже, что все параметры, кроме broad_origin, могут влиять на оценку батончика. Однако графики являются лишь вспомогательным инструментом, настоящую значимость различий может помочь распознать статистика. Проверим, есть ли статистическая разница в распределении оценок по номинативным признакам, с помощью теста Стьюдента. Проверим нулевую гипотезу о том, что распределения оценок батончиков по различным параметрам неразличимы:"
   ]
  },
  {
   "cell_type": "code",
   "execution_count": 332,
   "id": "941a989f",
   "metadata": {},
   "outputs": [],
   "source": [
    "def get_stat_dif(column):\n",
    "    '''Функция проверяет, есть ли статистическая разница в распределении оценок батончиков\n",
    "    по номинативному признаку из столбца column с помощью теста Стьюдента'''\n",
    "    cols = df.loc[:, column].value_counts().index[:10] # 10 самых частотных уникальных значений признака\n",
    "    combinations_all = list(combinations(cols, 2)) # список с неповторяющимися парами\n",
    "    alpha = 0.05/len(combinations_all) # уровень значимости 5% с учетом поправки Бонферони\n",
    "    for comb in combinations_all:\n",
    "        if ttest_ind(df[df.loc[:,column] == comb[0]].rating,\n",
    "                     df[df.loc[:,column] == comb[1]].rating).pvalue<=alpha:\n",
    "            print('Найдены статистически значимые различия для колонки', column)\n",
    "            break"
   ]
  },
  {
   "cell_type": "code",
   "execution_count": 333,
   "id": "7474e3ad",
   "metadata": {},
   "outputs": [
    {
     "name": "stdout",
     "output_type": "stream",
     "text": [
      "Найдены статистически значимые различия для колонки company\n",
      "Найдены статистически значимые различия для колонки specific_origin\n",
      "Найдены статистически значимые различия для колонки company_location\n"
     ]
    }
   ],
   "source": [
    "for column in ['company', 'specific_origin', 'company_location', 'bean_type', 'broad_origin']:\n",
    "    get_stat_dif(column)"
   ]
  },
  {
   "cell_type": "markdown",
   "id": "14dc57b6",
   "metadata": {},
   "source": [
    "Как мы видим, серьёзно отличаются три параметра: company,  specific_origin и  company_location. Оставим эти переменные в датасете для дальнейшего построения модели. Итак, в нашем случае важные переменные, которые, возможно, оказывают влияние на оценку, это: company, specific_origin, company_location, review_date, cocoa_percent."
   ]
  },
  {
   "cell_type": "code",
   "execution_count": 334,
   "id": "e3c6734a",
   "metadata": {},
   "outputs": [
    {
     "data": {
      "text/html": [
       "<div>\n",
       "<style scoped>\n",
       "    .dataframe tbody tr th:only-of-type {\n",
       "        vertical-align: middle;\n",
       "    }\n",
       "\n",
       "    .dataframe tbody tr th {\n",
       "        vertical-align: top;\n",
       "    }\n",
       "\n",
       "    .dataframe thead th {\n",
       "        text-align: right;\n",
       "    }\n",
       "</style>\n",
       "<table border=\"1\" class=\"dataframe\">\n",
       "  <thead>\n",
       "    <tr style=\"text-align: right;\">\n",
       "      <th></th>\n",
       "      <th>company</th>\n",
       "      <th>specific_origin</th>\n",
       "      <th>company_location</th>\n",
       "      <th>review_date</th>\n",
       "      <th>cocoa_percent</th>\n",
       "    </tr>\n",
       "  </thead>\n",
       "  <tbody>\n",
       "    <tr>\n",
       "      <th>1</th>\n",
       "      <td>A. Morin</td>\n",
       "      <td>Kpime</td>\n",
       "      <td>France</td>\n",
       "      <td>2015</td>\n",
       "      <td>70.0</td>\n",
       "    </tr>\n",
       "    <tr>\n",
       "      <th>3</th>\n",
       "      <td>A. Morin</td>\n",
       "      <td>Akata</td>\n",
       "      <td>France</td>\n",
       "      <td>2015</td>\n",
       "      <td>70.0</td>\n",
       "    </tr>\n",
       "    <tr>\n",
       "      <th>4</th>\n",
       "      <td>A. Morin</td>\n",
       "      <td>Quilla</td>\n",
       "      <td>France</td>\n",
       "      <td>2015</td>\n",
       "      <td>70.0</td>\n",
       "    </tr>\n",
       "    <tr>\n",
       "      <th>5</th>\n",
       "      <td>A. Morin</td>\n",
       "      <td>Carenero</td>\n",
       "      <td>France</td>\n",
       "      <td>2014</td>\n",
       "      <td>70.0</td>\n",
       "    </tr>\n",
       "    <tr>\n",
       "      <th>6</th>\n",
       "      <td>A. Morin</td>\n",
       "      <td>Cuba</td>\n",
       "      <td>France</td>\n",
       "      <td>2014</td>\n",
       "      <td>70.0</td>\n",
       "    </tr>\n",
       "  </tbody>\n",
       "</table>\n",
       "</div>"
      ],
      "text/plain": [
       "    company specific_origin company_location  review_date  cocoa_percent\n",
       "1  A. Morin           Kpime           France         2015           70.0\n",
       "3  A. Morin           Akata           France         2015           70.0\n",
       "4  A. Morin          Quilla           France         2015           70.0\n",
       "5  A. Morin        Carenero           France         2014           70.0\n",
       "6  A. Morin            Cuba           France         2014           70.0"
      ]
     },
     "execution_count": 334,
     "metadata": {},
     "output_type": "execute_result"
    }
   ],
   "source": [
    "df_for_model = df.loc[:,['company', 'specific_origin', 'company_location', 'review_date', 'cocoa_percent']]\n",
    "df_for_model.head()"
   ]
  },
  {
   "cell_type": "markdown",
   "id": "be159816",
   "metadata": {},
   "source": [
    "Итак, в результате EDA для анализа влияния параметров шоколада на экспертную оценку шоколадных батончиков были получены следующие выводы:\n",
    "\n",
    "В данных достаточно мало пустых значений, только столбец bean_type был заполнен в малом количестве случаев.\n",
    "Выбросы найдены только в столбцах с рейтингом и содержанием какао в шоколаде батончиков, что позволяет сделать вывод о том, что данные достаточно чистые.\n",
    "Положительная корреляция параметра review_date и rating может говорить о том, что с годами рейтинги потихоньку завышаются, либо батончики становятся лучше.\n",
    "Самые важные параметры, которые предлагается использовать в дальнейшем для построения модели, это company, specific_origin, company_location, review_date и cocoa_percent."
   ]
  }
 ],
 "metadata": {
  "kernelspec": {
   "display_name": "Python 3",
   "language": "python",
   "name": "python3"
  },
  "language_info": {
   "codemirror_mode": {
    "name": "ipython",
    "version": 3
   },
   "file_extension": ".py",
   "mimetype": "text/x-python",
   "name": "python",
   "nbconvert_exporter": "python",
   "pygments_lexer": "ipython3",
   "version": "3.9.4"
  }
 },
 "nbformat": 4,
 "nbformat_minor": 5
}
