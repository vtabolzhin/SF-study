{
 "cells": [
  {
   "cell_type": "code",
   "execution_count": 1,
   "id": "28547232",
   "metadata": {},
   "outputs": [],
   "source": [
    "import numpy as np"
   ]
  },
  {
   "cell_type": "code",
   "execution_count": 3,
   "id": "1f9d53a6",
   "metadata": {},
   "outputs": [
    {
     "data": {
      "text/plain": [
       "array([1, 2, 3, 4])"
      ]
     },
     "execution_count": 3,
     "metadata": {},
     "output_type": "execute_result"
    }
   ],
   "source": [
    "arr1 = np.array([1,2,3,4])\n",
    "arr1"
   ]
  },
  {
   "cell_type": "code",
   "execution_count": 4,
   "id": "f907edeb",
   "metadata": {},
   "outputs": [
    {
     "data": {
      "text/plain": [
       "array([5., 6., 7., 8.])"
      ]
     },
     "execution_count": 4,
     "metadata": {},
     "output_type": "execute_result"
    }
   ],
   "source": [
    "arr2 = np.array([5,6,7,8], dtype=float)\n",
    "arr2"
   ]
  },
  {
   "cell_type": "code",
   "execution_count": 8,
   "id": "2c5a4a38",
   "metadata": {},
   "outputs": [
    {
     "data": {
      "text/plain": [
       "dtype('float64')"
      ]
     },
     "execution_count": 8,
     "metadata": {},
     "output_type": "execute_result"
    }
   ],
   "source": [
    "arr2.dtype"
   ]
  },
  {
   "cell_type": "code",
   "execution_count": 14,
   "id": "dbdbdccf",
   "metadata": {},
   "outputs": [
    {
     "data": {
      "text/plain": [
       "(3, 3)"
      ]
     },
     "execution_count": 14,
     "metadata": {},
     "output_type": "execute_result"
    }
   ],
   "source": [
    "arr3 = np.array([[1,2,3],[4,5,6],[7,8,9]])\n",
    "np.shape(arr3)"
   ]
  },
  {
   "cell_type": "code",
   "execution_count": 15,
   "id": "a59d36fb",
   "metadata": {},
   "outputs": [],
   "source": [
    "import pandas as pd"
   ]
  },
  {
   "cell_type": "code",
   "execution_count": 16,
   "id": "c2394730",
   "metadata": {},
   "outputs": [
    {
     "data": {
      "text/plain": [
       "pandas.core.frame.DataFrame"
      ]
     },
     "execution_count": 16,
     "metadata": {},
     "output_type": "execute_result"
    }
   ],
   "source": [
    "df = pd.DataFrame()\n",
    "type(df)"
   ]
  },
  {
   "cell_type": "code",
   "execution_count": 17,
   "id": "b46639be",
   "metadata": {},
   "outputs": [
    {
     "data": {
      "text/plain": [
       "numpy.ndarray"
      ]
     },
     "execution_count": 17,
     "metadata": {},
     "output_type": "execute_result"
    }
   ],
   "source": [
    "x = df.values\n",
    "type(x)"
   ]
  },
  {
   "cell_type": "code",
   "execution_count": 18,
   "id": "2d462323",
   "metadata": {},
   "outputs": [
    {
     "data": {
      "text/plain": [
       "0    1\n",
       "1    2\n",
       "2    3\n",
       "3    4\n",
       "4    5\n",
       "dtype: int64"
      ]
     },
     "execution_count": 18,
     "metadata": {},
     "output_type": "execute_result"
    }
   ],
   "source": [
    "my_series = pd.Series([1,2,3,4,5])\n",
    "my_series"
   ]
  },
  {
   "cell_type": "code",
   "execution_count": 19,
   "id": "33a8524b",
   "metadata": {},
   "outputs": [
    {
     "data": {
      "text/plain": [
       "pandas.core.series.Series"
      ]
     },
     "execution_count": 19,
     "metadata": {},
     "output_type": "execute_result"
    }
   ],
   "source": [
    "type(my_series)"
   ]
  },
  {
   "cell_type": "code",
   "execution_count": 20,
   "id": "156c14d0",
   "metadata": {},
   "outputs": [
    {
     "data": {
      "text/plain": [
       "array([1, 2, 3, 4, 5], dtype=int64)"
      ]
     },
     "execution_count": 20,
     "metadata": {},
     "output_type": "execute_result"
    }
   ],
   "source": [
    "my_series.values"
   ]
  },
  {
   "cell_type": "code",
   "execution_count": 21,
   "id": "51c520d8",
   "metadata": {},
   "outputs": [
    {
     "data": {
      "text/plain": [
       "numpy.ndarray"
      ]
     },
     "execution_count": 21,
     "metadata": {},
     "output_type": "execute_result"
    }
   ],
   "source": [
    "type(my_series.values)"
   ]
  },
  {
   "cell_type": "markdown",
   "id": "41c40f65",
   "metadata": {},
   "source": [
    "## Другие способы задания массива"
   ]
  },
  {
   "cell_type": "code",
   "execution_count": 23,
   "id": "b338d3d9",
   "metadata": {},
   "outputs": [
    {
     "data": {
      "text/plain": [
       "array([1.12427807e-311, 1.12427807e-311, 1.12427807e-311, 1.12427807e-311,\n",
       "       1.12427807e-311])"
      ]
     },
     "execution_count": 23,
     "metadata": {},
     "output_type": "execute_result"
    }
   ],
   "source": [
    "# одномерный массив из пяти элементов, память для которого выделена, но не инициализирована\n",
    "np.empty(5)"
   ]
  },
  {
   "cell_type": "code",
   "execution_count": 25,
   "id": "0c5e6fd6",
   "metadata": {},
   "outputs": [
    {
     "data": {
      "text/plain": [
       "array([[0., 0., 0., 0., 0., 0., 0.],\n",
       "       [0., 0., 0., 0., 0., 0., 0.],\n",
       "       [0., 0., 0., 0., 0., 0., 0.],\n",
       "       [0., 0., 0., 0., 0., 0., 0.],\n",
       "       [0., 0., 0., 0., 0., 0., 0.],\n",
       "       [0., 0., 0., 0., 0., 0., 0.],\n",
       "       [0., 0., 0., 0., 0., 0., 0.],\n",
       "       [0., 0., 0., 0., 0., 0., 0.],\n",
       "       [0., 0., 0., 0., 0., 0., 0.],\n",
       "       [0., 0., 0., 0., 0., 0., 0.]])"
      ]
     },
     "execution_count": 25,
     "metadata": {},
     "output_type": "execute_result"
    }
   ],
   "source": [
    "# массив размером 10х7, заполненный нулями\n",
    "np.zeros((10,7))"
   ]
  },
  {
   "cell_type": "code",
   "execution_count": 26,
   "id": "a868577d",
   "metadata": {},
   "outputs": [
    {
     "data": {
      "text/plain": [
       "array([[[1., 1., 1.],\n",
       "        [1., 1., 1.],\n",
       "        [1., 1., 1.]],\n",
       "\n",
       "       [[1., 1., 1.],\n",
       "        [1., 1., 1.],\n",
       "        [1., 1., 1.]],\n",
       "\n",
       "       [[1., 1., 1.],\n",
       "        [1., 1., 1.],\n",
       "        [1., 1., 1.]]])"
      ]
     },
     "execution_count": 26,
     "metadata": {},
     "output_type": "execute_result"
    }
   ],
   "source": [
    "# массив, размером 3х3х3, заполненный единицами\n",
    "np.ones((3,3,3))"
   ]
  },
  {
   "cell_type": "code",
   "execution_count": 28,
   "id": "3fa696a4",
   "metadata": {},
   "outputs": [
    {
     "data": {
      "text/plain": [
       "array([[1., 0., 0.],\n",
       "       [0., 1., 0.],\n",
       "       [0., 0., 1.]])"
      ]
     },
     "execution_count": 28,
     "metadata": {},
     "output_type": "execute_result"
    }
   ],
   "source": [
    "# единичная матрица (элементы главной диагонали равны 1, остальные 0), размером 3х3\n",
    "np.eye(3)"
   ]
  },
  {
   "cell_type": "code",
   "execution_count": 30,
   "id": "19ad494b",
   "metadata": {},
   "outputs": [
    {
     "data": {
      "text/plain": [
       "array([[3.14, 3.14, 3.14, 3.14],\n",
       "       [3.14, 3.14, 3.14, 3.14],\n",
       "       [3.14, 3.14, 3.14, 3.14]])"
      ]
     },
     "execution_count": 30,
     "metadata": {},
     "output_type": "execute_result"
    }
   ],
   "source": [
    "# матрица размером 3х4, заполненная числом 3,14\n",
    "np.full((3,4), 3.14)"
   ]
  },
  {
   "cell_type": "code",
   "execution_count": 32,
   "id": "6e461ca5",
   "metadata": {},
   "outputs": [
    {
     "data": {
      "text/plain": [
       "array([ 0,  7, 14, 21, 28])"
      ]
     },
     "execution_count": 32,
     "metadata": {},
     "output_type": "execute_result"
    }
   ],
   "source": [
    "# одномерный массив, заполненный числами от 0 до 30 с шагом 7\n",
    "np.arange(0,31,7)"
   ]
  },
  {
   "cell_type": "code",
   "execution_count": 36,
   "id": "f471e72a",
   "metadata": {},
   "outputs": [
    {
     "data": {
      "text/plain": [
       "array([0.  , 0.25, 0.5 , 0.75, 1.  ])"
      ]
     },
     "execution_count": 36,
     "metadata": {},
     "output_type": "execute_result"
    }
   ],
   "source": [
    "# массив из 5 чисел, равномерно распределенных в интервале от 0 до 1\n",
    "np.linspace(0,1,5)"
   ]
  },
  {
   "cell_type": "code",
   "execution_count": 37,
   "id": "78a41ff7",
   "metadata": {},
   "outputs": [
    {
     "data": {
      "text/plain": [
       "array([[2, 4, 1],\n",
       "       [0, 1, 8],\n",
       "       [2, 3, 1]])"
      ]
     },
     "execution_count": 37,
     "metadata": {},
     "output_type": "execute_result"
    }
   ],
   "source": [
    "# массив размером 3х3, заполненный случайными числами в интервале от 0 до 9 (включительно)\n",
    "np.random.randint(0,10,(3,3))"
   ]
  },
  {
   "cell_type": "code",
   "execution_count": 44,
   "id": "4695c859",
   "metadata": {},
   "outputs": [
    {
     "data": {
      "text/plain": [
       "array([[  1. ,  57. ,  71. , 127. , 141. , 197. , 211. , 267. , 281. ],\n",
       "       [  0.5,  28.5,  35.5,  63.5,  70.5,  98.5, 105.5, 133.5, 140.5],\n",
       "       [-99. , -43. , -29. ,  27. ,  41. ,  97. , 111. , 167. , 181. ]])"
      ]
     },
     "execution_count": 44,
     "metadata": {},
     "output_type": "execute_result"
    }
   ],
   "source": [
    "my_secret = [x for x in range(1,301,7) if x%10==7 or x%10==1]\n",
    "np.array([my_secret,[x/2 for x in my_secret],[x-100 for x in my_secret]])"
   ]
  },
  {
   "cell_type": "code",
   "execution_count": 53,
   "id": "41be6b50",
   "metadata": {},
   "outputs": [
    {
     "data": {
      "text/plain": [
       "array([1, 3, 5, 7, 9])"
      ]
     },
     "execution_count": 53,
     "metadata": {},
     "output_type": "execute_result"
    }
   ],
   "source": [
    "np.array([i for i in range(11) if i%2])"
   ]
  },
  {
   "cell_type": "code",
   "execution_count": 54,
   "id": "f6f49226",
   "metadata": {},
   "outputs": [
    {
     "data": {
      "text/plain": [
       "array([0, 1, 2, 3, 4, 5, 6, 7, 8, 9])"
      ]
     },
     "execution_count": 54,
     "metadata": {},
     "output_type": "execute_result"
    }
   ],
   "source": [
    "my_array = np.array([x for x in range(10)])\n",
    "my_array"
   ]
  },
  {
   "cell_type": "code",
   "execution_count": 55,
   "id": "000a6e3b",
   "metadata": {},
   "outputs": [
    {
     "data": {
      "text/plain": [
       "5"
      ]
     },
     "execution_count": 55,
     "metadata": {},
     "output_type": "execute_result"
    }
   ],
   "source": [
    "my_array[5]"
   ]
  },
  {
   "cell_type": "code",
   "execution_count": 56,
   "id": "d8f0e761",
   "metadata": {},
   "outputs": [
    {
     "data": {
      "text/plain": [
       "9"
      ]
     },
     "execution_count": 56,
     "metadata": {},
     "output_type": "execute_result"
    }
   ],
   "source": [
    "my_array[-1]"
   ]
  },
  {
   "cell_type": "code",
   "execution_count": 57,
   "id": "b7618b65",
   "metadata": {},
   "outputs": [
    {
     "data": {
      "text/plain": [
       "array([3, 4, 5])"
      ]
     },
     "execution_count": 57,
     "metadata": {},
     "output_type": "execute_result"
    }
   ],
   "source": [
    "my_array[3:6]"
   ]
  },
  {
   "cell_type": "code",
   "execution_count": 58,
   "id": "d0122e25",
   "metadata": {},
   "outputs": [
    {
     "data": {
      "text/plain": [
       "array([1, 4, 7])"
      ]
     },
     "execution_count": 58,
     "metadata": {},
     "output_type": "execute_result"
    }
   ],
   "source": [
    "my_array[1:8:3]"
   ]
  },
  {
   "cell_type": "code",
   "execution_count": 62,
   "id": "6977db00",
   "metadata": {},
   "outputs": [
    {
     "data": {
      "text/plain": [
       "array([[ 1,  2,  3,  4],\n",
       "       [10, 11, 12, 13],\n",
       "       [45, 46, 47, 48]])"
      ]
     },
     "execution_count": 62,
     "metadata": {},
     "output_type": "execute_result"
    }
   ],
   "source": [
    "my_array = np.array([[1,2,3,4], [10,11,12,13], [45,46,47,48]])\n",
    "my_array"
   ]
  },
  {
   "cell_type": "code",
   "execution_count": 64,
   "id": "ffc49595",
   "metadata": {},
   "outputs": [
    {
     "data": {
      "text/plain": [
       "12"
      ]
     },
     "execution_count": 64,
     "metadata": {},
     "output_type": "execute_result"
    }
   ],
   "source": [
    "my_array[1][2]"
   ]
  },
  {
   "cell_type": "code",
   "execution_count": 65,
   "id": "aa47eebc",
   "metadata": {},
   "outputs": [
    {
     "data": {
      "text/plain": [
       "12"
      ]
     },
     "execution_count": 65,
     "metadata": {},
     "output_type": "execute_result"
    }
   ],
   "source": [
    "my_array[1,2]"
   ]
  },
  {
   "cell_type": "code",
   "execution_count": 67,
   "id": "0e89fdac",
   "metadata": {},
   "outputs": [
    {
     "data": {
      "text/plain": [
       "array([10, 11, 12, 13])"
      ]
     },
     "execution_count": 67,
     "metadata": {},
     "output_type": "execute_result"
    }
   ],
   "source": [
    "my_array[1]"
   ]
  },
  {
   "cell_type": "code",
   "execution_count": 69,
   "id": "cbd64227",
   "metadata": {},
   "outputs": [
    {
     "data": {
      "text/plain": [
       "array([ 3, 12, 47])"
      ]
     },
     "execution_count": 69,
     "metadata": {},
     "output_type": "execute_result"
    }
   ],
   "source": [
    "my_array[:,2]"
   ]
  },
  {
   "cell_type": "code",
   "execution_count": 70,
   "id": "a9870cc8",
   "metadata": {},
   "outputs": [
    {
     "data": {
      "text/plain": [
       "array([[11, 12],\n",
       "       [46, 47]])"
      ]
     },
     "execution_count": 70,
     "metadata": {},
     "output_type": "execute_result"
    }
   ],
   "source": [
    "my_array[1:,1:3]"
   ]
  },
  {
   "cell_type": "code",
   "execution_count": 94,
   "id": "0ad1989e",
   "metadata": {},
   "outputs": [
    {
     "data": {
      "text/plain": [
       "array([[1.40000000e+01, 1.00000000e+01, 6.00000000e+00, 5.60000000e+01,\n",
       "        4.00000000e+01, 2.40000000e+01, 9.80000000e+01, 7.00000000e+01,\n",
       "        4.20000000e+01, 1.40000000e+02, 1.00000000e+02, 6.00000000e+01,\n",
       "        1.82000000e+02, 1.30000000e+02, 7.80000000e+01, 2.24000000e+02,\n",
       "        1.60000000e+02, 9.60000000e+01, 2.66000000e+02, 1.90000000e+02,\n",
       "        1.14000000e+02, 3.08000000e+02, 2.20000000e+02, 1.32000000e+02,\n",
       "        3.50000000e+02, 2.50000000e+02, 1.50000000e+02, 3.92000000e+02,\n",
       "        2.80000000e+02, 1.68000000e+02, 4.34000000e+02, 3.10000000e+02,\n",
       "        1.86000000e+02, 4.76000000e+02, 3.40000000e+02, 2.04000000e+02,\n",
       "        5.18000000e+02, 3.70000000e+02, 2.22000000e+02, 5.60000000e+02,\n",
       "        4.00000000e+02, 2.40000000e+02, 6.02000000e+02, 4.30000000e+02,\n",
       "        2.58000000e+02, 6.44000000e+02, 4.60000000e+02, 2.76000000e+02,\n",
       "        6.86000000e+02, 4.90000000e+02, 2.94000000e+02],\n",
       "       [3.16227766e+01, 3.16543836e+01, 3.16859590e+01, 3.17175031e+01,\n",
       "        3.17490157e+01, 3.17804972e+01, 3.18119474e+01, 3.18433667e+01,\n",
       "        3.18747549e+01, 3.19061123e+01, 3.19374388e+01, 3.19687347e+01,\n",
       "        3.20000000e+01, 3.20312348e+01, 3.20624391e+01, 3.20936131e+01,\n",
       "        3.21247568e+01, 3.21558704e+01, 3.21869539e+01, 3.22180074e+01,\n",
       "        3.22490310e+01, 3.22800248e+01, 3.23109888e+01, 3.23419233e+01,\n",
       "        3.23728281e+01, 3.24037035e+01, 3.24345495e+01, 3.24653662e+01,\n",
       "        3.24961536e+01, 3.25269119e+01, 3.25576412e+01, 3.25883415e+01,\n",
       "        3.26190129e+01, 3.26496554e+01, 3.26802693e+01, 3.27108545e+01,\n",
       "        3.27414111e+01, 3.27719392e+01, 3.28024389e+01, 3.28329103e+01,\n",
       "        3.28633535e+01, 3.28937684e+01, 3.29241553e+01, 3.29545141e+01,\n",
       "        3.29848450e+01, 3.30151480e+01, 3.30454233e+01, 3.30756708e+01,\n",
       "        3.31058907e+01, 3.31360831e+01, 3.31662479e+01],\n",
       "       [0.00000000e+00, 1.00000000e+00, 4.00000000e+00, 9.00000000e+00,\n",
       "        1.60000000e+01, 2.50000000e+01, 3.60000000e+01, 4.90000000e+01,\n",
       "        6.40000000e+01, 8.10000000e+01, 1.00000000e+02, 1.21000000e+02,\n",
       "        1.44000000e+02, 1.69000000e+02, 1.96000000e+02, 2.25000000e+02,\n",
       "        2.56000000e+02, 2.89000000e+02, 3.24000000e+02, 3.61000000e+02,\n",
       "        4.00000000e+02, 4.41000000e+02, 4.84000000e+02, 5.29000000e+02,\n",
       "        5.76000000e+02, 6.25000000e+02, 6.76000000e+02, 7.29000000e+02,\n",
       "        7.84000000e+02, 8.41000000e+02, 9.00000000e+02, 9.61000000e+02,\n",
       "        1.02400000e+03, 1.08900000e+03, 1.15600000e+03, 1.22500000e+03,\n",
       "        1.29600000e+03, 1.36900000e+03, 1.44400000e+03, 1.52100000e+03,\n",
       "        1.60000000e+03, 1.68100000e+03, 1.76400000e+03, 1.84900000e+03,\n",
       "        1.93600000e+03, 2.02500000e+03, 2.11600000e+03, 2.20900000e+03,\n",
       "        2.30400000e+03, 2.40100000e+03, 2.50000000e+03],\n",
       "       [3.16227766e+01, 3.16543836e+01, 3.16859590e+01, 3.17175031e+01,\n",
       "        3.17490157e+01, 3.17804972e+01, 3.18119474e+01, 3.18433667e+01,\n",
       "        3.18747549e+01, 3.19061123e+01, 3.19374388e+01, 3.19687347e+01,\n",
       "        3.20000000e+01, 3.20312348e+01, 3.20624391e+01, 3.20936131e+01,\n",
       "        3.21247568e+01, 3.21558704e+01, 3.21869539e+01, 3.22180074e+01,\n",
       "        3.22490310e+01, 3.22800248e+01, 3.23109888e+01, 3.23419233e+01,\n",
       "        3.23728281e+01, 3.24037035e+01, 3.24345495e+01, 3.24653662e+01,\n",
       "        3.24961536e+01, 3.25269119e+01, 3.25576412e+01, 3.25883415e+01,\n",
       "        3.26190129e+01, 3.26496554e+01, 3.26802693e+01, 3.27108545e+01,\n",
       "        3.27414111e+01, 3.27719392e+01, 3.28024389e+01, 3.28329103e+01,\n",
       "        3.28633535e+01, 3.28937684e+01, 3.29241553e+01, 3.29545141e+01,\n",
       "        3.29848450e+01, 3.30151480e+01, 3.30454233e+01, 3.30756708e+01,\n",
       "        3.31058907e+01, 3.31360831e+01, 3.31662479e+01],\n",
       "       [1.40000000e+01, 1.00000000e+01, 6.00000000e+00, 5.60000000e+01,\n",
       "        4.00000000e+01, 2.40000000e+01, 9.80000000e+01, 7.00000000e+01,\n",
       "        4.20000000e+01, 1.40000000e+02, 1.00000000e+02, 6.00000000e+01,\n",
       "        1.82000000e+02, 1.30000000e+02, 7.80000000e+01, 2.24000000e+02,\n",
       "        1.60000000e+02, 9.60000000e+01, 2.66000000e+02, 1.90000000e+02,\n",
       "        1.14000000e+02, 3.08000000e+02, 2.20000000e+02, 1.32000000e+02,\n",
       "        3.50000000e+02, 2.50000000e+02, 1.50000000e+02, 3.92000000e+02,\n",
       "        2.80000000e+02, 1.68000000e+02, 4.34000000e+02, 3.10000000e+02,\n",
       "        1.86000000e+02, 4.76000000e+02, 3.40000000e+02, 2.04000000e+02,\n",
       "        5.18000000e+02, 3.70000000e+02, 2.22000000e+02, 5.60000000e+02,\n",
       "        4.00000000e+02, 2.40000000e+02, 6.02000000e+02, 4.30000000e+02,\n",
       "        2.58000000e+02, 6.44000000e+02, 4.60000000e+02, 2.76000000e+02,\n",
       "        6.86000000e+02, 4.90000000e+02, 2.94000000e+02]])"
      ]
     },
     "execution_count": 94,
     "metadata": {},
     "output_type": "execute_result"
    }
   ],
   "source": [
    "first_line = [x*y for x in range(2,100,6) for y in range(7,1,-2)]\n",
    "second_line = [x**0.5 for x in range(1000,1101,2)]\n",
    "third_line = [x**2 for x in range(51)]\n",
    "\n",
    "big_secret = np.array([first_line, second_line, third_line, second_line, first_line])\n",
    "big_secret"
   ]
  },
  {
   "cell_type": "code",
   "execution_count": 72,
   "id": "e5587c82",
   "metadata": {},
   "outputs": [
    {
     "data": {
      "text/plain": [
       "3154.332495807108"
      ]
     },
     "execution_count": 72,
     "metadata": {},
     "output_type": "execute_result"
    }
   ],
   "source": [
    "sum(big_secret[:,-1])"
   ]
  },
  {
   "cell_type": "code",
   "execution_count": 85,
   "id": "b2ddfd56",
   "metadata": {},
   "outputs": [
    {
     "data": {
      "text/plain": [
       "341505315559.2347"
      ]
     },
     "execution_count": 85,
     "metadata": {},
     "output_type": "execute_result"
    }
   ],
   "source": [
    "my_array = big_secret[:,-5:]\n",
    "#reduce(lambda res,x: res*x, np.diagonal(my_array), 1)\n",
    "#my_array\n",
    "def multiply(lst):\n",
    "    answer = 1\n",
    "    for i in lst:\n",
    "        answer *= i\n",
    "    return answer\n",
    "\n",
    "multiply(np.diagonal(my_array))\n"
   ]
  },
  {
   "cell_type": "code",
   "execution_count": 86,
   "id": "e03798c1",
   "metadata": {},
   "outputs": [
    {
     "data": {
      "text/plain": [
       "341505315559.2347"
      ]
     },
     "execution_count": 86,
     "metadata": {},
     "output_type": "execute_result"
    }
   ],
   "source": [
    "np.prod(np.diagonal(my_array))"
   ]
  },
  {
   "cell_type": "code",
   "execution_count": 88,
   "id": "168e9b50",
   "metadata": {},
   "outputs": [
    {
     "data": {
      "text/plain": [
       "array([[95, 63, 94,  4, 44, 84],\n",
       "       [96,  7, 97, 72, 65, 47],\n",
       "       [93, 73, 34, 40, 18, 71],\n",
       "       [80, 28, 98, 89, 36, 87]])"
      ]
     },
     "execution_count": 88,
     "metadata": {},
     "output_type": "execute_result"
    }
   ],
   "source": [
    "my_array = np.random.randint(1,100,(4,6))\n",
    "my_array"
   ]
  },
  {
   "cell_type": "code",
   "execution_count": 91,
   "id": "c2daf6a9",
   "metadata": {},
   "outputs": [
    {
     "data": {
      "text/plain": [
       "array([[97, 72],\n",
       "       [34, 40]])"
      ]
     },
     "execution_count": 91,
     "metadata": {},
     "output_type": "execute_result"
    }
   ],
   "source": [
    "my_slice = my_array[1:3, 2:4]\n",
    "my_slice"
   ]
  },
  {
   "cell_type": "code",
   "execution_count": 92,
   "id": "b12b87fc",
   "metadata": {},
   "outputs": [
    {
     "data": {
      "text/plain": [
       "array([[95, 63, 94,  4, 44, 84],\n",
       "       [96,  7,  0,  0, 65, 47],\n",
       "       [93, 73,  0,  0, 18, 71],\n",
       "       [80, 28, 98, 89, 36, 87]])"
      ]
     },
     "execution_count": 92,
     "metadata": {},
     "output_type": "execute_result"
    }
   ],
   "source": [
    "my_slice[:] = 0\n",
    "my_array"
   ]
  },
  {
   "cell_type": "code",
   "execution_count": 96,
   "id": "f5a547a2",
   "metadata": {},
   "outputs": [
    {
     "data": {
      "text/plain": [
       "array([[ 1.00000000e+00,  1.00000000e+01,  1.00000000e+00,\n",
       "         5.60000000e+01,  1.00000000e+00,  2.40000000e+01,\n",
       "         1.00000000e+00,  7.00000000e+01,  1.00000000e+00,\n",
       "         1.40000000e+02,  1.00000000e+00,  6.00000000e+01,\n",
       "         1.00000000e+00,  1.30000000e+02,  1.00000000e+00,\n",
       "         2.24000000e+02,  1.00000000e+00,  9.60000000e+01,\n",
       "         1.00000000e+00,  1.90000000e+02,  1.00000000e+00,\n",
       "         3.08000000e+02,  1.00000000e+00,  1.32000000e+02,\n",
       "         1.00000000e+00,  2.50000000e+02,  1.00000000e+00,\n",
       "         3.92000000e+02,  1.00000000e+00,  1.68000000e+02,\n",
       "         1.00000000e+00,  3.10000000e+02,  1.00000000e+00,\n",
       "         4.76000000e+02,  1.00000000e+00,  2.04000000e+02,\n",
       "         1.00000000e+00,  3.70000000e+02,  1.00000000e+00,\n",
       "         5.60000000e+02,  1.00000000e+00,  2.40000000e+02,\n",
       "         1.00000000e+00,  4.30000000e+02,  1.00000000e+00,\n",
       "         6.44000000e+02,  1.00000000e+00,  2.76000000e+02,\n",
       "         1.00000000e+00,  4.90000000e+02,  1.00000000e+00],\n",
       "       [ 3.16227766e+01, -1.00000000e+00,  3.16859590e+01,\n",
       "        -1.00000000e+00,  3.17490157e+01, -1.00000000e+00,\n",
       "         3.18119474e+01, -1.00000000e+00,  3.18747549e+01,\n",
       "        -1.00000000e+00,  3.19374388e+01, -1.00000000e+00,\n",
       "         3.20000000e+01, -1.00000000e+00,  3.20624391e+01,\n",
       "        -1.00000000e+00,  3.21247568e+01, -1.00000000e+00,\n",
       "         3.21869539e+01, -1.00000000e+00,  3.22490310e+01,\n",
       "        -1.00000000e+00,  3.23109888e+01, -1.00000000e+00,\n",
       "         3.23728281e+01, -1.00000000e+00,  3.24345495e+01,\n",
       "        -1.00000000e+00,  3.24961536e+01, -1.00000000e+00,\n",
       "         3.25576412e+01, -1.00000000e+00,  3.26190129e+01,\n",
       "        -1.00000000e+00,  3.26802693e+01, -1.00000000e+00,\n",
       "         3.27414111e+01, -1.00000000e+00,  3.28024389e+01,\n",
       "        -1.00000000e+00,  3.28633535e+01, -1.00000000e+00,\n",
       "         3.29241553e+01, -1.00000000e+00,  3.29848450e+01,\n",
       "        -1.00000000e+00,  3.30454233e+01, -1.00000000e+00,\n",
       "         3.31058907e+01, -1.00000000e+00,  3.31662479e+01],\n",
       "       [ 1.00000000e+00,  1.00000000e+00,  1.00000000e+00,\n",
       "         9.00000000e+00,  1.00000000e+00,  2.50000000e+01,\n",
       "         1.00000000e+00,  4.90000000e+01,  1.00000000e+00,\n",
       "         8.10000000e+01,  1.00000000e+00,  1.21000000e+02,\n",
       "         1.00000000e+00,  1.69000000e+02,  1.00000000e+00,\n",
       "         2.25000000e+02,  1.00000000e+00,  2.89000000e+02,\n",
       "         1.00000000e+00,  3.61000000e+02,  1.00000000e+00,\n",
       "         4.41000000e+02,  1.00000000e+00,  5.29000000e+02,\n",
       "         1.00000000e+00,  6.25000000e+02,  1.00000000e+00,\n",
       "         7.29000000e+02,  1.00000000e+00,  8.41000000e+02,\n",
       "         1.00000000e+00,  9.61000000e+02,  1.00000000e+00,\n",
       "         1.08900000e+03,  1.00000000e+00,  1.22500000e+03,\n",
       "         1.00000000e+00,  1.36900000e+03,  1.00000000e+00,\n",
       "         1.52100000e+03,  1.00000000e+00,  1.68100000e+03,\n",
       "         1.00000000e+00,  1.84900000e+03,  1.00000000e+00,\n",
       "         2.02500000e+03,  1.00000000e+00,  2.20900000e+03,\n",
       "         1.00000000e+00,  2.40100000e+03,  1.00000000e+00],\n",
       "       [ 3.16227766e+01, -1.00000000e+00,  3.16859590e+01,\n",
       "        -1.00000000e+00,  3.17490157e+01, -1.00000000e+00,\n",
       "         3.18119474e+01, -1.00000000e+00,  3.18747549e+01,\n",
       "        -1.00000000e+00,  3.19374388e+01, -1.00000000e+00,\n",
       "         3.20000000e+01, -1.00000000e+00,  3.20624391e+01,\n",
       "        -1.00000000e+00,  3.21247568e+01, -1.00000000e+00,\n",
       "         3.21869539e+01, -1.00000000e+00,  3.22490310e+01,\n",
       "        -1.00000000e+00,  3.23109888e+01, -1.00000000e+00,\n",
       "         3.23728281e+01, -1.00000000e+00,  3.24345495e+01,\n",
       "        -1.00000000e+00,  3.24961536e+01, -1.00000000e+00,\n",
       "         3.25576412e+01, -1.00000000e+00,  3.26190129e+01,\n",
       "        -1.00000000e+00,  3.26802693e+01, -1.00000000e+00,\n",
       "         3.27414111e+01, -1.00000000e+00,  3.28024389e+01,\n",
       "        -1.00000000e+00,  3.28633535e+01, -1.00000000e+00,\n",
       "         3.29241553e+01, -1.00000000e+00,  3.29848450e+01,\n",
       "        -1.00000000e+00,  3.30454233e+01, -1.00000000e+00,\n",
       "         3.31058907e+01, -1.00000000e+00,  3.31662479e+01],\n",
       "       [ 1.00000000e+00,  1.00000000e+01,  1.00000000e+00,\n",
       "         5.60000000e+01,  1.00000000e+00,  2.40000000e+01,\n",
       "         1.00000000e+00,  7.00000000e+01,  1.00000000e+00,\n",
       "         1.40000000e+02,  1.00000000e+00,  6.00000000e+01,\n",
       "         1.00000000e+00,  1.30000000e+02,  1.00000000e+00,\n",
       "         2.24000000e+02,  1.00000000e+00,  9.60000000e+01,\n",
       "         1.00000000e+00,  1.90000000e+02,  1.00000000e+00,\n",
       "         3.08000000e+02,  1.00000000e+00,  1.32000000e+02,\n",
       "         1.00000000e+00,  2.50000000e+02,  1.00000000e+00,\n",
       "         3.92000000e+02,  1.00000000e+00,  1.68000000e+02,\n",
       "         1.00000000e+00,  3.10000000e+02,  1.00000000e+00,\n",
       "         4.76000000e+02,  1.00000000e+00,  2.04000000e+02,\n",
       "         1.00000000e+00,  3.70000000e+02,  1.00000000e+00,\n",
       "         5.60000000e+02,  1.00000000e+00,  2.40000000e+02,\n",
       "         1.00000000e+00,  4.30000000e+02,  1.00000000e+00,\n",
       "         6.44000000e+02,  1.00000000e+00,  2.76000000e+02,\n",
       "         1.00000000e+00,  4.90000000e+02,  1.00000000e+00]])"
      ]
     },
     "execution_count": 96,
     "metadata": {},
     "output_type": "execute_result"
    }
   ],
   "source": [
    "my_slice1 = big_secret[1::2,1::2]\n",
    "my_slice2 = big_secret[0::2,0::2]\n",
    "my_slice1[:]=-1\n",
    "my_slice2[:]=1\n",
    "big_secret"
   ]
  },
  {
   "cell_type": "code",
   "execution_count": 102,
   "id": "e2d59e2b",
   "metadata": {},
   "outputs": [
    {
     "data": {
      "text/plain": [
       "1.0"
      ]
     },
     "execution_count": 102,
     "metadata": {},
     "output_type": "execute_result"
    }
   ],
   "source": [
    "sum(np.diagonal(big_secret[:,0:5]))\n",
    "#big_secret[:,0:5]"
   ]
  },
  {
   "cell_type": "code",
   "execution_count": 104,
   "id": "73c688be",
   "metadata": {},
   "outputs": [
    {
     "data": {
      "text/plain": [
       "1.0"
      ]
     },
     "execution_count": 104,
     "metadata": {},
     "output_type": "execute_result"
    }
   ],
   "source": [
    "np.prod(np.diagonal(big_secret[:,-5:]))"
   ]
  },
  {
   "cell_type": "code",
   "execution_count": 5,
   "id": "9eab3a81",
   "metadata": {},
   "outputs": [
    {
     "name": "stderr",
     "output_type": "stream",
     "text": [
      "<ipython-input-5-d2baa825d6cc>:5: VisibleDeprecationWarning: Creating an ndarray from ragged nested sequences (which is a list-or-tuple of lists-or-tuples-or ndarrays with different lengths or shapes) is deprecated. If you meant to do this, you must specify 'dtype=object' when creating the ndarray.\n",
      "  arr1 = np.array([line1,line2,line3])\n"
     ]
    },
    {
     "data": {
      "text/plain": [
       "array([list([1, 2, 3, 4, 5]), list([6, 7, 8]), list([9, 10])],\n",
       "      dtype=object)"
      ]
     },
     "execution_count": 5,
     "metadata": {},
     "output_type": "execute_result"
    }
   ],
   "source": [
    "line1 = [1,2,3,4,5]\n",
    "line2 = [6,7,8]\n",
    "line3 = [9,10]\n",
    "\n",
    "arr1 = np.array([line1,line2,line3])\n",
    "arr1"
   ]
  },
  {
   "cell_type": "code",
   "execution_count": 7,
   "id": "e2782510",
   "metadata": {},
   "outputs": [
    {
     "name": "stdout",
     "output_type": "stream",
     "text": [
      "Сложение [15 21 27]\n",
      "Вычитание [9 9 9]\n",
      "Умножение [ 36  90 162]\n",
      "Деление [0.25 0.4  0.5 ]\n",
      "Возведение в степень [ 6 12 18]\n"
     ]
    }
   ],
   "source": [
    "a = np.array([3,6,9])\n",
    "b = np.array([12,15,18])\n",
    "\n",
    "r1 = a+b\n",
    "r2 = b-a\n",
    "r3 = a*b\n",
    "r4 = a/b\n",
    "r5 = a*2\n",
    "\n",
    "print(f\"Сложение {r1}\\nВычитание {r2}\\nУмножение {r3}\\nДеление {r4}\\nВозведение в степень {r5}\")"
   ]
  },
  {
   "cell_type": "markdown",
   "id": "b2b0a21f",
   "metadata": {},
   "source": [
    "Рассмотрим список часто используемых универсальных функций NumPy. При вызове каждой из этих функций необходимо указывать название библиотеки NumPy: np.isnan(имя_массива):\n",
    "\n",
    "Функция\tОписание\n",
    "abs\tАбсолютное значение целых, вещественных или комплексных элементов массива\n",
    "sqrt\tКвадратный корень каждого элемента массива\n",
    "exp\tЭкспонента (ex) каждого элемента массива\n",
    "log, log10, log2, log1p\tНатуральный (по основанию е), десятичный, двоичный логарифм и функция log(1+x) соответственно\n",
    "modf\tДробные и целые части массива в виде отдельных массивов\n",
    "isnan\tМассив логических (булевых) значений, показывающий, какие из элементов исходного массива  являются NaN (не числами)\n",
    "cos, sin, tan\tОбычные тригонометрические функции\n",
    "arccos, arcsin, arctan\tОбратные тригонометрические функции"
   ]
  },
  {
   "cell_type": "code",
   "execution_count": 8,
   "id": "2fc50ad2",
   "metadata": {},
   "outputs": [
    {
     "name": "stdout",
     "output_type": "stream",
     "text": [
      "[[ 3  6  9]\n",
      " [12 15 18]]\n",
      "[[ 3 12]\n",
      " [ 6 15]\n",
      " [ 9 18]]\n"
     ]
    }
   ],
   "source": [
    "arr1 = np.array([a,b])\n",
    "print(arr1)\n",
    "print(arr1.T)"
   ]
  },
  {
   "cell_type": "code",
   "execution_count": 11,
   "id": "5d2a0f73",
   "metadata": {},
   "outputs": [
    {
     "name": "stdout",
     "output_type": "stream",
     "text": [
      "[7 5 6 9 2 6 9 8 5 1 2 8 5 8 5 8 4 3 1 2]\n",
      "[[7 5 6 9 2]\n",
      " [6 9 8 5 1]\n",
      " [2 8 5 8 5]\n",
      " [8 4 3 1 2]]\n",
      "[[7 5 6 9 2 6 9 8 5 1]\n",
      " [2 8 5 8 5 8 4 3 1 2]]\n"
     ]
    }
   ],
   "source": [
    "# Изменение размерности массива возможно только если количество элементов совпадает\n",
    "a = np.random.randint(1,10,20)\n",
    "print(a)\n",
    "print(a.reshape(4,5))\n",
    "print(a.reshape(2,10))"
   ]
  },
  {
   "cell_type": "code",
   "execution_count": 12,
   "id": "c2515f83",
   "metadata": {},
   "outputs": [
    {
     "name": "stdout",
     "output_type": "stream",
     "text": [
      "[[7 5 6 9]\n",
      " [2 6 9 8]\n",
      " [5 1 2 8]\n",
      " [5 8 5 8]\n",
      " [4 3 1 2]]\n",
      "[7 5 6 9 2 6 9 8 5 1 2 8 5 8 5 8 4 3 1 2]\n"
     ]
    }
   ],
   "source": [
    "b = a.reshape(5,4).copy()\n",
    "print(b)\n",
    "print(b.flatten())"
   ]
  },
  {
   "cell_type": "code",
   "execution_count": 13,
   "id": "e565961c",
   "metadata": {},
   "outputs": [
    {
     "data": {
      "text/plain": [
       "array([[False, False, False, False],\n",
       "       [ True, False, False, False],\n",
       "       [False,  True,  True, False],\n",
       "       [False, False, False, False],\n",
       "       [ True,  True,  True,  True]])"
      ]
     },
     "execution_count": 13,
     "metadata": {},
     "output_type": "execute_result"
    }
   ],
   "source": [
    "# сравнение с числом\n",
    "b<5"
   ]
  },
  {
   "cell_type": "code",
   "execution_count": 14,
   "id": "b206ab63",
   "metadata": {},
   "outputs": [
    {
     "data": {
      "text/plain": [
       "array([2, 1, 2, 4, 3, 1, 2])"
      ]
     },
     "execution_count": 14,
     "metadata": {},
     "output_type": "execute_result"
    }
   ],
   "source": [
    "b[b<5]"
   ]
  },
  {
   "cell_type": "code",
   "execution_count": 17,
   "id": "e5ea4a98",
   "metadata": {},
   "outputs": [
    {
     "data": {
      "text/plain": [
       "array([[7, 6],\n",
       "       [2, 9],\n",
       "       [5, 2],\n",
       "       [5, 5],\n",
       "       [4, 1]])"
      ]
     },
     "execution_count": 17,
     "metadata": {},
     "output_type": "execute_result"
    }
   ],
   "source": [
    "# Маска. Нужна для того, чтобы скрывать столбцы/строки\n",
    "mask = np.array([1,0,1,0], dtype=bool)\n",
    "b[:,mask]"
   ]
  },
  {
   "cell_type": "code",
   "execution_count": 21,
   "id": "044802e1",
   "metadata": {},
   "outputs": [
    {
     "name": "stdout",
     "output_type": "stream",
     "text": [
      "Исходный массив\n",
      "[[7 5 6 9]\n",
      " [2 6 9 8]\n",
      " [5 1 2 8]\n",
      " [5 8 5 8]\n",
      " [4 3 1 2]]\n",
      "Сортировка по строкам\n",
      "[[5 6 7 9]\n",
      " [2 6 8 9]\n",
      " [1 2 5 8]\n",
      " [5 5 8 8]\n",
      " [1 2 3 4]]\n",
      "Сортировка по столбцам\n",
      "[[2 1 1 2]\n",
      " [4 3 2 8]\n",
      " [5 5 5 8]\n",
      " [5 6 6 8]\n",
      " [7 8 9 9]]\n"
     ]
    }
   ],
   "source": [
    "# сортировка. 0 - по столбцам, 1 - по строкам\n",
    "print(f\"Исходный массив\\n{b}\")\n",
    "print(f\"Сортировка по строкам\\n{np.sort(b,axis=1)}\")\n",
    "print(f\"Сортировка по столбцам\\n{np.sort(b,axis=0)}\")"
   ]
  },
  {
   "cell_type": "code",
   "execution_count": 22,
   "id": "c7883c35",
   "metadata": {},
   "outputs": [
    {
     "data": {
      "text/plain": [
       "array([[ 0.        ,  4.64158883, 66.66666667],\n",
       "       [ 1.        ,  4.65700951, 40.        ],\n",
       "       [ 1.41421356,  4.67232873, 67.33333333],\n",
       "       [ 1.73205081,  4.68754815, 40.4       ],\n",
       "       [ 2.        ,  4.70266938, 68.        ],\n",
       "       [ 2.23606798,  4.71769398, 40.8       ],\n",
       "       [ 2.44948974,  4.73262349, 68.66666667],\n",
       "       [ 2.64575131,  4.7474594 , 41.2       ],\n",
       "       [ 2.82842712,  4.76220316, 69.33333333],\n",
       "       [ 3.        ,  4.77685618, 41.6       ],\n",
       "       [ 3.16227766,  4.79141986, 70.        ],\n",
       "       [ 3.31662479,  4.80589553, 42.        ],\n",
       "       [ 3.46410162,  4.82028453, 70.66666667],\n",
       "       [ 3.60555128,  4.83458813, 42.4       ],\n",
       "       [ 3.74165739,  4.84880759, 71.33333333],\n",
       "       [ 3.87298335,  4.86294413, 42.8       ],\n",
       "       [ 4.        ,  4.87699896, 72.        ],\n",
       "       [ 4.12310563,  4.89097325, 43.2       ],\n",
       "       [ 4.24264069,  4.90486813, 72.66666667],\n",
       "       [ 4.35889894,  4.91868473, 43.6       ],\n",
       "       [ 4.47213595,  4.93242415, 73.33333333],\n",
       "       [ 4.58257569,  4.94608744, 44.        ],\n",
       "       [ 4.69041576,  4.95967566, 74.        ],\n",
       "       [ 4.79583152,  4.97318983, 44.4       ],\n",
       "       [ 4.89897949,  4.98663095, 74.66666667],\n",
       "       [ 5.        ,  5.        , 44.8       ],\n",
       "       [ 5.09901951,  5.01329793, 75.33333333],\n",
       "       [ 5.19615242,  5.0265257 , 45.2       ],\n",
       "       [ 5.29150262,  5.0396842 , 76.        ],\n",
       "       [ 5.38516481,  5.05277435, 45.6       ],\n",
       "       [ 5.47722558,  5.06579702, 76.66666667],\n",
       "       [ 5.56776436,  5.07875308, 46.        ],\n",
       "       [ 5.65685425,  5.09164337, 77.33333333],\n",
       "       [ 5.74456265,  5.10446872, 46.4       ],\n",
       "       [ 5.83095189,  5.11722995, 78.        ],\n",
       "       [ 5.91607978,  5.12992784, 46.8       ],\n",
       "       [ 6.        ,  5.14256318, 78.66666667],\n",
       "       [ 6.08276253,  5.15513674, 47.2       ],\n",
       "       [ 6.164414  ,  5.16764925, 79.33333333],\n",
       "       [ 6.244998  ,  5.18010147, 47.6       ],\n",
       "       [ 6.32455532,  5.1924941 , 80.        ],\n",
       "       [ 6.40312424,  5.20482786, 48.        ],\n",
       "       [ 6.4807407 ,  5.21710345, 80.66666667],\n",
       "       [ 6.55743852,  5.22932153, 48.4       ],\n",
       "       [ 6.63324958,  5.24148279, 81.33333333],\n",
       "       [ 6.70820393,  5.25358787, 48.8       ],\n",
       "       [ 6.78232998,  5.26563743, 82.        ],\n",
       "       [ 6.8556546 ,  5.27763209, 49.2       ],\n",
       "       [ 6.92820323,  5.28957247, 82.66666667],\n",
       "       [ 7.        ,  5.30145919, 49.6       ],\n",
       "       [ 7.07106781,  5.31329285, 83.33333333],\n",
       "       [ 7.14142843,  5.32507402, 50.        ],\n",
       "       [ 7.21110255,  5.3368033 , 84.        ],\n",
       "       [ 7.28010989,  5.34848124, 50.4       ],\n",
       "       [ 7.34846923,  5.36010841, 84.66666667],\n",
       "       [ 7.41619849,  5.37168535, 50.8       ],\n",
       "       [ 7.48331477,  5.38321261, 85.33333333],\n",
       "       [ 7.54983444,  5.39469071, 51.2       ],\n",
       "       [ 7.61577311,  5.40612018, 86.        ],\n",
       "       [ 7.68114575,  5.41750151, 51.6       ],\n",
       "       [ 7.74596669,  5.42883523, 86.66666667],\n",
       "       [ 7.81024968,  5.44012183, 52.        ],\n",
       "       [ 7.87400787,  5.45136178, 87.33333333],\n",
       "       [ 7.93725393,  5.46255557, 52.4       ],\n",
       "       [ 8.        ,  5.47370367, 88.        ],\n",
       "       [ 8.06225775,  5.48480655, 52.8       ],\n",
       "       [ 8.1240384 ,  5.49586466, 88.66666667],\n",
       "       [ 8.18535277,  5.50687845, 53.2       ],\n",
       "       [ 8.24621125,  5.51784835, 89.33333333],\n",
       "       [ 8.30662386,  5.52877481, 53.6       ],\n",
       "       [ 8.36660027,  5.53965826, 90.        ],\n",
       "       [ 8.42614977,  5.5504991 , 54.        ],\n",
       "       [ 8.48528137,  5.56129777, 90.66666667],\n",
       "       [ 8.54400375,  5.57205466, 54.4       ],\n",
       "       [ 8.60232527,  5.58277017, 91.33333333],\n",
       "       [ 8.66025404,  5.59344471, 54.8       ],\n",
       "       [ 8.71779789,  5.60407866, 92.        ],\n",
       "       [ 8.77496439,  5.61467241, 55.2       ],\n",
       "       [ 8.83176087,  5.62522633, 92.66666667],\n",
       "       [ 8.88819442,  5.63574079, 55.6       ],\n",
       "       [ 8.94427191,  5.64621617, 93.33333333],\n",
       "       [ 9.        ,  5.65665283, 56.        ],\n",
       "       [ 9.05538514,  5.66705111, 94.        ],\n",
       "       [ 9.11043358,  5.67741137, 56.4       ],\n",
       "       [ 9.16515139,  5.68773396, 94.66666667],\n",
       "       [ 9.21954446,  5.69801922, 56.8       ],\n",
       "       [ 9.2736185 ,  5.70826747, 95.33333333],\n",
       "       [ 9.32737905,  5.71847906, 57.2       ],\n",
       "       [ 9.38083152,  5.72865432, 96.        ],\n",
       "       [ 9.43398113,  5.73879355, 57.6       ],\n",
       "       [ 9.48683298,  5.74889708, 96.66666667],\n",
       "       [ 9.53939201,  5.75896522, 58.        ],\n",
       "       [ 9.59166305,  5.76899828, 97.33333333],\n",
       "       [ 9.64365076,  5.77899657, 58.4       ],\n",
       "       [ 9.69535971,  5.78896037, 98.        ],\n",
       "       [ 9.74679434,  5.79889   , 58.8       ],\n",
       "       [ 9.79795897,  5.80878573, 98.66666667],\n",
       "       [ 9.8488578 ,  5.81864787, 59.2       ],\n",
       "       [ 9.89949494,  5.82847668, 99.33333333],\n",
       "       [ 9.94987437,  5.83827246, 59.6       ]])"
      ]
     },
     "execution_count": 22,
     "metadata": {},
     "output_type": "execute_result"
    }
   ],
   "source": [
    "first = [x**(1/2) for x in range(100)]\n",
    "second = [x**(1/3) for x in range(100,200)]\n",
    "third = [x/y for x in range(200,300,2) for y in [3,5]]\n",
    "\n",
    "great_secret = np.array([first,second,third]).T\n",
    "great_secret"
   ]
  },
  {
   "cell_type": "code",
   "execution_count": 24,
   "id": "6356ed30",
   "metadata": {},
   "outputs": [
    {
     "data": {
      "text/plain": [
       "0.16"
      ]
     },
     "execution_count": 24,
     "metadata": {},
     "output_type": "execute_result"
    }
   ],
   "source": [
    "round(sum(np.cos(great_secret[0,:])),2)"
   ]
  },
  {
   "cell_type": "code",
   "execution_count": 25,
   "id": "46b67c13",
   "metadata": {},
   "outputs": [
    {
     "data": {
      "text/plain": [
       "5470.0"
      ]
     },
     "execution_count": 25,
     "metadata": {},
     "output_type": "execute_result"
    }
   ],
   "source": [
    "sum(great_secret[great_secret>50])"
   ]
  },
  {
   "cell_type": "code",
   "execution_count": 26,
   "id": "7bd2c057",
   "metadata": {},
   "outputs": [
    {
     "data": {
      "text/plain": [
       "7.0710678118654755"
      ]
     },
     "execution_count": 26,
     "metadata": {},
     "output_type": "execute_result"
    }
   ],
   "source": [
    "great_secret.flatten()[150]"
   ]
  },
  {
   "cell_type": "code",
   "execution_count": 28,
   "id": "149197a1",
   "metadata": {},
   "outputs": [
    {
     "data": {
      "text/plain": [
       "115.12"
      ]
     },
     "execution_count": 28,
     "metadata": {},
     "output_type": "execute_result"
    }
   ],
   "source": [
    "round(sum(np.sort(great_secret,axis=0)[-1,:]),2)"
   ]
  },
  {
   "cell_type": "code",
   "execution_count": 38,
   "id": "05eab8bf",
   "metadata": {},
   "outputs": [
    {
     "data": {
      "text/plain": [
       "array([[  1. , 135. ,  34. ,   4. ],\n",
       "       [  2. , 160. ,  43. ,   5. ],\n",
       "       [  3. , 163. ,  40. ,   4.3],\n",
       "       [  4. , 147. ,  44. ,   5. ],\n",
       "       [  5. , 138. ,  41. ,   4.7],\n",
       "       [  6. , 149. ,  54. ,   3.9],\n",
       "       [  7. , 136. ,  39. ,   4.2],\n",
       "       [  8. , 154. ,  48. ,   4.9],\n",
       "       [  9. , 137. ,  35. ,   3.7],\n",
       "       [ 10. , 165. ,  60. ,   4.6]])"
      ]
     },
     "execution_count": 38,
     "metadata": {},
     "output_type": "execute_result"
    }
   ],
   "source": [
    "# ID (номер в журнале)\tРост, см\tМасса тела, кг\tСредний балл\n",
    "students = np.array([[1,135,34,4],\n",
    "                     [2,160,43,5],\n",
    "                     [3,163,40,4.3],\n",
    "                     [4,147,44,5],\n",
    "                     [5,138,41,4.7],\n",
    "                     [6,149,54,3.9],\n",
    "                     [7,136,39,4.2],\n",
    "                     [8,154,48,4.9],\n",
    "                     [9,137,35,3.7],\n",
    "                     [10,165,60,4.6]\n",
    "                    ])\n",
    "students"
   ]
  },
  {
   "cell_type": "code",
   "execution_count": 32,
   "id": "ccad3495",
   "metadata": {},
   "outputs": [
    {
     "data": {
      "text/plain": [
       "4.430000000000001"
      ]
     },
     "execution_count": 32,
     "metadata": {},
     "output_type": "execute_result"
    }
   ],
   "source": [
    "# средняя успеваемость\n",
    "np.mean(students[:,-1])"
   ]
  },
  {
   "cell_type": "code",
   "execution_count": 33,
   "id": "aebdf182",
   "metadata": {},
   "outputs": [
    {
     "data": {
      "text/plain": [
       "4.449999999999999"
      ]
     },
     "execution_count": 33,
     "metadata": {},
     "output_type": "execute_result"
    }
   ],
   "source": [
    "# для сравнения медианное значение успеваемости\n",
    "np.median(students[:,-1])"
   ]
  },
  {
   "cell_type": "code",
   "execution_count": 39,
   "id": "add1347d",
   "metadata": {},
   "outputs": [
    {
     "data": {
      "text/plain": [
       "42.0"
      ]
     },
     "execution_count": 39,
     "metadata": {},
     "output_type": "execute_result"
    }
   ],
   "source": [
    "# медианное значение массы тела\n",
    "np.median(students[:,-2])"
   ]
  },
  {
   "cell_type": "code",
   "execution_count": 40,
   "id": "8567de3f",
   "metadata": {},
   "outputs": [
    {
     "data": {
      "text/plain": [
       "1.7999999999999972"
      ]
     },
     "execution_count": 40,
     "metadata": {},
     "output_type": "execute_result"
    }
   ],
   "source": [
    "np.mean(students[:,-2])-np.median(students[:,-2])"
   ]
  },
  {
   "cell_type": "code",
   "execution_count": 45,
   "id": "ef173f0f",
   "metadata": {},
   "outputs": [
    {
     "data": {
      "text/plain": [
       "array([[1.        , 0.64314431],\n",
       "       [0.64314431, 1.        ]])"
      ]
     },
     "execution_count": 45,
     "metadata": {},
     "output_type": "execute_result"
    }
   ],
   "source": [
    "# Давайте узнаем, как связан рост и вес наших школьников, посчитав коэффициент корреляции столбцов матрицы\n",
    "corr = np.corrcoef(students[:,1],students[:,2])\n",
    "corr"
   ]
  },
  {
   "cell_type": "code",
   "execution_count": 47,
   "id": "9d7009c0",
   "metadata": {},
   "outputs": [
    {
     "name": "stdout",
     "output_type": "stream",
     "text": [
      "Коэф.корреляции между ростом и успеваемостью\n",
      "[[1.         0.46293714]\n",
      " [0.46293714 1.        ]]\n",
      "Коэф.корреляции между весом и успеваемостью\n",
      "[[1.         0.29801325]\n",
      " [0.29801325 1.        ]]\n"
     ]
    }
   ],
   "source": [
    "print(f\"Коэф.корреляции между ростом и успеваемостью\\n{np.corrcoef(students[:,1],students[:,3])}\")\n",
    "print(f\"Коэф.корреляции между весом и успеваемостью\\n{np.corrcoef(students[:,2],students[:,3])}\")"
   ]
  },
  {
   "cell_type": "code",
   "execution_count": 48,
   "id": "0f1911fc",
   "metadata": {},
   "outputs": [
    {
     "data": {
      "text/plain": [
       "11.083320801997928"
      ]
     },
     "execution_count": 48,
     "metadata": {},
     "output_type": "execute_result"
    }
   ],
   "source": [
    "# Узнаем, насколько разный у школьников рост, посчитав стандартное отклонение std:\n",
    "np.std(students[:,1])\n",
    "# В результате разброс в росте большинства учеников составляет более 11 см от среднего арифметического."
   ]
  },
  {
   "cell_type": "code",
   "execution_count": 49,
   "id": "87fab2be",
   "metadata": {},
   "outputs": [
    {
     "data": {
      "text/plain": [
       "0.4517742799230607"
      ]
     },
     "execution_count": 49,
     "metadata": {},
     "output_type": "execute_result"
    }
   ],
   "source": [
    "np.std(students[:,-1])"
   ]
  },
  {
   "cell_type": "code",
   "execution_count": 51,
   "id": "ba64a1c6",
   "metadata": {},
   "outputs": [
    {
     "name": "stdout",
     "output_type": "stream",
     "text": [
      "60.36\n",
      "60.36\n"
     ]
    }
   ],
   "source": [
    "# Посчитайте, чему равна дисперсия значений веса школьников.\n",
    "print(np.var(students[:,2]))\n",
    "print((np.std(students[:,2]))**2)"
   ]
  },
  {
   "cell_type": "code",
   "execution_count": 2,
   "id": "43ac8f4e",
   "metadata": {},
   "outputs": [],
   "source": [
    "my_array = np.array([[1,2,3,4,5],\n",
    "                     [6,7,8,9,10],\n",
    "                     [11,12,13,14,15],\n",
    "                     [16,17,18,19,20],\n",
    "                     [21,22,23,24,25]\n",
    "                    ])"
   ]
  },
  {
   "cell_type": "code",
   "execution_count": 3,
   "id": "3e967ba7",
   "metadata": {},
   "outputs": [
    {
     "data": {
      "text/plain": [
       "array([[ 0.84147098,  0.90929743,  0.14112001, -0.7568025 , -0.95892427],\n",
       "       [-0.2794155 ,  0.6569866 ,  0.98935825,  0.41211849, -0.54402111],\n",
       "       [-0.99999021, -0.53657292,  0.42016704,  0.99060736,  0.65028784],\n",
       "       [-0.28790332, -0.96139749, -0.75098725,  0.14987721,  0.91294525],\n",
       "       [ 0.83665564, -0.00885131, -0.8462204 , -0.90557836, -0.13235175]])"
      ]
     },
     "execution_count": 3,
     "metadata": {},
     "output_type": "execute_result"
    }
   ],
   "source": [
    "my_sin = np.sin(my_array)\n",
    "my_sin"
   ]
  },
  {
   "cell_type": "code",
   "execution_count": 5,
   "id": "e817c729",
   "metadata": {},
   "outputs": [
    {
     "data": {
      "text/plain": [
       "-0.05812430261413351"
      ]
     },
     "execution_count": 5,
     "metadata": {},
     "output_type": "execute_result"
    }
   ],
   "source": [
    "sum(my_sin.flatten())"
   ]
  },
  {
   "cell_type": "code",
   "execution_count": 6,
   "id": "c0070962",
   "metadata": {},
   "outputs": [
    {
     "data": {
      "text/plain": [
       "7.5717184212691455"
      ]
     },
     "execution_count": 6,
     "metadata": {},
     "output_type": "execute_result"
    }
   ],
   "source": [
    "my_sin[1:4,1:4]=1\n",
    "sum(my_sin.flatten())"
   ]
  },
  {
   "cell_type": "code",
   "execution_count": 7,
   "id": "c8e06058",
   "metadata": {},
   "outputs": [
    {
     "data": {
      "text/plain": [
       "array([[ 0.84147098,  0.90929743,  0.14112001, -0.7568025 ],\n",
       "       [-0.2794155 ,  1.        ,  1.        ,  1.        ],\n",
       "       [-0.99999021,  1.        ,  1.        ,  1.        ],\n",
       "       [-0.28790332,  1.        ,  1.        ,  1.        ],\n",
       "       [ 0.83665564, -0.00885131, -0.8462204 , -0.90557836]])"
      ]
     },
     "execution_count": 7,
     "metadata": {},
     "output_type": "execute_result"
    }
   ],
   "source": [
    "new_my_sin = my_sin[:,:-1]\n",
    "new_my_sin"
   ]
  },
  {
   "cell_type": "code",
   "execution_count": 14,
   "id": "073858fc",
   "metadata": {},
   "outputs": [
    {
     "data": {
      "text/plain": [
       "2.406"
      ]
     },
     "execution_count": 14,
     "metadata": {},
     "output_type": "execute_result"
    }
   ],
   "source": [
    "round(sum(new_my_sin.reshape(10,2)[:,0]),3)"
   ]
  },
  {
   "cell_type": "code",
   "execution_count": 17,
   "id": "ea87ea3f",
   "metadata": {},
   "outputs": [],
   "source": [
    "bigdata = np.array([x**2 for x in range(100,1001) if x%2])"
   ]
  },
  {
   "cell_type": "code",
   "execution_count": 18,
   "id": "d7d36dde",
   "metadata": {},
   "outputs": [
    {
     "data": {
      "text/plain": [
       "302501.0"
      ]
     },
     "execution_count": 18,
     "metadata": {},
     "output_type": "execute_result"
    }
   ],
   "source": [
    "np.median(bigdata)"
   ]
  },
  {
   "cell_type": "code",
   "execution_count": 20,
   "id": "a45bf22c",
   "metadata": {},
   "outputs": [
    {
     "data": {
      "text/plain": [
       "292095"
      ]
     },
     "execution_count": 20,
     "metadata": {},
     "output_type": "execute_result"
    }
   ],
   "source": [
    "round(np.std(bigdata))"
   ]
  },
  {
   "cell_type": "code",
   "execution_count": 23,
   "id": "3dd5056b",
   "metadata": {},
   "outputs": [
    {
     "data": {
      "text/plain": [
       "array([[1.        , 0.99999973],\n",
       "       [0.99999973, 1.        ]])"
      ]
     },
     "execution_count": 23,
     "metadata": {},
     "output_type": "execute_result"
    }
   ],
   "source": [
    "np.corrcoef(bigdata[::2],bigdata[1::2])"
   ]
  }
 ],
 "metadata": {
  "kernelspec": {
   "display_name": "Python 3",
   "language": "python",
   "name": "python3"
  },
  "language_info": {
   "codemirror_mode": {
    "name": "ipython",
    "version": 3
   },
   "file_extension": ".py",
   "mimetype": "text/x-python",
   "name": "python",
   "nbconvert_exporter": "python",
   "pygments_lexer": "ipython3",
   "version": "3.8.6"
  }
 },
 "nbformat": 4,
 "nbformat_minor": 5
}
