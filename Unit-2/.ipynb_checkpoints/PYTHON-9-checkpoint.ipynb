{
 "cells": [
  {
   "cell_type": "code",
   "execution_count": 2,
   "id": "28547232",
   "metadata": {},
   "outputs": [],
   "source": [
    "import numpy as np"
   ]
  },
  {
   "cell_type": "code",
   "execution_count": 3,
   "id": "1f9d53a6",
   "metadata": {},
   "outputs": [
    {
     "data": {
      "text/plain": [
       "array([1, 2, 3, 4])"
      ]
     },
     "execution_count": 3,
     "metadata": {},
     "output_type": "execute_result"
    }
   ],
   "source": [
    "arr1 = np.array([1,2,3,4])\n",
    "arr1"
   ]
  },
  {
   "cell_type": "code",
   "execution_count": 4,
   "id": "f907edeb",
   "metadata": {},
   "outputs": [
    {
     "data": {
      "text/plain": [
       "array([5., 6., 7., 8.])"
      ]
     },
     "execution_count": 4,
     "metadata": {},
     "output_type": "execute_result"
    }
   ],
   "source": [
    "arr2 = np.array([5,6,7,8], dtype=float)\n",
    "arr2"
   ]
  },
  {
   "cell_type": "code",
   "execution_count": 8,
   "id": "2c5a4a38",
   "metadata": {},
   "outputs": [
    {
     "data": {
      "text/plain": [
       "dtype('float64')"
      ]
     },
     "execution_count": 8,
     "metadata": {},
     "output_type": "execute_result"
    }
   ],
   "source": [
    "arr2.dtype"
   ]
  },
  {
   "cell_type": "code",
   "execution_count": 14,
   "id": "dbdbdccf",
   "metadata": {},
   "outputs": [
    {
     "data": {
      "text/plain": [
       "(3, 3)"
      ]
     },
     "execution_count": 14,
     "metadata": {},
     "output_type": "execute_result"
    }
   ],
   "source": [
    "arr3 = np.array([[1,2,3],[4,5,6],[7,8,9]])\n",
    "np.shape(arr3)"
   ]
  },
  {
   "cell_type": "code",
   "execution_count": 15,
   "id": "a59d36fb",
   "metadata": {},
   "outputs": [],
   "source": [
    "import pandas as pd"
   ]
  },
  {
   "cell_type": "code",
   "execution_count": 16,
   "id": "c2394730",
   "metadata": {},
   "outputs": [
    {
     "data": {
      "text/plain": [
       "pandas.core.frame.DataFrame"
      ]
     },
     "execution_count": 16,
     "metadata": {},
     "output_type": "execute_result"
    }
   ],
   "source": [
    "df = pd.DataFrame()\n",
    "type(df)"
   ]
  },
  {
   "cell_type": "code",
   "execution_count": 17,
   "id": "b46639be",
   "metadata": {},
   "outputs": [
    {
     "data": {
      "text/plain": [
       "numpy.ndarray"
      ]
     },
     "execution_count": 17,
     "metadata": {},
     "output_type": "execute_result"
    }
   ],
   "source": [
    "x = df.values\n",
    "type(x)"
   ]
  },
  {
   "cell_type": "code",
   "execution_count": 18,
   "id": "2d462323",
   "metadata": {},
   "outputs": [
    {
     "data": {
      "text/plain": [
       "0    1\n",
       "1    2\n",
       "2    3\n",
       "3    4\n",
       "4    5\n",
       "dtype: int64"
      ]
     },
     "execution_count": 18,
     "metadata": {},
     "output_type": "execute_result"
    }
   ],
   "source": [
    "my_series = pd.Series([1,2,3,4,5])\n",
    "my_series"
   ]
  },
  {
   "cell_type": "code",
   "execution_count": 19,
   "id": "33a8524b",
   "metadata": {},
   "outputs": [
    {
     "data": {
      "text/plain": [
       "pandas.core.series.Series"
      ]
     },
     "execution_count": 19,
     "metadata": {},
     "output_type": "execute_result"
    }
   ],
   "source": [
    "type(my_series)"
   ]
  },
  {
   "cell_type": "code",
   "execution_count": 20,
   "id": "156c14d0",
   "metadata": {},
   "outputs": [
    {
     "data": {
      "text/plain": [
       "array([1, 2, 3, 4, 5], dtype=int64)"
      ]
     },
     "execution_count": 20,
     "metadata": {},
     "output_type": "execute_result"
    }
   ],
   "source": [
    "my_series.values"
   ]
  },
  {
   "cell_type": "code",
   "execution_count": 21,
   "id": "51c520d8",
   "metadata": {},
   "outputs": [
    {
     "data": {
      "text/plain": [
       "numpy.ndarray"
      ]
     },
     "execution_count": 21,
     "metadata": {},
     "output_type": "execute_result"
    }
   ],
   "source": [
    "type(my_series.values)"
   ]
  },
  {
   "cell_type": "markdown",
   "id": "41c40f65",
   "metadata": {},
   "source": [
    "## Другие способы задания массива"
   ]
  },
  {
   "cell_type": "code",
   "execution_count": 23,
   "id": "b338d3d9",
   "metadata": {},
   "outputs": [
    {
     "data": {
      "text/plain": [
       "array([1.12427807e-311, 1.12427807e-311, 1.12427807e-311, 1.12427807e-311,\n",
       "       1.12427807e-311])"
      ]
     },
     "execution_count": 23,
     "metadata": {},
     "output_type": "execute_result"
    }
   ],
   "source": [
    "# одномерный массив из пяти элементов, память для которого выделена, но не инициализирована\n",
    "np.empty(5)"
   ]
  },
  {
   "cell_type": "code",
   "execution_count": 25,
   "id": "0c5e6fd6",
   "metadata": {},
   "outputs": [
    {
     "data": {
      "text/plain": [
       "array([[0., 0., 0., 0., 0., 0., 0.],\n",
       "       [0., 0., 0., 0., 0., 0., 0.],\n",
       "       [0., 0., 0., 0., 0., 0., 0.],\n",
       "       [0., 0., 0., 0., 0., 0., 0.],\n",
       "       [0., 0., 0., 0., 0., 0., 0.],\n",
       "       [0., 0., 0., 0., 0., 0., 0.],\n",
       "       [0., 0., 0., 0., 0., 0., 0.],\n",
       "       [0., 0., 0., 0., 0., 0., 0.],\n",
       "       [0., 0., 0., 0., 0., 0., 0.],\n",
       "       [0., 0., 0., 0., 0., 0., 0.]])"
      ]
     },
     "execution_count": 25,
     "metadata": {},
     "output_type": "execute_result"
    }
   ],
   "source": [
    "# массив размером 10х7, заполненный нулями\n",
    "np.zeros((10,7))"
   ]
  },
  {
   "cell_type": "code",
   "execution_count": 26,
   "id": "a868577d",
   "metadata": {},
   "outputs": [
    {
     "data": {
      "text/plain": [
       "array([[[1., 1., 1.],\n",
       "        [1., 1., 1.],\n",
       "        [1., 1., 1.]],\n",
       "\n",
       "       [[1., 1., 1.],\n",
       "        [1., 1., 1.],\n",
       "        [1., 1., 1.]],\n",
       "\n",
       "       [[1., 1., 1.],\n",
       "        [1., 1., 1.],\n",
       "        [1., 1., 1.]]])"
      ]
     },
     "execution_count": 26,
     "metadata": {},
     "output_type": "execute_result"
    }
   ],
   "source": [
    "# массив, размером 3х3х3, заполненный единицами\n",
    "np.ones((3,3,3))"
   ]
  },
  {
   "cell_type": "code",
   "execution_count": 28,
   "id": "3fa696a4",
   "metadata": {},
   "outputs": [
    {
     "data": {
      "text/plain": [
       "array([[1., 0., 0.],\n",
       "       [0., 1., 0.],\n",
       "       [0., 0., 1.]])"
      ]
     },
     "execution_count": 28,
     "metadata": {},
     "output_type": "execute_result"
    }
   ],
   "source": [
    "# единичная матрица (элементы главной диагонали равны 1, остальные 0), размером 3х3\n",
    "np.eye(3)"
   ]
  },
  {
   "cell_type": "code",
   "execution_count": 30,
   "id": "19ad494b",
   "metadata": {},
   "outputs": [
    {
     "data": {
      "text/plain": [
       "array([[3.14, 3.14, 3.14, 3.14],\n",
       "       [3.14, 3.14, 3.14, 3.14],\n",
       "       [3.14, 3.14, 3.14, 3.14]])"
      ]
     },
     "execution_count": 30,
     "metadata": {},
     "output_type": "execute_result"
    }
   ],
   "source": [
    "# матрица размером 3х4, заполненная числом 3,14\n",
    "np.full((3,4), 3.14)"
   ]
  },
  {
   "cell_type": "code",
   "execution_count": 32,
   "id": "6e461ca5",
   "metadata": {},
   "outputs": [
    {
     "data": {
      "text/plain": [
       "array([ 0,  7, 14, 21, 28])"
      ]
     },
     "execution_count": 32,
     "metadata": {},
     "output_type": "execute_result"
    }
   ],
   "source": [
    "# одномерный массив, заполненный числами от 0 до 30 с шагом 7\n",
    "np.arange(0,31,7)"
   ]
  },
  {
   "cell_type": "code",
   "execution_count": 36,
   "id": "f471e72a",
   "metadata": {},
   "outputs": [
    {
     "data": {
      "text/plain": [
       "array([0.  , 0.25, 0.5 , 0.75, 1.  ])"
      ]
     },
     "execution_count": 36,
     "metadata": {},
     "output_type": "execute_result"
    }
   ],
   "source": [
    "# массив из 5 чисел, равномерно распределенных в интервале от 0 до 1\n",
    "np.linspace(0,1,5)"
   ]
  },
  {
   "cell_type": "code",
   "execution_count": 37,
   "id": "78a41ff7",
   "metadata": {},
   "outputs": [
    {
     "data": {
      "text/plain": [
       "array([[2, 4, 1],\n",
       "       [0, 1, 8],\n",
       "       [2, 3, 1]])"
      ]
     },
     "execution_count": 37,
     "metadata": {},
     "output_type": "execute_result"
    }
   ],
   "source": [
    "# массив размером 3х3, заполненный случайными числами в интервале от 0 до 9 (включительно)\n",
    "np.random.randint(0,10,(3,3))"
   ]
  },
  {
   "cell_type": "code",
   "execution_count": 44,
   "id": "4695c859",
   "metadata": {},
   "outputs": [
    {
     "data": {
      "text/plain": [
       "array([[  1. ,  57. ,  71. , 127. , 141. , 197. , 211. , 267. , 281. ],\n",
       "       [  0.5,  28.5,  35.5,  63.5,  70.5,  98.5, 105.5, 133.5, 140.5],\n",
       "       [-99. , -43. , -29. ,  27. ,  41. ,  97. , 111. , 167. , 181. ]])"
      ]
     },
     "execution_count": 44,
     "metadata": {},
     "output_type": "execute_result"
    }
   ],
   "source": [
    "my_secret = [x for x in range(1,301,7) if x%10==7 or x%10==1]\n",
    "np.array([my_secret,[x/2 for x in my_secret],[x-100 for x in my_secret]])"
   ]
  },
  {
   "cell_type": "code",
   "execution_count": 53,
   "id": "41be6b50",
   "metadata": {},
   "outputs": [
    {
     "data": {
      "text/plain": [
       "array([1, 3, 5, 7, 9])"
      ]
     },
     "execution_count": 53,
     "metadata": {},
     "output_type": "execute_result"
    }
   ],
   "source": [
    "np.array([i for i in range(11) if i%2])"
   ]
  },
  {
   "cell_type": "code",
   "execution_count": 54,
   "id": "f6f49226",
   "metadata": {},
   "outputs": [
    {
     "data": {
      "text/plain": [
       "array([0, 1, 2, 3, 4, 5, 6, 7, 8, 9])"
      ]
     },
     "execution_count": 54,
     "metadata": {},
     "output_type": "execute_result"
    }
   ],
   "source": [
    "my_array = np.array([x for x in range(10)])\n",
    "my_array"
   ]
  },
  {
   "cell_type": "code",
   "execution_count": 55,
   "id": "000a6e3b",
   "metadata": {},
   "outputs": [
    {
     "data": {
      "text/plain": [
       "5"
      ]
     },
     "execution_count": 55,
     "metadata": {},
     "output_type": "execute_result"
    }
   ],
   "source": [
    "my_array[5]"
   ]
  },
  {
   "cell_type": "code",
   "execution_count": 56,
   "id": "d8f0e761",
   "metadata": {},
   "outputs": [
    {
     "data": {
      "text/plain": [
       "9"
      ]
     },
     "execution_count": 56,
     "metadata": {},
     "output_type": "execute_result"
    }
   ],
   "source": [
    "my_array[-1]"
   ]
  },
  {
   "cell_type": "code",
   "execution_count": 57,
   "id": "b7618b65",
   "metadata": {},
   "outputs": [
    {
     "data": {
      "text/plain": [
       "array([3, 4, 5])"
      ]
     },
     "execution_count": 57,
     "metadata": {},
     "output_type": "execute_result"
    }
   ],
   "source": [
    "my_array[3:6]"
   ]
  },
  {
   "cell_type": "code",
   "execution_count": 58,
   "id": "d0122e25",
   "metadata": {},
   "outputs": [
    {
     "data": {
      "text/plain": [
       "array([1, 4, 7])"
      ]
     },
     "execution_count": 58,
     "metadata": {},
     "output_type": "execute_result"
    }
   ],
   "source": [
    "my_array[1:8:3]"
   ]
  },
  {
   "cell_type": "code",
   "execution_count": 62,
   "id": "6977db00",
   "metadata": {},
   "outputs": [
    {
     "data": {
      "text/plain": [
       "array([[ 1,  2,  3,  4],\n",
       "       [10, 11, 12, 13],\n",
       "       [45, 46, 47, 48]])"
      ]
     },
     "execution_count": 62,
     "metadata": {},
     "output_type": "execute_result"
    }
   ],
   "source": [
    "my_array = np.array([[1,2,3,4], [10,11,12,13], [45,46,47,48]])\n",
    "my_array"
   ]
  },
  {
   "cell_type": "code",
   "execution_count": 64,
   "id": "ffc49595",
   "metadata": {},
   "outputs": [
    {
     "data": {
      "text/plain": [
       "12"
      ]
     },
     "execution_count": 64,
     "metadata": {},
     "output_type": "execute_result"
    }
   ],
   "source": [
    "my_array[1][2]"
   ]
  },
  {
   "cell_type": "code",
   "execution_count": 65,
   "id": "aa47eebc",
   "metadata": {},
   "outputs": [
    {
     "data": {
      "text/plain": [
       "12"
      ]
     },
     "execution_count": 65,
     "metadata": {},
     "output_type": "execute_result"
    }
   ],
   "source": [
    "my_array[1,2]"
   ]
  },
  {
   "cell_type": "code",
   "execution_count": 67,
   "id": "0e89fdac",
   "metadata": {},
   "outputs": [
    {
     "data": {
      "text/plain": [
       "array([10, 11, 12, 13])"
      ]
     },
     "execution_count": 67,
     "metadata": {},
     "output_type": "execute_result"
    }
   ],
   "source": [
    "my_array[1]"
   ]
  },
  {
   "cell_type": "code",
   "execution_count": 69,
   "id": "cbd64227",
   "metadata": {},
   "outputs": [
    {
     "data": {
      "text/plain": [
       "array([ 3, 12, 47])"
      ]
     },
     "execution_count": 69,
     "metadata": {},
     "output_type": "execute_result"
    }
   ],
   "source": [
    "my_array[:,2]"
   ]
  },
  {
   "cell_type": "code",
   "execution_count": 70,
   "id": "a9870cc8",
   "metadata": {},
   "outputs": [
    {
     "data": {
      "text/plain": [
       "array([[11, 12],\n",
       "       [46, 47]])"
      ]
     },
     "execution_count": 70,
     "metadata": {},
     "output_type": "execute_result"
    }
   ],
   "source": [
    "my_array[1:,1:3]"
   ]
  },
  {
   "cell_type": "code",
   "execution_count": 94,
   "id": "0ad1989e",
   "metadata": {},
   "outputs": [
    {
     "data": {
      "text/plain": [
       "array([[1.40000000e+01, 1.00000000e+01, 6.00000000e+00, 5.60000000e+01,\n",
       "        4.00000000e+01, 2.40000000e+01, 9.80000000e+01, 7.00000000e+01,\n",
       "        4.20000000e+01, 1.40000000e+02, 1.00000000e+02, 6.00000000e+01,\n",
       "        1.82000000e+02, 1.30000000e+02, 7.80000000e+01, 2.24000000e+02,\n",
       "        1.60000000e+02, 9.60000000e+01, 2.66000000e+02, 1.90000000e+02,\n",
       "        1.14000000e+02, 3.08000000e+02, 2.20000000e+02, 1.32000000e+02,\n",
       "        3.50000000e+02, 2.50000000e+02, 1.50000000e+02, 3.92000000e+02,\n",
       "        2.80000000e+02, 1.68000000e+02, 4.34000000e+02, 3.10000000e+02,\n",
       "        1.86000000e+02, 4.76000000e+02, 3.40000000e+02, 2.04000000e+02,\n",
       "        5.18000000e+02, 3.70000000e+02, 2.22000000e+02, 5.60000000e+02,\n",
       "        4.00000000e+02, 2.40000000e+02, 6.02000000e+02, 4.30000000e+02,\n",
       "        2.58000000e+02, 6.44000000e+02, 4.60000000e+02, 2.76000000e+02,\n",
       "        6.86000000e+02, 4.90000000e+02, 2.94000000e+02],\n",
       "       [3.16227766e+01, 3.16543836e+01, 3.16859590e+01, 3.17175031e+01,\n",
       "        3.17490157e+01, 3.17804972e+01, 3.18119474e+01, 3.18433667e+01,\n",
       "        3.18747549e+01, 3.19061123e+01, 3.19374388e+01, 3.19687347e+01,\n",
       "        3.20000000e+01, 3.20312348e+01, 3.20624391e+01, 3.20936131e+01,\n",
       "        3.21247568e+01, 3.21558704e+01, 3.21869539e+01, 3.22180074e+01,\n",
       "        3.22490310e+01, 3.22800248e+01, 3.23109888e+01, 3.23419233e+01,\n",
       "        3.23728281e+01, 3.24037035e+01, 3.24345495e+01, 3.24653662e+01,\n",
       "        3.24961536e+01, 3.25269119e+01, 3.25576412e+01, 3.25883415e+01,\n",
       "        3.26190129e+01, 3.26496554e+01, 3.26802693e+01, 3.27108545e+01,\n",
       "        3.27414111e+01, 3.27719392e+01, 3.28024389e+01, 3.28329103e+01,\n",
       "        3.28633535e+01, 3.28937684e+01, 3.29241553e+01, 3.29545141e+01,\n",
       "        3.29848450e+01, 3.30151480e+01, 3.30454233e+01, 3.30756708e+01,\n",
       "        3.31058907e+01, 3.31360831e+01, 3.31662479e+01],\n",
       "       [0.00000000e+00, 1.00000000e+00, 4.00000000e+00, 9.00000000e+00,\n",
       "        1.60000000e+01, 2.50000000e+01, 3.60000000e+01, 4.90000000e+01,\n",
       "        6.40000000e+01, 8.10000000e+01, 1.00000000e+02, 1.21000000e+02,\n",
       "        1.44000000e+02, 1.69000000e+02, 1.96000000e+02, 2.25000000e+02,\n",
       "        2.56000000e+02, 2.89000000e+02, 3.24000000e+02, 3.61000000e+02,\n",
       "        4.00000000e+02, 4.41000000e+02, 4.84000000e+02, 5.29000000e+02,\n",
       "        5.76000000e+02, 6.25000000e+02, 6.76000000e+02, 7.29000000e+02,\n",
       "        7.84000000e+02, 8.41000000e+02, 9.00000000e+02, 9.61000000e+02,\n",
       "        1.02400000e+03, 1.08900000e+03, 1.15600000e+03, 1.22500000e+03,\n",
       "        1.29600000e+03, 1.36900000e+03, 1.44400000e+03, 1.52100000e+03,\n",
       "        1.60000000e+03, 1.68100000e+03, 1.76400000e+03, 1.84900000e+03,\n",
       "        1.93600000e+03, 2.02500000e+03, 2.11600000e+03, 2.20900000e+03,\n",
       "        2.30400000e+03, 2.40100000e+03, 2.50000000e+03],\n",
       "       [3.16227766e+01, 3.16543836e+01, 3.16859590e+01, 3.17175031e+01,\n",
       "        3.17490157e+01, 3.17804972e+01, 3.18119474e+01, 3.18433667e+01,\n",
       "        3.18747549e+01, 3.19061123e+01, 3.19374388e+01, 3.19687347e+01,\n",
       "        3.20000000e+01, 3.20312348e+01, 3.20624391e+01, 3.20936131e+01,\n",
       "        3.21247568e+01, 3.21558704e+01, 3.21869539e+01, 3.22180074e+01,\n",
       "        3.22490310e+01, 3.22800248e+01, 3.23109888e+01, 3.23419233e+01,\n",
       "        3.23728281e+01, 3.24037035e+01, 3.24345495e+01, 3.24653662e+01,\n",
       "        3.24961536e+01, 3.25269119e+01, 3.25576412e+01, 3.25883415e+01,\n",
       "        3.26190129e+01, 3.26496554e+01, 3.26802693e+01, 3.27108545e+01,\n",
       "        3.27414111e+01, 3.27719392e+01, 3.28024389e+01, 3.28329103e+01,\n",
       "        3.28633535e+01, 3.28937684e+01, 3.29241553e+01, 3.29545141e+01,\n",
       "        3.29848450e+01, 3.30151480e+01, 3.30454233e+01, 3.30756708e+01,\n",
       "        3.31058907e+01, 3.31360831e+01, 3.31662479e+01],\n",
       "       [1.40000000e+01, 1.00000000e+01, 6.00000000e+00, 5.60000000e+01,\n",
       "        4.00000000e+01, 2.40000000e+01, 9.80000000e+01, 7.00000000e+01,\n",
       "        4.20000000e+01, 1.40000000e+02, 1.00000000e+02, 6.00000000e+01,\n",
       "        1.82000000e+02, 1.30000000e+02, 7.80000000e+01, 2.24000000e+02,\n",
       "        1.60000000e+02, 9.60000000e+01, 2.66000000e+02, 1.90000000e+02,\n",
       "        1.14000000e+02, 3.08000000e+02, 2.20000000e+02, 1.32000000e+02,\n",
       "        3.50000000e+02, 2.50000000e+02, 1.50000000e+02, 3.92000000e+02,\n",
       "        2.80000000e+02, 1.68000000e+02, 4.34000000e+02, 3.10000000e+02,\n",
       "        1.86000000e+02, 4.76000000e+02, 3.40000000e+02, 2.04000000e+02,\n",
       "        5.18000000e+02, 3.70000000e+02, 2.22000000e+02, 5.60000000e+02,\n",
       "        4.00000000e+02, 2.40000000e+02, 6.02000000e+02, 4.30000000e+02,\n",
       "        2.58000000e+02, 6.44000000e+02, 4.60000000e+02, 2.76000000e+02,\n",
       "        6.86000000e+02, 4.90000000e+02, 2.94000000e+02]])"
      ]
     },
     "execution_count": 94,
     "metadata": {},
     "output_type": "execute_result"
    }
   ],
   "source": [
    "first_line = [x*y for x in range(2,100,6) for y in range(7,1,-2)]\n",
    "second_line = [x**0.5 for x in range(1000,1101,2)]\n",
    "third_line = [x**2 for x in range(51)]\n",
    "\n",
    "big_secret = np.array([first_line, second_line, third_line, second_line, first_line])\n",
    "big_secret"
   ]
  },
  {
   "cell_type": "code",
   "execution_count": 72,
   "id": "e5587c82",
   "metadata": {},
   "outputs": [
    {
     "data": {
      "text/plain": [
       "3154.332495807108"
      ]
     },
     "execution_count": 72,
     "metadata": {},
     "output_type": "execute_result"
    }
   ],
   "source": [
    "sum(big_secret[:,-1])"
   ]
  },
  {
   "cell_type": "code",
   "execution_count": 85,
   "id": "b2ddfd56",
   "metadata": {},
   "outputs": [
    {
     "data": {
      "text/plain": [
       "341505315559.2347"
      ]
     },
     "execution_count": 85,
     "metadata": {},
     "output_type": "execute_result"
    }
   ],
   "source": [
    "my_array = big_secret[:,-5:]\n",
    "#reduce(lambda res,x: res*x, np.diagonal(my_array), 1)\n",
    "#my_array\n",
    "def multiply(lst):\n",
    "    answer = 1\n",
    "    for i in lst:\n",
    "        answer *= i\n",
    "    return answer\n",
    "\n",
    "multiply(np.diagonal(my_array))\n"
   ]
  },
  {
   "cell_type": "code",
   "execution_count": 86,
   "id": "e03798c1",
   "metadata": {},
   "outputs": [
    {
     "data": {
      "text/plain": [
       "341505315559.2347"
      ]
     },
     "execution_count": 86,
     "metadata": {},
     "output_type": "execute_result"
    }
   ],
   "source": [
    "np.prod(np.diagonal(my_array))"
   ]
  },
  {
   "cell_type": "code",
   "execution_count": 88,
   "id": "168e9b50",
   "metadata": {},
   "outputs": [
    {
     "data": {
      "text/plain": [
       "array([[95, 63, 94,  4, 44, 84],\n",
       "       [96,  7, 97, 72, 65, 47],\n",
       "       [93, 73, 34, 40, 18, 71],\n",
       "       [80, 28, 98, 89, 36, 87]])"
      ]
     },
     "execution_count": 88,
     "metadata": {},
     "output_type": "execute_result"
    }
   ],
   "source": [
    "my_array = np.random.randint(1,100,(4,6))\n",
    "my_array"
   ]
  },
  {
   "cell_type": "code",
   "execution_count": 91,
   "id": "c2daf6a9",
   "metadata": {},
   "outputs": [
    {
     "data": {
      "text/plain": [
       "array([[97, 72],\n",
       "       [34, 40]])"
      ]
     },
     "execution_count": 91,
     "metadata": {},
     "output_type": "execute_result"
    }
   ],
   "source": [
    "my_slice = my_array[1:3, 2:4]\n",
    "my_slice"
   ]
  },
  {
   "cell_type": "code",
   "execution_count": 92,
   "id": "b12b87fc",
   "metadata": {},
   "outputs": [
    {
     "data": {
      "text/plain": [
       "array([[95, 63, 94,  4, 44, 84],\n",
       "       [96,  7,  0,  0, 65, 47],\n",
       "       [93, 73,  0,  0, 18, 71],\n",
       "       [80, 28, 98, 89, 36, 87]])"
      ]
     },
     "execution_count": 92,
     "metadata": {},
     "output_type": "execute_result"
    }
   ],
   "source": [
    "my_slice[:] = 0\n",
    "my_array"
   ]
  },
  {
   "cell_type": "code",
   "execution_count": 96,
   "id": "f5a547a2",
   "metadata": {},
   "outputs": [
    {
     "data": {
      "text/plain": [
       "array([[ 1.00000000e+00,  1.00000000e+01,  1.00000000e+00,\n",
       "         5.60000000e+01,  1.00000000e+00,  2.40000000e+01,\n",
       "         1.00000000e+00,  7.00000000e+01,  1.00000000e+00,\n",
       "         1.40000000e+02,  1.00000000e+00,  6.00000000e+01,\n",
       "         1.00000000e+00,  1.30000000e+02,  1.00000000e+00,\n",
       "         2.24000000e+02,  1.00000000e+00,  9.60000000e+01,\n",
       "         1.00000000e+00,  1.90000000e+02,  1.00000000e+00,\n",
       "         3.08000000e+02,  1.00000000e+00,  1.32000000e+02,\n",
       "         1.00000000e+00,  2.50000000e+02,  1.00000000e+00,\n",
       "         3.92000000e+02,  1.00000000e+00,  1.68000000e+02,\n",
       "         1.00000000e+00,  3.10000000e+02,  1.00000000e+00,\n",
       "         4.76000000e+02,  1.00000000e+00,  2.04000000e+02,\n",
       "         1.00000000e+00,  3.70000000e+02,  1.00000000e+00,\n",
       "         5.60000000e+02,  1.00000000e+00,  2.40000000e+02,\n",
       "         1.00000000e+00,  4.30000000e+02,  1.00000000e+00,\n",
       "         6.44000000e+02,  1.00000000e+00,  2.76000000e+02,\n",
       "         1.00000000e+00,  4.90000000e+02,  1.00000000e+00],\n",
       "       [ 3.16227766e+01, -1.00000000e+00,  3.16859590e+01,\n",
       "        -1.00000000e+00,  3.17490157e+01, -1.00000000e+00,\n",
       "         3.18119474e+01, -1.00000000e+00,  3.18747549e+01,\n",
       "        -1.00000000e+00,  3.19374388e+01, -1.00000000e+00,\n",
       "         3.20000000e+01, -1.00000000e+00,  3.20624391e+01,\n",
       "        -1.00000000e+00,  3.21247568e+01, -1.00000000e+00,\n",
       "         3.21869539e+01, -1.00000000e+00,  3.22490310e+01,\n",
       "        -1.00000000e+00,  3.23109888e+01, -1.00000000e+00,\n",
       "         3.23728281e+01, -1.00000000e+00,  3.24345495e+01,\n",
       "        -1.00000000e+00,  3.24961536e+01, -1.00000000e+00,\n",
       "         3.25576412e+01, -1.00000000e+00,  3.26190129e+01,\n",
       "        -1.00000000e+00,  3.26802693e+01, -1.00000000e+00,\n",
       "         3.27414111e+01, -1.00000000e+00,  3.28024389e+01,\n",
       "        -1.00000000e+00,  3.28633535e+01, -1.00000000e+00,\n",
       "         3.29241553e+01, -1.00000000e+00,  3.29848450e+01,\n",
       "        -1.00000000e+00,  3.30454233e+01, -1.00000000e+00,\n",
       "         3.31058907e+01, -1.00000000e+00,  3.31662479e+01],\n",
       "       [ 1.00000000e+00,  1.00000000e+00,  1.00000000e+00,\n",
       "         9.00000000e+00,  1.00000000e+00,  2.50000000e+01,\n",
       "         1.00000000e+00,  4.90000000e+01,  1.00000000e+00,\n",
       "         8.10000000e+01,  1.00000000e+00,  1.21000000e+02,\n",
       "         1.00000000e+00,  1.69000000e+02,  1.00000000e+00,\n",
       "         2.25000000e+02,  1.00000000e+00,  2.89000000e+02,\n",
       "         1.00000000e+00,  3.61000000e+02,  1.00000000e+00,\n",
       "         4.41000000e+02,  1.00000000e+00,  5.29000000e+02,\n",
       "         1.00000000e+00,  6.25000000e+02,  1.00000000e+00,\n",
       "         7.29000000e+02,  1.00000000e+00,  8.41000000e+02,\n",
       "         1.00000000e+00,  9.61000000e+02,  1.00000000e+00,\n",
       "         1.08900000e+03,  1.00000000e+00,  1.22500000e+03,\n",
       "         1.00000000e+00,  1.36900000e+03,  1.00000000e+00,\n",
       "         1.52100000e+03,  1.00000000e+00,  1.68100000e+03,\n",
       "         1.00000000e+00,  1.84900000e+03,  1.00000000e+00,\n",
       "         2.02500000e+03,  1.00000000e+00,  2.20900000e+03,\n",
       "         1.00000000e+00,  2.40100000e+03,  1.00000000e+00],\n",
       "       [ 3.16227766e+01, -1.00000000e+00,  3.16859590e+01,\n",
       "        -1.00000000e+00,  3.17490157e+01, -1.00000000e+00,\n",
       "         3.18119474e+01, -1.00000000e+00,  3.18747549e+01,\n",
       "        -1.00000000e+00,  3.19374388e+01, -1.00000000e+00,\n",
       "         3.20000000e+01, -1.00000000e+00,  3.20624391e+01,\n",
       "        -1.00000000e+00,  3.21247568e+01, -1.00000000e+00,\n",
       "         3.21869539e+01, -1.00000000e+00,  3.22490310e+01,\n",
       "        -1.00000000e+00,  3.23109888e+01, -1.00000000e+00,\n",
       "         3.23728281e+01, -1.00000000e+00,  3.24345495e+01,\n",
       "        -1.00000000e+00,  3.24961536e+01, -1.00000000e+00,\n",
       "         3.25576412e+01, -1.00000000e+00,  3.26190129e+01,\n",
       "        -1.00000000e+00,  3.26802693e+01, -1.00000000e+00,\n",
       "         3.27414111e+01, -1.00000000e+00,  3.28024389e+01,\n",
       "        -1.00000000e+00,  3.28633535e+01, -1.00000000e+00,\n",
       "         3.29241553e+01, -1.00000000e+00,  3.29848450e+01,\n",
       "        -1.00000000e+00,  3.30454233e+01, -1.00000000e+00,\n",
       "         3.31058907e+01, -1.00000000e+00,  3.31662479e+01],\n",
       "       [ 1.00000000e+00,  1.00000000e+01,  1.00000000e+00,\n",
       "         5.60000000e+01,  1.00000000e+00,  2.40000000e+01,\n",
       "         1.00000000e+00,  7.00000000e+01,  1.00000000e+00,\n",
       "         1.40000000e+02,  1.00000000e+00,  6.00000000e+01,\n",
       "         1.00000000e+00,  1.30000000e+02,  1.00000000e+00,\n",
       "         2.24000000e+02,  1.00000000e+00,  9.60000000e+01,\n",
       "         1.00000000e+00,  1.90000000e+02,  1.00000000e+00,\n",
       "         3.08000000e+02,  1.00000000e+00,  1.32000000e+02,\n",
       "         1.00000000e+00,  2.50000000e+02,  1.00000000e+00,\n",
       "         3.92000000e+02,  1.00000000e+00,  1.68000000e+02,\n",
       "         1.00000000e+00,  3.10000000e+02,  1.00000000e+00,\n",
       "         4.76000000e+02,  1.00000000e+00,  2.04000000e+02,\n",
       "         1.00000000e+00,  3.70000000e+02,  1.00000000e+00,\n",
       "         5.60000000e+02,  1.00000000e+00,  2.40000000e+02,\n",
       "         1.00000000e+00,  4.30000000e+02,  1.00000000e+00,\n",
       "         6.44000000e+02,  1.00000000e+00,  2.76000000e+02,\n",
       "         1.00000000e+00,  4.90000000e+02,  1.00000000e+00]])"
      ]
     },
     "execution_count": 96,
     "metadata": {},
     "output_type": "execute_result"
    }
   ],
   "source": [
    "my_slice1 = big_secret[1::2,1::2]\n",
    "my_slice2 = big_secret[0::2,0::2]\n",
    "my_slice1[:]=-1\n",
    "my_slice2[:]=1\n",
    "big_secret"
   ]
  },
  {
   "cell_type": "code",
   "execution_count": 102,
   "id": "e2d59e2b",
   "metadata": {},
   "outputs": [
    {
     "data": {
      "text/plain": [
       "1.0"
      ]
     },
     "execution_count": 102,
     "metadata": {},
     "output_type": "execute_result"
    }
   ],
   "source": [
    "sum(np.diagonal(big_secret[:,0:5]))\n",
    "#big_secret[:,0:5]"
   ]
  },
  {
   "cell_type": "code",
   "execution_count": 104,
   "id": "73c688be",
   "metadata": {},
   "outputs": [
    {
     "data": {
      "text/plain": [
       "1.0"
      ]
     },
     "execution_count": 104,
     "metadata": {},
     "output_type": "execute_result"
    }
   ],
   "source": [
    "np.prod(np.diagonal(big_secret[:,-5:]))"
   ]
  }
 ],
 "metadata": {
  "kernelspec": {
   "display_name": "Python 3",
   "language": "python",
   "name": "python3"
  },
  "language_info": {
   "codemirror_mode": {
    "name": "ipython",
    "version": 3
   },
   "file_extension": ".py",
   "mimetype": "text/x-python",
   "name": "python",
   "nbconvert_exporter": "python",
   "pygments_lexer": "ipython3",
   "version": "3.9.4"
  }
 },
 "nbformat": 4,
 "nbformat_minor": 5
}
