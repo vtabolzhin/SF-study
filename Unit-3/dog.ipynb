{
 "cells": [
  {
   "cell_type": "code",
   "execution_count": 1,
   "id": "139d4c29",
   "metadata": {},
   "outputs": [],
   "source": [
    "class Dog():\n",
    "    '''A simle attempt to model a dog.'''\n",
    "    \n",
    "    def __init__(self, name, age):\n",
    "        '''Initialize name and age attributes.'''\n",
    "        self.name = name\n",
    "        self.age = age\n",
    "        \n",
    "        \n",
    "    def sit(self):\n",
    "        '''Simulate a dog sitting in response to a command.'''\n",
    "        print(f'{self.name} is now sitting.')\n",
    "        \n",
    "        \n",
    "    def roll_over(self):\n",
    "        '''Simulate rolling over in response to a command.'''\n",
    "        print(f'{self.name} rolled over!')"
   ]
  },
  {
   "cell_type": "code",
   "execution_count": 3,
   "id": "7f606eb2",
   "metadata": {},
   "outputs": [],
   "source": [
    "my_dog = Dog('Willie', 6)"
   ]
  },
  {
   "cell_type": "code",
   "execution_count": 4,
   "id": "6037d7be",
   "metadata": {},
   "outputs": [
    {
     "name": "stdout",
     "output_type": "stream",
     "text": [
      "My dog's name is Willie.\n",
      "He's 6 years old.\n"
     ]
    }
   ],
   "source": [
    "print(f\"My dog's name is {my_dog.name}.\")\n",
    "print(f\"He's {my_dog.age} years old.\")"
   ]
  },
  {
   "cell_type": "code",
   "execution_count": 5,
   "id": "6428e020",
   "metadata": {},
   "outputs": [
    {
     "name": "stdout",
     "output_type": "stream",
     "text": [
      "Willie is now sitting.\n"
     ]
    }
   ],
   "source": [
    "my_dog.sit()"
   ]
  },
  {
   "cell_type": "code",
   "execution_count": 6,
   "id": "e3048d8e",
   "metadata": {},
   "outputs": [
    {
     "name": "stdout",
     "output_type": "stream",
     "text": [
      "Willie rolled over!\n"
     ]
    }
   ],
   "source": [
    "my_dog.roll_over()"
   ]
  },
  {
   "cell_type": "code",
   "execution_count": 14,
   "id": "67ec90ba",
   "metadata": {},
   "outputs": [],
   "source": [
    "class Restaurant():\n",
    "    '''A simle attempt to model a restaurant.'''\n",
    "    \n",
    "    def __init__(self, restaurant_name, cuisine_type):\n",
    "        '''Initialize name and cuisine_type attributes'''\n",
    "        self.name = restaurant_name\n",
    "        self.cuisine_type = cuisine_type\n",
    "        \n",
    "        \n",
    "    def open_restaurant(self):\n",
    "        '''Simulate opening.'''\n",
    "        print(f\"{self.name} is open now.\")\n",
    "        \n",
    "        \n",
    "    def describe_restaurant(self):\n",
    "        \"\"\"Describes restaurant and simulate it's opening.\"\"\"\n",
    "        print(f\"Restaurant's name is {self.name}\")\n",
    "        print(f\"Cuisines types are: {self.cuisine_type}.\")\n",
    "        self.open_restaurant()"
   ]
  },
  {
   "cell_type": "code",
   "execution_count": 15,
   "id": "bee3846f",
   "metadata": {},
   "outputs": [],
   "source": [
    "new_rest = Restaurant(\"Lada\",\"canteen\")"
   ]
  },
  {
   "cell_type": "code",
   "execution_count": 16,
   "id": "24d1d133",
   "metadata": {},
   "outputs": [
    {
     "name": "stdout",
     "output_type": "stream",
     "text": [
      "Restaurant's name is Lada\n",
      "Cuisines types are: canteen.\n",
      "Lada is open now.\n"
     ]
    }
   ],
   "source": [
    "new_rest.describe_restaurant()"
   ]
  },
  {
   "cell_type": "code",
   "execution_count": 80,
   "id": "ad74cdcc",
   "metadata": {},
   "outputs": [],
   "source": [
    "class User():\n",
    "    \n",
    "    def __init__(self, first_name, last_name, **kwargs):\n",
    "        self.first_name = first_name\n",
    "        self.last_name = last_name\n",
    "        self.kwargs = {}\n",
    "        for name, value in kwargs.items():\n",
    "            self.kwargs[name] = value\n",
    "            \n",
    "            \n",
    "    def describe_user(self):\n",
    "        print(self.first_name)\n",
    "        print(self.last_name)\n",
    "        print(self.kwargs)"
   ]
  },
  {
   "cell_type": "code",
   "execution_count": 83,
   "id": "f6a3a8a2",
   "metadata": {},
   "outputs": [],
   "source": [
    "user1 = User(\"Ivan\", \"Ivanov\", age=42, sex=\"male\")"
   ]
  },
  {
   "cell_type": "code",
   "execution_count": 84,
   "id": "6182160b",
   "metadata": {},
   "outputs": [
    {
     "name": "stdout",
     "output_type": "stream",
     "text": [
      "Ivan\n",
      "Ivanov\n",
      "{'age': 42, 'sex': 'male'}\n"
     ]
    }
   ],
   "source": [
    "user1.describe_user()"
   ]
  }
 ],
 "metadata": {
  "kernelspec": {
   "display_name": "Python 3",
   "language": "python",
   "name": "python3"
  },
  "language_info": {
   "codemirror_mode": {
    "name": "ipython",
    "version": 3
   },
   "file_extension": ".py",
   "mimetype": "text/x-python",
   "name": "python",
   "nbconvert_exporter": "python",
   "pygments_lexer": "ipython3",
   "version": "3.8.6"
  }
 },
 "nbformat": 4,
 "nbformat_minor": 5
}
