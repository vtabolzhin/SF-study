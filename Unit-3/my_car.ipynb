{
 "cells": [
  {
   "cell_type": "code",
   "execution_count": 1,
   "id": "9ef16db2",
   "metadata": {},
   "outputs": [],
   "source": [
    "from car import Car"
   ]
  },
  {
   "cell_type": "code",
   "execution_count": 2,
   "id": "aeeb8fca",
   "metadata": {},
   "outputs": [],
   "source": [
    "my_car = Car(\"TownAce\", \"Toyota\", 2000)"
   ]
  },
  {
   "cell_type": "code",
   "execution_count": 4,
   "id": "e02c62c2",
   "metadata": {},
   "outputs": [
    {
     "data": {
      "text/plain": [
       "'2000 Toyota Townace'"
      ]
     },
     "execution_count": 4,
     "metadata": {},
     "output_type": "execute_result"
    }
   ],
   "source": [
    "my_car.get_descriptive_name()"
   ]
  }
 ],
 "metadata": {
  "kernelspec": {
   "display_name": "Python 3",
   "language": "python",
   "name": "python3"
  },
  "language_info": {
   "codemirror_mode": {
    "name": "ipython",
    "version": 3
   },
   "file_extension": ".py",
   "mimetype": "text/x-python",
   "name": "python",
   "nbconvert_exporter": "python",
   "pygments_lexer": "ipython3",
   "version": "3.8.6"
  }
 },
 "nbformat": 4,
 "nbformat_minor": 5
}
