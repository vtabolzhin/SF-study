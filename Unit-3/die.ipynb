{
 "cells": [
  {
   "cell_type": "code",
   "execution_count": 8,
   "id": "0a817098",
   "metadata": {},
   "outputs": [],
   "source": [
    "from random import randint"
   ]
  },
  {
   "cell_type": "code",
   "execution_count": 12,
   "id": "90ed8006",
   "metadata": {},
   "outputs": [],
   "source": [
    "class Die():\n",
    "    \"\"\"Класс описывающий игральный кубик, по умолчанию 6-гранный.\"\"\"\n",
    "    \n",
    "    def __init__(self, sides=6):\n",
    "        \"Initialize number of sides attribute.\"\n",
    "        \n",
    "        self.sides = sides\n",
    "        \n",
    "    def roll_die(self):\n",
    "        \"\"\"Simulate rolling a die.\"\"\"\n",
    "        side_number = randint(1,self.sides)\n",
    "        print(f\"You got the number {side_number}\")"
   ]
  },
  {
   "cell_type": "code",
   "execution_count": 14,
   "id": "f3c641eb",
   "metadata": {},
   "outputs": [],
   "source": [
    "die_6_sides = Die()"
   ]
  },
  {
   "cell_type": "code",
   "execution_count": 15,
   "id": "3efc01f3",
   "metadata": {},
   "outputs": [
    {
     "name": "stdout",
     "output_type": "stream",
     "text": [
      "You got the number 1\n",
      "You got the number 1\n",
      "You got the number 1\n",
      "You got the number 4\n",
      "You got the number 5\n",
      "You got the number 3\n",
      "You got the number 1\n",
      "You got the number 1\n",
      "You got the number 2\n",
      "You got the number 2\n"
     ]
    }
   ],
   "source": [
    "for i in range(10):\n",
    "    die_6_sides.roll_die()"
   ]
  },
  {
   "cell_type": "code",
   "execution_count": 16,
   "id": "32cadb6d",
   "metadata": {},
   "outputs": [
    {
     "name": "stdout",
     "output_type": "stream",
     "text": [
      "You got the number 2\n",
      "You got the number 9\n",
      "You got the number 4\n",
      "You got the number 4\n",
      "You got the number 9\n",
      "You got the number 8\n",
      "You got the number 3\n",
      "You got the number 2\n",
      "You got the number 10\n",
      "You got the number 7\n"
     ]
    }
   ],
   "source": [
    "die_10_sides = Die(sides=10)\n",
    "for i in range(10):\n",
    "    die_10_sides.roll_die()"
   ]
  },
  {
   "cell_type": "code",
   "execution_count": 18,
   "id": "56a2ff64",
   "metadata": {},
   "outputs": [
    {
     "name": "stdout",
     "output_type": "stream",
     "text": [
      "You got the number 16\n",
      "You got the number 6\n",
      "You got the number 17\n",
      "You got the number 17\n",
      "You got the number 1\n",
      "You got the number 12\n",
      "You got the number 6\n",
      "You got the number 2\n",
      "You got the number 4\n",
      "You got the number 5\n"
     ]
    }
   ],
   "source": [
    "die_20_sides = Die(20)\n",
    "for i in range(10):\n",
    "    die_20_sides.roll_die()"
   ]
  },
  {
   "cell_type": "code",
   "execution_count": 19,
   "id": "d172cab7",
   "metadata": {},
   "outputs": [],
   "source": [
    "data = (0,1,2,3,4,5,6,7,8,9,'a','b','c','d','e')"
   ]
  },
  {
   "cell_type": "code",
   "execution_count": 20,
   "id": "33dfb4c9",
   "metadata": {},
   "outputs": [
    {
     "data": {
      "text/plain": [
       "15"
      ]
     },
     "execution_count": 20,
     "metadata": {},
     "output_type": "execute_result"
    }
   ],
   "source": [
    "len(data)"
   ]
  },
  {
   "cell_type": "code",
   "execution_count": 29,
   "id": "04a9f7cc",
   "metadata": {},
   "outputs": [
    {
     "data": {
      "text/plain": [
       "9"
      ]
     },
     "execution_count": 29,
     "metadata": {},
     "output_type": "execute_result"
    }
   ],
   "source": [
    "data[randint(0,len(data)-1)]"
   ]
  },
  {
   "cell_type": "code",
   "execution_count": 49,
   "id": "e871a8cd",
   "metadata": {},
   "outputs": [],
   "source": [
    "def random_ticket():\n",
    "    random_ticket = []\n",
    "    for i in range(4):\n",
    "        random_ticket.append(data[randint(0,len(data)-1)])\n",
    "    return random_ticket"
   ]
  },
  {
   "cell_type": "code",
   "execution_count": 48,
   "id": "cd97d13a",
   "metadata": {},
   "outputs": [],
   "source": [
    "my_ticket = [2, 7, 'd', 'e']"
   ]
  },
  {
   "cell_type": "code",
   "execution_count": 65,
   "id": "3bede8f1",
   "metadata": {},
   "outputs": [],
   "source": [
    "def count_lottery():\n",
    "    \"\"\"Функция для имитации лотереи. Возвращает количество попыток угадать мой билет.\"\"\"\n",
    "    count = 0\n",
    "    ticket = random_ticket()\n",
    "    while ticket != my_ticket:\n",
    "        count += 1\n",
    "        ticket = random_ticket()\n",
    "    return count"
   ]
  },
  {
   "cell_type": "code",
   "execution_count": 91,
   "id": "2d370ce0",
   "metadata": {},
   "outputs": [],
   "source": [
    "counts = []\n",
    "for i in range(50):\n",
    "    counts.append(count_lottery())"
   ]
  },
  {
   "cell_type": "code",
   "execution_count": 69,
   "id": "06dafd5f",
   "metadata": {},
   "outputs": [],
   "source": [
    "# Преамбула\n",
    "%matplotlib inline\n",
    "import matplotlib.pyplot as plt"
   ]
  },
  {
   "cell_type": "code",
   "execution_count": 99,
   "id": "06c0efd8",
   "metadata": {},
   "outputs": [
    {
     "data": {
      "image/png": "[encoded data removed]",
      "text/plain": [
       "<Figure size 432x288 with 1 Axes>"
      ]
     },
     "metadata": {
      "needs_background": "light"
     },
     "output_type": "display_data"
    }
   ],
   "source": [
    "plt.plot(counts)\n",
    "plt.show()"
   ]
  },
  {
   "cell_type": "code",
   "execution_count": 93,
   "id": "5ec2f3cc",
   "metadata": {},
   "outputs": [
    {
     "data": {
      "image/png": "[encoded data removed]",
      "text/plain": [
       "<Figure size 432x288 with 1 Axes>"
      ]
     },
     "metadata": {
      "needs_background": "light"
     },
     "output_type": "display_data"
    }
   ],
   "source": [
    "plt.boxplot(counts)\n",
    "plt.show()"
   ]
  },
  {
   "cell_type": "code",
   "execution_count": 85,
   "id": "4033284a",
   "metadata": {},
   "outputs": [
    {
     "data": {
      "image/png": "[encoded data removed]",
      "text/plain": [
       "<Figure size 432x288 with 1 Axes>"
      ]
     },
     "metadata": {
      "needs_background": "light"
     },
     "output_type": "display_data"
    }
   ],
   "source": [
    "plt.plot((0,0,10,10,0),(0,10,10,0,0))\n",
    "plt.plot((2,5,8,2),(2,8,2,2))\n",
    "plt.show()"
   ]
  },
  {
   "cell_type": "code",
   "execution_count": 86,
   "id": "3366b81b",
   "metadata": {},
   "outputs": [
    {
     "data": {
      "image/png": "[encoded data removed]",
      "text/plain": [
       "<Figure size 432x288 with 1 Axes>"
      ]
     },
     "metadata": {
      "needs_background": "light"
     },
     "output_type": "display_data"
    }
   ],
   "source": [
    "plt.scatter((0,0,10,10,0),(0,10,10,0,0))\n",
    "plt.scatter((2,5,8,2),(2,8,2,2))\n",
    "plt.show()"
   ]
  },
  {
   "cell_type": "code",
   "execution_count": 87,
   "id": "d3824150",
   "metadata": {},
   "outputs": [
    {
     "data": {
      "image/png": "[encoded data removed]",
      "text/plain": [
       "<Figure size 432x288 with 1 Axes>"
      ]
     },
     "metadata": {
      "needs_background": "light"
     },
     "output_type": "display_data"
    }
   ],
   "source": [
    "plt.bar([6,7,8],[10,12,20])\n",
    "plt.show()"
   ]
  },
  {
   "cell_type": "code",
   "execution_count": 88,
   "id": "fd0a5cf2",
   "metadata": {},
   "outputs": [
    {
     "data": {
      "image/png": "[encoded data removed]",
      "text/plain": [
       "<Figure size 432x288 with 1 Axes>"
      ]
     },
     "metadata": {
      "needs_background": "light"
     },
     "output_type": "display_data"
    }
   ],
   "source": [
    "plt.barh([6,7,8],[10,12,20])\n",
    "plt.show()"
   ]
  },
  {
   "cell_type": "code",
   "execution_count": 89,
   "id": "57d93b7e",
   "metadata": {},
   "outputs": [
    {
     "data": {
      "image/png": "[encoded data removed]",
      "text/plain": [
       "<Figure size 432x288 with 1 Axes>"
      ]
     },
     "metadata": {
      "needs_background": "light"
     },
     "output_type": "display_data"
    }
   ],
   "source": [
    "plt.bar([6,7,8],[15,16,21])\n",
    "plt.bar([6,7,8],[10,12,21])\n",
    "plt.show()"
   ]
  }
 ],
 "metadata": {
  "kernelspec": {
   "display_name": "Python 3",
   "language": "python",
   "name": "python3"
  },
  "language_info": {
   "codemirror_mode": {
    "name": "ipython",
    "version": 3
   },
   "file_extension": ".py",
   "mimetype": "text/x-python",
   "name": "python",
   "nbconvert_exporter": "python",
   "pygments_lexer": "ipython3",
   "version": "3.8.6"
  }
 },
 "nbformat": 4,
 "nbformat_minor": 5
}
