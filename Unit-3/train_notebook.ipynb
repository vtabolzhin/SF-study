{
 "cells": [
  {
   "cell_type": "code",
   "execution_count": 1,
   "id": "52bf6cdf",
   "metadata": {},
   "outputs": [],
   "source": [
    "import pandas as pd\n",
    "import numpy as np"
   ]
  },
  {
   "cell_type": "code",
   "execution_count": 2,
   "id": "3ac7886f",
   "metadata": {},
   "outputs": [
    {
     "data": {
      "text/html": [
       "<div>\n",
       "<style scoped>\n",
       "    .dataframe tbody tr th:only-of-type {\n",
       "        vertical-align: middle;\n",
       "    }\n",
       "\n",
       "    .dataframe tbody tr th {\n",
       "        vertical-align: top;\n",
       "    }\n",
       "\n",
       "    .dataframe thead th {\n",
       "        text-align: right;\n",
       "    }\n",
       "</style>\n",
       "<table border=\"1\" class=\"dataframe\">\n",
       "  <thead>\n",
       "    <tr style=\"text-align: right;\">\n",
       "      <th></th>\n",
       "      <th>ticket_id</th>\n",
       "      <th>agency_name</th>\n",
       "      <th>inspector_name</th>\n",
       "      <th>violator_name</th>\n",
       "      <th>violation_street_number</th>\n",
       "      <th>violation_street_name</th>\n",
       "      <th>violation_zip_code</th>\n",
       "      <th>mailing_address_str_number</th>\n",
       "      <th>mailing_address_str_name</th>\n",
       "      <th>city</th>\n",
       "      <th>...</th>\n",
       "      <th>clean_up_cost</th>\n",
       "      <th>judgment_amount</th>\n",
       "      <th>payment_amount</th>\n",
       "      <th>balance_due</th>\n",
       "      <th>payment_date</th>\n",
       "      <th>payment_status</th>\n",
       "      <th>collection_status</th>\n",
       "      <th>grafitti_status</th>\n",
       "      <th>compliance_detail</th>\n",
       "      <th>compliance</th>\n",
       "    </tr>\n",
       "  </thead>\n",
       "  <tbody>\n",
       "    <tr>\n",
       "      <th>250301</th>\n",
       "      <td>325555</td>\n",
       "      <td>Buildings, Safety Engineering &amp; Env Department</td>\n",
       "      <td>Bush, Wesley</td>\n",
       "      <td>WESTGATE TERRACE APARTMENTS LLC</td>\n",
       "      <td>10701.0</td>\n",
       "      <td>SANTA MARIA</td>\n",
       "      <td>NaN</td>\n",
       "      <td>1715.0</td>\n",
       "      <td>MEYERS</td>\n",
       "      <td>DETROIT</td>\n",
       "      <td>...</td>\n",
       "      <td>0.0</td>\n",
       "      <td>0.0</td>\n",
       "      <td>0.0</td>\n",
       "      <td>0.0</td>\n",
       "      <td>NaN</td>\n",
       "      <td>NO PAYMENT APPLIED</td>\n",
       "      <td>NaN</td>\n",
       "      <td>NaN</td>\n",
       "      <td>not responsible by disposition</td>\n",
       "      <td>NaN</td>\n",
       "    </tr>\n",
       "    <tr>\n",
       "      <th>250302</th>\n",
       "      <td>325557</td>\n",
       "      <td>Buildings, Safety Engineering &amp; Env Department</td>\n",
       "      <td>Bush, Wesley</td>\n",
       "      <td>WESTGATE TERRACE APARTMENTS LLC</td>\n",
       "      <td>10701.0</td>\n",
       "      <td>MEYERS RD</td>\n",
       "      <td>NaN</td>\n",
       "      <td>1715.0</td>\n",
       "      <td>MEYERS</td>\n",
       "      <td>DETROIT</td>\n",
       "      <td>...</td>\n",
       "      <td>0.0</td>\n",
       "      <td>0.0</td>\n",
       "      <td>0.0</td>\n",
       "      <td>0.0</td>\n",
       "      <td>NaN</td>\n",
       "      <td>NO PAYMENT APPLIED</td>\n",
       "      <td>NaN</td>\n",
       "      <td>NaN</td>\n",
       "      <td>not responsible by disposition</td>\n",
       "      <td>NaN</td>\n",
       "    </tr>\n",
       "    <tr>\n",
       "      <th>250303</th>\n",
       "      <td>325562</td>\n",
       "      <td>Buildings, Safety Engineering &amp; Env Department</td>\n",
       "      <td>Bush, Wesley</td>\n",
       "      <td>WESTGATE TERRACE APARTMENTS LLC</td>\n",
       "      <td>10701.0</td>\n",
       "      <td>MEYERS RD</td>\n",
       "      <td>NaN</td>\n",
       "      <td>1715.0</td>\n",
       "      <td>MEYERS</td>\n",
       "      <td>DETROIT</td>\n",
       "      <td>...</td>\n",
       "      <td>0.0</td>\n",
       "      <td>0.0</td>\n",
       "      <td>0.0</td>\n",
       "      <td>0.0</td>\n",
       "      <td>NaN</td>\n",
       "      <td>NO PAYMENT APPLIED</td>\n",
       "      <td>NaN</td>\n",
       "      <td>NaN</td>\n",
       "      <td>not responsible by disposition</td>\n",
       "      <td>NaN</td>\n",
       "    </tr>\n",
       "    <tr>\n",
       "      <th>250304</th>\n",
       "      <td>325559</td>\n",
       "      <td>Buildings, Safety Engineering &amp; Env Department</td>\n",
       "      <td>Bush, Wesley</td>\n",
       "      <td>WESTGATE TERRACE APARTMENTS LLC</td>\n",
       "      <td>10701.0</td>\n",
       "      <td>MEYERS RD</td>\n",
       "      <td>NaN</td>\n",
       "      <td>1715.0</td>\n",
       "      <td>MEYERS</td>\n",
       "      <td>DETROIT</td>\n",
       "      <td>...</td>\n",
       "      <td>0.0</td>\n",
       "      <td>0.0</td>\n",
       "      <td>0.0</td>\n",
       "      <td>0.0</td>\n",
       "      <td>NaN</td>\n",
       "      <td>NO PAYMENT APPLIED</td>\n",
       "      <td>NaN</td>\n",
       "      <td>NaN</td>\n",
       "      <td>not responsible by disposition</td>\n",
       "      <td>NaN</td>\n",
       "    </tr>\n",
       "    <tr>\n",
       "      <th>250305</th>\n",
       "      <td>325561</td>\n",
       "      <td>Buildings, Safety Engineering &amp; Env Department</td>\n",
       "      <td>Bush, Wesley</td>\n",
       "      <td>WESTGATE TERRACE APARTMENTS LLC</td>\n",
       "      <td>10701.0</td>\n",
       "      <td>MEYERS RD</td>\n",
       "      <td>NaN</td>\n",
       "      <td>1715.0</td>\n",
       "      <td>MEYERS</td>\n",
       "      <td>DETROIT</td>\n",
       "      <td>...</td>\n",
       "      <td>0.0</td>\n",
       "      <td>0.0</td>\n",
       "      <td>0.0</td>\n",
       "      <td>0.0</td>\n",
       "      <td>NaN</td>\n",
       "      <td>NO PAYMENT APPLIED</td>\n",
       "      <td>NaN</td>\n",
       "      <td>NaN</td>\n",
       "      <td>not responsible by disposition</td>\n",
       "      <td>NaN</td>\n",
       "    </tr>\n",
       "  </tbody>\n",
       "</table>\n",
       "<p>5 rows × 34 columns</p>\n",
       "</div>"
      ],
      "text/plain": [
       "        ticket_id                                     agency_name  \\\n",
       "250301     325555  Buildings, Safety Engineering & Env Department   \n",
       "250302     325557  Buildings, Safety Engineering & Env Department   \n",
       "250303     325562  Buildings, Safety Engineering & Env Department   \n",
       "250304     325559  Buildings, Safety Engineering & Env Department   \n",
       "250305     325561  Buildings, Safety Engineering & Env Department   \n",
       "\n",
       "       inspector_name                    violator_name  \\\n",
       "250301   Bush, Wesley  WESTGATE TERRACE APARTMENTS LLC   \n",
       "250302   Bush, Wesley  WESTGATE TERRACE APARTMENTS LLC   \n",
       "250303   Bush, Wesley  WESTGATE TERRACE APARTMENTS LLC   \n",
       "250304   Bush, Wesley  WESTGATE TERRACE APARTMENTS LLC   \n",
       "250305   Bush, Wesley  WESTGATE TERRACE APARTMENTS LLC   \n",
       "\n",
       "        violation_street_number violation_street_name  violation_zip_code  \\\n",
       "250301                  10701.0           SANTA MARIA                 NaN   \n",
       "250302                  10701.0             MEYERS RD                 NaN   \n",
       "250303                  10701.0             MEYERS RD                 NaN   \n",
       "250304                  10701.0             MEYERS RD                 NaN   \n",
       "250305                  10701.0             MEYERS RD                 NaN   \n",
       "\n",
       "        mailing_address_str_number mailing_address_str_name     city  ...  \\\n",
       "250301                      1715.0                   MEYERS  DETROIT  ...   \n",
       "250302                      1715.0                   MEYERS  DETROIT  ...   \n",
       "250303                      1715.0                   MEYERS  DETROIT  ...   \n",
       "250304                      1715.0                   MEYERS  DETROIT  ...   \n",
       "250305                      1715.0                   MEYERS  DETROIT  ...   \n",
       "\n",
       "       clean_up_cost judgment_amount payment_amount balance_due payment_date  \\\n",
       "250301           0.0             0.0            0.0         0.0          NaN   \n",
       "250302           0.0             0.0            0.0         0.0          NaN   \n",
       "250303           0.0             0.0            0.0         0.0          NaN   \n",
       "250304           0.0             0.0            0.0         0.0          NaN   \n",
       "250305           0.0             0.0            0.0         0.0          NaN   \n",
       "\n",
       "            payment_status collection_status grafitti_status  \\\n",
       "250301  NO PAYMENT APPLIED               NaN             NaN   \n",
       "250302  NO PAYMENT APPLIED               NaN             NaN   \n",
       "250303  NO PAYMENT APPLIED               NaN             NaN   \n",
       "250304  NO PAYMENT APPLIED               NaN             NaN   \n",
       "250305  NO PAYMENT APPLIED               NaN             NaN   \n",
       "\n",
       "                     compliance_detail  compliance  \n",
       "250301  not responsible by disposition         NaN  \n",
       "250302  not responsible by disposition         NaN  \n",
       "250303  not responsible by disposition         NaN  \n",
       "250304  not responsible by disposition         NaN  \n",
       "250305  not responsible by disposition         NaN  \n",
       "\n",
       "[5 rows x 34 columns]"
      ]
     },
     "execution_count": 2,
     "metadata": {},
     "output_type": "execute_result"
    }
   ],
   "source": [
    "vis_data = pd.read_csv(\"train.csv\", encoding = 'ISO-8859-1', low_memory = False)\n",
    "vis_data.tail()"
   ]
  },
  {
   "cell_type": "code",
   "execution_count": 3,
   "id": "028cc047",
   "metadata": {},
   "outputs": [
    {
     "name": "stdout",
     "output_type": "stream",
     "text": [
      "<class 'pandas.core.frame.DataFrame'>\n",
      "RangeIndex: 250306 entries, 0 to 250305\n",
      "Data columns (total 34 columns):\n",
      " #   Column                      Non-Null Count   Dtype  \n",
      "---  ------                      --------------   -----  \n",
      " 0   ticket_id                   250306 non-null  int64  \n",
      " 1   agency_name                 250306 non-null  object \n",
      " 2   inspector_name              250306 non-null  object \n",
      " 3   violator_name               250272 non-null  object \n",
      " 4   violation_street_number     250306 non-null  float64\n",
      " 5   violation_street_name       250306 non-null  object \n",
      " 6   violation_zip_code          0 non-null       float64\n",
      " 7   mailing_address_str_number  246704 non-null  float64\n",
      " 8   mailing_address_str_name    250302 non-null  object \n",
      " 9   city                        250306 non-null  object \n",
      " 10  state                       250213 non-null  object \n",
      " 11  zip_code                    250305 non-null  object \n",
      " 12  non_us_str_code             3 non-null       object \n",
      " 13  country                     250306 non-null  object \n",
      " 14  ticket_issued_date          250306 non-null  object \n",
      " 15  hearing_date                237815 non-null  object \n",
      " 16  violation_code              250306 non-null  object \n",
      " 17  violation_description       250306 non-null  object \n",
      " 18  disposition                 250306 non-null  object \n",
      " 19  fine_amount                 250305 non-null  float64\n",
      " 20  admin_fee                   250306 non-null  float64\n",
      " 21  state_fee                   250306 non-null  float64\n",
      " 22  late_fee                    250306 non-null  float64\n",
      " 23  discount_amount             250306 non-null  float64\n",
      " 24  clean_up_cost               250306 non-null  float64\n",
      " 25  judgment_amount             250306 non-null  float64\n",
      " 26  payment_amount              250306 non-null  float64\n",
      " 27  balance_due                 250306 non-null  float64\n",
      " 28  payment_date                41113 non-null   object \n",
      " 29  payment_status              250306 non-null  object \n",
      " 30  collection_status           36897 non-null   object \n",
      " 31  grafitti_status             1 non-null       object \n",
      " 32  compliance_detail           250306 non-null  object \n",
      " 33  compliance                  159880 non-null  float64\n",
      "dtypes: float64(13), int64(1), object(20)\n",
      "memory usage: 64.9+ MB\n"
     ]
    }
   ],
   "source": [
    "vis_data.info()"
   ]
  },
  {
   "cell_type": "code",
   "execution_count": 10,
   "id": "1186b3d7",
   "metadata": {},
   "outputs": [
    {
     "data": {
      "text/plain": [
       "'MI'"
      ]
     },
     "execution_count": 10,
     "metadata": {},
     "output_type": "execute_result"
    }
   ],
   "source": [
    "vis_data['state'].value_counts().idxmax()"
   ]
  },
  {
   "cell_type": "code",
   "execution_count": 11,
   "id": "dff46b11",
   "metadata": {},
   "outputs": [
    {
     "data": {
      "text/plain": [
       "False    250213\n",
       "True         93\n",
       "Name: state, dtype: int64"
      ]
     },
     "execution_count": 11,
     "metadata": {},
     "output_type": "execute_result"
    }
   ],
   "source": [
    "vis_data['state'].isna().value_counts()"
   ]
  },
  {
   "cell_type": "code",
   "execution_count": 12,
   "id": "7085172d",
   "metadata": {},
   "outputs": [],
   "source": [
    "result = vis_data['state'].fillna(vis_data['state'].value_counts().idxmax())"
   ]
  },
  {
   "cell_type": "code",
   "execution_count": 13,
   "id": "f7de9841",
   "metadata": {},
   "outputs": [
    {
     "data": {
      "text/plain": [
       "False    250306\n",
       "Name: state, dtype: int64"
      ]
     },
     "execution_count": 13,
     "metadata": {},
     "output_type": "execute_result"
    }
   ],
   "source": [
    "result.isna().value_counts()"
   ]
  },
  {
   "cell_type": "code",
   "execution_count": 14,
   "id": "91aa060d",
   "metadata": {},
   "outputs": [],
   "source": [
    "from collections import Counter"
   ]
  },
  {
   "cell_type": "code",
   "execution_count": 17,
   "id": "15ebd387",
   "metadata": {},
   "outputs": [
    {
     "data": {
      "text/plain": [
       "'MI'"
      ]
     },
     "execution_count": 17,
     "metadata": {},
     "output_type": "execute_result"
    }
   ],
   "source": [
    "c = Counter(vis_data['state'])\n",
    "c.most_common()[0][0]"
   ]
  },
  {
   "cell_type": "code",
   "execution_count": 22,
   "id": "b8981275",
   "metadata": {},
   "outputs": [
    {
     "data": {
      "text/plain": [
       "-13.147334652567258"
      ]
     },
     "execution_count": 22,
     "metadata": {},
     "output_type": "execute_result"
    }
   ],
   "source": [
    "from sklearn.preprocessing import StandardScaler\n",
    "\n",
    "scaler = StandardScaler()\n",
    "scaler.fit_transform(vis_data[['balance_due']]).min()"
   ]
  },
  {
   "cell_type": "code",
   "execution_count": 6,
   "id": "f2f6e31e",
   "metadata": {},
   "outputs": [
    {
     "data": {
      "text/plain": [
       "(250306, 10)"
      ]
     },
     "execution_count": 6,
     "metadata": {},
     "output_type": "execute_result"
    }
   ],
   "source": [
    "from sklearn.preprocessing import PolynomialFeatures\n",
    "\n",
    "pf = PolynomialFeatures(3)\n",
    "poly_features = pf.fit_transform(vis_data[['balance_due','payment_amount']])\n",
    "poly_features.shape"
   ]
  },
  {
   "cell_type": "code",
   "execution_count": 20,
   "id": "aadfd2dd",
   "metadata": {},
   "outputs": [
    {
     "data": {
      "text/plain": [
       "6"
      ]
     },
     "execution_count": 20,
     "metadata": {},
     "output_type": "execute_result"
    }
   ],
   "source": [
    "mean_features = [x for x in pd.DataFrame(poly_features).mean()]\n",
    "np.argmax(mean_features)"
   ]
  },
  {
   "cell_type": "markdown",
   "id": "5a5ff1e8",
   "metadata": {},
   "source": [
    "Загрузите данные train.csv, оставьте в нем только 2 признака: balance_due и payment_amount (признаки должны следовать именно в указанном порядке). Создайте из полученных признаков полиномиальные признаки степени 3. Посчитайте среднее значение для каждого получившегося признака. В качестве ответа укажите индекс признака, который содержит максимальное среднее значение."
   ]
  },
  {
   "cell_type": "code",
   "execution_count": 16,
   "id": "b6802621",
   "metadata": {},
   "outputs": [
    {
     "data": {
      "text/html": [
       "<div>\n",
       "<style scoped>\n",
       "    .dataframe tbody tr th:only-of-type {\n",
       "        vertical-align: middle;\n",
       "    }\n",
       "\n",
       "    .dataframe tbody tr th {\n",
       "        vertical-align: top;\n",
       "    }\n",
       "\n",
       "    .dataframe thead th {\n",
       "        text-align: right;\n",
       "    }\n",
       "</style>\n",
       "<table border=\"1\" class=\"dataframe\">\n",
       "  <thead>\n",
       "    <tr style=\"text-align: right;\">\n",
       "      <th></th>\n",
       "      <th>0</th>\n",
       "      <th>1</th>\n",
       "      <th>2</th>\n",
       "      <th>3</th>\n",
       "      <th>4</th>\n",
       "      <th>5</th>\n",
       "      <th>6</th>\n",
       "      <th>7</th>\n",
       "      <th>8</th>\n",
       "      <th>9</th>\n",
       "    </tr>\n",
       "  </thead>\n",
       "  <tbody>\n",
       "    <tr>\n",
       "      <th>0</th>\n",
       "      <td>1.0</td>\n",
       "      <td>305.0</td>\n",
       "      <td>0.0</td>\n",
       "      <td>93025.0</td>\n",
       "      <td>0.0</td>\n",
       "      <td>0.0</td>\n",
       "      <td>28372625.0</td>\n",
       "      <td>0.0</td>\n",
       "      <td>0.0</td>\n",
       "      <td>0.0</td>\n",
       "    </tr>\n",
       "    <tr>\n",
       "      <th>1</th>\n",
       "      <td>1.0</td>\n",
       "      <td>75.0</td>\n",
       "      <td>780.0</td>\n",
       "      <td>5625.0</td>\n",
       "      <td>58500.0</td>\n",
       "      <td>608400.0</td>\n",
       "      <td>421875.0</td>\n",
       "      <td>4387500.0</td>\n",
       "      <td>45630000.0</td>\n",
       "      <td>474552000.0</td>\n",
       "    </tr>\n",
       "    <tr>\n",
       "      <th>2</th>\n",
       "      <td>1.0</td>\n",
       "      <td>0.0</td>\n",
       "      <td>0.0</td>\n",
       "      <td>0.0</td>\n",
       "      <td>0.0</td>\n",
       "      <td>0.0</td>\n",
       "      <td>0.0</td>\n",
       "      <td>0.0</td>\n",
       "      <td>0.0</td>\n",
       "      <td>0.0</td>\n",
       "    </tr>\n",
       "    <tr>\n",
       "      <th>3</th>\n",
       "      <td>1.0</td>\n",
       "      <td>0.0</td>\n",
       "      <td>0.0</td>\n",
       "      <td>0.0</td>\n",
       "      <td>0.0</td>\n",
       "      <td>0.0</td>\n",
       "      <td>0.0</td>\n",
       "      <td>0.0</td>\n",
       "      <td>0.0</td>\n",
       "      <td>0.0</td>\n",
       "    </tr>\n",
       "    <tr>\n",
       "      <th>4</th>\n",
       "      <td>1.0</td>\n",
       "      <td>0.0</td>\n",
       "      <td>0.0</td>\n",
       "      <td>0.0</td>\n",
       "      <td>0.0</td>\n",
       "      <td>0.0</td>\n",
       "      <td>0.0</td>\n",
       "      <td>0.0</td>\n",
       "      <td>0.0</td>\n",
       "      <td>0.0</td>\n",
       "    </tr>\n",
       "  </tbody>\n",
       "</table>\n",
       "</div>"
      ],
      "text/plain": [
       "     0      1      2        3        4         5           6          7  \\\n",
       "0  1.0  305.0    0.0  93025.0      0.0       0.0  28372625.0        0.0   \n",
       "1  1.0   75.0  780.0   5625.0  58500.0  608400.0    421875.0  4387500.0   \n",
       "2  1.0    0.0    0.0      0.0      0.0       0.0         0.0        0.0   \n",
       "3  1.0    0.0    0.0      0.0      0.0       0.0         0.0        0.0   \n",
       "4  1.0    0.0    0.0      0.0      0.0       0.0         0.0        0.0   \n",
       "\n",
       "            8            9  \n",
       "0         0.0          0.0  \n",
       "1  45630000.0  474552000.0  \n",
       "2         0.0          0.0  \n",
       "3         0.0          0.0  \n",
       "4         0.0          0.0  "
      ]
     },
     "execution_count": 16,
     "metadata": {},
     "output_type": "execute_result"
    }
   ],
   "source": [
    "pd.DataFrame(poly_features)[.head()]"
   ]
  },
  {
   "cell_type": "markdown",
   "id": "f14c5831",
   "metadata": {},
   "source": [
    "Загрузите данные train.csv, найдите признак, обозначающий дату, когда был выписан штраф. Найдите, сколько раз штраф был выписан на выходных и запишите это число в качестве ответа.\n",
    "Выходными считаются дни под номерами 5 и 6."
   ]
  },
  {
   "cell_type": "code",
   "execution_count": 26,
   "id": "9346048f",
   "metadata": {},
   "outputs": [
    {
     "data": {
      "text/plain": [
       "1620"
      ]
     },
     "execution_count": 26,
     "metadata": {},
     "output_type": "execute_result"
    }
   ],
   "source": [
    "dt_issued_date = pd.to_datetime(vis_data.ticket_issued_date)\n",
    "len(dt_issued_date[dt_issued_date.dt.weekday>4])"
   ]
  }
 ],
 "metadata": {
  "kernelspec": {
   "display_name": "Python 3",
   "language": "python",
   "name": "python3"
  },
  "language_info": {
   "codemirror_mode": {
    "name": "ipython",
    "version": 3
   },
   "file_extension": ".py",
   "mimetype": "text/x-python",
   "name": "python",
   "nbconvert_exporter": "python",
   "pygments_lexer": "ipython3",
   "version": "3.8.6"
  }
 },
 "nbformat": 4,
 "nbformat_minor": 5
}
