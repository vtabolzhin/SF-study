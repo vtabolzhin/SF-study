{
 "cells": [
  {
   "cell_type": "markdown",
   "metadata": {},
   "source": [
    "![](https://www.pata.org/wp-content/uploads/2014/09/TripAdvisor_Logo-300x119.png)\n",
    "# Predict TripAdvisor Rating\n",
    "## В этом соревновании нам предстоит предсказать рейтинг ресторана в TripAdvisor\n",
    "**По ходу задачи:**\n",
    "* Прокачаем работу с pandas\n",
    "* Научимся работать с Kaggle Notebooks\n",
    "* Поймем как делать предобработку различных данных\n",
    "* Научимся работать с пропущенными данными (Nan)\n",
    "* Познакомимся с различными видами кодирования признаков\n",
    "* Немного попробуем [Feature Engineering](https://ru.wikipedia.org/wiki/Конструирование_признаков) (генерировать новые признаки)\n",
    "* И совсем немного затронем ML\n",
    "* И многое другое...   \n",
    "\n",
    "\n",
    "\n",
    "### И самое важное, все это вы сможете сделать самостоятельно!\n",
    "\n",
    "*Этот Ноутбук являетсся Примером/Шаблоном к этому соревнованию (Baseline) и не служит готовым решением!*   \n",
    "Вы можете использовать его как основу для построения своего решения.\n",
    "\n",
    "> что такое baseline решение, зачем оно нужно и почему предоставлять baseline к соревнованию стало важным стандартом на kaggle и других площадках.   \n",
    "**baseline** создается больше как шаблон, где можно посмотреть как происходит обращение с входящими данными и что нужно получить на выходе. При этом МЛ начинка может быть достаточно простой, просто для примера. Это помогает быстрее приступить к самому МЛ, а не тратить ценное время на чисто инженерные задачи. \n",
    "Также baseline являеться хорошей опорной точкой по метрике. Если твое решение хуже baseline - ты явно делаешь что-то не то и стоит попробовать другой путь) \n",
    "\n",
    "В контексте нашего соревнования baseline идет с небольшими примерами того, что можно делать с данными, и с инструкцией, что делать дальше, чтобы улучшить результат.  Вообще готовым решением это сложно назвать, так как используются всего 2 самых простых признака (а остальные исключаются)."
   ]
  },
  {
   "cell_type": "markdown",
   "metadata": {},
   "source": [
    "# import"
   ]
  },
  {
   "cell_type": "code",
   "execution_count": 210,
   "metadata": {
    "_cell_guid": "b1076dfc-b9ad-4769-8c92-a6c4dae69d19",
    "_uuid": "8f2839f25d086af736a60e9eeb907d3b93b6e0e5",
    "execution": {
     "iopub.execute_input": "2021-09-14T13:55:24.016472Z",
     "iopub.status.busy": "2021-09-14T13:55:24.016115Z",
     "iopub.status.idle": "2021-09-14T13:55:24.040787Z",
     "shell.execute_reply": "2021-09-14T13:55:24.039666Z",
     "shell.execute_reply.started": "2021-09-14T13:55:24.016409Z"
    }
   },
   "outputs": [
    {
     "name": "stdout",
     "output_type": "stream",
     "text": [
      "/kaggle/input/sf-project3-datasets/cities.csv\n",
      "/kaggle/input/sf-project3-datasets/cuisine_types.csv\n",
      "/kaggle/input/sf-dst-restaurant-rating/sample_submission.csv\n",
      "/kaggle/input/sf-dst-restaurant-rating/main_task.csv\n",
      "/kaggle/input/sf-dst-restaurant-rating/kaggle_task.csv\n"
     ]
    }
   ],
   "source": [
    "# This Python 3 environment comes with many helpful analytics libraries installed\n",
    "# It is defined by the kaggle/python docker image: https://github.com/kaggle/docker-python\n",
    "# For example, here's several helpful packages to load in \n",
    "\n",
    "import numpy as np # linear algebra\n",
    "import pandas as pd # data processing, CSV file I/O (e.g. pd.read_csv)\n",
    "\n",
    "import matplotlib.pyplot as plt\n",
    "import seaborn as sns\n",
    "sns.set()\n",
    "%matplotlib inline\n",
    "\n",
    "# Загружаем специальный удобный инструмент для разделения датасета:\n",
    "from sklearn.model_selection import train_test_split\n",
    "from sklearn.preprocessing import MultiLabelBinarizer\n",
    "\n",
    "# Input data files are available in the \"../input/\" directory.\n",
    "# For example, running this (by clicking run or pressing Shift+Enter) will list all files under the input directory\n",
    "\n",
    "import os\n",
    "for dirname, _, filenames in os.walk('/kaggle/input'):\n",
    "    for filename in filenames:\n",
    "        print(os.path.join(dirname, filename))\n",
    "\n",
    "# Any results you write to the current directory are saved as output."
   ]
  },
  {
   "cell_type": "code",
   "execution_count": 211,
   "metadata": {
    "execution": {
     "iopub.execute_input": "2021-09-14T13:55:30.123525Z",
     "iopub.status.busy": "2021-09-14T13:55:30.123202Z",
     "iopub.status.idle": "2021-09-14T13:55:30.128468Z",
     "shell.execute_reply": "2021-09-14T13:55:30.126812Z",
     "shell.execute_reply.started": "2021-09-14T13:55:30.123476Z"
    }
   },
   "outputs": [],
   "source": [
    "# всегда фиксируйте RANDOM_SEED, чтобы ваши эксперименты были воспроизводимы!\n",
    "RANDOM_SEED = 42"
   ]
  },
  {
   "cell_type": "code",
   "execution_count": 212,
   "metadata": {
    "execution": {
     "iopub.execute_input": "2021-09-14T13:55:32.279059Z",
     "iopub.status.busy": "2021-09-14T13:55:32.278562Z",
     "iopub.status.idle": "2021-09-14T13:55:34.856719Z",
     "shell.execute_reply": "2021-09-14T13:55:34.855578Z",
     "shell.execute_reply.started": "2021-09-14T13:55:32.279015Z"
    }
   },
   "outputs": [],
   "source": [
    "# зафиксируем версию пакетов, чтобы эксперименты были воспроизводимы:\n",
    "!pip freeze > requirements.txt"
   ]
  },
  {
   "cell_type": "markdown",
   "metadata": {},
   "source": [
    "# DATA"
   ]
  },
  {
   "cell_type": "code",
   "execution_count": null,
   "metadata": {
    "_cell_guid": "79c7e3d0-c299-4dcb-8224-4455121ee9b0",
    "_uuid": "d629ff2d2480ee46fbb7e2d37f6b5fab8052498a",
    "execution": {
     "iopub.execute_input": "2021-09-14T13:37:26.933962Z",
     "iopub.status.busy": "2021-09-14T13:37:26.933498Z",
     "iopub.status.idle": "2021-09-14T13:37:27.192248Z",
     "shell.execute_reply": "2021-09-14T13:37:27.190986Z",
     "shell.execute_reply.started": "2021-09-14T13:37:26.933879Z"
    }
   },
   "outputs": [],
   "source": [
    "DATA_DIR = '/kaggle/input/sf-dst-restaurant-rating/'\n",
    "df_train = pd.read_csv(DATA_DIR+'/main_task.csv')\n",
    "df_test = pd.read_csv(DATA_DIR+'kaggle_task.csv')\n",
    "sample_submission = pd.read_csv(DATA_DIR+'/sample_submission.csv')"
   ]
  },
  {
   "cell_type": "code",
   "execution_count": null,
   "metadata": {
    "execution": {
     "iopub.execute_input": "2021-09-14T13:37:27.194579Z",
     "iopub.status.busy": "2021-09-14T13:37:27.194069Z",
     "iopub.status.idle": "2021-09-14T13:37:27.209081Z",
     "shell.execute_reply": "2021-09-14T13:37:27.208259Z",
     "shell.execute_reply.started": "2021-09-14T13:37:27.194496Z"
    }
   },
   "outputs": [],
   "source": [
    "# загружаем датасеты с дополнительной информацией. Возможно, она окажется полезной.\n",
    "df_cuisine_types = pd.read_csv('/kaggle/input/sf-project3-datasets/cuisine_types.csv')\n",
    "df_cities = pd.read_csv('/kaggle/input/sf-project3-datasets/cities.csv')"
   ]
  },
  {
   "cell_type": "code",
   "execution_count": null,
   "metadata": {
    "execution": {
     "iopub.execute_input": "2021-09-14T13:37:27.210607Z",
     "iopub.status.busy": "2021-09-14T13:37:27.21035Z",
     "iopub.status.idle": "2021-09-14T13:37:27.23107Z",
     "shell.execute_reply": "2021-09-14T13:37:27.229494Z",
     "shell.execute_reply.started": "2021-09-14T13:37:27.210572Z"
    }
   },
   "outputs": [],
   "source": [
    "df_cuisine_types.head()"
   ]
  },
  {
   "cell_type": "code",
   "execution_count": null,
   "metadata": {
    "execution": {
     "iopub.execute_input": "2021-09-14T13:37:27.232889Z",
     "iopub.status.busy": "2021-09-14T13:37:27.232587Z",
     "iopub.status.idle": "2021-09-14T13:37:27.255917Z",
     "shell.execute_reply": "2021-09-14T13:37:27.255037Z",
     "shell.execute_reply.started": "2021-09-14T13:37:27.232833Z"
    }
   },
   "outputs": [],
   "source": [
    "df_cities.head()"
   ]
  },
  {
   "cell_type": "code",
   "execution_count": null,
   "metadata": {
    "execution": {
     "iopub.execute_input": "2021-09-14T13:37:27.257866Z",
     "iopub.status.busy": "2021-09-14T13:37:27.257357Z",
     "iopub.status.idle": "2021-09-14T13:37:27.303384Z",
     "shell.execute_reply": "2021-09-14T13:37:27.302468Z",
     "shell.execute_reply.started": "2021-09-14T13:37:27.25782Z"
    }
   },
   "outputs": [],
   "source": [
    "df_train.info()"
   ]
  },
  {
   "cell_type": "code",
   "execution_count": null,
   "metadata": {
    "execution": {
     "iopub.execute_input": "2021-09-14T13:37:27.305069Z",
     "iopub.status.busy": "2021-09-14T13:37:27.304811Z",
     "iopub.status.idle": "2021-09-14T13:37:27.326768Z",
     "shell.execute_reply": "2021-09-14T13:37:27.325485Z",
     "shell.execute_reply.started": "2021-09-14T13:37:27.305025Z"
    }
   },
   "outputs": [],
   "source": [
    "df_train.head(5)"
   ]
  },
  {
   "cell_type": "code",
   "execution_count": null,
   "metadata": {
    "execution": {
     "iopub.execute_input": "2021-09-14T13:37:27.328484Z",
     "iopub.status.busy": "2021-09-14T13:37:27.328235Z",
     "iopub.status.idle": "2021-09-14T13:37:27.354213Z",
     "shell.execute_reply": "2021-09-14T13:37:27.353215Z",
     "shell.execute_reply.started": "2021-09-14T13:37:27.328443Z"
    }
   },
   "outputs": [],
   "source": [
    "df_test.info()"
   ]
  },
  {
   "cell_type": "code",
   "execution_count": null,
   "metadata": {
    "execution": {
     "iopub.execute_input": "2021-09-14T13:37:27.360375Z",
     "iopub.status.busy": "2021-09-14T13:37:27.360039Z",
     "iopub.status.idle": "2021-09-14T13:37:27.37919Z",
     "shell.execute_reply": "2021-09-14T13:37:27.377791Z",
     "shell.execute_reply.started": "2021-09-14T13:37:27.360325Z"
    }
   },
   "outputs": [],
   "source": [
    "df_test.head(5)"
   ]
  },
  {
   "cell_type": "code",
   "execution_count": null,
   "metadata": {
    "execution": {
     "iopub.execute_input": "2021-09-14T13:37:27.385608Z",
     "iopub.status.busy": "2021-09-14T13:37:27.385297Z",
     "iopub.status.idle": "2021-09-14T13:37:27.401662Z",
     "shell.execute_reply": "2021-09-14T13:37:27.400524Z",
     "shell.execute_reply.started": "2021-09-14T13:37:27.385547Z"
    }
   },
   "outputs": [],
   "source": [
    "sample_submission.head(5)"
   ]
  },
  {
   "cell_type": "code",
   "execution_count": null,
   "metadata": {
    "execution": {
     "iopub.execute_input": "2021-09-14T13:37:27.40346Z",
     "iopub.status.busy": "2021-09-14T13:37:27.403168Z",
     "iopub.status.idle": "2021-09-14T13:37:27.418912Z",
     "shell.execute_reply": "2021-09-14T13:37:27.417795Z",
     "shell.execute_reply.started": "2021-09-14T13:37:27.403407Z"
    }
   },
   "outputs": [],
   "source": [
    "sample_submission.info()"
   ]
  },
  {
   "cell_type": "code",
   "execution_count": null,
   "metadata": {
    "execution": {
     "iopub.execute_input": "2021-09-14T13:37:27.421139Z",
     "iopub.status.busy": "2021-09-14T13:37:27.420638Z",
     "iopub.status.idle": "2021-09-14T13:37:27.473339Z",
     "shell.execute_reply": "2021-09-14T13:37:27.472283Z",
     "shell.execute_reply.started": "2021-09-14T13:37:27.420906Z"
    }
   },
   "outputs": [],
   "source": [
    "# ВАЖНО! дря корректной обработки признаков объединяем трейн и тест в один датасет\n",
    "df_train['sample'] = 1 # помечаем где у нас трейн\n",
    "df_test['sample'] = 0 # помечаем где у нас тест\n",
    "df_test['Rating'] = 0 # в тесте у нас нет значения Rating, мы его должны предсказать, по этому пока просто заполняем нулями\n",
    "\n",
    "df = df_test.append(df_train, sort=False).reset_index(drop=True) # объединяем"
   ]
  },
  {
   "cell_type": "code",
   "execution_count": null,
   "metadata": {
    "execution": {
     "iopub.execute_input": "2021-09-14T13:37:27.475915Z",
     "iopub.status.busy": "2021-09-14T13:37:27.475331Z",
     "iopub.status.idle": "2021-09-14T13:37:27.524712Z",
     "shell.execute_reply": "2021-09-14T13:37:27.523479Z",
     "shell.execute_reply.started": "2021-09-14T13:37:27.475625Z"
    }
   },
   "outputs": [],
   "source": [
    "df.info()"
   ]
  },
  {
   "cell_type": "markdown",
   "metadata": {},
   "source": [
    "Подробнее по признакам:\n",
    "* City: Город \n",
    "* Cuisine Style: Кухня\n",
    "* Ranking: Ранг ресторана относительно других ресторанов в этом городе\n",
    "* Price Range: Цены в ресторане в 3 категориях\n",
    "* Number of Reviews: Количество отзывов\n",
    "* Reviews: 2 последних отзыва и даты этих отзывов\n",
    "* URL_TA: страница ресторана на 'www.tripadvisor.com' \n",
    "* ID_TA: ID ресторана в TripAdvisor\n",
    "* Rating: Рейтинг ресторана"
   ]
  },
  {
   "cell_type": "markdown",
   "metadata": {},
   "source": [
    "Как видим, большинство признаков у нас требует очистки и предварительной обработки."
   ]
  },
  {
   "cell_type": "markdown",
   "metadata": {},
   "source": [
    "# Cleaning and Prepping Data\n",
    "Обычно данные содержат в себе кучу мусора, который необходимо почистить, для того чтобы привести их в приемлемый формат. Чистка данных — это необходимый этап решения почти любой реальной задачи.   \n",
    "![](https://analyticsindiamag.com/wp-content/uploads/2018/01/data-cleaning.png)"
   ]
  },
  {
   "cell_type": "markdown",
   "metadata": {},
   "source": [
    "## 1. Обработка NAN \n",
    "У наличия пропусков могут быть разные причины, но пропуски нужно либо заполнить, либо исключить из набора полностью. Но с пропусками нужно быть внимательным, **даже отсутствие информации может быть важным признаком!**   \n",
    "По этому перед обработкой NAN лучше вынести информацию о наличии пропуска как отдельный признак "
   ]
  },
  {
   "cell_type": "code",
   "execution_count": null,
   "metadata": {
    "execution": {
     "iopub.execute_input": "2021-09-14T13:37:27.526672Z",
     "iopub.status.busy": "2021-09-14T13:37:27.526407Z",
     "iopub.status.idle": "2021-09-14T13:37:27.533287Z",
     "shell.execute_reply": "2021-09-14T13:37:27.532302Z",
     "shell.execute_reply.started": "2021-09-14T13:37:27.526628Z"
    }
   },
   "outputs": [],
   "source": [
    "# Создадим столбец\n",
    "#data['Number_of_Reviews_isNAN'] = pd.isna(data['Number of Reviews']).astype('uint8')"
   ]
  },
  {
   "cell_type": "code",
   "execution_count": null,
   "metadata": {
    "execution": {
     "iopub.execute_input": "2021-09-14T13:37:27.535345Z",
     "iopub.status.busy": "2021-09-14T13:37:27.534761Z",
     "iopub.status.idle": "2021-09-14T13:37:27.550297Z",
     "shell.execute_reply": "2021-09-14T13:37:27.549216Z",
     "shell.execute_reply.started": "2021-09-14T13:37:27.535288Z"
    }
   },
   "outputs": [],
   "source": [
    "#data['Number_of_Reviews_isNAN']"
   ]
  },
  {
   "cell_type": "code",
   "execution_count": null,
   "metadata": {
    "execution": {
     "iopub.execute_input": "2021-09-14T13:37:27.552684Z",
     "iopub.status.busy": "2021-09-14T13:37:27.551922Z",
     "iopub.status.idle": "2021-09-14T13:37:27.566815Z",
     "shell.execute_reply": "2021-09-14T13:37:27.5653Z",
     "shell.execute_reply.started": "2021-09-14T13:37:27.552612Z"
    }
   },
   "outputs": [],
   "source": [
    "# Далее заполняем пропуски 0, вы можете попробовать заполнением средним или средним по городу и тд...\n",
    "#data['Number of Reviews'].fillna(0, inplace=True)"
   ]
  },
  {
   "cell_type": "markdown",
   "metadata": {},
   "source": [
    "### 2. Обработка признаков\n",
    "Для начала посмотрим какие признаки у нас могут быть категориальными."
   ]
  },
  {
   "cell_type": "code",
   "execution_count": null,
   "metadata": {
    "execution": {
     "iopub.execute_input": "2021-09-14T13:37:27.568823Z",
     "iopub.status.busy": "2021-09-14T13:37:27.568223Z",
     "iopub.status.idle": "2021-09-14T13:37:27.718601Z",
     "shell.execute_reply": "2021-09-14T13:37:27.717811Z",
     "shell.execute_reply.started": "2021-09-14T13:37:27.568772Z"
    }
   },
   "outputs": [],
   "source": [
    "df.nunique(dropna=False)"
   ]
  },
  {
   "cell_type": "markdown",
   "metadata": {},
   "source": [
    "Какие признаки можно считать категориальными?"
   ]
  },
  {
   "cell_type": "markdown",
   "metadata": {},
   "source": [
    "Для кодирования категориальных признаков есть множество подходов:\n",
    "* Label Encoding\n",
    "* One-Hot Encoding\n",
    "* Target Encoding\n",
    "* Hashing\n",
    "\n",
    "Выбор кодирования зависит от признака и выбраной модели.\n",
    "Не будем сейчас сильно погружаться в эту тематику, давайте посмотрим лучше пример с One-Hot Encoding:\n",
    "![](https://i.imgur.com/mtimFxh.png)"
   ]
  },
  {
   "cell_type": "code",
   "execution_count": null,
   "metadata": {
    "execution": {
     "iopub.execute_input": "2021-09-14T13:37:27.720344Z",
     "iopub.status.busy": "2021-09-14T13:37:27.719892Z",
     "iopub.status.idle": "2021-09-14T13:37:27.724349Z",
     "shell.execute_reply": "2021-09-14T13:37:27.723403Z",
     "shell.execute_reply.started": "2021-09-14T13:37:27.720301Z"
    }
   },
   "outputs": [],
   "source": [
    "# для One-Hot Encoding в pandas есть готовая функция - get_dummies. Особенно радует параметр dummy_na\n",
    "#data = pd.get_dummies(data, columns=['City'], dummy_na=True)"
   ]
  },
  {
   "cell_type": "code",
   "execution_count": null,
   "metadata": {
    "execution": {
     "iopub.execute_input": "2021-09-14T13:37:27.726223Z",
     "iopub.status.busy": "2021-09-14T13:37:27.725913Z",
     "iopub.status.idle": "2021-09-14T13:37:27.73612Z",
     "shell.execute_reply": "2021-09-14T13:37:27.735376Z",
     "shell.execute_reply.started": "2021-09-14T13:37:27.726172Z"
    }
   },
   "outputs": [],
   "source": [
    "#data.head(5)"
   ]
  },
  {
   "cell_type": "code",
   "execution_count": null,
   "metadata": {
    "execution": {
     "iopub.execute_input": "2021-09-14T13:37:27.737837Z",
     "iopub.status.busy": "2021-09-14T13:37:27.737385Z",
     "iopub.status.idle": "2021-09-14T13:37:27.749905Z",
     "shell.execute_reply": "2021-09-14T13:37:27.748704Z",
     "shell.execute_reply.started": "2021-09-14T13:37:27.737793Z"
    }
   },
   "outputs": [],
   "source": [
    "def look_at(row):\n",
    "    print('Уникальных значений (включая Nan): ', df[row].nunique(dropna=False),'\\n')\n",
    "    print('Value_counts:')\n",
    "    print(df[row].value_counts(),'\\n')\n",
    "    print('Количество Nan:')\n",
    "    print(df[row].isna().value_counts())\n",
    "    return"
   ]
  },
  {
   "cell_type": "markdown",
   "metadata": {},
   "source": [
    "#### Признак \"Restaurant_id\"."
   ]
  },
  {
   "cell_type": "code",
   "execution_count": null,
   "metadata": {
    "execution": {
     "iopub.execute_input": "2021-09-14T13:37:27.751983Z",
     "iopub.status.busy": "2021-09-14T13:37:27.751581Z",
     "iopub.status.idle": "2021-09-14T13:37:27.806562Z",
     "shell.execute_reply": "2021-09-14T13:37:27.805602Z",
     "shell.execute_reply.started": "2021-09-14T13:37:27.751927Z"
    }
   },
   "outputs": [],
   "source": [
    "# Посмотрим на признак в первом приближении\n",
    "look_at('Restaurant_id')"
   ]
  },
  {
   "cell_type": "code",
   "execution_count": null,
   "metadata": {
    "execution": {
     "iopub.execute_input": "2021-09-14T13:37:27.808127Z",
     "iopub.status.busy": "2021-09-14T13:37:27.807846Z",
     "iopub.status.idle": "2021-09-14T13:37:27.845444Z",
     "shell.execute_reply": "2021-09-14T13:37:27.84443Z",
     "shell.execute_reply.started": "2021-09-14T13:37:27.808071Z"
    }
   },
   "outputs": [],
   "source": [
    "# Посмотрим на рестораны с одинаковым id\n",
    "df[df['Restaurant_id'] == 'id_871']"
   ]
  },
  {
   "cell_type": "code",
   "execution_count": null,
   "metadata": {
    "execution": {
     "iopub.execute_input": "2021-09-14T13:37:27.847Z",
     "iopub.status.busy": "2021-09-14T13:37:27.846733Z",
     "iopub.status.idle": "2021-09-14T13:37:27.889252Z",
     "shell.execute_reply": "2021-09-14T13:37:27.887877Z",
     "shell.execute_reply.started": "2021-09-14T13:37:27.846957Z"
    }
   },
   "outputs": [],
   "source": [
    "df[df['Restaurant_id'] == 'id_436']"
   ]
  },
  {
   "cell_type": "markdown",
   "metadata": {},
   "source": [
    "Во-первых, не похоже, что рестораны с одинаковым id принадлежат к одной сети из-за разных кухонь.  \n",
    "Во-вторых, очевидна взаимосвязь между id и Ranking в df_train."
   ]
  },
  {
   "cell_type": "code",
   "execution_count": null,
   "metadata": {
    "execution": {
     "iopub.execute_input": "2021-09-14T13:37:27.891269Z",
     "iopub.status.busy": "2021-09-14T13:37:27.890812Z",
     "iopub.status.idle": "2021-09-14T13:37:27.972342Z",
     "shell.execute_reply": "2021-09-14T13:37:27.971141Z",
     "shell.execute_reply.started": "2021-09-14T13:37:27.891142Z"
    }
   },
   "outputs": [],
   "source": [
    "df['restaurant_id_num'] = df['Restaurant_id'].apply(lambda x: int(x.replace('id_','')))\n",
    "df[['restaurant_id_num','Ranking']].corr()"
   ]
  },
  {
   "cell_type": "code",
   "execution_count": null,
   "metadata": {
    "execution": {
     "iopub.execute_input": "2021-09-14T13:37:27.973866Z",
     "iopub.status.busy": "2021-09-14T13:37:27.973612Z",
     "iopub.status.idle": "2021-09-14T13:37:28.040067Z",
     "shell.execute_reply": "2021-09-14T13:37:28.038832Z",
     "shell.execute_reply.started": "2021-09-14T13:37:27.973823Z"
    }
   },
   "outputs": [],
   "source": [
    "df_train['restaurant_id_num'] = df_train['Restaurant_id'].apply(lambda x: int(x.replace('id_','')))\n",
    "df_train[['restaurant_id_num','Ranking']].corr()"
   ]
  },
  {
   "cell_type": "code",
   "execution_count": null,
   "metadata": {
    "execution": {
     "iopub.execute_input": "2021-09-14T13:37:28.041813Z",
     "iopub.status.busy": "2021-09-14T13:37:28.041516Z",
     "iopub.status.idle": "2021-09-14T13:37:28.061216Z",
     "shell.execute_reply": "2021-09-14T13:37:28.059648Z",
     "shell.execute_reply.started": "2021-09-14T13:37:28.041762Z"
    }
   },
   "outputs": [],
   "source": [
    "df.drop('restaurant_id_num', axis=1, inplace=True)\n",
    "df_train.drop('restaurant_id_num', axis=1, inplace=True)"
   ]
  },
  {
   "cell_type": "markdown",
   "metadata": {},
   "source": [
    "#### Признак \"City\"."
   ]
  },
  {
   "cell_type": "code",
   "execution_count": null,
   "metadata": {
    "execution": {
     "iopub.execute_input": "2021-09-14T13:37:28.063543Z",
     "iopub.status.busy": "2021-09-14T13:37:28.063163Z",
     "iopub.status.idle": "2021-09-14T13:37:28.098856Z",
     "shell.execute_reply": "2021-09-14T13:37:28.097801Z",
     "shell.execute_reply.started": "2021-09-14T13:37:28.063474Z"
    }
   },
   "outputs": [],
   "source": [
    "# Посмотрим на признак в первом приближении\n",
    "look_at('City')"
   ]
  },
  {
   "cell_type": "code",
   "execution_count": null,
   "metadata": {
    "execution": {
     "iopub.execute_input": "2021-09-14T13:37:28.100956Z",
     "iopub.status.busy": "2021-09-14T13:37:28.100566Z",
     "iopub.status.idle": "2021-09-14T13:37:28.13207Z",
     "shell.execute_reply": "2021-09-14T13:37:28.131333Z",
     "shell.execute_reply.started": "2021-09-14T13:37:28.100887Z"
    }
   },
   "outputs": [],
   "source": [
    "# Посмострим, совпадают ли города в df_train и df_test\n",
    "df_train['City'].value_counts().index.sort_values() == df_train['City'].value_counts().index.sort_values()"
   ]
  },
  {
   "cell_type": "markdown",
   "metadata": {},
   "source": [
    "City - категориальный признак, состоящий из 31 города Европы.  \n",
    "Пропусков нет.  \n",
    "Т.к. городов не много, я посмотрел на каждый, нашел ошибку в названии города Porto.  \n",
    "Кроме того, я составил небольшой дополнительный датасет по этим городам."
   ]
  },
  {
   "cell_type": "code",
   "execution_count": null,
   "metadata": {
    "execution": {
     "iopub.execute_input": "2021-09-14T13:37:28.133873Z",
     "iopub.status.busy": "2021-09-14T13:37:28.133578Z",
     "iopub.status.idle": "2021-09-14T13:37:28.14386Z",
     "shell.execute_reply": "2021-09-14T13:37:28.142794Z",
     "shell.execute_reply.started": "2021-09-14T13:37:28.133822Z"
    }
   },
   "outputs": [],
   "source": [
    "df['City'] = df['City'].replace('Oporto','Porto')"
   ]
  },
  {
   "cell_type": "code",
   "execution_count": null,
   "metadata": {
    "execution": {
     "iopub.execute_input": "2021-09-14T13:37:28.145934Z",
     "iopub.status.busy": "2021-09-14T13:37:28.145549Z",
     "iopub.status.idle": "2021-09-14T13:37:28.22545Z",
     "shell.execute_reply": "2021-09-14T13:37:28.224225Z",
     "shell.execute_reply.started": "2021-09-14T13:37:28.145876Z"
    }
   },
   "outputs": [],
   "source": [
    "df = pd.merge(df, df_cities, how = 'left', on = 'City')\n",
    "df.head()"
   ]
  },
  {
   "cell_type": "code",
   "execution_count": null,
   "metadata": {
    "execution": {
     "iopub.execute_input": "2021-09-14T13:37:28.227852Z",
     "iopub.status.busy": "2021-09-14T13:37:28.22744Z",
     "iopub.status.idle": "2021-09-14T13:37:28.297063Z",
     "shell.execute_reply": "2021-09-14T13:37:28.295925Z",
     "shell.execute_reply.started": "2021-09-14T13:37:28.227777Z"
    }
   },
   "outputs": [],
   "source": [
    "# Посчитаем количество ресторанов в датасете для каждого города\n",
    "rest_count = pd.DataFrame(df['City'].value_counts()).reset_index()\n",
    "rest_count.columns = ['City','rest_count_in_city']\n",
    "df = pd.merge(df, rest_count, how = 'left', on = 'City')\n",
    "df.head()"
   ]
  },
  {
   "cell_type": "markdown",
   "metadata": {},
   "source": [
    "One-Hot Encoding для City я применю в конце, чтобы не загромождать раньше времени таблицу"
   ]
  },
  {
   "cell_type": "markdown",
   "metadata": {},
   "source": [
    "#### Признак \"Cuisine Style\"."
   ]
  },
  {
   "cell_type": "code",
   "execution_count": null,
   "metadata": {
    "execution": {
     "iopub.execute_input": "2021-09-14T13:37:28.298891Z",
     "iopub.status.busy": "2021-09-14T13:37:28.298614Z",
     "iopub.status.idle": "2021-09-14T13:37:28.34442Z",
     "shell.execute_reply": "2021-09-14T13:37:28.343294Z",
     "shell.execute_reply.started": "2021-09-14T13:37:28.298846Z"
    }
   },
   "outputs": [],
   "source": [
    "# Посмотрим на признак в первом приближении\n",
    "look_at('Cuisine Style')"
   ]
  },
  {
   "cell_type": "markdown",
   "metadata": {},
   "source": [
    "Cuisine Style - сложносоставной категориальный признак.\n",
    "Достаточно много пропущенных значений, я заменю их на unknown."
   ]
  },
  {
   "cell_type": "code",
   "execution_count": null,
   "metadata": {
    "execution": {
     "iopub.execute_input": "2021-09-14T13:37:28.346072Z",
     "iopub.status.busy": "2021-09-14T13:37:28.345703Z",
     "iopub.status.idle": "2021-09-14T13:37:28.358704Z",
     "shell.execute_reply": "2021-09-14T13:37:28.357426Z",
     "shell.execute_reply.started": "2021-09-14T13:37:28.346002Z"
    }
   },
   "outputs": [],
   "source": [
    "df['Cuisine Style'] = df['Cuisine Style'].fillna(\"['unknown']\")"
   ]
  },
  {
   "cell_type": "code",
   "execution_count": null,
   "metadata": {
    "execution": {
     "iopub.execute_input": "2021-09-14T13:37:28.360946Z",
     "iopub.status.busy": "2021-09-14T13:37:28.36052Z",
     "iopub.status.idle": "2021-09-14T13:37:28.374264Z",
     "shell.execute_reply": "2021-09-14T13:37:28.373215Z",
     "shell.execute_reply.started": "2021-09-14T13:37:28.360886Z"
    }
   },
   "outputs": [],
   "source": [
    "type(df['Cuisine Style'][0])"
   ]
  },
  {
   "cell_type": "code",
   "execution_count": null,
   "metadata": {
    "execution": {
     "iopub.execute_input": "2021-09-14T13:37:28.377823Z",
     "iopub.status.busy": "2021-09-14T13:37:28.377429Z",
     "iopub.status.idle": "2021-09-14T13:37:28.92715Z",
     "shell.execute_reply": "2021-09-14T13:37:28.926213Z",
     "shell.execute_reply.started": "2021-09-14T13:37:28.377749Z"
    }
   },
   "outputs": [],
   "source": [
    "# Т.к. значения признака  хоть и принадлежат к классу Srting, но имеют формат списка.\n",
    "# Чтобы спарсить значения воспользуюсь встроенной функцией eval(). В данном случае ее применение безопасно\n",
    "df['Cuisine Style'] = df['Cuisine Style'].apply(lambda x: eval(x))"
   ]
  },
  {
   "cell_type": "code",
   "execution_count": null,
   "metadata": {
    "execution": {
     "iopub.execute_input": "2021-09-14T13:37:28.928933Z",
     "iopub.status.busy": "2021-09-14T13:37:28.928586Z",
     "iopub.status.idle": "2021-09-14T13:37:29.445954Z",
     "shell.execute_reply": "2021-09-14T13:37:29.444291Z",
     "shell.execute_reply.started": "2021-09-14T13:37:28.928879Z"
    }
   },
   "outputs": [],
   "source": [
    "cuisines = df.explode('Cuisine Style')['Cuisine Style'].value_counts()\n",
    "cuisines"
   ]
  },
  {
   "cell_type": "markdown",
   "metadata": {},
   "source": [
    "Кухонь всего 126 (включая unknown), можно посмотреть на них всех"
   ]
  },
  {
   "cell_type": "code",
   "execution_count": null,
   "metadata": {
    "execution": {
     "iopub.execute_input": "2021-09-14T13:37:29.448935Z",
     "iopub.status.busy": "2021-09-14T13:37:29.448367Z",
     "iopub.status.idle": "2021-09-14T13:37:29.45518Z",
     "shell.execute_reply": "2021-09-14T13:37:29.453988Z",
     "shell.execute_reply.started": "2021-09-14T13:37:29.448884Z"
    }
   },
   "outputs": [],
   "source": [
    "def print_full(df):\n",
    "    ''' Функция для отображения всех строк DataFrame '''\n",
    "    import pandas as pd\n",
    "    pd.set_option('display.max_rows', len(df))\n",
    "    print(df)\n",
    "    pd.reset_option('display.max_rows')"
   ]
  },
  {
   "cell_type": "code",
   "execution_count": null,
   "metadata": {
    "execution": {
     "iopub.execute_input": "2021-09-14T13:37:29.457334Z",
     "iopub.status.busy": "2021-09-14T13:37:29.456863Z",
     "iopub.status.idle": "2021-09-14T13:37:29.477106Z",
     "shell.execute_reply": "2021-09-14T13:37:29.476096Z",
     "shell.execute_reply.started": "2021-09-14T13:37:29.457147Z"
    }
   },
   "outputs": [],
   "source": [
    "print_full(cuisines)"
   ]
  },
  {
   "cell_type": "code",
   "execution_count": null,
   "metadata": {
    "execution": {
     "iopub.execute_input": "2021-09-14T13:37:29.479002Z",
     "iopub.status.busy": "2021-09-14T13:37:29.478582Z",
     "iopub.status.idle": "2021-09-14T13:37:29.502607Z",
     "shell.execute_reply": "2021-09-14T13:37:29.501789Z",
     "shell.execute_reply.started": "2021-09-14T13:37:29.47896Z"
    }
   },
   "outputs": [],
   "source": [
    "# Я вручную сгруппировал кухни по своему усмотрению, чтобы в дальнейшем применить multilabel encoding\n",
    "df_cuisine_types"
   ]
  },
  {
   "cell_type": "code",
   "execution_count": null,
   "metadata": {
    "execution": {
     "iopub.execute_input": "2021-09-14T13:37:29.505168Z",
     "iopub.status.busy": "2021-09-14T13:37:29.50441Z",
     "iopub.status.idle": "2021-09-14T13:37:36.997217Z",
     "shell.execute_reply": "2021-09-14T13:37:36.99633Z",
     "shell.execute_reply.started": "2021-09-14T13:37:29.504641Z"
    }
   },
   "outputs": [],
   "source": [
    "# добавим столбец с типами предлагаемых кухонь\n",
    "df['idx'] = df.index\n",
    "df_tmp = pd.merge(df.explode('Cuisine Style')[['idx','Cuisine Style']], df_cuisine_types, on='Cuisine Style',how='left')\n",
    "df_tmp.drop_duplicates(['idx','cuisine_type'], inplace=True)\n",
    "df_tmp = df_tmp.groupby('idx')['cuisine_type'].apply(list).reset_index()\n",
    "df = pd.merge(df, df_tmp, on='idx', how='left')\n",
    "df.drop(['idx'], axis=1, inplace=True)\n",
    "df.head()"
   ]
  },
  {
   "cell_type": "code",
   "execution_count": null,
   "metadata": {
    "execution": {
     "iopub.execute_input": "2021-09-14T13:37:36.998973Z",
     "iopub.status.busy": "2021-09-14T13:37:36.998712Z",
     "iopub.status.idle": "2021-09-14T13:37:37.065712Z",
     "shell.execute_reply": "2021-09-14T13:37:37.064524Z",
     "shell.execute_reply.started": "2021-09-14T13:37:36.998931Z"
    }
   },
   "outputs": [],
   "source": [
    "# Также добавим признак количество предлагаемых кухонь\n",
    "df['cuisine_count'] = df['Cuisine Style'].str.len()\n",
    "df.head()"
   ]
  },
  {
   "cell_type": "code",
   "execution_count": null,
   "metadata": {
    "execution": {
     "iopub.execute_input": "2021-09-14T13:37:37.067826Z",
     "iopub.status.busy": "2021-09-14T13:37:37.067433Z",
     "iopub.status.idle": "2021-09-14T13:37:37.140525Z",
     "shell.execute_reply": "2021-09-14T13:37:37.13938Z",
     "shell.execute_reply.started": "2021-09-14T13:37:37.067736Z"
    }
   },
   "outputs": [],
   "source": [
    "# Сейчас unknown считается за одну предлагаемую кухню. Исправим это.\n",
    "df['missed_cuisine']=df['Cuisine Style'].apply(lambda x: 1 if x == ['unknown'] else 0)\n",
    "df['cuisine_count'] = (1-df['missed_cuisine'])*df['cuisine_count']\n",
    "df.head()"
   ]
  },
  {
   "cell_type": "markdown",
   "metadata": {},
   "source": [
    "#### Признак \"Ranking\"."
   ]
  },
  {
   "cell_type": "code",
   "execution_count": null,
   "metadata": {
    "execution": {
     "iopub.execute_input": "2021-09-14T13:37:37.142241Z",
     "iopub.status.busy": "2021-09-14T13:37:37.141933Z",
     "iopub.status.idle": "2021-09-14T13:37:37.161263Z",
     "shell.execute_reply": "2021-09-14T13:37:37.160173Z",
     "shell.execute_reply.started": "2021-09-14T13:37:37.142185Z"
    }
   },
   "outputs": [],
   "source": [
    "# Посмотрим на признак в первом приближении\n",
    "look_at('Ranking')"
   ]
  },
  {
   "cell_type": "code",
   "execution_count": null,
   "metadata": {
    "execution": {
     "iopub.execute_input": "2021-09-14T13:37:37.162958Z",
     "iopub.status.busy": "2021-09-14T13:37:37.1626Z",
     "iopub.status.idle": "2021-09-14T13:37:37.176114Z",
     "shell.execute_reply": "2021-09-14T13:37:37.175026Z",
     "shell.execute_reply.started": "2021-09-14T13:37:37.162909Z"
    }
   },
   "outputs": [],
   "source": [
    "df[df['Ranking'] == 93]['City'].value_counts()"
   ]
  },
  {
   "cell_type": "code",
   "execution_count": null,
   "metadata": {
    "execution": {
     "iopub.execute_input": "2021-09-14T13:37:37.178166Z",
     "iopub.status.busy": "2021-09-14T13:37:37.17783Z",
     "iopub.status.idle": "2021-09-14T13:37:40.007424Z",
     "shell.execute_reply": "2021-09-14T13:37:40.005852Z",
     "shell.execute_reply.started": "2021-09-14T13:37:37.178102Z"
    }
   },
   "outputs": [],
   "source": [
    "# посмотрим на топ 10 городов\n",
    "plt.rcParams['figure.figsize'] = (14,10)\n",
    "for x in (df['City'].value_counts())[0:10].index:\n",
    "    df['Ranking'][df['City'] == x].hist(bins=100)\n",
    "plt.show()"
   ]
  },
  {
   "cell_type": "code",
   "execution_count": null,
   "metadata": {
    "execution": {
     "iopub.execute_input": "2021-09-14T13:37:40.009565Z",
     "iopub.status.busy": "2021-09-14T13:37:40.009261Z",
     "iopub.status.idle": "2021-09-14T13:37:40.064572Z",
     "shell.execute_reply": "2021-09-14T13:37:40.063596Z",
     "shell.execute_reply.started": "2021-09-14T13:37:40.009507Z"
    }
   },
   "outputs": [],
   "source": [
    "# Нет информации обо всех рангах для каждого города, вероятно из-за того, что не все растораны города присутствуют датасете TripAdvisor\n",
    "print(df[df['City'] == 'London']['Ranking'].value_counts().index.sort_values(ascending = True)[0:10])\n",
    "print(df[df['City'] == 'Madrid']['Ranking'].value_counts().index.sort_values(ascending = True)[0:10])\n",
    "print(df[df['City'] == 'Berlin']['Ranking'].value_counts().index.sort_values(ascending = True)[0:10])"
   ]
  },
  {
   "cell_type": "code",
   "execution_count": null,
   "metadata": {
    "execution": {
     "iopub.execute_input": "2021-09-14T13:37:40.06658Z",
     "iopub.status.busy": "2021-09-14T13:37:40.066287Z",
     "iopub.status.idle": "2021-09-14T13:37:40.093772Z",
     "shell.execute_reply": "2021-09-14T13:37:40.092047Z",
     "shell.execute_reply.started": "2021-09-14T13:37:40.066528Z"
    }
   },
   "outputs": [],
   "source": [
    "# Естественно сильно отличается последний ранг с общим количеством ресторанов в городе\n",
    "print(df['Ranking'][df['City'] == 'London'].max())\n",
    "print(len(df['Ranking'][df['City'] == 'London']))"
   ]
  },
  {
   "cell_type": "markdown",
   "metadata": {},
   "source": [
    "Получается, что Ranking распределен равномерно, просто в больших городах больше ресторанов, из-за мы этого для каждого города своя верхняя граница ранга.\n",
    "Для объективности картины нужно нормировать ранг.  \n",
    "Я нормирую ранг двумя разными способами, посмотрим, какой из них даст лучшую оценку. А также выясним, есть ли аномальные значения."
   ]
  },
  {
   "cell_type": "code",
   "execution_count": null,
   "metadata": {
    "execution": {
     "iopub.execute_input": "2021-09-14T13:37:40.097814Z",
     "iopub.status.busy": "2021-09-14T13:37:40.097418Z",
     "iopub.status.idle": "2021-09-14T13:37:40.222622Z",
     "shell.execute_reply": "2021-09-14T13:37:40.221748Z",
     "shell.execute_reply.started": "2021-09-14T13:37:40.097758Z"
    }
   },
   "outputs": [],
   "source": [
    "# найдем средний ранг в каждом городе\n",
    "mean_rank_in_city = df.groupby('City')['Ranking'].mean().reset_index()\n",
    "mean_rank_in_city.rename(columns = {'Ranking':'mean_rank'}, inplace=True)\n",
    "\n",
    "# добавим эту информацию в наш датасет\n",
    "df = pd.merge(df,mean_rank_in_city, on='City',how='left')\n",
    "\n",
    "# идея нормирования в данном случае такая: новый ранг ресторана на 1 месте равен единице, а новый ранг ресторана на последнем месте стремится к 0.\n",
    "df['norm_rank_mean'] = (df['Ranking']-df['mean_rank'])/df['mean_rank']\n",
    "df.head()"
   ]
  },
  {
   "cell_type": "code",
   "execution_count": null,
   "metadata": {
    "execution": {
     "iopub.execute_input": "2021-09-14T13:37:40.224463Z",
     "iopub.status.busy": "2021-09-14T13:37:40.22416Z",
     "iopub.status.idle": "2021-09-14T13:37:49.227134Z",
     "shell.execute_reply": "2021-09-14T13:37:49.226284Z",
     "shell.execute_reply.started": "2021-09-14T13:37:40.22441Z"
    }
   },
   "outputs": [],
   "source": [
    "# посмотрим распределение нормированного ранга\n",
    "plt.rcParams['figure.figsize'] = (14,10)\n",
    "for x in (df['City'].value_counts()).index:\n",
    "    df['norm_rank_mean'][df['City'] == x].hist(bins=100)\n",
    "plt.show()"
   ]
  },
  {
   "cell_type": "code",
   "execution_count": null,
   "metadata": {
    "execution": {
     "iopub.execute_input": "2021-09-14T13:37:49.228873Z",
     "iopub.status.busy": "2021-09-14T13:37:49.22842Z",
     "iopub.status.idle": "2021-09-14T13:37:49.374221Z",
     "shell.execute_reply": "2021-09-14T13:37:49.372859Z",
     "shell.execute_reply.started": "2021-09-14T13:37:49.228831Z"
    }
   },
   "outputs": [],
   "source": [
    "# найдем максимальный ранг в каждом городе\n",
    "max_rank_in_city = df.groupby(df['City'])['Ranking'].max().reset_index()\n",
    "max_rank_in_city.rename(columns = {'Ranking':'max_rank_in_city'}, inplace=True)\n",
    "\n",
    "# добавим эту информацию в наш датасет\n",
    "df = pd.merge(df,max_rank_in_city, on='City',how='left')\n",
    "\n",
    "# идея нормирования в данном случае такая: новый ранг ресторана на 1 месте равен единице, а новый ранг ресторана на последнем месте стремится к 0.\n",
    "df['norm_rank_max'] = (df['max_rank_in_city']+1-df['Ranking'])/df['max_rank_in_city']\n",
    "df.head()"
   ]
  },
  {
   "cell_type": "markdown",
   "metadata": {},
   "source": [
    "#### Признак \"Price Range\"."
   ]
  },
  {
   "cell_type": "code",
   "execution_count": null,
   "metadata": {
    "execution": {
     "iopub.execute_input": "2021-09-14T13:37:49.376204Z",
     "iopub.status.busy": "2021-09-14T13:37:49.375856Z",
     "iopub.status.idle": "2021-09-14T13:37:49.40904Z",
     "shell.execute_reply": "2021-09-14T13:37:49.407815Z",
     "shell.execute_reply.started": "2021-09-14T13:37:49.376146Z"
    }
   },
   "outputs": [],
   "source": [
    "# Посмотрим на признак в первом приближении\n",
    "look_at('Price Range')"
   ]
  },
  {
   "cell_type": "markdown",
   "metadata": {},
   "source": [
    "По описанию 'Price Range' это - Цены в ресторане.  \n",
    "Их можно поставить по возрастанию (значит это не категориальный признак). А это значит, что их можно заменить последовательными числами, например 1,2,3  "
   ]
  },
  {
   "cell_type": "code",
   "execution_count": null,
   "metadata": {
    "execution": {
     "iopub.execute_input": "2021-09-14T13:37:49.411353Z",
     "iopub.status.busy": "2021-09-14T13:37:49.410921Z",
     "iopub.status.idle": "2021-09-14T13:37:49.501771Z",
     "shell.execute_reply": "2021-09-14T13:37:49.500596Z",
     "shell.execute_reply.started": "2021-09-14T13:37:49.411273Z"
    }
   },
   "outputs": [],
   "source": [
    "# заменим категориальные признаки на ординальные.\n",
    "# Пропуски заменим на среднюю цену, т.к. это самый популярный вариант\n",
    "# Чтобы не потерялась информация о пропусках, предварительно создадим отдельный признак\n",
    "\n",
    "df['missed_price_range'] = pd.isna(df['Price Range']).astype('uint8')\n",
    "\n",
    "df['Price Range'].fillna(2, inplace=True)\n",
    "\n",
    "def price_range_ord(cell):\n",
    "    if type(cell) == str:\n",
    "        cell = cell.replace('$$$$', '3')\n",
    "        cell = cell.replace('$$ - $$$', '2')\n",
    "        cell = cell.replace('$', '1')\n",
    "        cell = int(cell)\n",
    "    return cell\n",
    "\n",
    "df['Price Range'] = df['Price Range'].apply(price_range_ord)"
   ]
  },
  {
   "cell_type": "code",
   "execution_count": null,
   "metadata": {
    "execution": {
     "iopub.execute_input": "2021-09-14T13:37:49.503559Z",
     "iopub.status.busy": "2021-09-14T13:37:49.503242Z",
     "iopub.status.idle": "2021-09-14T13:37:49.516956Z",
     "shell.execute_reply": "2021-09-14T13:37:49.515813Z",
     "shell.execute_reply.started": "2021-09-14T13:37:49.503503Z"
    }
   },
   "outputs": [],
   "source": [
    "print(df['Price Range'].value_counts())\n",
    "print(df['missed_price_range'].value_counts())"
   ]
  },
  {
   "cell_type": "code",
   "execution_count": null,
   "metadata": {
    "execution": {
     "iopub.execute_input": "2021-09-14T13:37:49.519552Z",
     "iopub.status.busy": "2021-09-14T13:37:49.51917Z",
     "iopub.status.idle": "2021-09-14T13:37:49.564839Z",
     "shell.execute_reply": "2021-09-14T13:37:49.563288Z",
     "shell.execute_reply.started": "2021-09-14T13:37:49.519492Z"
    }
   },
   "outputs": [],
   "source": [
    "df.head()"
   ]
  },
  {
   "cell_type": "markdown",
   "metadata": {},
   "source": [
    "#### Признак \"Reviews\".\n",
    "Обработку этого признака я поставил перед Number of Reviews, чтобы заполнить пропуски в последнем."
   ]
  },
  {
   "cell_type": "code",
   "execution_count": null,
   "metadata": {
    "execution": {
     "iopub.execute_input": "2021-09-14T13:37:49.567029Z",
     "iopub.status.busy": "2021-09-14T13:37:49.566652Z",
     "iopub.status.idle": "2021-09-14T13:37:49.648641Z",
     "shell.execute_reply": "2021-09-14T13:37:49.647062Z",
     "shell.execute_reply.started": "2021-09-14T13:37:49.566966Z"
    }
   },
   "outputs": [],
   "source": [
    "# Посмотрим на признак в первом приближении\n",
    "look_at('Reviews')"
   ]
  },
  {
   "cell_type": "markdown",
   "metadata": {},
   "source": [
    "Reviews - сложносоставной качественный признак. Значения признака имеют тип string, но выглядят как list с текстом и датами. Эту информацию нужно извлечь.  \n",
    "Пропуски заменим на '[[], []]'"
   ]
  },
  {
   "cell_type": "code",
   "execution_count": null,
   "metadata": {
    "execution": {
     "iopub.execute_input": "2021-09-14T13:37:49.650876Z",
     "iopub.status.busy": "2021-09-14T13:37:49.650512Z",
     "iopub.status.idle": "2021-09-14T13:37:49.664212Z",
     "shell.execute_reply": "2021-09-14T13:37:49.663034Z",
     "shell.execute_reply.started": "2021-09-14T13:37:49.650811Z"
    }
   },
   "outputs": [],
   "source": [
    "df['Reviews'].fillna('[[], []]', inplace=True)"
   ]
  },
  {
   "cell_type": "code",
   "execution_count": null,
   "metadata": {
    "execution": {
     "iopub.execute_input": "2021-09-14T13:37:49.665597Z",
     "iopub.status.busy": "2021-09-14T13:37:49.665311Z",
     "iopub.status.idle": "2021-09-14T13:37:49.77065Z",
     "shell.execute_reply": "2021-09-14T13:37:49.769545Z",
     "shell.execute_reply.started": "2021-09-14T13:37:49.66555Z"
    }
   },
   "outputs": [],
   "source": [
    "df[(df['Number of Reviews']>0)&(df['Reviews'] == '[[], []]')]"
   ]
  },
  {
   "cell_type": "code",
   "execution_count": null,
   "metadata": {
    "execution": {
     "iopub.execute_input": "2021-09-14T13:37:49.772424Z",
     "iopub.status.busy": "2021-09-14T13:37:49.772155Z",
     "iopub.status.idle": "2021-09-14T13:37:49.805662Z",
     "shell.execute_reply": "2021-09-14T13:37:49.804355Z",
     "shell.execute_reply.started": "2021-09-14T13:37:49.77238Z"
    }
   },
   "outputs": [],
   "source": [
    "# довольно много строк, где указано количество отзывов, но отзывов нет. Сохраним эту информацию\n",
    "df['missed_reviews'] = df[(df['Number of Reviews']>0)&(df['Reviews'] == '[[], []]')]['Reviews'].apply(lambda x: 1)\n",
    "df['missed_reviews'].fillna(0, inplace=True)"
   ]
  },
  {
   "cell_type": "code",
   "execution_count": null,
   "metadata": {
    "execution": {
     "iopub.execute_input": "2021-09-14T13:37:49.807923Z",
     "iopub.status.busy": "2021-09-14T13:37:49.807519Z",
     "iopub.status.idle": "2021-09-14T13:37:49.82127Z",
     "shell.execute_reply": "2021-09-14T13:37:49.819931Z",
     "shell.execute_reply.started": "2021-09-14T13:37:49.80783Z"
    }
   },
   "outputs": [],
   "source": [
    "df['missed_reviews'].value_counts()"
   ]
  },
  {
   "cell_type": "code",
   "execution_count": null,
   "metadata": {
    "execution": {
     "iopub.execute_input": "2021-09-14T13:37:49.823008Z",
     "iopub.status.busy": "2021-09-14T13:37:49.822706Z",
     "iopub.status.idle": "2021-09-14T13:37:51.566641Z",
     "shell.execute_reply": "2021-09-14T13:37:51.56578Z",
     "shell.execute_reply.started": "2021-09-14T13:37:49.822956Z"
    }
   },
   "outputs": [],
   "source": [
    "# вытащим информацию из столбца Reviews и разложим по отдельным признакам текст отзыва и дату отзыва\n",
    "nan = None\n",
    "df['reviews_text'] = df['Reviews'].apply(lambda x: eval(x)[0])\n",
    "df['reviews_date'] = df['Reviews'].apply(lambda x: eval(x)[1])\n",
    "df.head()"
   ]
  },
  {
   "cell_type": "code",
   "execution_count": null,
   "metadata": {
    "execution": {
     "iopub.execute_input": "2021-09-14T13:37:51.568353Z",
     "iopub.status.busy": "2021-09-14T13:37:51.56785Z",
     "iopub.status.idle": "2021-09-14T13:37:51.57353Z",
     "shell.execute_reply": "2021-09-14T13:37:51.572629Z",
     "shell.execute_reply.started": "2021-09-14T13:37:51.568285Z"
    }
   },
   "outputs": [],
   "source": [
    "def get_date(cell):\n",
    "    ''' Функция для обработки признака reviews_date.\n",
    "    Преобразует string в DateTimeIndex '''\n",
    "    if len(cell):\n",
    "        cell = pd.to_datetime(cell, errors='coerce', format='%m/%d/%Y')\n",
    "    return cell"
   ]
  },
  {
   "cell_type": "code",
   "execution_count": null,
   "metadata": {
    "execution": {
     "iopub.execute_input": "2021-09-14T13:37:51.575433Z",
     "iopub.status.busy": "2021-09-14T13:37:51.574925Z",
     "iopub.status.idle": "2021-09-14T13:38:13.839109Z",
     "shell.execute_reply": "2021-09-14T13:38:13.838148Z",
     "shell.execute_reply.started": "2021-09-14T13:37:51.575368Z"
    }
   },
   "outputs": [],
   "source": [
    "df['reviews_date'] = df['reviews_date'].apply(get_date)"
   ]
  },
  {
   "cell_type": "code",
   "execution_count": null,
   "metadata": {
    "execution": {
     "iopub.execute_input": "2021-09-14T13:38:13.849242Z",
     "iopub.status.busy": "2021-09-14T13:38:13.848729Z",
     "iopub.status.idle": "2021-09-14T13:38:13.855056Z",
     "shell.execute_reply": "2021-09-14T13:38:13.853958Z",
     "shell.execute_reply.started": "2021-09-14T13:38:13.84918Z"
    }
   },
   "outputs": [],
   "source": [
    "def time_delta(cell):\n",
    "    ''' Функция для обработки признака reviews_date.\n",
    "    Возвращает разницу в днях между датами отзывов.\n",
    "    Если отзыв всего один или их нет, возвращает -1'''\n",
    "    if len(cell)<2:\n",
    "        return -1\n",
    "    return np.abs((cell[0] - cell[1]).days)"
   ]
  },
  {
   "cell_type": "code",
   "execution_count": null,
   "metadata": {
    "execution": {
     "iopub.execute_input": "2021-09-14T13:38:13.857676Z",
     "iopub.status.busy": "2021-09-14T13:38:13.857264Z",
     "iopub.status.idle": "2021-09-14T13:38:15.818419Z",
     "shell.execute_reply": "2021-09-14T13:38:15.817256Z",
     "shell.execute_reply.started": "2021-09-14T13:38:13.857602Z"
    }
   },
   "outputs": [],
   "source": [
    "df['reviews_date_delta'] = df['reviews_date'].apply(time_delta)\n",
    "\n",
    "df.head()"
   ]
  },
  {
   "cell_type": "code",
   "execution_count": null,
   "metadata": {
    "execution": {
     "iopub.execute_input": "2021-09-14T13:38:15.820531Z",
     "iopub.status.busy": "2021-09-14T13:38:15.820218Z",
     "iopub.status.idle": "2021-09-14T13:38:15.831683Z",
     "shell.execute_reply": "2021-09-14T13:38:15.830672Z",
     "shell.execute_reply.started": "2021-09-14T13:38:15.82048Z"
    }
   },
   "outputs": [],
   "source": [
    "df['reviews_date_delta'].value_counts()"
   ]
  },
  {
   "cell_type": "code",
   "execution_count": null,
   "metadata": {
    "execution": {
     "iopub.execute_input": "2021-09-14T13:38:15.833394Z",
     "iopub.status.busy": "2021-09-14T13:38:15.833044Z",
     "iopub.status.idle": "2021-09-14T13:38:16.394862Z",
     "shell.execute_reply": "2021-09-14T13:38:16.393779Z",
     "shell.execute_reply.started": "2021-09-14T13:38:15.833343Z"
    }
   },
   "outputs": [],
   "source": [
    "df['reviews_date_delta'].hist(bins=100)"
   ]
  },
  {
   "cell_type": "code",
   "execution_count": null,
   "metadata": {
    "execution": {
     "iopub.execute_input": "2021-09-14T13:38:16.396188Z",
     "iopub.status.busy": "2021-09-14T13:38:16.395939Z",
     "iopub.status.idle": "2021-09-14T13:38:16.973609Z",
     "shell.execute_reply": "2021-09-14T13:38:16.972651Z",
     "shell.execute_reply.started": "2021-09-14T13:38:16.396151Z"
    }
   },
   "outputs": [],
   "source": [
    "df[df['reviews_date_delta']>1000]['reviews_date_delta'].hist(bins=100)"
   ]
  },
  {
   "cell_type": "code",
   "execution_count": null,
   "metadata": {
    "execution": {
     "iopub.execute_input": "2021-09-14T13:38:16.97673Z",
     "iopub.status.busy": "2021-09-14T13:38:16.976338Z",
     "iopub.status.idle": "2021-09-14T13:38:16.986947Z",
     "shell.execute_reply": "2021-09-14T13:38:16.986012Z",
     "shell.execute_reply.started": "2021-09-14T13:38:16.976671Z"
    }
   },
   "outputs": [],
   "source": [
    "# Действительно, на сайте по этому ресторану имеются всего 2 отзыва с разницей почти в 10 лет.\n",
    "df[df['reviews_date_delta'] == df['reviews_date_delta'].max()]['URL_TA'].values"
   ]
  },
  {
   "cell_type": "code",
   "execution_count": null,
   "metadata": {
    "execution": {
     "iopub.execute_input": "2021-09-14T13:38:16.989379Z",
     "iopub.status.busy": "2021-09-14T13:38:16.98898Z",
     "iopub.status.idle": "2021-09-14T13:38:16.997783Z",
     "shell.execute_reply": "2021-09-14T13:38:16.996687Z",
     "shell.execute_reply.started": "2021-09-14T13:38:16.989321Z"
    }
   },
   "outputs": [],
   "source": [
    "def fresh_review(cell):\n",
    "    ''' Функция возвращает дату самого свежего отзыва в UNIX-формате\n",
    "    Если отзыва нет, то возвращается 0'''\n",
    "    if len(cell) == 0:\n",
    "        return pd.to_datetime(0, unit='s').timestamp()\n",
    "    if len(cell) == 1:\n",
    "        return cell[0].timestamp()\n",
    "    return cell.max().timestamp()"
   ]
  },
  {
   "cell_type": "code",
   "execution_count": null,
   "metadata": {
    "execution": {
     "iopub.execute_input": "2021-09-14T13:38:17.000744Z",
     "iopub.status.busy": "2021-09-14T13:38:16.99993Z",
     "iopub.status.idle": "2021-09-14T13:38:23.163314Z",
     "shell.execute_reply": "2021-09-14T13:38:23.162462Z",
     "shell.execute_reply.started": "2021-09-14T13:38:17.000675Z"
    }
   },
   "outputs": [],
   "source": [
    "df['fresh_review_date'] = df['reviews_date'].apply(fresh_review)"
   ]
  },
  {
   "cell_type": "code",
   "execution_count": null,
   "metadata": {
    "execution": {
     "iopub.execute_input": "2021-09-14T13:38:23.164771Z",
     "iopub.status.busy": "2021-09-14T13:38:23.164401Z",
     "iopub.status.idle": "2021-09-14T13:38:23.202685Z",
     "shell.execute_reply": "2021-09-14T13:38:23.20194Z",
     "shell.execute_reply.started": "2021-09-14T13:38:23.164733Z"
    }
   },
   "outputs": [],
   "source": [
    "df.head()"
   ]
  },
  {
   "cell_type": "markdown",
   "metadata": {},
   "source": [
    "#### Признак \"Number of Reviews\"."
   ]
  },
  {
   "cell_type": "code",
   "execution_count": null,
   "metadata": {
    "execution": {
     "iopub.execute_input": "2021-09-14T13:38:23.20418Z",
     "iopub.status.busy": "2021-09-14T13:38:23.203712Z",
     "iopub.status.idle": "2021-09-14T13:38:23.227528Z",
     "shell.execute_reply": "2021-09-14T13:38:23.226462Z",
     "shell.execute_reply.started": "2021-09-14T13:38:23.204136Z"
    }
   },
   "outputs": [],
   "source": [
    "# Посмотрим на признак в первом приближении\n",
    "look_at('Number of Reviews')"
   ]
  },
  {
   "cell_type": "markdown",
   "metadata": {},
   "source": [
    "Number of Reviews - числовой признак.  \n",
    "Содержит около 6% пропусков.  \n",
    "Посмотрим на распределение признака."
   ]
  },
  {
   "cell_type": "code",
   "execution_count": null,
   "metadata": {
    "execution": {
     "iopub.execute_input": "2021-09-14T13:38:23.229038Z",
     "iopub.status.busy": "2021-09-14T13:38:23.228673Z",
     "iopub.status.idle": "2021-09-14T13:38:23.240455Z",
     "shell.execute_reply": "2021-09-14T13:38:23.239473Z",
     "shell.execute_reply.started": "2021-09-14T13:38:23.229Z"
    }
   },
   "outputs": [],
   "source": [
    "df[df['Number of Reviews']==1]['Number of Reviews'].value_counts()"
   ]
  },
  {
   "cell_type": "markdown",
   "metadata": {},
   "source": [
    "Странно, что нет ресторанов с одним отзывом.."
   ]
  },
  {
   "cell_type": "code",
   "execution_count": null,
   "metadata": {
    "execution": {
     "iopub.execute_input": "2021-09-14T13:38:23.242373Z",
     "iopub.status.busy": "2021-09-14T13:38:23.241949Z",
     "iopub.status.idle": "2021-09-14T13:38:23.320041Z",
     "shell.execute_reply": "2021-09-14T13:38:23.319228Z",
     "shell.execute_reply.started": "2021-09-14T13:38:23.242277Z"
    }
   },
   "outputs": [],
   "source": [
    "df[df['Number of Reviews'].isna()]"
   ]
  },
  {
   "cell_type": "code",
   "execution_count": null,
   "metadata": {
    "execution": {
     "iopub.execute_input": "2021-09-14T13:38:23.321868Z",
     "iopub.status.busy": "2021-09-14T13:38:23.321581Z",
     "iopub.status.idle": "2021-09-14T13:38:23.354422Z",
     "shell.execute_reply": "2021-09-14T13:38:23.353612Z",
     "shell.execute_reply.started": "2021-09-14T13:38:23.321817Z"
    }
   },
   "outputs": [],
   "source": [
    "# Очевидно, есть ошибка в данных, когда отзывы есть, а их количества нет.\n",
    "# Заменим пропущенные значения количеством отзывов из столбца Reviews.\n",
    "\n",
    "df['Number of Reviews'].fillna(df['reviews_text'].apply(len), inplace=True)"
   ]
  },
  {
   "cell_type": "code",
   "execution_count": null,
   "metadata": {
    "execution": {
     "iopub.execute_input": "2021-09-14T13:38:23.356171Z",
     "iopub.status.busy": "2021-09-14T13:38:23.355864Z",
     "iopub.status.idle": "2021-09-14T13:38:23.933146Z",
     "shell.execute_reply": "2021-09-14T13:38:23.931973Z",
     "shell.execute_reply.started": "2021-09-14T13:38:23.356118Z"
    }
   },
   "outputs": [],
   "source": [
    "df['Number of Reviews'].hist(bins=100)"
   ]
  },
  {
   "cell_type": "code",
   "execution_count": null,
   "metadata": {
    "execution": {
     "iopub.execute_input": "2021-09-14T13:38:23.934774Z",
     "iopub.status.busy": "2021-09-14T13:38:23.934517Z",
     "iopub.status.idle": "2021-09-14T13:38:24.499194Z",
     "shell.execute_reply": "2021-09-14T13:38:24.498192Z",
     "shell.execute_reply.started": "2021-09-14T13:38:23.934726Z"
    }
   },
   "outputs": [],
   "source": [
    "df[df['Number of Reviews']>1000]['Number of Reviews'].hist(bins=100)"
   ]
  },
  {
   "cell_type": "markdown",
   "metadata": {},
   "source": [
    "#### Признак \"ID_TA\"."
   ]
  },
  {
   "cell_type": "code",
   "execution_count": null,
   "metadata": {
    "execution": {
     "iopub.execute_input": "2021-09-14T13:38:24.500787Z",
     "iopub.status.busy": "2021-09-14T13:38:24.500517Z",
     "iopub.status.idle": "2021-09-14T13:38:24.565626Z",
     "shell.execute_reply": "2021-09-14T13:38:24.564732Z",
     "shell.execute_reply.started": "2021-09-14T13:38:24.500744Z"
    }
   },
   "outputs": [],
   "source": [
    "# Посмотрим на признак в первом приближении\n",
    "look_at('ID_TA')"
   ]
  },
  {
   "cell_type": "code",
   "execution_count": null,
   "metadata": {
    "execution": {
     "iopub.execute_input": "2021-09-14T13:38:24.569599Z",
     "iopub.status.busy": "2021-09-14T13:38:24.569274Z",
     "iopub.status.idle": "2021-09-14T13:38:24.631363Z",
     "shell.execute_reply": "2021-09-14T13:38:24.630249Z",
     "shell.execute_reply.started": "2021-09-14T13:38:24.569543Z"
    }
   },
   "outputs": [],
   "source": [
    "df['ID_TA'].value_counts()"
   ]
  },
  {
   "cell_type": "code",
   "execution_count": null,
   "metadata": {
    "execution": {
     "iopub.execute_input": "2021-09-14T13:38:24.633542Z",
     "iopub.status.busy": "2021-09-14T13:38:24.633256Z",
     "iopub.status.idle": "2021-09-14T13:38:24.719318Z",
     "shell.execute_reply": "2021-09-14T13:38:24.718277Z",
     "shell.execute_reply.started": "2021-09-14T13:38:24.633496Z"
    }
   },
   "outputs": [],
   "source": [
    "# Посмотрим на рестораны с одинаковым id\n",
    "df[df['ID_TA'].duplicated(keep=False)].sort_values(by=['ID_TA'])"
   ]
  },
  {
   "cell_type": "markdown",
   "metadata": {},
   "source": [
    "Видим, что 36 строк дублированы с небольшим отклонением Ranking.  \n",
    "По условию задачи строки удалять нельзя, поэтому ничего тут делать не будем, строк очень мало относительно выборки."
   ]
  },
  {
   "cell_type": "code",
   "execution_count": null,
   "metadata": {
    "execution": {
     "iopub.execute_input": "2021-09-14T13:38:24.721146Z",
     "iopub.status.busy": "2021-09-14T13:38:24.720755Z",
     "iopub.status.idle": "2021-09-14T13:38:24.80469Z",
     "shell.execute_reply": "2021-09-14T13:38:24.80307Z",
     "shell.execute_reply.started": "2021-09-14T13:38:24.721051Z"
    }
   },
   "outputs": [],
   "source": [
    "df['ID_TA_num'] = df['ID_TA'].apply(lambda x: int(x.replace('d','')))\n",
    "df[['ID_TA_num','Ranking','Rating']].corr()"
   ]
  },
  {
   "cell_type": "markdown",
   "metadata": {},
   "source": [
    "Явной зависимости ID_TA от ранга и рейтинга нет, в отличие от Restarant_id.  \n",
    "Я предполагаю, что ID_TA линейно растет относительно времени занесения ресторана в БД TA.  \n",
    "Возможно есть какая-либо взаимосвязь типа \"раньше оценки были другие..\" "
   ]
  },
  {
   "cell_type": "code",
   "execution_count": null,
   "metadata": {
    "execution": {
     "iopub.execute_input": "2021-09-14T13:38:24.807279Z",
     "iopub.status.busy": "2021-09-14T13:38:24.806897Z",
     "iopub.status.idle": "2021-09-14T13:38:24.856592Z",
     "shell.execute_reply": "2021-09-14T13:38:24.855355Z",
     "shell.execute_reply.started": "2021-09-14T13:38:24.807228Z"
    }
   },
   "outputs": [],
   "source": [
    "# Итого наш дополненный датасет\n",
    "df.sample(5)"
   ]
  },
  {
   "cell_type": "code",
   "execution_count": null,
   "metadata": {
    "execution": {
     "iopub.execute_input": "2021-09-14T13:38:24.858812Z",
     "iopub.status.busy": "2021-09-14T13:38:24.858494Z",
     "iopub.status.idle": "2021-09-14T13:38:24.931163Z",
     "shell.execute_reply": "2021-09-14T13:38:24.930218Z",
     "shell.execute_reply.started": "2021-09-14T13:38:24.858753Z"
    }
   },
   "outputs": [],
   "source": [
    "df.info()"
   ]
  },
  {
   "cell_type": "markdown",
   "metadata": {},
   "source": [
    "![](https://cs10.pikabu.ru/post_img/2018/09/06/11/1536261023140110012.jpg)"
   ]
  },
  {
   "cell_type": "markdown",
   "metadata": {},
   "source": [
    "# EDA \n",
    "[Exploratory Data Analysis](https://ru.wikipedia.org/wiki/Разведочный_анализ_данных) - Анализ данных\n",
    "На этом этапе мы строим графики, ищем закономерности, аномалии, выбросы или связи между признаками.\n",
    "В общем цель этого этапа понять, что эти данные могут нам дать и как признаки могут быть взаимосвязаны между собой.\n",
    "Понимание изначальных признаков позволит сгенерировать новые, более сильные и, тем самым, сделать нашу модель лучше.\n",
    "![](https://miro.medium.com/max/2598/1*RXdMb7Uk6mGqWqPguHULaQ.png)"
   ]
  },
  {
   "cell_type": "markdown",
   "metadata": {},
   "source": [
    "### Посмотрим распределение признака"
   ]
  },
  {
   "cell_type": "code",
   "execution_count": null,
   "metadata": {
    "execution": {
     "iopub.execute_input": "2021-09-14T13:38:24.932679Z",
     "iopub.status.busy": "2021-09-14T13:38:24.932412Z",
     "iopub.status.idle": "2021-09-14T13:38:25.466685Z",
     "shell.execute_reply": "2021-09-14T13:38:25.465925Z",
     "shell.execute_reply.started": "2021-09-14T13:38:24.932635Z"
    }
   },
   "outputs": [],
   "source": [
    "plt.rcParams['figure.figsize'] = (10,7)\n",
    "df_train['Ranking'].hist(bins=100)"
   ]
  },
  {
   "cell_type": "markdown",
   "metadata": {},
   "source": [
    "У нас много ресторанов, которые не дотягивают и до 2500 места в своем городе, а что там по городам?"
   ]
  },
  {
   "cell_type": "code",
   "execution_count": null,
   "metadata": {
    "execution": {
     "iopub.execute_input": "2021-09-14T13:38:25.468265Z",
     "iopub.status.busy": "2021-09-14T13:38:25.468004Z",
     "iopub.status.idle": "2021-09-14T13:38:25.95177Z",
     "shell.execute_reply": "2021-09-14T13:38:25.950752Z",
     "shell.execute_reply.started": "2021-09-14T13:38:25.468227Z"
    }
   },
   "outputs": [],
   "source": [
    "df_train['City'].value_counts(ascending=True).plot(kind='barh')"
   ]
  },
  {
   "cell_type": "markdown",
   "metadata": {},
   "source": [
    "А кто-то говорил, что французы любят поесть=) Посмотрим, как изменится распределение в большом городе:"
   ]
  },
  {
   "cell_type": "code",
   "execution_count": null,
   "metadata": {
    "execution": {
     "iopub.execute_input": "2021-09-14T13:38:25.9537Z",
     "iopub.status.busy": "2021-09-14T13:38:25.953403Z",
     "iopub.status.idle": "2021-09-14T13:38:26.525356Z",
     "shell.execute_reply": "2021-09-14T13:38:26.524118Z",
     "shell.execute_reply.started": "2021-09-14T13:38:25.953645Z"
    }
   },
   "outputs": [],
   "source": [
    "df_train['Ranking'][df_train['City'] =='London'].hist(bins=100)"
   ]
  },
  {
   "cell_type": "code",
   "execution_count": null,
   "metadata": {
    "execution": {
     "iopub.execute_input": "2021-09-14T13:38:26.528489Z",
     "iopub.status.busy": "2021-09-14T13:38:26.527939Z",
     "iopub.status.idle": "2021-09-14T13:38:29.303662Z",
     "shell.execute_reply": "2021-09-14T13:38:29.302512Z",
     "shell.execute_reply.started": "2021-09-14T13:38:26.528407Z"
    }
   },
   "outputs": [],
   "source": [
    "# посмотрим на топ 10 городов\n",
    "for x in (df_train['City'].value_counts())[0:10].index:\n",
    "    df_train['Ranking'][df_train['City'] == x].hist(bins=100)\n",
    "plt.show()"
   ]
  },
  {
   "cell_type": "markdown",
   "metadata": {},
   "source": [
    "Получается, что Ranking имеет нормальное распределение, просто в больших городах больше ресторанов, из-за мы этого имеем смещение.\n",
    "\n",
    ">Подумайте как из этого можно сделать признак для вашей модели. Я покажу вам пример, как визуализация помогает находить взаимосвязи. А далее действуйте без подсказок =) \n"
   ]
  },
  {
   "cell_type": "markdown",
   "metadata": {},
   "source": [
    "### Посмотрим распределение целевой переменной"
   ]
  },
  {
   "cell_type": "code",
   "execution_count": null,
   "metadata": {
    "execution": {
     "iopub.execute_input": "2021-09-14T13:38:29.305292Z",
     "iopub.status.busy": "2021-09-14T13:38:29.305006Z",
     "iopub.status.idle": "2021-09-14T13:38:29.79748Z",
     "shell.execute_reply": "2021-09-14T13:38:29.795459Z",
     "shell.execute_reply.started": "2021-09-14T13:38:29.305246Z"
    }
   },
   "outputs": [],
   "source": [
    "df_train['Rating'].value_counts(ascending=True).plot(kind='barh')"
   ]
  },
  {
   "cell_type": "markdown",
   "metadata": {},
   "source": [
    "### Посмотрим распределение целевой переменной относительно признака"
   ]
  },
  {
   "cell_type": "code",
   "execution_count": null,
   "metadata": {
    "execution": {
     "iopub.execute_input": "2021-09-14T13:38:29.800364Z",
     "iopub.status.busy": "2021-09-14T13:38:29.799855Z",
     "iopub.status.idle": "2021-09-14T13:38:30.332937Z",
     "shell.execute_reply": "2021-09-14T13:38:30.331975Z",
     "shell.execute_reply.started": "2021-09-14T13:38:29.800284Z"
    }
   },
   "outputs": [],
   "source": [
    "df_train['Ranking'][df_train['Rating'] == 5].hist(bins=100)"
   ]
  },
  {
   "cell_type": "code",
   "execution_count": null,
   "metadata": {
    "execution": {
     "iopub.execute_input": "2021-09-14T13:38:30.334669Z",
     "iopub.status.busy": "2021-09-14T13:38:30.334282Z",
     "iopub.status.idle": "2021-09-14T13:38:30.882811Z",
     "shell.execute_reply": "2021-09-14T13:38:30.881741Z",
     "shell.execute_reply.started": "2021-09-14T13:38:30.334512Z"
    }
   },
   "outputs": [],
   "source": [
    "df_train['Ranking'][df_train['Rating'] < 4].hist(bins=100)"
   ]
  },
  {
   "cell_type": "markdown",
   "metadata": {},
   "source": [
    "### И один из моих любимых - [корреляция признаков](https://ru.wikipedia.org/wiki/Корреляция)\n",
    "На этом графике уже сейчас вы сможете заметить, как признаки связаны между собой и с целевой переменной."
   ]
  },
  {
   "cell_type": "code",
   "execution_count": null,
   "metadata": {
    "execution": {
     "iopub.execute_input": "2021-09-14T13:38:30.884498Z",
     "iopub.status.busy": "2021-09-14T13:38:30.884248Z",
     "iopub.status.idle": "2021-09-14T13:38:31.662778Z",
     "shell.execute_reply": "2021-09-14T13:38:31.661712Z",
     "shell.execute_reply.started": "2021-09-14T13:38:30.884463Z"
    }
   },
   "outputs": [],
   "source": [
    "plt.rcParams['figure.figsize'] = (15,10)\n",
    "sns.heatmap(df.drop(['sample'], axis=1).corr(),)"
   ]
  },
  {
   "cell_type": "code",
   "execution_count": null,
   "metadata": {},
   "outputs": [],
   "source": []
  },
  {
   "cell_type": "markdown",
   "metadata": {},
   "source": [
    "Вообще благодаря визуализации в этом датасете можно узнать много интересных фактов, например:\n",
    "* где больше Пицерий в Мадриде или Лондоне?\n",
    "* в каком городе кухня ресторанов более разнообразна?\n",
    "\n",
    "придумайте свои вопрос и найдите на него ответ в данных)"
   ]
  },
  {
   "cell_type": "markdown",
   "metadata": {},
   "source": [
    "# Data Preprocessing\n",
    "Теперь, для удобства и воспроизводимости кода, завернем всю обработку в одну большую функцию."
   ]
  },
  {
   "cell_type": "code",
   "execution_count": 213,
   "metadata": {
    "execution": {
     "iopub.execute_input": "2021-09-14T13:55:51.996508Z",
     "iopub.status.busy": "2021-09-14T13:55:51.996187Z",
     "iopub.status.idle": "2021-09-14T13:55:52.347208Z",
     "shell.execute_reply": "2021-09-14T13:55:52.346101Z",
     "shell.execute_reply.started": "2021-09-14T13:55:51.996468Z"
    }
   },
   "outputs": [
    {
     "name": "stdout",
     "output_type": "stream",
     "text": [
      "<class 'pandas.core.frame.DataFrame'>\n",
      "RangeIndex: 50000 entries, 0 to 49999\n",
      "Data columns (total 11 columns):\n",
      "Restaurant_id        50000 non-null object\n",
      "City                 50000 non-null object\n",
      "Cuisine Style        38410 non-null object\n",
      "Ranking              50000 non-null float64\n",
      "Price Range          32639 non-null object\n",
      "Number of Reviews    46800 non-null float64\n",
      "Reviews              49998 non-null object\n",
      "URL_TA               50000 non-null object\n",
      "ID_TA                50000 non-null object\n",
      "sample               50000 non-null int64\n",
      "Rating               50000 non-null float64\n",
      "dtypes: float64(3), int64(1), object(7)\n",
      "memory usage: 4.2+ MB\n"
     ]
    }
   ],
   "source": [
    "# на всякий случай, заново подгружаем данные\n",
    "DATA_DIR = '/kaggle/input/sf-dst-restaurant-rating/'\n",
    "df_train = pd.read_csv(DATA_DIR+'/main_task.csv')\n",
    "df_test = pd.read_csv(DATA_DIR+'/kaggle_task.csv')\n",
    "df_train['sample'] = 1 # помечаем где у нас трейн\n",
    "df_test['sample'] = 0 # помечаем где у нас тест\n",
    "df_test['Rating'] = 0 # в тесте у нас нет значения Rating, мы его должны предсказать, по этому пока просто заполняем нулями\n",
    "sample_submission = pd.read_csv(DATA_DIR+'/sample_submission.csv')\n",
    "\n",
    "\n",
    "data = df_test.append(df_train, sort=False).reset_index(drop=True) # объединяем\n",
    "data.info()"
   ]
  },
  {
   "cell_type": "code",
   "execution_count": 214,
   "metadata": {
    "execution": {
     "iopub.execute_input": "2021-09-14T13:56:00.643230Z",
     "iopub.status.busy": "2021-09-14T13:56:00.642870Z",
     "iopub.status.idle": "2021-09-14T13:56:00.689158Z",
     "shell.execute_reply": "2021-09-14T13:56:00.688079Z",
     "shell.execute_reply.started": "2021-09-14T13:56:00.643173Z"
    }
   },
   "outputs": [],
   "source": [
    "def price_range_ord(cell):\n",
    "    ''' Функция меняет string значения ординального признака Price Range на целочисленные '''\n",
    "    if type(cell) == str:\n",
    "        cell = cell.replace('$$$$', '3')\n",
    "        cell = cell.replace('$$ - $$$', '2')\n",
    "        cell = cell.replace('$', '1')\n",
    "        cell = int(cell)\n",
    "    return cell\n",
    "\n",
    "def get_date(cell):\n",
    "    ''' Функция для обработки признака reviews_date.\n",
    "    Преобразует string в DateTimeIndex '''\n",
    "    if len(cell):\n",
    "        cell = pd.to_datetime(cell, errors='coerce', format='%m/%d/%Y')\n",
    "    return cell\n",
    "\n",
    "def time_delta(cell):\n",
    "    ''' Функция для обработки признака reviews_date.\n",
    "    Возвращает разницу в днях между датами отзывов.\n",
    "    Если отзыв всего один или их нет, возвращает -1'''\n",
    "    if len(cell)<2:\n",
    "        return -1\n",
    "    return np.abs((cell[0] - cell[1]).days)\n",
    "\n",
    "def fresh_review(cell):\n",
    "    ''' Функция возвращает дату самого свежего отзыва в UNIX-формате\n",
    "    Если отзыва нет, то возвращается 0'''\n",
    "    if len(cell) == 0:\n",
    "        return pd.to_datetime(0, unit='s').timestamp()\n",
    "    if len(cell) == 1:\n",
    "        return cell[0].timestamp()\n",
    "    return cell.max().timestamp()\n",
    "\n",
    "nan = None\n",
    "\n",
    "def preproc_data(df_input):\n",
    "    '''includes several functions to pre-process the predictor data.'''\n",
    "    \n",
    "    df_output = df_input.copy()\n",
    "    \n",
    "    # ################### 1. Предобработка ############################################################## \n",
    "    # исправляем ошибку в названии города\n",
    "    df_output['City'] = df_output['City'].replace('Oporto','Porto')\n",
    "    # подгружаем дополнительные признаки, связанные с типами кухонь и с городами\n",
    "    df_cuisine_types = pd.read_csv('/kaggle/input/sf-project3-datasets/cuisine_types.csv')\n",
    "    df_cities = pd.read_csv('/kaggle/input/sf-project3-datasets/cities.csv')\n",
    "    df_output = pd.merge(df_output, df_cities, how = 'left', on = 'City')\n",
    "\n",
    "    \n",
    "    \n",
    "    # ################### 2. NAN ############################################################## \n",
    "    # Далее заполняем пропуски, вы можете попробовать заполнением средним или средним по городу и тд...\n",
    "    df_output['Cuisine Style'].fillna(\"['unknown']\", inplace=True)\n",
    "     # Чтобы не потерялась информация о пропусках, предварительно создадим отдельный признак\n",
    "    df_output['missed_price_range'] = pd.isna(df_output['Price Range']).astype('uint8')\n",
    "    df_output['Price Range'].fillna(2, inplace=True)\n",
    "    df_output['Reviews'].fillna('[[], []]', inplace=True)\n",
    "\n",
    "    \n",
    "    \n",
    "    # ################### 3. Encoding ############################################################## \n",
    "    # Чтобы спарсить значения воспользуюсь встроенной функцией eval().\n",
    "    # В данном случае ее применение безопасно\n",
    "    df_output['Cuisine Style'] = df_output['Cuisine Style'].apply(lambda x: eval(x))\n",
    "    # вытащим информацию из столбца Reviews и разложим по отдельным признакам текст отзыва и дату отзыва\n",
    "    nan = None\n",
    "    df_output['reviews_text'] = df_output['Reviews'].apply(lambda x: eval(x)[0])\n",
    "    df_output['reviews_date'] = df_output['Reviews'].apply(lambda x: eval(x)[1])\n",
    "    df_output['reviews_date'] = df_output['reviews_date'].apply(get_date)\n",
    "    \n",
    "    \n",
    "    \n",
    "    # ################### 4. Feature Engineering ####################################################\n",
    "    \n",
    "    # ########## City ###########\n",
    "    # Количество ресторанов в датасете для каждого города\n",
    "    rest_count = pd.DataFrame(df_output['City'].value_counts()).reset_index()\n",
    "    rest_count.columns = ['City','rest_count_in_city']\n",
    "    df_output = pd.merge(df_output, rest_count, how = 'left', on = 'City')\n",
    "    \n",
    "    \n",
    "    # ########## Cuisine Style ###########\n",
    "    # добавим столбец с типами предлагаемых кухонь\n",
    "    df_output['idx'] = df_output.index\n",
    "    df_tmp = pd.merge(df_output.explode('Cuisine Style')[['idx','Cuisine Style']], df_cuisine_types, on='Cuisine Style',how='left')\n",
    "    df_tmp.drop_duplicates(['idx','cuisine_type'], inplace=True)\n",
    "    df_tmp = df_tmp.groupby('idx')['cuisine_type'].apply(list).reset_index()\n",
    "    df_output = pd.merge(df_output, df_tmp, on='idx', how='left')\n",
    "    df_output.drop(['idx'], axis=1, inplace=True)\n",
    "    # Также добавим признак количество предлагаемых кухонь\n",
    "    df_output['cuisine_count'] = df_output['Cuisine Style'].str.len()\n",
    "    # Сейчас unknown считается за одну предлагаемую кухню. Исправим это.\n",
    "    # А также добавим отдельный признак на отстутствующие данные по Cuisine Style\n",
    "    df_output['missed_cuisine'] = df_output['Cuisine Style'].apply(lambda x: 1 if x == ['unknown'] else 0)\n",
    "    df_output['cuisine_count'] = (1 - df_output['missed_cuisine'])*df_output['cuisine_count']\n",
    "    \n",
    "    \n",
    "    # ########## Ranking ###########\n",
    "    # найдем средний ранг в каждом городе\n",
    "    mean_rank_in_city = df_output.groupby('City')['Ranking'].mean().reset_index()\n",
    "    mean_rank_in_city.rename(columns = {'Ranking':'mean_rank_in_city'}, inplace=True)\n",
    "    # добавим эту информацию в наш датасет\n",
    "    df_output = pd.merge(df_output,mean_rank_in_city, on='City',how='left')\n",
    "    # нормируем ранг ресторанов относительно города, в которм они находятся\n",
    "    df_output['norm_rank_mean'] = (df_output['Ranking'] - df_output['mean_rank_in_city'])/df_output['mean_rank_in_city']\n",
    "    # найдем максимальный ранг в каждом городе\n",
    "    max_rank_in_city = df_output.groupby('City')['Ranking'].max().reset_index()\n",
    "    max_rank_in_city.rename(columns = {'Ranking':'max_rank_in_city'}, inplace=True)\n",
    "    # добавим эту информацию в наш датасет\n",
    "    df_output = pd.merge(df_output,max_rank_in_city, on='City',how='left')\n",
    "    # идея нормирования в данном случае такая: новый ранг ресторана на 1 месте равен единице, а новый ранг ресторана на последнем месте стремится к 0.\n",
    "    df_output['norm_rank_max'] = (df_output['max_rank_in_city'] + 1 - df_output['Ranking'])/df_output['max_rank_in_city']\n",
    "    \n",
    "    \n",
    "    # ########## Price Range ###########\n",
    "    # заменим категориальные признаки на ординальные.\n",
    "    df_output['Price Range'] = df_output['Price Range'].apply(price_range_ord)\n",
    "    \n",
    "    \n",
    "    # ########## Reviews ###########\n",
    "    # довольно много строк, где указано количество отзывов, но отзывов нет. Сохраним эту информацию\n",
    "    df_output['missed_reviews'] = df_output[(df_output['Number of Reviews']>0)&(df_output['Reviews'] == '[[], []]')]['Reviews'].apply(lambda x: 1)\n",
    "    df_output['missed_reviews'].fillna(0, inplace=True)\n",
    "    # добавим информацию о разнице между датами отзывов\n",
    "    df_output['reviews_date_delta'] = df_output['reviews_date'].apply(time_delta)\n",
    "    # добавим информацию о дате последнего отзыва о каждом из ресторанов в UNIX-формате\n",
    "    df_output['fresh_review_date'] = df_output['reviews_date'].apply(fresh_review)\n",
    "    \n",
    "    \n",
    "    # ########## Number of Reviews ###########\n",
    "    # Очевидно, есть ошибка в данных, когда отзывы есть, а их количества нет.\n",
    "    # Заменим пропущенные значения количеством отзывов из столбца Reviews.\n",
    "    df_output['Number of Reviews'].fillna(df_output['reviews_text'].apply(len), inplace=True)\n",
    "    \n",
    "    \n",
    "    # ########## ID_TA ###########\n",
    "    # Видим, что 36 строк дублированы с небольшим отклонением Ranking.\n",
    "    # По условию задачи строки удалять нельзя, поэтому ничего тут делать не будем, строк очень мало относительно выборки.\n",
    "    # Явной зависимости ID_TA от ранга и рейтинга нет, в отличие от Restarant_id.\n",
    "    # Я предполагаю, что ID_TA линейно растет относительно времени занесения ресторана в БД TA.\n",
    "    # Возможно есть какая-либо взаимосвязь типа \"раньше оценки были другие..\"\n",
    "    df_output['ID_TA_num'] = df_output['ID_TA'].apply(lambda x: int(x.replace('d','')))\n",
    "    \n",
    "    \n",
    "    # ################### 5. Encoding ##############################################################     \n",
    "    # One-Hot Encoding\n",
    "    df_output = pd.get_dummies(df_output, columns=['City','country'], dummy_na=True)\n",
    "    # На всякий случай дополнительно сделаю dummy переменные для Price Range\n",
    "    df_output = df_output.join(pd.get_dummies(df_output['Price Range']))\n",
    "    # Multilabel Encoding\n",
    "    mlb = MultiLabelBinarizer()\n",
    "    s1 = df_output['Cuisine Style']\n",
    "    s2 = df_output['cuisine_type']\n",
    "    df_output = df_output.join(pd.DataFrame(mlb.fit_transform(s1),columns=mlb.classes_, index=df_output.index), rsuffix='_right')\n",
    "    df_output = df_output.join(pd.DataFrame(mlb.fit_transform(s2),columns=mlb.classes_, index=df_output.index), rsuffix='_right')\n",
    "\n",
    "    \n",
    "    # ################### 6. Clean #################################################### \n",
    "    # убираем признаки которые еще не успели обработать, \n",
    "    # модель на признаках с dtypes \"object\" обучаться не будет, просто выберим их и удалим\n",
    "    object_columns = [s for s in df_output.columns if df_output[s].dtypes == 'object']\n",
    "    df_output.drop(object_columns, axis = 1, inplace=True)\n",
    "    \n",
    "    return df_output"
   ]
  },
  {
   "cell_type": "markdown",
   "metadata": {},
   "source": [
    ">По хорошему, можно было бы перевести эту большую функцию в класс и разбить на подфункции (согласно ООП). "
   ]
  },
  {
   "cell_type": "markdown",
   "metadata": {},
   "source": [
    "#### Запускаем и проверяем что получилось"
   ]
  },
  {
   "cell_type": "code",
   "execution_count": 215,
   "metadata": {
    "execution": {
     "iopub.execute_input": "2021-09-14T13:56:04.476648Z",
     "iopub.status.busy": "2021-09-14T13:56:04.476287Z",
     "iopub.status.idle": "2021-09-14T13:56:45.770921Z",
     "shell.execute_reply": "2021-09-14T13:56:45.769756Z",
     "shell.execute_reply.started": "2021-09-14T13:56:04.476588Z"
    }
   },
   "outputs": [],
   "source": [
    "df_ml = preproc_data(data)"
   ]
  },
  {
   "cell_type": "code",
   "execution_count": 216,
   "metadata": {
    "execution": {
     "iopub.execute_input": "2021-09-14T13:56:48.415538Z",
     "iopub.status.busy": "2021-09-14T13:56:48.415162Z",
     "iopub.status.idle": "2021-09-14T13:56:48.441707Z",
     "shell.execute_reply": "2021-09-14T13:56:48.440688Z",
     "shell.execute_reply.started": "2021-09-14T13:56:48.415476Z"
    }
   },
   "outputs": [],
   "source": [
    "df_preproc = df_ml.copy()"
   ]
  },
  {
   "cell_type": "code",
   "execution_count": 217,
   "metadata": {
    "execution": {
     "iopub.execute_input": "2021-09-14T13:56:50.646330Z",
     "iopub.status.busy": "2021-09-14T13:56:50.645745Z",
     "iopub.status.idle": "2021-09-14T13:56:50.676962Z",
     "shell.execute_reply": "2021-09-14T13:56:50.675208Z",
     "shell.execute_reply.started": "2021-09-14T13:56:50.646042Z"
    }
   },
   "outputs": [
    {
     "name": "stdout",
     "output_type": "stream",
     "text": [
      "<class 'pandas.core.frame.DataFrame'>\n",
      "Int64Index: 50000 entries, 0 to 49999\n",
      "Columns: 219 entries, Ranking to unknown_right\n",
      "dtypes: float64(11), int64(148), uint8(60)\n",
      "memory usage: 63.9 MB\n"
     ]
    }
   ],
   "source": [
    "df_preproc.info()"
   ]
  },
  {
   "cell_type": "code",
   "execution_count": 218,
   "metadata": {
    "execution": {
     "iopub.execute_input": "2021-09-14T13:56:54.614364Z",
     "iopub.status.busy": "2021-09-14T13:56:54.613951Z",
     "iopub.status.idle": "2021-09-14T13:56:54.621661Z",
     "shell.execute_reply": "2021-09-14T13:56:54.620800Z",
     "shell.execute_reply.started": "2021-09-14T13:56:54.614314Z"
    }
   },
   "outputs": [],
   "source": [
    "def print_full(df):\n",
    "    ''' Функция для отображения всех строк DataFrame '''\n",
    "    import pandas as pd\n",
    "    pd.set_option('display.max_rows', len(df))\n",
    "    print(df)\n",
    "    pd.reset_option('display.max_rows')\n",
    "    \n",
    "def display_full(df):\n",
    "    ''' Функция для отображения всех строк DataFrame '''\n",
    "    import pandas as pd\n",
    "    pd.set_option('display.max_rows', len(df))\n",
    "    display(df)\n",
    "    pd.reset_option('display.max_rows')"
   ]
  },
  {
   "cell_type": "code",
   "execution_count": null,
   "metadata": {
    "_kg_hide-output": false,
    "execution": {
     "iopub.execute_input": "2021-09-14T13:39:12.752303Z",
     "iopub.status.busy": "2021-09-14T13:39:12.752003Z",
     "iopub.status.idle": "2021-09-14T13:39:12.795815Z",
     "shell.execute_reply": "2021-09-14T13:39:12.794937Z",
     "shell.execute_reply.started": "2021-09-14T13:39:12.752252Z"
    }
   },
   "outputs": [],
   "source": [
    "display_full(pd.DataFrame(df_preproc.columns))"
   ]
  },
  {
   "cell_type": "code",
   "execution_count": 219,
   "metadata": {
    "execution": {
     "iopub.execute_input": "2021-09-14T13:57:03.355680Z",
     "iopub.status.busy": "2021-09-14T13:57:03.355370Z",
     "iopub.status.idle": "2021-09-14T13:57:03.374191Z",
     "shell.execute_reply": "2021-09-14T13:57:03.373107Z",
     "shell.execute_reply.started": "2021-09-14T13:57:03.355632Z"
    }
   },
   "outputs": [],
   "source": [
    "# первая итерация ранжировала признаки по степени влияния на модель (от наименее до наиболее влиятельного)\n",
    "# зафиксирую его здесь, чтобы каждый раз не перезапускать процесс обучения на полном наборе признаков\n",
    "sorted_features = ['country_nan', 'City_nan', 'Polynesian', 'Caucasian',\n",
    "       'New Zealand', 'Yunnan', 'Albanian', 'Native American', 'Xinjiang',\n",
    "       'Burmese', 'Latvian', 'Canadian', 'Salvadoran', 'Azerbaijani',\n",
    "       'Chilean', 'Minority Chinese', 'Fujian', 'Uzbek', 'Welsh',\n",
    "       'Ecuadorean', 'Egyptian', 'Mongolian', 'Singaporean', 'Filipino',\n",
    "       'Hawaiian', 'Cambodian', 'Romanian', 'Jamaican', 'Armenian',\n",
    "       'Southwestern', 'Tibetan', 'Australian', 'Slovenian',\n",
    "       'Central Asian', 'Venezuelan', 'Norwegian', 'Afghani', 'Tunisian',\n",
    "       'Central American', 'Israeli', 'Georgian', 'Croatian', 'Colombian',\n",
    "       'Caribbean', 'Indonesian', 'Russian', 'Ukrainian', 'Bangladeshi',\n",
    "       'Sri Lankan', 'Persian', 'Kosher', 'Peruvian', 'City_Ljubljana',\n",
    "       'Arabic', 'Argentinean', 'Cuban', 'country_Slovenia', 'City_Oslo',\n",
    "       'City_Helsinki', 'country_Norway', 'country_Finland',\n",
    "       'City_Luxembourg', 'Malaysian', 'Swedish', 'Moroccan', 'Balti',\n",
    "       'Cajun & Creole', 'Latin', 'country_Luxembourg', 'Brazilian',\n",
    "       'Irish', 'Eastern European', 'Ethiopian', 'country_United Kingdom',\n",
    "       'Brew Pub', 'Nepali', 'City_London', 'Taiwanese', 'South American',\n",
    "       'City_Dublin', 'Pakistani', 'Korean', 'Scandinavian',\n",
    "       'country_Ireland', 'City_Geneva', 'country_Denmark', 'Lebanese',\n",
    "       'country_Portugal', 'City_Lisbon', 'City_Copenhagen', 'Scottish',\n",
    "       'Swiss', 'country_Poland', 'Street Food', 'country_Switzerland',\n",
    "       'City_Zurich', 'African_right', 'Barbecue', 'Diner', 'Hungarian',\n",
    "       'Polish', 'City_Warsaw', 'Danish', 'African', 'Vietnamese',\n",
    "       'Middle Eastern', 'Belgian', 'Austrian', 'country_Greece', 3,\n",
    "       'country_Hungary', 'City_Vienna', 'Steakhouse', 'City_Athens',\n",
    "       'City_Prague', 'country_Austria', 'Soups', 'country_Belgium',\n",
    "       'Contemporary', 'City_Milan', 'City_Munich', 'City_Krakow',\n",
    "       'Halal', 'Grill', 'City_Lyon', 'City_Budapest', 'City_Brussels',\n",
    "       'American', 'Turkish', 'country_Czech Republic', 'Mexican',\n",
    "       'country_Sweden', 'Sushi', 'City_Bratislava', 'Gastropub',\n",
    "       'country_Italy', 'Greek', 'Dutch', 'City_Stockholm',\n",
    "       'country_Slovakia', 'American_right', 'Midle_eastern', 'Czech',\n",
    "       'British', 'City_Paris', 'Asian_national', 'missed_cuisine',\n",
    "       'Central European', 'Gluten Free Options', 'Thai', 'City_Hamburg',\n",
    "       'unknown_right', 'City_Berlin', 'German', 'City_Porto', 'unknown',\n",
    "       'Asian', 'Healthy', 'Delicatessen', 'Bar_right', 'Japanese',\n",
    "       'Wine Bar', 'Fast Food', 'country_France', 'is_capital', 'Seafood',\n",
    "       'Pub', 'Chinese', 'Vegetarian Friendly', 'Bar', 'Fast',\n",
    "       'City_Edinburgh', 'City_Barcelona', 'Vegan Options',\n",
    "       'International', 'Seafood_right', 'Cafe', 'Asian_right',\n",
    "       'country_Germany', 'Portuguese', 'country_Scotland', 1,\n",
    "       'European_right', 'Healthy_right', 'Mediterranean', 'Fusion',\n",
    "       'missed_reviews', 'European', 'Pizza', 'Indian', 2, 'French',\n",
    "       'Spanish', 'Price Range', 'City_Amsterdam', 'country_Netherlands',\n",
    "       'Specific', 'country_Spain', 'Italian', 'European_national',\n",
    "       'missed_price_range', 'max_rank_in_city', 'rest_count_in_city',\n",
    "       'mean_rank_in_city', 'cuisine_count', 'population', 'lon',\n",
    "       'City_Madrid', 'lat', 'reviews_date_delta', 'fresh_review_date',\n",
    "       'Ranking', 'ID_TA_num', 'City_Rome', 'Number of Reviews',\n",
    "       'norm_rank_mean', 'norm_rank_max']"
   ]
  },
  {
   "cell_type": "code",
   "execution_count": 220,
   "metadata": {
    "execution": {
     "iopub.execute_input": "2021-09-14T13:57:09.334746Z",
     "iopub.status.busy": "2021-09-14T13:57:09.334386Z",
     "iopub.status.idle": "2021-09-14T13:57:09.365948Z",
     "shell.execute_reply": "2021-09-14T13:57:09.365121Z",
     "shell.execute_reply.started": "2021-09-14T13:57:09.334659Z"
    }
   },
   "outputs": [],
   "source": [
    "# удалим признаки с нулевым влиянием\n",
    "df_preproc.drop(sorted_features[0:7], axis=1, inplace=True)"
   ]
  },
  {
   "cell_type": "code",
   "execution_count": null,
   "metadata": {
    "execution": {
     "iopub.execute_input": "2021-09-14T13:39:12.862791Z",
     "iopub.status.busy": "2021-09-14T13:39:12.862501Z",
     "iopub.status.idle": "2021-09-14T13:39:12.890406Z",
     "shell.execute_reply": "2021-09-14T13:39:12.889109Z",
     "shell.execute_reply.started": "2021-09-14T13:39:12.862745Z"
    }
   },
   "outputs": [],
   "source": [
    "# удалим признак ненормированный признак Ranking, чтобы он не сбивал картину по маленьким городам\n",
    "#df_preproc.drop('Ranking', axis=1, inplace=True)"
   ]
  },
  {
   "cell_type": "code",
   "execution_count": 221,
   "metadata": {
    "execution": {
     "iopub.execute_input": "2021-09-14T13:57:18.168022Z",
     "iopub.status.busy": "2021-09-14T13:57:18.167682Z",
     "iopub.status.idle": "2021-09-14T13:57:18.275353Z",
     "shell.execute_reply": "2021-09-14T13:57:18.274432Z",
     "shell.execute_reply.started": "2021-09-14T13:57:18.167967Z"
    }
   },
   "outputs": [],
   "source": [
    "# Теперь выделим тестовую часть\n",
    "train_data = df_preproc.query('sample == 1').drop(['sample'], axis=1)\n",
    "test_data = df_preproc.query('sample == 0').drop(['sample'], axis=1)\n",
    "\n",
    "y = train_data.Rating.values            # наш таргет\n",
    "X = train_data.drop(['Rating'], axis=1)"
   ]
  },
  {
   "cell_type": "markdown",
   "metadata": {},
   "source": [
    "**Перед тем как отправлять наши данные на обучение, разделим данные на еще один тест и трейн, для валидации. \n",
    "Это поможет нам проверить, как хорошо наша модель работает, до отправки submissiona на kaggle.**"
   ]
  },
  {
   "cell_type": "code",
   "execution_count": 222,
   "metadata": {
    "execution": {
     "iopub.execute_input": "2021-09-14T13:57:20.896161Z",
     "iopub.status.busy": "2021-09-14T13:57:20.895784Z",
     "iopub.status.idle": "2021-09-14T13:57:20.956005Z",
     "shell.execute_reply": "2021-09-14T13:57:20.955191Z",
     "shell.execute_reply.started": "2021-09-14T13:57:20.896073Z"
    }
   },
   "outputs": [],
   "source": [
    "# Воспользуемся специальной функцие train_test_split для разбивки тестовых данных\n",
    "# выделим 20% данных на валидацию (параметр test_size)\n",
    "X_train, X_test, y_train, y_test = train_test_split(X, y, test_size=0.2, random_state=RANDOM_SEED)"
   ]
  },
  {
   "cell_type": "code",
   "execution_count": 223,
   "metadata": {
    "execution": {
     "iopub.execute_input": "2021-09-14T13:57:23.525439Z",
     "iopub.status.busy": "2021-09-14T13:57:23.524855Z",
     "iopub.status.idle": "2021-09-14T13:57:23.533192Z",
     "shell.execute_reply": "2021-09-14T13:57:23.532241Z",
     "shell.execute_reply.started": "2021-09-14T13:57:23.525373Z"
    }
   },
   "outputs": [
    {
     "data": {
      "text/plain": [
       "((10000, 211), (40000, 211), (40000, 210), (32000, 210), (8000, 210))"
      ]
     },
     "execution_count": 223,
     "metadata": {},
     "output_type": "execute_result"
    }
   ],
   "source": [
    "# проверяем\n",
    "test_data.shape, train_data.shape, X.shape, X_train.shape, X_test.shape"
   ]
  },
  {
   "cell_type": "markdown",
   "metadata": {},
   "source": [
    "# Model \n",
    "Сам ML"
   ]
  },
  {
   "cell_type": "code",
   "execution_count": 224,
   "metadata": {
    "execution": {
     "iopub.execute_input": "2021-09-14T13:57:28.475521Z",
     "iopub.status.busy": "2021-09-14T13:57:28.475037Z",
     "iopub.status.idle": "2021-09-14T13:57:28.480641Z",
     "shell.execute_reply": "2021-09-14T13:57:28.479447Z",
     "shell.execute_reply.started": "2021-09-14T13:57:28.475476Z"
    }
   },
   "outputs": [],
   "source": [
    "# Импортируем необходимые библиотеки:\n",
    "from sklearn.ensemble import RandomForestRegressor # инструмент для создания и обучения модели\n",
    "from sklearn import metrics # инструменты для оценки точности модели"
   ]
  },
  {
   "cell_type": "code",
   "execution_count": 225,
   "metadata": {
    "execution": {
     "iopub.execute_input": "2021-09-14T13:57:30.315969Z",
     "iopub.status.busy": "2021-09-14T13:57:30.315512Z",
     "iopub.status.idle": "2021-09-14T13:57:30.321265Z",
     "shell.execute_reply": "2021-09-14T13:57:30.320107Z",
     "shell.execute_reply.started": "2021-09-14T13:57:30.315926Z"
    }
   },
   "outputs": [],
   "source": [
    "# Создаём модель (НАСТРОЙКИ НЕ ТРОГАЕМ)\n",
    "model = RandomForestRegressor(n_estimators=100, verbose=1, n_jobs=-1, random_state=RANDOM_SEED)"
   ]
  },
  {
   "cell_type": "code",
   "execution_count": 226,
   "metadata": {
    "execution": {
     "iopub.execute_input": "2021-09-14T13:57:32.897730Z",
     "iopub.status.busy": "2021-09-14T13:57:32.897411Z",
     "iopub.status.idle": "2021-09-14T13:58:03.088994Z",
     "shell.execute_reply": "2021-09-14T13:58:03.088038Z",
     "shell.execute_reply.started": "2021-09-14T13:57:32.897679Z"
    }
   },
   "outputs": [
    {
     "name": "stderr",
     "output_type": "stream",
     "text": [
      "[Parallel(n_jobs=-1)]: Using backend ThreadingBackend with 4 concurrent workers.\n",
      "[Parallel(n_jobs=-1)]: Done  42 tasks      | elapsed:   13.0s\n",
      "[Parallel(n_jobs=-1)]: Done 100 out of 100 | elapsed:   29.9s finished\n",
      "[Parallel(n_jobs=4)]: Using backend ThreadingBackend with 4 concurrent workers.\n",
      "[Parallel(n_jobs=4)]: Done  42 tasks      | elapsed:    0.0s\n",
      "[Parallel(n_jobs=4)]: Done 100 out of 100 | elapsed:    0.1s finished\n"
     ]
    }
   ],
   "source": [
    "# Обучаем модель на тестовом наборе данных\n",
    "model.fit(X_train, y_train)\n",
    "\n",
    "# Используем обученную модель для предсказания рейтинга ресторанов в тестовой выборке.\n",
    "# Предсказанные значения записываем в переменную y_pred\n",
    "y_pred = model.predict(X_test)"
   ]
  },
  {
   "cell_type": "code",
   "execution_count": 227,
   "metadata": {
    "execution": {
     "iopub.execute_input": "2021-09-14T13:58:05.976384Z",
     "iopub.status.busy": "2021-09-14T13:58:05.976040Z",
     "iopub.status.idle": "2021-09-14T13:58:05.984901Z",
     "shell.execute_reply": "2021-09-14T13:58:05.983563Z",
     "shell.execute_reply.started": "2021-09-14T13:58:05.976339Z"
    }
   },
   "outputs": [],
   "source": [
    "def rd(x, y=0):\n",
    "    ''' Функция математического округления '''\n",
    "    m = int('1' + '0' * y)  # multiplier - how many positions to the right\n",
    "    q = x * m  # shift to the right by multiplier\n",
    "    c = int(q)  # new number\n",
    "    i = int((q - c) * 10)  # indicator number on the right\n",
    "    if i >= 5:\n",
    "        c += 1\n",
    "    return c / m\n",
    "\n",
    "def r_half(x):\n",
    "    ''' Функция математического округления до 0.5 '''\n",
    "    q = x * 2\n",
    "    q = rd(q)\n",
    "    return q/2"
   ]
  },
  {
   "cell_type": "code",
   "execution_count": 228,
   "metadata": {
    "execution": {
     "iopub.execute_input": "2021-09-14T13:58:08.268450Z",
     "iopub.status.busy": "2021-09-14T13:58:08.268060Z",
     "iopub.status.idle": "2021-09-14T13:58:08.292040Z",
     "shell.execute_reply": "2021-09-14T13:58:08.291257Z",
     "shell.execute_reply.started": "2021-09-14T13:58:08.268390Z"
    }
   },
   "outputs": [],
   "source": [
    "# Приведем прогноз к возможным значениям оценок, т.е. окгруглим прогнозную оценкук до 0.5\n",
    "y_pred = np.array(pd.Series(y_pred).apply(r_half))"
   ]
  },
  {
   "cell_type": "code",
   "execution_count": 229,
   "metadata": {
    "execution": {
     "iopub.execute_input": "2021-09-14T13:58:10.226559Z",
     "iopub.status.busy": "2021-09-14T13:58:10.225975Z",
     "iopub.status.idle": "2021-09-14T13:58:10.234895Z",
     "shell.execute_reply": "2021-09-14T13:58:10.233722Z",
     "shell.execute_reply.started": "2021-09-14T13:58:10.226492Z"
    }
   },
   "outputs": [
    {
     "name": "stdout",
     "output_type": "stream",
     "text": [
      "MAE: 0.16275\n"
     ]
    }
   ],
   "source": [
    "# Сравниваем предсказанные значения (y_pred) с реальными (y_test), и смотрим насколько они в среднем отличаются\n",
    "# Метрика называется Mean Absolute Error (MAE) и показывает среднее отклонение предсказанных значений от фактических.\n",
    "print('MAE:', metrics.mean_absolute_error(y_test, y_pred))"
   ]
  },
  {
   "cell_type": "code",
   "execution_count": 230,
   "metadata": {
    "execution": {
     "iopub.execute_input": "2021-09-14T13:58:20.266905Z",
     "iopub.status.busy": "2021-09-14T13:58:20.266374Z",
     "iopub.status.idle": "2021-09-14T13:58:20.727169Z",
     "shell.execute_reply": "2021-09-14T13:58:20.725889Z",
     "shell.execute_reply.started": "2021-09-14T13:58:20.266834Z"
    }
   },
   "outputs": [
    {
     "data": {
      "text/plain": [
       "<matplotlib.axes._subplots.AxesSubplot at 0x7f5509c8b080>"
      ]
     },
     "execution_count": 230,
     "metadata": {},
     "output_type": "execute_result"
    },
    {
     "data": {
      "image/png": "[encoded data removed]",
      "text/plain": [
       "<Figure size 720x720 with 1 Axes>"
      ]
     },
     "metadata": {
      "needs_background": "light"
     },
     "output_type": "display_data"
    }
   ],
   "source": [
    "# в RandomForestRegressor есть возможность вывести самые важные признаки для модели\n",
    "plt.rcParams['figure.figsize'] = (10,10)\n",
    "feat_importances = pd.Series(model.feature_importances_, index=X.columns)\n",
    "feat_importances.nlargest(15).plot(kind='barh')"
   ]
  },
  {
   "cell_type": "code",
   "execution_count": 231,
   "metadata": {
    "execution": {
     "iopub.execute_input": "2021-09-14T13:58:23.165539Z",
     "iopub.status.busy": "2021-09-14T13:58:23.165073Z",
     "iopub.status.idle": "2021-09-14T13:58:23.280042Z",
     "shell.execute_reply": "2021-09-14T13:58:23.278932Z",
     "shell.execute_reply.started": "2021-09-14T13:58:23.165492Z"
    }
   },
   "outputs": [
    {
     "data": {
      "text/plain": [
       "array(['Burmese', 'Native American', 'Xinjiang', 'Azerbaijani',\n",
       "       'Canadian', 'Latvian', 'Salvadoran', 'Uzbek', 'Fujian', 'Chilean',\n",
       "       'Welsh', 'Armenian', 'Ecuadorean', 'Minority Chinese', 'Hawaiian',\n",
       "       'Egyptian', 'Mongolian', 'Singaporean', 'Filipino', 'Cambodian',\n",
       "       'Romanian', 'Jamaican', 'Southwestern', 'Slovenian', 'Tibetan',\n",
       "       'Central Asian', 'Australian', 'Venezuelan', 'Central American',\n",
       "       'Norwegian', 'Tunisian', 'Afghani', 'Georgian', 'Croatian',\n",
       "       'Israeli', 'Indonesian', 'Ukrainian', 'Caribbean', 'Persian',\n",
       "       'Russian', 'Colombian', 'Kosher', 'Sri Lankan', 'Bangladeshi',\n",
       "       'country_Slovenia', 'Argentinean', 'Cuban', 'Peruvian', 'Arabic',\n",
       "       'City_Ljubljana', 'country_Norway', 'country_Luxembourg',\n",
       "       'country_Finland', 'City_Helsinki', 'City_Oslo', 'Swedish',\n",
       "       'Malaysian', 'Balti', 'Cajun & Creole', 'Latin', 'Moroccan',\n",
       "       'City_Luxembourg', 'Brazilian', 'Eastern European', 'Irish',\n",
       "       'Nepali', 'Taiwanese', 'South American', 'City_London',\n",
       "       'country_United Kingdom', 'Brew Pub', 'Korean', 'Ethiopian',\n",
       "       'City_Dublin', 'Pakistani', 'country_Portugal', 'City_Geneva',\n",
       "       'country_Ireland', 'Scandinavian', 'City_Lisbon', 'Lebanese',\n",
       "       'City_Copenhagen', 'country_Denmark', 'Scottish', 'African_right',\n",
       "       'Swiss', 'Diner', 'country_Switzerland', 'country_Greece',\n",
       "       'Danish', 'Street Food', 'City_Zurich', 'country_Poland',\n",
       "       'Hungarian', 'City_Warsaw', 'Barbecue', 'Vietnamese', 'Polish',\n",
       "       'African', 'Middle Eastern', 3, 'Belgian', 'Austrian',\n",
       "       'Steakhouse', 'country_Austria', 'Contemporary',\n",
       "       'country_Czech Republic', 'Soups', 'country_Belgium',\n",
       "       'City_Budapest', 'City_Athens', 'City_Munich', 'City_Lyon',\n",
       "       'City_Vienna', 'country_Hungary', 'City_Milan', 'American',\n",
       "       'City_Krakow', 'City_Brussels', 'Halal', 'Grill', 'Mexican',\n",
       "       'City_Prague', 'City_Stockholm', 'country_Italy', 'Turkish',\n",
       "       'City_Bratislava', 'Sushi', 'Gastropub', 'Greek', 'country_Sweden',\n",
       "       'Midle_eastern', 'Dutch', 'country_Slovakia', 'Central European',\n",
       "       'British', 'Asian_national', 'Czech', 'American_right',\n",
       "       'City_Paris', 'City_Berlin', 'Thai', 'Gluten Free Options',\n",
       "       'unknown', 'City_Hamburg', 'German', 'Asian', 'unknown_right',\n",
       "       'missed_cuisine', 'City_Porto', 'country_France', 'Delicatessen',\n",
       "       'Japanese', 'Bar_right', 'Wine Bar', 'Fast Food', 'Seafood',\n",
       "       'Healthy', 'Pub', 'is_capital', 'Chinese', 'Vegetarian Friendly',\n",
       "       'Bar', 'Fast', 'City_Barcelona', 'Vegan Options', 'International',\n",
       "       'City_Edinburgh', 'Seafood_right', 'Asian_right', 1, 'Cafe',\n",
       "       'country_Scotland', 'Portuguese', 'country_Germany',\n",
       "       'Healthy_right', 'European_right', 2, 'missed_reviews',\n",
       "       'Mediterranean', 'European', 'Pizza', 'Indian', 'Fusion', 'French',\n",
       "       'Spanish', 'City_Amsterdam', 'Price Range', 'country_Netherlands',\n",
       "       'Specific', 'country_Spain', 'Italian', 'European_national',\n",
       "       'max_rank_in_city', 'missed_price_range', 'rest_count_in_city',\n",
       "       'mean_rank_in_city', 'cuisine_count', 'population', 'lon',\n",
       "       'City_Madrid', 'lat', 'reviews_date_delta', 'fresh_review_date',\n",
       "       'Ranking', 'ID_TA_num', 'City_Rome', 'Number of Reviews',\n",
       "       'norm_rank_mean', 'norm_rank_max'], dtype=object)"
      ]
     },
     "metadata": {},
     "output_type": "display_data"
    }
   ],
   "source": [
    "feat_imp = pd.DataFrame(model.feature_importances_, index=X.columns).reset_index()\n",
    "feat_imp.columns = ['feat','imp']\n",
    "feat_imp.sort_values('imp', ascending=True, inplace=True)\n",
    "display_full(feat_imp.feat.values)"
   ]
  },
  {
   "cell_type": "code",
   "execution_count": 232,
   "metadata": {
    "execution": {
     "iopub.execute_input": "2021-09-14T13:58:29.803969Z",
     "iopub.status.busy": "2021-09-14T13:58:29.803641Z",
     "iopub.status.idle": "2021-09-14T13:58:29.813579Z",
     "shell.execute_reply": "2021-09-14T13:58:29.812262Z",
     "shell.execute_reply.started": "2021-09-14T13:58:29.803920Z"
    }
   },
   "outputs": [
    {
     "data": {
      "text/plain": [
       "0.000535461991803809"
      ]
     },
     "execution_count": 232,
     "metadata": {},
     "output_type": "execute_result"
    }
   ],
   "source": [
    "#top_feat = np.percentile(feat_imp.imp, 70)\n",
    "#top_feat"
   ]
  },
  {
   "cell_type": "code",
   "execution_count": 234,
   "metadata": {
    "execution": {
     "iopub.execute_input": "2021-09-14T13:58:55.694468Z",
     "iopub.status.busy": "2021-09-14T13:58:55.694143Z",
     "iopub.status.idle": "2021-09-14T13:58:55.699109Z",
     "shell.execute_reply": "2021-09-14T13:58:55.698070Z",
     "shell.execute_reply.started": "2021-09-14T13:58:55.694421Z"
    }
   },
   "outputs": [],
   "source": [
    "#drop_columns = feat_imp[feat_imp.imp < top_feat].feat"
   ]
  },
  {
   "cell_type": "markdown",
   "metadata": {},
   "source": [
    "# Submission\n",
    "Если все устраевает - готовим Submission на кагл"
   ]
  },
  {
   "cell_type": "code",
   "execution_count": 235,
   "metadata": {
    "execution": {
     "iopub.execute_input": "2021-09-14T13:58:55.701437Z",
     "iopub.status.busy": "2021-09-14T13:58:55.700912Z",
     "iopub.status.idle": "2021-09-14T13:58:55.741549Z",
     "shell.execute_reply": "2021-09-14T13:58:55.740758Z",
     "shell.execute_reply.started": "2021-09-14T13:58:55.701392Z"
    }
   },
   "outputs": [
    {
     "data": {
      "text/html": [
       "<div>\n",
       "<style scoped>\n",
       "    .dataframe tbody tr th:only-of-type {\n",
       "        vertical-align: middle;\n",
       "    }\n",
       "\n",
       "    .dataframe tbody tr th {\n",
       "        vertical-align: top;\n",
       "    }\n",
       "\n",
       "    .dataframe thead th {\n",
       "        text-align: right;\n",
       "    }\n",
       "</style>\n",
       "<table border=\"1\" class=\"dataframe\">\n",
       "  <thead>\n",
       "    <tr style=\"text-align: right;\">\n",
       "      <th></th>\n",
       "      <th>Ranking</th>\n",
       "      <th>Price Range</th>\n",
       "      <th>Number of Reviews</th>\n",
       "      <th>Rating</th>\n",
       "      <th>lat</th>\n",
       "      <th>lon</th>\n",
       "      <th>population</th>\n",
       "      <th>is_capital</th>\n",
       "      <th>missed_price_range</th>\n",
       "      <th>rest_count_in_city</th>\n",
       "      <th>...</th>\n",
       "      <th>Asian_national</th>\n",
       "      <th>Bar_right</th>\n",
       "      <th>European_right</th>\n",
       "      <th>European_national</th>\n",
       "      <th>Fast</th>\n",
       "      <th>Healthy_right</th>\n",
       "      <th>Midle_eastern</th>\n",
       "      <th>Seafood_right</th>\n",
       "      <th>Specific</th>\n",
       "      <th>unknown_right</th>\n",
       "    </tr>\n",
       "  </thead>\n",
       "  <tbody>\n",
       "    <tr>\n",
       "      <th>2875</th>\n",
       "      <td>300.0</td>\n",
       "      <td>1</td>\n",
       "      <td>89.0</td>\n",
       "      <td>0.0</td>\n",
       "      <td>41.157944</td>\n",
       "      <td>-8.629105</td>\n",
       "      <td>231962</td>\n",
       "      <td>0</td>\n",
       "      <td>0</td>\n",
       "      <td>642</td>\n",
       "      <td>...</td>\n",
       "      <td>0</td>\n",
       "      <td>0</td>\n",
       "      <td>1</td>\n",
       "      <td>1</td>\n",
       "      <td>0</td>\n",
       "      <td>0</td>\n",
       "      <td>0</td>\n",
       "      <td>0</td>\n",
       "      <td>0</td>\n",
       "      <td>0</td>\n",
       "    </tr>\n",
       "    <tr>\n",
       "      <th>7760</th>\n",
       "      <td>1579.0</td>\n",
       "      <td>2</td>\n",
       "      <td>10.0</td>\n",
       "      <td>0.0</td>\n",
       "      <td>47.376888</td>\n",
       "      <td>8.541694</td>\n",
       "      <td>428737</td>\n",
       "      <td>0</td>\n",
       "      <td>1</td>\n",
       "      <td>685</td>\n",
       "      <td>...</td>\n",
       "      <td>0</td>\n",
       "      <td>1</td>\n",
       "      <td>0</td>\n",
       "      <td>0</td>\n",
       "      <td>0</td>\n",
       "      <td>0</td>\n",
       "      <td>0</td>\n",
       "      <td>0</td>\n",
       "      <td>0</td>\n",
       "      <td>0</td>\n",
       "    </tr>\n",
       "    <tr>\n",
       "      <th>3572</th>\n",
       "      <td>1016.0</td>\n",
       "      <td>1</td>\n",
       "      <td>3.0</td>\n",
       "      <td>0.0</td>\n",
       "      <td>53.349804</td>\n",
       "      <td>-6.260310</td>\n",
       "      <td>554554</td>\n",
       "      <td>1</td>\n",
       "      <td>0</td>\n",
       "      <td>836</td>\n",
       "      <td>...</td>\n",
       "      <td>0</td>\n",
       "      <td>0</td>\n",
       "      <td>0</td>\n",
       "      <td>1</td>\n",
       "      <td>0</td>\n",
       "      <td>0</td>\n",
       "      <td>0</td>\n",
       "      <td>0</td>\n",
       "      <td>0</td>\n",
       "      <td>0</td>\n",
       "    </tr>\n",
       "    <tr>\n",
       "      <th>2006</th>\n",
       "      <td>277.0</td>\n",
       "      <td>2</td>\n",
       "      <td>130.0</td>\n",
       "      <td>0.0</td>\n",
       "      <td>45.764042</td>\n",
       "      <td>4.835659</td>\n",
       "      <td>515695</td>\n",
       "      <td>0</td>\n",
       "      <td>1</td>\n",
       "      <td>1126</td>\n",
       "      <td>...</td>\n",
       "      <td>0</td>\n",
       "      <td>0</td>\n",
       "      <td>0</td>\n",
       "      <td>0</td>\n",
       "      <td>0</td>\n",
       "      <td>0</td>\n",
       "      <td>0</td>\n",
       "      <td>0</td>\n",
       "      <td>0</td>\n",
       "      <td>1</td>\n",
       "    </tr>\n",
       "    <tr>\n",
       "      <th>9994</th>\n",
       "      <td>813.0</td>\n",
       "      <td>2</td>\n",
       "      <td>119.0</td>\n",
       "      <td>0.0</td>\n",
       "      <td>38.722252</td>\n",
       "      <td>-9.139337</td>\n",
       "      <td>506654</td>\n",
       "      <td>1</td>\n",
       "      <td>0</td>\n",
       "      <td>1647</td>\n",
       "      <td>...</td>\n",
       "      <td>0</td>\n",
       "      <td>0</td>\n",
       "      <td>1</td>\n",
       "      <td>1</td>\n",
       "      <td>0</td>\n",
       "      <td>0</td>\n",
       "      <td>0</td>\n",
       "      <td>1</td>\n",
       "      <td>0</td>\n",
       "      <td>0</td>\n",
       "    </tr>\n",
       "    <tr>\n",
       "      <th>4565</th>\n",
       "      <td>580.0</td>\n",
       "      <td>1</td>\n",
       "      <td>98.0</td>\n",
       "      <td>0.0</td>\n",
       "      <td>41.902782</td>\n",
       "      <td>12.496365</td>\n",
       "      <td>2856133</td>\n",
       "      <td>1</td>\n",
       "      <td>0</td>\n",
       "      <td>2589</td>\n",
       "      <td>...</td>\n",
       "      <td>0</td>\n",
       "      <td>0</td>\n",
       "      <td>1</td>\n",
       "      <td>1</td>\n",
       "      <td>0</td>\n",
       "      <td>1</td>\n",
       "      <td>0</td>\n",
       "      <td>1</td>\n",
       "      <td>0</td>\n",
       "      <td>0</td>\n",
       "    </tr>\n",
       "    <tr>\n",
       "      <th>2625</th>\n",
       "      <td>6048.0</td>\n",
       "      <td>1</td>\n",
       "      <td>46.0</td>\n",
       "      <td>0.0</td>\n",
       "      <td>41.385063</td>\n",
       "      <td>2.173404</td>\n",
       "      <td>1620343</td>\n",
       "      <td>0</td>\n",
       "      <td>0</td>\n",
       "      <td>3395</td>\n",
       "      <td>...</td>\n",
       "      <td>0</td>\n",
       "      <td>0</td>\n",
       "      <td>1</td>\n",
       "      <td>1</td>\n",
       "      <td>0</td>\n",
       "      <td>0</td>\n",
       "      <td>0</td>\n",
       "      <td>1</td>\n",
       "      <td>0</td>\n",
       "      <td>0</td>\n",
       "    </tr>\n",
       "    <tr>\n",
       "      <th>9785</th>\n",
       "      <td>2098.0</td>\n",
       "      <td>1</td>\n",
       "      <td>65.0</td>\n",
       "      <td>0.0</td>\n",
       "      <td>50.850346</td>\n",
       "      <td>4.351721</td>\n",
       "      <td>1211035</td>\n",
       "      <td>1</td>\n",
       "      <td>0</td>\n",
       "      <td>1314</td>\n",
       "      <td>...</td>\n",
       "      <td>0</td>\n",
       "      <td>0</td>\n",
       "      <td>0</td>\n",
       "      <td>0</td>\n",
       "      <td>0</td>\n",
       "      <td>0</td>\n",
       "      <td>0</td>\n",
       "      <td>0</td>\n",
       "      <td>1</td>\n",
       "      <td>0</td>\n",
       "    </tr>\n",
       "    <tr>\n",
       "      <th>6732</th>\n",
       "      <td>659.0</td>\n",
       "      <td>2</td>\n",
       "      <td>6.0</td>\n",
       "      <td>0.0</td>\n",
       "      <td>47.376888</td>\n",
       "      <td>8.541694</td>\n",
       "      <td>428737</td>\n",
       "      <td>0</td>\n",
       "      <td>1</td>\n",
       "      <td>685</td>\n",
       "      <td>...</td>\n",
       "      <td>0</td>\n",
       "      <td>0</td>\n",
       "      <td>0</td>\n",
       "      <td>0</td>\n",
       "      <td>0</td>\n",
       "      <td>0</td>\n",
       "      <td>0</td>\n",
       "      <td>0</td>\n",
       "      <td>0</td>\n",
       "      <td>1</td>\n",
       "    </tr>\n",
       "    <tr>\n",
       "      <th>3745</th>\n",
       "      <td>8644.0</td>\n",
       "      <td>2</td>\n",
       "      <td>6.0</td>\n",
       "      <td>0.0</td>\n",
       "      <td>48.856613</td>\n",
       "      <td>2.352222</td>\n",
       "      <td>2175601</td>\n",
       "      <td>1</td>\n",
       "      <td>1</td>\n",
       "      <td>6108</td>\n",
       "      <td>...</td>\n",
       "      <td>0</td>\n",
       "      <td>0</td>\n",
       "      <td>0</td>\n",
       "      <td>0</td>\n",
       "      <td>0</td>\n",
       "      <td>0</td>\n",
       "      <td>0</td>\n",
       "      <td>0</td>\n",
       "      <td>0</td>\n",
       "      <td>1</td>\n",
       "    </tr>\n",
       "  </tbody>\n",
       "</table>\n",
       "<p>10 rows × 211 columns</p>\n",
       "</div>"
      ],
      "text/plain": [
       "      Ranking  Price Range  Number of Reviews  Rating        lat        lon  \\\n",
       "2875    300.0            1               89.0     0.0  41.157944  -8.629105   \n",
       "7760   1579.0            2               10.0     0.0  47.376888   8.541694   \n",
       "3572   1016.0            1                3.0     0.0  53.349804  -6.260310   \n",
       "2006    277.0            2              130.0     0.0  45.764042   4.835659   \n",
       "9994    813.0            2              119.0     0.0  38.722252  -9.139337   \n",
       "4565    580.0            1               98.0     0.0  41.902782  12.496365   \n",
       "2625   6048.0            1               46.0     0.0  41.385063   2.173404   \n",
       "9785   2098.0            1               65.0     0.0  50.850346   4.351721   \n",
       "6732    659.0            2                6.0     0.0  47.376888   8.541694   \n",
       "3745   8644.0            2                6.0     0.0  48.856613   2.352222   \n",
       "\n",
       "      population  is_capital  missed_price_range  rest_count_in_city  ...  \\\n",
       "2875      231962           0                   0                 642  ...   \n",
       "7760      428737           0                   1                 685  ...   \n",
       "3572      554554           1                   0                 836  ...   \n",
       "2006      515695           0                   1                1126  ...   \n",
       "9994      506654           1                   0                1647  ...   \n",
       "4565     2856133           1                   0                2589  ...   \n",
       "2625     1620343           0                   0                3395  ...   \n",
       "9785     1211035           1                   0                1314  ...   \n",
       "6732      428737           0                   1                 685  ...   \n",
       "3745     2175601           1                   1                6108  ...   \n",
       "\n",
       "      Asian_national  Bar_right  European_right  European_national  Fast  \\\n",
       "2875               0          0               1                  1     0   \n",
       "7760               0          1               0                  0     0   \n",
       "3572               0          0               0                  1     0   \n",
       "2006               0          0               0                  0     0   \n",
       "9994               0          0               1                  1     0   \n",
       "4565               0          0               1                  1     0   \n",
       "2625               0          0               1                  1     0   \n",
       "9785               0          0               0                  0     0   \n",
       "6732               0          0               0                  0     0   \n",
       "3745               0          0               0                  0     0   \n",
       "\n",
       "      Healthy_right  Midle_eastern  Seafood_right  Specific  unknown_right  \n",
       "2875              0              0              0         0              0  \n",
       "7760              0              0              0         0              0  \n",
       "3572              0              0              0         0              0  \n",
       "2006              0              0              0         0              1  \n",
       "9994              0              0              1         0              0  \n",
       "4565              1              0              1         0              0  \n",
       "2625              0              0              1         0              0  \n",
       "9785              0              0              0         1              0  \n",
       "6732              0              0              0         0              1  \n",
       "3745              0              0              0         0              1  \n",
       "\n",
       "[10 rows x 211 columns]"
      ]
     },
     "execution_count": 235,
     "metadata": {},
     "output_type": "execute_result"
    }
   ],
   "source": [
    "test_data.sample(10)"
   ]
  },
  {
   "cell_type": "code",
   "execution_count": 236,
   "metadata": {
    "execution": {
     "iopub.execute_input": "2021-09-14T13:58:55.743636Z",
     "iopub.status.busy": "2021-09-14T13:58:55.743244Z",
     "iopub.status.idle": "2021-09-14T13:58:55.758617Z",
     "shell.execute_reply": "2021-09-14T13:58:55.757490Z",
     "shell.execute_reply.started": "2021-09-14T13:58:55.743597Z"
    }
   },
   "outputs": [],
   "source": [
    "test_data = test_data.drop(['Rating'], axis=1)"
   ]
  },
  {
   "cell_type": "code",
   "execution_count": 237,
   "metadata": {
    "execution": {
     "iopub.execute_input": "2021-09-14T13:58:55.761276Z",
     "iopub.status.busy": "2021-09-14T13:58:55.760743Z",
     "iopub.status.idle": "2021-09-14T13:58:55.783471Z",
     "shell.execute_reply": "2021-09-14T13:58:55.782071Z",
     "shell.execute_reply.started": "2021-09-14T13:58:55.761220Z"
    }
   },
   "outputs": [
    {
     "data": {
      "text/html": [
       "<div>\n",
       "<style scoped>\n",
       "    .dataframe tbody tr th:only-of-type {\n",
       "        vertical-align: middle;\n",
       "    }\n",
       "\n",
       "    .dataframe tbody tr th {\n",
       "        vertical-align: top;\n",
       "    }\n",
       "\n",
       "    .dataframe thead th {\n",
       "        text-align: right;\n",
       "    }\n",
       "</style>\n",
       "<table border=\"1\" class=\"dataframe\">\n",
       "  <thead>\n",
       "    <tr style=\"text-align: right;\">\n",
       "      <th></th>\n",
       "      <th>Restaurant_id</th>\n",
       "      <th>Rating</th>\n",
       "    </tr>\n",
       "  </thead>\n",
       "  <tbody>\n",
       "    <tr>\n",
       "      <th>0</th>\n",
       "      <td>id_0</td>\n",
       "      <td>2.0</td>\n",
       "    </tr>\n",
       "    <tr>\n",
       "      <th>1</th>\n",
       "      <td>id_1</td>\n",
       "      <td>2.5</td>\n",
       "    </tr>\n",
       "    <tr>\n",
       "      <th>2</th>\n",
       "      <td>id_2</td>\n",
       "      <td>4.0</td>\n",
       "    </tr>\n",
       "    <tr>\n",
       "      <th>3</th>\n",
       "      <td>id_3</td>\n",
       "      <td>1.0</td>\n",
       "    </tr>\n",
       "    <tr>\n",
       "      <th>4</th>\n",
       "      <td>id_4</td>\n",
       "      <td>4.0</td>\n",
       "    </tr>\n",
       "    <tr>\n",
       "      <th>...</th>\n",
       "      <td>...</td>\n",
       "      <td>...</td>\n",
       "    </tr>\n",
       "    <tr>\n",
       "      <th>9995</th>\n",
       "      <td>id_9995</td>\n",
       "      <td>3.0</td>\n",
       "    </tr>\n",
       "    <tr>\n",
       "      <th>9996</th>\n",
       "      <td>id_9996</td>\n",
       "      <td>1.5</td>\n",
       "    </tr>\n",
       "    <tr>\n",
       "      <th>9997</th>\n",
       "      <td>id_9997</td>\n",
       "      <td>4.5</td>\n",
       "    </tr>\n",
       "    <tr>\n",
       "      <th>9998</th>\n",
       "      <td>id_9998</td>\n",
       "      <td>1.0</td>\n",
       "    </tr>\n",
       "    <tr>\n",
       "      <th>9999</th>\n",
       "      <td>id_9999</td>\n",
       "      <td>2.5</td>\n",
       "    </tr>\n",
       "  </tbody>\n",
       "</table>\n",
       "<p>10000 rows × 2 columns</p>\n",
       "</div>"
      ],
      "text/plain": [
       "     Restaurant_id  Rating\n",
       "0             id_0     2.0\n",
       "1             id_1     2.5\n",
       "2             id_2     4.0\n",
       "3             id_3     1.0\n",
       "4             id_4     4.0\n",
       "...            ...     ...\n",
       "9995       id_9995     3.0\n",
       "9996       id_9996     1.5\n",
       "9997       id_9997     4.5\n",
       "9998       id_9998     1.0\n",
       "9999       id_9999     2.5\n",
       "\n",
       "[10000 rows x 2 columns]"
      ]
     },
     "execution_count": 237,
     "metadata": {},
     "output_type": "execute_result"
    }
   ],
   "source": [
    "sample_submission"
   ]
  },
  {
   "cell_type": "code",
   "execution_count": 238,
   "metadata": {
    "execution": {
     "iopub.execute_input": "2021-09-14T13:58:55.785669Z",
     "iopub.status.busy": "2021-09-14T13:58:55.785279Z",
     "iopub.status.idle": "2021-09-14T13:58:56.022330Z",
     "shell.execute_reply": "2021-09-14T13:58:56.021223Z",
     "shell.execute_reply.started": "2021-09-14T13:58:55.785599Z"
    }
   },
   "outputs": [
    {
     "name": "stderr",
     "output_type": "stream",
     "text": [
      "[Parallel(n_jobs=4)]: Using backend ThreadingBackend with 4 concurrent workers.\n",
      "[Parallel(n_jobs=4)]: Done  42 tasks      | elapsed:    0.1s\n",
      "[Parallel(n_jobs=4)]: Done 100 out of 100 | elapsed:    0.1s finished\n"
     ]
    }
   ],
   "source": [
    "predict_submission = model.predict(test_data)\n",
    "predict_submission = np.array(pd.Series(predict_submission).apply(r_half))"
   ]
  },
  {
   "cell_type": "code",
   "execution_count": 239,
   "metadata": {
    "execution": {
     "iopub.execute_input": "2021-09-14T13:58:56.024392Z",
     "iopub.status.busy": "2021-09-14T13:58:56.023966Z",
     "iopub.status.idle": "2021-09-14T13:58:56.032605Z",
     "shell.execute_reply": "2021-09-14T13:58:56.031318Z",
     "shell.execute_reply.started": "2021-09-14T13:58:56.024323Z"
    }
   },
   "outputs": [
    {
     "data": {
      "text/plain": [
       "array([3. , 4. , 4. , ..., 3. , 4.5, 4. ])"
      ]
     },
     "execution_count": 239,
     "metadata": {},
     "output_type": "execute_result"
    }
   ],
   "source": [
    "predict_submission"
   ]
  },
  {
   "cell_type": "code",
   "execution_count": 240,
   "metadata": {
    "execution": {
     "iopub.execute_input": "2021-09-14T13:58:56.034802Z",
     "iopub.status.busy": "2021-09-14T13:58:56.034264Z",
     "iopub.status.idle": "2021-09-14T13:58:56.083900Z",
     "shell.execute_reply": "2021-09-14T13:58:56.083214Z",
     "shell.execute_reply.started": "2021-09-14T13:58:56.034755Z"
    }
   },
   "outputs": [
    {
     "data": {
      "text/html": [
       "<div>\n",
       "<style scoped>\n",
       "    .dataframe tbody tr th:only-of-type {\n",
       "        vertical-align: middle;\n",
       "    }\n",
       "\n",
       "    .dataframe tbody tr th {\n",
       "        vertical-align: top;\n",
       "    }\n",
       "\n",
       "    .dataframe thead th {\n",
       "        text-align: right;\n",
       "    }\n",
       "</style>\n",
       "<table border=\"1\" class=\"dataframe\">\n",
       "  <thead>\n",
       "    <tr style=\"text-align: right;\">\n",
       "      <th></th>\n",
       "      <th>Restaurant_id</th>\n",
       "      <th>Rating</th>\n",
       "    </tr>\n",
       "  </thead>\n",
       "  <tbody>\n",
       "    <tr>\n",
       "      <th>0</th>\n",
       "      <td>id_0</td>\n",
       "      <td>3.0</td>\n",
       "    </tr>\n",
       "    <tr>\n",
       "      <th>1</th>\n",
       "      <td>id_1</td>\n",
       "      <td>4.0</td>\n",
       "    </tr>\n",
       "    <tr>\n",
       "      <th>2</th>\n",
       "      <td>id_2</td>\n",
       "      <td>4.0</td>\n",
       "    </tr>\n",
       "    <tr>\n",
       "      <th>3</th>\n",
       "      <td>id_3</td>\n",
       "      <td>4.5</td>\n",
       "    </tr>\n",
       "    <tr>\n",
       "      <th>4</th>\n",
       "      <td>id_4</td>\n",
       "      <td>4.5</td>\n",
       "    </tr>\n",
       "    <tr>\n",
       "      <th>5</th>\n",
       "      <td>id_5</td>\n",
       "      <td>4.5</td>\n",
       "    </tr>\n",
       "    <tr>\n",
       "      <th>6</th>\n",
       "      <td>id_6</td>\n",
       "      <td>2.0</td>\n",
       "    </tr>\n",
       "    <tr>\n",
       "      <th>7</th>\n",
       "      <td>id_7</td>\n",
       "      <td>3.0</td>\n",
       "    </tr>\n",
       "    <tr>\n",
       "      <th>8</th>\n",
       "      <td>id_8</td>\n",
       "      <td>4.0</td>\n",
       "    </tr>\n",
       "    <tr>\n",
       "      <th>9</th>\n",
       "      <td>id_9</td>\n",
       "      <td>4.5</td>\n",
       "    </tr>\n",
       "  </tbody>\n",
       "</table>\n",
       "</div>"
      ],
      "text/plain": [
       "  Restaurant_id  Rating\n",
       "0          id_0     3.0\n",
       "1          id_1     4.0\n",
       "2          id_2     4.0\n",
       "3          id_3     4.5\n",
       "4          id_4     4.5\n",
       "5          id_5     4.5\n",
       "6          id_6     2.0\n",
       "7          id_7     3.0\n",
       "8          id_8     4.0\n",
       "9          id_9     4.5"
      ]
     },
     "execution_count": 240,
     "metadata": {},
     "output_type": "execute_result"
    }
   ],
   "source": [
    "sample_submission['Rating'] = predict_submission\n",
    "sample_submission.to_csv('submission.csv', index=False)\n",
    "sample_submission.head(10)"
   ]
  },
  {
   "cell_type": "code",
   "execution_count": 241,
   "metadata": {
    "execution": {
     "iopub.execute_input": "2021-09-14T13:59:44.106464Z",
     "iopub.status.busy": "2021-09-14T13:59:44.106171Z",
     "iopub.status.idle": "2021-09-14T13:59:44.116622Z",
     "shell.execute_reply": "2021-09-14T13:59:44.115483Z",
     "shell.execute_reply.started": "2021-09-14T13:59:44.106428Z"
    }
   },
   "outputs": [
    {
     "data": {
      "text/plain": [
       "4.0    3742\n",
       "4.5    2834\n",
       "3.5    1626\n",
       "3.0     730\n",
       "5.0     707\n",
       "2.5     198\n",
       "2.0      91\n",
       "1.0      45\n",
       "1.5      27\n",
       "Name: Rating, dtype: int64"
      ]
     },
     "execution_count": 241,
     "metadata": {},
     "output_type": "execute_result"
    }
   ],
   "source": [
    "sample_submission.Rating.value_counts()"
   ]
  },
  {
   "cell_type": "markdown",
   "metadata": {},
   "source": [
    "# What's next?\n",
    "Или что делать, чтоб улучшить результат:\n",
    "* Обработать оставшиеся признаки в понятный для машины формат\n",
    "* Посмотреть, что еще можно извлечь из признаков\n",
    "* Сгенерировать новые признаки\n",
    "* Подгрузить дополнительные данные, например: по населению или благосостоянию городов\n",
    "* Подобрать состав признаков\n",
    "\n",
    "В общем, процесс творческий и весьма увлекательный! Удачи в соревновании!\n"
   ]
  },
  {
   "cell_type": "code",
   "execution_count": null,
   "metadata": {},
   "outputs": [],
   "source": []
  }
 ],
 "metadata": {
  "kernelspec": {
   "display_name": "Python 3",
   "language": "python",
   "name": "python3"
  },
  "language_info": {
   "codemirror_mode": {
    "name": "ipython",
    "version": 3
   },
   "file_extension": ".py",
   "mimetype": "text/x-python",
   "name": "python",
   "nbconvert_exporter": "python",
   "pygments_lexer": "ipython3",
   "version": "3.8.6"
  }
 },
 "nbformat": 4,
 "nbformat_minor": 4
}
