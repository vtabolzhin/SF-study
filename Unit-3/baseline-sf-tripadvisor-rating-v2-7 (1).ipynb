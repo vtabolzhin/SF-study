{
 "cells": [
  {
   "cell_type": "markdown",
   "metadata": {},
   "source": [
    "![](https://www.pata.org/wp-content/uploads/2014/09/TripAdvisor_Logo-300x119.png)\n",
    "# Predict TripAdvisor Rating\n",
    "## В этом соревновании нам предстоит предсказать рейтинг ресторана в TripAdvisor\n",
    "**По ходу задачи:**\n",
    "* Прокачаем работу с pandas\n",
    "* Научимся работать с Kaggle Notebooks\n",
    "* Поймем как делать предобработку различных данных\n",
    "* Научимся работать с пропущенными данными (Nan)\n",
    "* Познакомимся с различными видами кодирования признаков\n",
    "* Немного попробуем [Feature Engineering](https://ru.wikipedia.org/wiki/Конструирование_признаков) (генерировать новые признаки)\n",
    "* И совсем немного затронем ML\n",
    "* И многое другое...   \n",
    "\n",
    "\n",
    "\n",
    "### И самое важное, все это вы сможете сделать самостоятельно!\n",
    "\n",
    "*Этот Ноутбук являетсся Примером/Шаблоном к этому соревнованию (Baseline) и не служит готовым решением!*   \n",
    "Вы можете использовать его как основу для построения своего решения.\n",
    "\n",
    "> что такое baseline решение, зачем оно нужно и почему предоставлять baseline к соревнованию стало важным стандартом на kaggle и других площадках.   \n",
    "**baseline** создается больше как шаблон, где можно посмотреть как происходит обращение с входящими данными и что нужно получить на выходе. При этом МЛ начинка может быть достаточно простой, просто для примера. Это помогает быстрее приступить к самому МЛ, а не тратить ценное время на чисто инженерные задачи. \n",
    "Также baseline являеться хорошей опорной точкой по метрике. Если твое решение хуже baseline - ты явно делаешь что-то не то и стоит попробовать другой путь) \n",
    "\n",
    "В контексте нашего соревнования baseline идет с небольшими примерами того, что можно делать с данными, и с инструкцией, что делать дальше, чтобы улучшить результат.  Вообще готовым решением это сложно назвать, так как используются всего 2 самых простых признака (а остальные исключаются)."
   ]
  },
  {
   "cell_type": "markdown",
   "metadata": {},
   "source": [
    "# import"
   ]
  },
  {
   "cell_type": "code",
   "execution_count": 267,
   "metadata": {
    "_cell_guid": "b1076dfc-b9ad-4769-8c92-a6c4dae69d19",
    "_uuid": "8f2839f25d086af736a60e9eeb907d3b93b6e0e5",
    "execution": {
     "iopub.execute_input": "2021-09-13T13:46:16.541184Z",
     "iopub.status.busy": "2021-09-13T13:46:16.540840Z",
     "iopub.status.idle": "2021-09-13T13:46:16.561665Z",
     "shell.execute_reply": "2021-09-13T13:46:16.560415Z",
     "shell.execute_reply.started": "2021-09-13T13:46:16.541127Z"
    }
   },
   "outputs": [
    {
     "name": "stdout",
     "output_type": "stream",
     "text": [
      "/kaggle/input/sf-project3-datasets/cities.csv\n",
      "/kaggle/input/sf-project3-datasets/cuisine_types.csv\n",
      "/kaggle/input/sf-dst-restaurant-rating/sample_submission.csv\n",
      "/kaggle/input/sf-dst-restaurant-rating/main_task.csv\n",
      "/kaggle/input/sf-dst-restaurant-rating/kaggle_task.csv\n"
     ]
    }
   ],
   "source": [
    "# This Python 3 environment comes with many helpful analytics libraries installed\n",
    "# It is defined by the kaggle/python docker image: https://github.com/kaggle/docker-python\n",
    "# For example, here's several helpful packages to load in \n",
    "\n",
    "import numpy as np # linear algebra\n",
    "import pandas as pd # data processing, CSV file I/O (e.g. pd.read_csv)\n",
    "\n",
    "import matplotlib.pyplot as plt\n",
    "import seaborn as sns\n",
    "sns.set()\n",
    "%matplotlib inline\n",
    "\n",
    "# Загружаем специальный удобный инструмент для разделения датасета:\n",
    "from sklearn.model_selection import train_test_split\n",
    "\n",
    "# Input data files are available in the \"../input/\" directory.\n",
    "# For example, running this (by clicking run or pressing Shift+Enter) will list all files under the input directory\n",
    "\n",
    "import os\n",
    "for dirname, _, filenames in os.walk('/kaggle/input'):\n",
    "    for filename in filenames:\n",
    "        print(os.path.join(dirname, filename))\n",
    "\n",
    "# Any results you write to the current directory are saved as output."
   ]
  },
  {
   "cell_type": "code",
   "execution_count": 268,
   "metadata": {
    "execution": {
     "iopub.execute_input": "2021-09-13T13:46:16.564722Z",
     "iopub.status.busy": "2021-09-13T13:46:16.564334Z",
     "iopub.status.idle": "2021-09-13T13:46:16.571392Z",
     "shell.execute_reply": "2021-09-13T13:46:16.570517Z",
     "shell.execute_reply.started": "2021-09-13T13:46:16.564565Z"
    }
   },
   "outputs": [],
   "source": [
    "# всегда фиксируйте RANDOM_SEED, чтобы ваши эксперименты были воспроизводимы!\n",
    "RANDOM_SEED = 42"
   ]
  },
  {
   "cell_type": "code",
   "execution_count": 269,
   "metadata": {
    "execution": {
     "iopub.execute_input": "2021-09-13T13:46:16.592451Z",
     "iopub.status.busy": "2021-09-13T13:46:16.592117Z",
     "iopub.status.idle": "2021-09-13T13:46:18.987540Z",
     "shell.execute_reply": "2021-09-13T13:46:18.986514Z",
     "shell.execute_reply.started": "2021-09-13T13:46:16.592402Z"
    }
   },
   "outputs": [],
   "source": [
    "# зафиксируем версию пакетов, чтобы эксперименты были воспроизводимы:\n",
    "!pip freeze > requirements.txt"
   ]
  },
  {
   "cell_type": "markdown",
   "metadata": {},
   "source": [
    "# DATA"
   ]
  },
  {
   "cell_type": "code",
   "execution_count": 270,
   "metadata": {
    "_cell_guid": "79c7e3d0-c299-4dcb-8224-4455121ee9b0",
    "_uuid": "d629ff2d2480ee46fbb7e2d37f6b5fab8052498a",
    "execution": {
     "iopub.execute_input": "2021-09-13T13:46:18.990031Z",
     "iopub.status.busy": "2021-09-13T13:46:18.989762Z",
     "iopub.status.idle": "2021-09-13T13:46:19.262605Z",
     "shell.execute_reply": "2021-09-13T13:46:19.261528Z",
     "shell.execute_reply.started": "2021-09-13T13:46:18.989983Z"
    }
   },
   "outputs": [],
   "source": [
    "DATA_DIR = '/kaggle/input/sf-dst-restaurant-rating/'\n",
    "df_train = pd.read_csv(DATA_DIR+'/main_task.csv')\n",
    "df_test = pd.read_csv(DATA_DIR+'kaggle_task.csv')\n",
    "sample_submission = pd.read_csv(DATA_DIR+'/sample_submission.csv')"
   ]
  },
  {
   "cell_type": "code",
   "execution_count": 271,
   "metadata": {
    "execution": {
     "iopub.execute_input": "2021-09-13T13:46:19.264815Z",
     "iopub.status.busy": "2021-09-13T13:46:19.264452Z",
     "iopub.status.idle": "2021-09-13T13:46:19.279791Z",
     "shell.execute_reply": "2021-09-13T13:46:19.278541Z",
     "shell.execute_reply.started": "2021-09-13T13:46:19.264743Z"
    }
   },
   "outputs": [],
   "source": [
    "# загружаем датасеты с дополнительной информацией. Возможно, она окажется полезной.\n",
    "df_cuisine_types = pd.read_csv('/kaggle/input/sf-project3-datasets/cuisine_types.csv')\n",
    "df_cities = pd.read_csv('/kaggle/input/sf-project3-datasets/cities.csv')"
   ]
  },
  {
   "cell_type": "code",
   "execution_count": 272,
   "metadata": {
    "execution": {
     "iopub.execute_input": "2021-09-13T13:46:19.282055Z",
     "iopub.status.busy": "2021-09-13T13:46:19.281671Z",
     "iopub.status.idle": "2021-09-13T13:46:19.296857Z",
     "shell.execute_reply": "2021-09-13T13:46:19.295843Z",
     "shell.execute_reply.started": "2021-09-13T13:46:19.281987Z"
    }
   },
   "outputs": [
    {
     "data": {
      "text/html": [
       "<div>\n",
       "<style scoped>\n",
       "    .dataframe tbody tr th:only-of-type {\n",
       "        vertical-align: middle;\n",
       "    }\n",
       "\n",
       "    .dataframe tbody tr th {\n",
       "        vertical-align: top;\n",
       "    }\n",
       "\n",
       "    .dataframe thead th {\n",
       "        text-align: right;\n",
       "    }\n",
       "</style>\n",
       "<table border=\"1\" class=\"dataframe\">\n",
       "  <thead>\n",
       "    <tr style=\"text-align: right;\">\n",
       "      <th></th>\n",
       "      <th>cuisine</th>\n",
       "      <th>cuisine_type</th>\n",
       "    </tr>\n",
       "  </thead>\n",
       "  <tbody>\n",
       "    <tr>\n",
       "      <th>0</th>\n",
       "      <td>Vegetarian Friendly</td>\n",
       "      <td>Healthy</td>\n",
       "    </tr>\n",
       "    <tr>\n",
       "      <th>1</th>\n",
       "      <td>European</td>\n",
       "      <td>European</td>\n",
       "    </tr>\n",
       "    <tr>\n",
       "      <th>2</th>\n",
       "      <td>unknown</td>\n",
       "      <td>unknown</td>\n",
       "    </tr>\n",
       "    <tr>\n",
       "      <th>3</th>\n",
       "      <td>Mediterranean</td>\n",
       "      <td>Seafood</td>\n",
       "    </tr>\n",
       "    <tr>\n",
       "      <th>4</th>\n",
       "      <td>Italian</td>\n",
       "      <td>European_national</td>\n",
       "    </tr>\n",
       "  </tbody>\n",
       "</table>\n",
       "</div>"
      ],
      "text/plain": [
       "               cuisine       cuisine_type\n",
       "0  Vegetarian Friendly            Healthy\n",
       "1             European           European\n",
       "2              unknown            unknown\n",
       "3        Mediterranean            Seafood\n",
       "4              Italian  European_national"
      ]
     },
     "execution_count": 272,
     "metadata": {},
     "output_type": "execute_result"
    }
   ],
   "source": [
    "df_cuisine_types.head()"
   ]
  },
  {
   "cell_type": "code",
   "execution_count": 273,
   "metadata": {
    "execution": {
     "iopub.execute_input": "2021-09-13T13:46:19.301240Z",
     "iopub.status.busy": "2021-09-13T13:46:19.300755Z",
     "iopub.status.idle": "2021-09-13T13:46:19.310109Z",
     "shell.execute_reply": "2021-09-13T13:46:19.309152Z",
     "shell.execute_reply.started": "2021-09-13T13:46:19.301166Z"
    }
   },
   "outputs": [],
   "source": [
    "df_cuisine_types.rename(columns={'cuisine':'Cuisine Style'},inplace=True)"
   ]
  },
  {
   "cell_type": "code",
   "execution_count": 274,
   "metadata": {
    "execution": {
     "iopub.execute_input": "2021-09-13T13:46:19.314095Z",
     "iopub.status.busy": "2021-09-13T13:46:19.313732Z",
     "iopub.status.idle": "2021-09-13T13:46:19.330087Z",
     "shell.execute_reply": "2021-09-13T13:46:19.329168Z",
     "shell.execute_reply.started": "2021-09-13T13:46:19.314042Z"
    }
   },
   "outputs": [
    {
     "data": {
      "text/html": [
       "<div>\n",
       "<style scoped>\n",
       "    .dataframe tbody tr th:only-of-type {\n",
       "        vertical-align: middle;\n",
       "    }\n",
       "\n",
       "    .dataframe tbody tr th {\n",
       "        vertical-align: top;\n",
       "    }\n",
       "\n",
       "    .dataframe thead th {\n",
       "        text-align: right;\n",
       "    }\n",
       "</style>\n",
       "<table border=\"1\" class=\"dataframe\">\n",
       "  <thead>\n",
       "    <tr style=\"text-align: right;\">\n",
       "      <th></th>\n",
       "      <th>city</th>\n",
       "      <th>lat</th>\n",
       "      <th>lon</th>\n",
       "      <th>population</th>\n",
       "      <th>is_capital</th>\n",
       "    </tr>\n",
       "  </thead>\n",
       "  <tbody>\n",
       "    <tr>\n",
       "      <th>0</th>\n",
       "      <td>London</td>\n",
       "      <td>51.507351</td>\n",
       "      <td>-0.127758</td>\n",
       "      <td>9126366</td>\n",
       "      <td>1</td>\n",
       "    </tr>\n",
       "    <tr>\n",
       "      <th>1</th>\n",
       "      <td>Paris</td>\n",
       "      <td>48.856613</td>\n",
       "      <td>2.352222</td>\n",
       "      <td>2175601</td>\n",
       "      <td>1</td>\n",
       "    </tr>\n",
       "    <tr>\n",
       "      <th>2</th>\n",
       "      <td>Madrid</td>\n",
       "      <td>40.416775</td>\n",
       "      <td>-3.703790</td>\n",
       "      <td>3348536</td>\n",
       "      <td>1</td>\n",
       "    </tr>\n",
       "    <tr>\n",
       "      <th>3</th>\n",
       "      <td>Barcelona</td>\n",
       "      <td>41.385063</td>\n",
       "      <td>2.173404</td>\n",
       "      <td>1620343</td>\n",
       "      <td>0</td>\n",
       "    </tr>\n",
       "    <tr>\n",
       "      <th>4</th>\n",
       "      <td>Berlin</td>\n",
       "      <td>52.520008</td>\n",
       "      <td>13.404954</td>\n",
       "      <td>3669495</td>\n",
       "      <td>1</td>\n",
       "    </tr>\n",
       "  </tbody>\n",
       "</table>\n",
       "</div>"
      ],
      "text/plain": [
       "        city        lat        lon  population  is_capital\n",
       "0     London  51.507351  -0.127758     9126366           1\n",
       "1      Paris  48.856613   2.352222     2175601           1\n",
       "2     Madrid  40.416775  -3.703790     3348536           1\n",
       "3  Barcelona  41.385063   2.173404     1620343           0\n",
       "4     Berlin  52.520008  13.404954     3669495           1"
      ]
     },
     "execution_count": 274,
     "metadata": {},
     "output_type": "execute_result"
    }
   ],
   "source": [
    "df_cities.head()"
   ]
  },
  {
   "cell_type": "code",
   "execution_count": 275,
   "metadata": {
    "execution": {
     "iopub.execute_input": "2021-09-13T13:46:19.331988Z",
     "iopub.status.busy": "2021-09-13T13:46:19.331717Z",
     "iopub.status.idle": "2021-09-13T13:46:19.343629Z",
     "shell.execute_reply": "2021-09-13T13:46:19.342623Z",
     "shell.execute_reply.started": "2021-09-13T13:46:19.331943Z"
    }
   },
   "outputs": [],
   "source": [
    "df_cities.rename(columns={'city':'City'},inplace=True)"
   ]
  },
  {
   "cell_type": "code",
   "execution_count": 276,
   "metadata": {
    "execution": {
     "iopub.execute_input": "2021-09-13T13:46:19.346868Z",
     "iopub.status.busy": "2021-09-13T13:46:19.346468Z",
     "iopub.status.idle": "2021-09-13T13:46:19.394053Z",
     "shell.execute_reply": "2021-09-13T13:46:19.392878Z",
     "shell.execute_reply.started": "2021-09-13T13:46:19.346798Z"
    }
   },
   "outputs": [
    {
     "name": "stdout",
     "output_type": "stream",
     "text": [
      "<class 'pandas.core.frame.DataFrame'>\n",
      "RangeIndex: 40000 entries, 0 to 39999\n",
      "Data columns (total 10 columns):\n",
      "Restaurant_id        40000 non-null object\n",
      "City                 40000 non-null object\n",
      "Cuisine Style        30717 non-null object\n",
      "Ranking              40000 non-null float64\n",
      "Rating               40000 non-null float64\n",
      "Price Range          26114 non-null object\n",
      "Number of Reviews    37457 non-null float64\n",
      "Reviews              40000 non-null object\n",
      "URL_TA               40000 non-null object\n",
      "ID_TA                40000 non-null object\n",
      "dtypes: float64(3), object(7)\n",
      "memory usage: 3.1+ MB\n"
     ]
    }
   ],
   "source": [
    "df_train.info()"
   ]
  },
  {
   "cell_type": "code",
   "execution_count": 277,
   "metadata": {
    "execution": {
     "iopub.execute_input": "2021-09-13T13:46:19.396431Z",
     "iopub.status.busy": "2021-09-13T13:46:19.396012Z",
     "iopub.status.idle": "2021-09-13T13:46:19.417599Z",
     "shell.execute_reply": "2021-09-13T13:46:19.416478Z",
     "shell.execute_reply.started": "2021-09-13T13:46:19.396358Z"
    }
   },
   "outputs": [
    {
     "data": {
      "text/html": [
       "<div>\n",
       "<style scoped>\n",
       "    .dataframe tbody tr th:only-of-type {\n",
       "        vertical-align: middle;\n",
       "    }\n",
       "\n",
       "    .dataframe tbody tr th {\n",
       "        vertical-align: top;\n",
       "    }\n",
       "\n",
       "    .dataframe thead th {\n",
       "        text-align: right;\n",
       "    }\n",
       "</style>\n",
       "<table border=\"1\" class=\"dataframe\">\n",
       "  <thead>\n",
       "    <tr style=\"text-align: right;\">\n",
       "      <th></th>\n",
       "      <th>Restaurant_id</th>\n",
       "      <th>City</th>\n",
       "      <th>Cuisine Style</th>\n",
       "      <th>Ranking</th>\n",
       "      <th>Rating</th>\n",
       "      <th>Price Range</th>\n",
       "      <th>Number of Reviews</th>\n",
       "      <th>Reviews</th>\n",
       "      <th>URL_TA</th>\n",
       "      <th>ID_TA</th>\n",
       "    </tr>\n",
       "  </thead>\n",
       "  <tbody>\n",
       "    <tr>\n",
       "      <th>0</th>\n",
       "      <td>id_5569</td>\n",
       "      <td>Paris</td>\n",
       "      <td>['European', 'French', 'International']</td>\n",
       "      <td>5570.0</td>\n",
       "      <td>3.5</td>\n",
       "      <td>$$ - $$$</td>\n",
       "      <td>194.0</td>\n",
       "      <td>[['Good food at your doorstep', 'A good hotel ...</td>\n",
       "      <td>/Restaurant_Review-g187147-d1912643-Reviews-R_...</td>\n",
       "      <td>d1912643</td>\n",
       "    </tr>\n",
       "    <tr>\n",
       "      <th>1</th>\n",
       "      <td>id_1535</td>\n",
       "      <td>Stockholm</td>\n",
       "      <td>NaN</td>\n",
       "      <td>1537.0</td>\n",
       "      <td>4.0</td>\n",
       "      <td>NaN</td>\n",
       "      <td>10.0</td>\n",
       "      <td>[['Unique cuisine', 'Delicious Nepalese food']...</td>\n",
       "      <td>/Restaurant_Review-g189852-d7992032-Reviews-Bu...</td>\n",
       "      <td>d7992032</td>\n",
       "    </tr>\n",
       "    <tr>\n",
       "      <th>2</th>\n",
       "      <td>id_352</td>\n",
       "      <td>London</td>\n",
       "      <td>['Japanese', 'Sushi', 'Asian', 'Grill', 'Veget...</td>\n",
       "      <td>353.0</td>\n",
       "      <td>4.5</td>\n",
       "      <td>$$$$</td>\n",
       "      <td>688.0</td>\n",
       "      <td>[['Catch up with friends', 'Not exceptional'],...</td>\n",
       "      <td>/Restaurant_Review-g186338-d8632781-Reviews-RO...</td>\n",
       "      <td>d8632781</td>\n",
       "    </tr>\n",
       "    <tr>\n",
       "      <th>3</th>\n",
       "      <td>id_3456</td>\n",
       "      <td>Berlin</td>\n",
       "      <td>NaN</td>\n",
       "      <td>3458.0</td>\n",
       "      <td>5.0</td>\n",
       "      <td>NaN</td>\n",
       "      <td>3.0</td>\n",
       "      <td>[[], []]</td>\n",
       "      <td>/Restaurant_Review-g187323-d1358776-Reviews-Es...</td>\n",
       "      <td>d1358776</td>\n",
       "    </tr>\n",
       "    <tr>\n",
       "      <th>4</th>\n",
       "      <td>id_615</td>\n",
       "      <td>Munich</td>\n",
       "      <td>['German', 'Central European', 'Vegetarian Fri...</td>\n",
       "      <td>621.0</td>\n",
       "      <td>4.0</td>\n",
       "      <td>$$ - $$$</td>\n",
       "      <td>84.0</td>\n",
       "      <td>[['Best place to try a Bavarian food', 'Nice b...</td>\n",
       "      <td>/Restaurant_Review-g187309-d6864963-Reviews-Au...</td>\n",
       "      <td>d6864963</td>\n",
       "    </tr>\n",
       "  </tbody>\n",
       "</table>\n",
       "</div>"
      ],
      "text/plain": [
       "  Restaurant_id       City                                      Cuisine Style  \\\n",
       "0       id_5569      Paris            ['European', 'French', 'International']   \n",
       "1       id_1535  Stockholm                                                NaN   \n",
       "2        id_352     London  ['Japanese', 'Sushi', 'Asian', 'Grill', 'Veget...   \n",
       "3       id_3456     Berlin                                                NaN   \n",
       "4        id_615     Munich  ['German', 'Central European', 'Vegetarian Fri...   \n",
       "\n",
       "   Ranking  Rating Price Range  Number of Reviews  \\\n",
       "0   5570.0     3.5    $$ - $$$              194.0   \n",
       "1   1537.0     4.0         NaN               10.0   \n",
       "2    353.0     4.5        $$$$              688.0   \n",
       "3   3458.0     5.0         NaN                3.0   \n",
       "4    621.0     4.0    $$ - $$$               84.0   \n",
       "\n",
       "                                             Reviews  \\\n",
       "0  [['Good food at your doorstep', 'A good hotel ...   \n",
       "1  [['Unique cuisine', 'Delicious Nepalese food']...   \n",
       "2  [['Catch up with friends', 'Not exceptional'],...   \n",
       "3                                           [[], []]   \n",
       "4  [['Best place to try a Bavarian food', 'Nice b...   \n",
       "\n",
       "                                              URL_TA     ID_TA  \n",
       "0  /Restaurant_Review-g187147-d1912643-Reviews-R_...  d1912643  \n",
       "1  /Restaurant_Review-g189852-d7992032-Reviews-Bu...  d7992032  \n",
       "2  /Restaurant_Review-g186338-d8632781-Reviews-RO...  d8632781  \n",
       "3  /Restaurant_Review-g187323-d1358776-Reviews-Es...  d1358776  \n",
       "4  /Restaurant_Review-g187309-d6864963-Reviews-Au...  d6864963  "
      ]
     },
     "execution_count": 277,
     "metadata": {},
     "output_type": "execute_result"
    }
   ],
   "source": [
    "df_train.head(5)"
   ]
  },
  {
   "cell_type": "code",
   "execution_count": 278,
   "metadata": {
    "execution": {
     "iopub.execute_input": "2021-09-13T13:46:19.419980Z",
     "iopub.status.busy": "2021-09-13T13:46:19.419562Z",
     "iopub.status.idle": "2021-09-13T13:46:19.442382Z",
     "shell.execute_reply": "2021-09-13T13:46:19.441315Z",
     "shell.execute_reply.started": "2021-09-13T13:46:19.419908Z"
    }
   },
   "outputs": [
    {
     "name": "stdout",
     "output_type": "stream",
     "text": [
      "<class 'pandas.core.frame.DataFrame'>\n",
      "RangeIndex: 10000 entries, 0 to 9999\n",
      "Data columns (total 9 columns):\n",
      "Restaurant_id        10000 non-null object\n",
      "City                 10000 non-null object\n",
      "Cuisine Style        7693 non-null object\n",
      "Ranking              10000 non-null float64\n",
      "Price Range          6525 non-null object\n",
      "Number of Reviews    9343 non-null float64\n",
      "Reviews              9998 non-null object\n",
      "URL_TA               10000 non-null object\n",
      "ID_TA                10000 non-null object\n",
      "dtypes: float64(2), object(7)\n",
      "memory usage: 703.2+ KB\n"
     ]
    }
   ],
   "source": [
    "df_test.info()"
   ]
  },
  {
   "cell_type": "code",
   "execution_count": 279,
   "metadata": {
    "execution": {
     "iopub.execute_input": "2021-09-13T13:46:19.444224Z",
     "iopub.status.busy": "2021-09-13T13:46:19.443888Z",
     "iopub.status.idle": "2021-09-13T13:46:19.468232Z",
     "shell.execute_reply": "2021-09-13T13:46:19.467360Z",
     "shell.execute_reply.started": "2021-09-13T13:46:19.444154Z"
    }
   },
   "outputs": [
    {
     "data": {
      "text/html": [
       "<div>\n",
       "<style scoped>\n",
       "    .dataframe tbody tr th:only-of-type {\n",
       "        vertical-align: middle;\n",
       "    }\n",
       "\n",
       "    .dataframe tbody tr th {\n",
       "        vertical-align: top;\n",
       "    }\n",
       "\n",
       "    .dataframe thead th {\n",
       "        text-align: right;\n",
       "    }\n",
       "</style>\n",
       "<table border=\"1\" class=\"dataframe\">\n",
       "  <thead>\n",
       "    <tr style=\"text-align: right;\">\n",
       "      <th></th>\n",
       "      <th>Restaurant_id</th>\n",
       "      <th>City</th>\n",
       "      <th>Cuisine Style</th>\n",
       "      <th>Ranking</th>\n",
       "      <th>Price Range</th>\n",
       "      <th>Number of Reviews</th>\n",
       "      <th>Reviews</th>\n",
       "      <th>URL_TA</th>\n",
       "      <th>ID_TA</th>\n",
       "    </tr>\n",
       "  </thead>\n",
       "  <tbody>\n",
       "    <tr>\n",
       "      <th>0</th>\n",
       "      <td>id_0</td>\n",
       "      <td>Paris</td>\n",
       "      <td>['Bar', 'Pub']</td>\n",
       "      <td>12963.0</td>\n",
       "      <td>$$ - $$$</td>\n",
       "      <td>4.0</td>\n",
       "      <td>[[], []]</td>\n",
       "      <td>/Restaurant_Review-g187147-d10746918-Reviews-L...</td>\n",
       "      <td>d10746918</td>\n",
       "    </tr>\n",
       "    <tr>\n",
       "      <th>1</th>\n",
       "      <td>id_1</td>\n",
       "      <td>Helsinki</td>\n",
       "      <td>['European', 'Scandinavian', 'Gluten Free Opti...</td>\n",
       "      <td>106.0</td>\n",
       "      <td>$$ - $$$</td>\n",
       "      <td>97.0</td>\n",
       "      <td>[['Very good reviews!', 'Fine dining in Hakani...</td>\n",
       "      <td>/Restaurant_Review-g189934-d6674944-Reviews-Ra...</td>\n",
       "      <td>d6674944</td>\n",
       "    </tr>\n",
       "    <tr>\n",
       "      <th>2</th>\n",
       "      <td>id_2</td>\n",
       "      <td>Edinburgh</td>\n",
       "      <td>['Vegetarian Friendly']</td>\n",
       "      <td>810.0</td>\n",
       "      <td>$$ - $$$</td>\n",
       "      <td>28.0</td>\n",
       "      <td>[['Better than the Links', 'Ivy Black'], ['12/...</td>\n",
       "      <td>/Restaurant_Review-g186525-d13129638-Reviews-B...</td>\n",
       "      <td>d13129638</td>\n",
       "    </tr>\n",
       "    <tr>\n",
       "      <th>3</th>\n",
       "      <td>id_3</td>\n",
       "      <td>London</td>\n",
       "      <td>['Italian', 'Mediterranean', 'European', 'Vege...</td>\n",
       "      <td>1669.0</td>\n",
       "      <td>$$$$</td>\n",
       "      <td>202.0</td>\n",
       "      <td>[['Most exquisite', 'Delicious and authentic']...</td>\n",
       "      <td>/Restaurant_Review-g186338-d680417-Reviews-Qui...</td>\n",
       "      <td>d680417</td>\n",
       "    </tr>\n",
       "    <tr>\n",
       "      <th>4</th>\n",
       "      <td>id_4</td>\n",
       "      <td>Bratislava</td>\n",
       "      <td>['Italian', 'Mediterranean', 'European', 'Seaf...</td>\n",
       "      <td>37.0</td>\n",
       "      <td>$$$$</td>\n",
       "      <td>162.0</td>\n",
       "      <td>[['Always the best in bratislava', 'Very good ...</td>\n",
       "      <td>/Restaurant_Review-g274924-d1112354-Reviews-Ma...</td>\n",
       "      <td>d1112354</td>\n",
       "    </tr>\n",
       "  </tbody>\n",
       "</table>\n",
       "</div>"
      ],
      "text/plain": [
       "  Restaurant_id        City  \\\n",
       "0          id_0       Paris   \n",
       "1          id_1    Helsinki   \n",
       "2          id_2   Edinburgh   \n",
       "3          id_3      London   \n",
       "4          id_4  Bratislava   \n",
       "\n",
       "                                       Cuisine Style  Ranking Price Range  \\\n",
       "0                                     ['Bar', 'Pub']  12963.0    $$ - $$$   \n",
       "1  ['European', 'Scandinavian', 'Gluten Free Opti...    106.0    $$ - $$$   \n",
       "2                            ['Vegetarian Friendly']    810.0    $$ - $$$   \n",
       "3  ['Italian', 'Mediterranean', 'European', 'Vege...   1669.0        $$$$   \n",
       "4  ['Italian', 'Mediterranean', 'European', 'Seaf...     37.0        $$$$   \n",
       "\n",
       "   Number of Reviews                                            Reviews  \\\n",
       "0                4.0                                           [[], []]   \n",
       "1               97.0  [['Very good reviews!', 'Fine dining in Hakani...   \n",
       "2               28.0  [['Better than the Links', 'Ivy Black'], ['12/...   \n",
       "3              202.0  [['Most exquisite', 'Delicious and authentic']...   \n",
       "4              162.0  [['Always the best in bratislava', 'Very good ...   \n",
       "\n",
       "                                              URL_TA      ID_TA  \n",
       "0  /Restaurant_Review-g187147-d10746918-Reviews-L...  d10746918  \n",
       "1  /Restaurant_Review-g189934-d6674944-Reviews-Ra...   d6674944  \n",
       "2  /Restaurant_Review-g186525-d13129638-Reviews-B...  d13129638  \n",
       "3  /Restaurant_Review-g186338-d680417-Reviews-Qui...    d680417  \n",
       "4  /Restaurant_Review-g274924-d1112354-Reviews-Ma...   d1112354  "
      ]
     },
     "execution_count": 279,
     "metadata": {},
     "output_type": "execute_result"
    }
   ],
   "source": [
    "df_test.head(5)"
   ]
  },
  {
   "cell_type": "code",
   "execution_count": 280,
   "metadata": {
    "execution": {
     "iopub.execute_input": "2021-09-13T13:46:19.470126Z",
     "iopub.status.busy": "2021-09-13T13:46:19.469842Z",
     "iopub.status.idle": "2021-09-13T13:46:19.480825Z",
     "shell.execute_reply": "2021-09-13T13:46:19.479749Z",
     "shell.execute_reply.started": "2021-09-13T13:46:19.470070Z"
    }
   },
   "outputs": [
    {
     "data": {
      "text/html": [
       "<div>\n",
       "<style scoped>\n",
       "    .dataframe tbody tr th:only-of-type {\n",
       "        vertical-align: middle;\n",
       "    }\n",
       "\n",
       "    .dataframe tbody tr th {\n",
       "        vertical-align: top;\n",
       "    }\n",
       "\n",
       "    .dataframe thead th {\n",
       "        text-align: right;\n",
       "    }\n",
       "</style>\n",
       "<table border=\"1\" class=\"dataframe\">\n",
       "  <thead>\n",
       "    <tr style=\"text-align: right;\">\n",
       "      <th></th>\n",
       "      <th>Restaurant_id</th>\n",
       "      <th>Rating</th>\n",
       "    </tr>\n",
       "  </thead>\n",
       "  <tbody>\n",
       "    <tr>\n",
       "      <th>0</th>\n",
       "      <td>id_0</td>\n",
       "      <td>2.0</td>\n",
       "    </tr>\n",
       "    <tr>\n",
       "      <th>1</th>\n",
       "      <td>id_1</td>\n",
       "      <td>2.5</td>\n",
       "    </tr>\n",
       "    <tr>\n",
       "      <th>2</th>\n",
       "      <td>id_2</td>\n",
       "      <td>4.0</td>\n",
       "    </tr>\n",
       "    <tr>\n",
       "      <th>3</th>\n",
       "      <td>id_3</td>\n",
       "      <td>1.0</td>\n",
       "    </tr>\n",
       "    <tr>\n",
       "      <th>4</th>\n",
       "      <td>id_4</td>\n",
       "      <td>4.0</td>\n",
       "    </tr>\n",
       "  </tbody>\n",
       "</table>\n",
       "</div>"
      ],
      "text/plain": [
       "  Restaurant_id  Rating\n",
       "0          id_0     2.0\n",
       "1          id_1     2.5\n",
       "2          id_2     4.0\n",
       "3          id_3     1.0\n",
       "4          id_4     4.0"
      ]
     },
     "execution_count": 280,
     "metadata": {},
     "output_type": "execute_result"
    }
   ],
   "source": [
    "sample_submission.head(5)"
   ]
  },
  {
   "cell_type": "code",
   "execution_count": 281,
   "metadata": {
    "execution": {
     "iopub.execute_input": "2021-09-13T13:46:19.482917Z",
     "iopub.status.busy": "2021-09-13T13:46:19.482399Z",
     "iopub.status.idle": "2021-09-13T13:46:19.494191Z",
     "shell.execute_reply": "2021-09-13T13:46:19.493282Z",
     "shell.execute_reply.started": "2021-09-13T13:46:19.482633Z"
    }
   },
   "outputs": [
    {
     "name": "stdout",
     "output_type": "stream",
     "text": [
      "<class 'pandas.core.frame.DataFrame'>\n",
      "RangeIndex: 10000 entries, 0 to 9999\n",
      "Data columns (total 2 columns):\n",
      "Restaurant_id    10000 non-null object\n",
      "Rating           10000 non-null float64\n",
      "dtypes: float64(1), object(1)\n",
      "memory usage: 156.4+ KB\n"
     ]
    }
   ],
   "source": [
    "sample_submission.info()"
   ]
  },
  {
   "cell_type": "code",
   "execution_count": 282,
   "metadata": {
    "execution": {
     "iopub.execute_input": "2021-09-13T13:46:19.496335Z",
     "iopub.status.busy": "2021-09-13T13:46:19.496019Z",
     "iopub.status.idle": "2021-09-13T13:46:19.542295Z",
     "shell.execute_reply": "2021-09-13T13:46:19.541423Z",
     "shell.execute_reply.started": "2021-09-13T13:46:19.496288Z"
    }
   },
   "outputs": [],
   "source": [
    "# ВАЖНО! дря корректной обработки признаков объединяем трейн и тест в один датасет\n",
    "df_train['sample'] = 1 # помечаем где у нас трейн\n",
    "df_test['sample'] = 0 # помечаем где у нас тест\n",
    "df_test['Rating'] = 0 # в тесте у нас нет значения Rating, мы его должны предсказать, по этому пока просто заполняем нулями\n",
    "\n",
    "df = df_test.append(df_train, sort=False).reset_index(drop=True) # объединяем"
   ]
  },
  {
   "cell_type": "code",
   "execution_count": 283,
   "metadata": {
    "execution": {
     "iopub.execute_input": "2021-09-13T13:46:19.544642Z",
     "iopub.status.busy": "2021-09-13T13:46:19.544255Z",
     "iopub.status.idle": "2021-09-13T13:46:19.591780Z",
     "shell.execute_reply": "2021-09-13T13:46:19.591015Z",
     "shell.execute_reply.started": "2021-09-13T13:46:19.544572Z"
    }
   },
   "outputs": [
    {
     "name": "stdout",
     "output_type": "stream",
     "text": [
      "<class 'pandas.core.frame.DataFrame'>\n",
      "RangeIndex: 50000 entries, 0 to 49999\n",
      "Data columns (total 11 columns):\n",
      "Restaurant_id        50000 non-null object\n",
      "City                 50000 non-null object\n",
      "Cuisine Style        38410 non-null object\n",
      "Ranking              50000 non-null float64\n",
      "Price Range          32639 non-null object\n",
      "Number of Reviews    46800 non-null float64\n",
      "Reviews              49998 non-null object\n",
      "URL_TA               50000 non-null object\n",
      "ID_TA                50000 non-null object\n",
      "sample               50000 non-null int64\n",
      "Rating               50000 non-null float64\n",
      "dtypes: float64(3), int64(1), object(7)\n",
      "memory usage: 4.2+ MB\n"
     ]
    }
   ],
   "source": [
    "df.info()"
   ]
  },
  {
   "cell_type": "markdown",
   "metadata": {},
   "source": [
    "Подробнее по признакам:\n",
    "* City: Город \n",
    "* Cuisine Style: Кухня\n",
    "* Ranking: Ранг ресторана относительно других ресторанов в этом городе\n",
    "* Price Range: Цены в ресторане в 3 категориях\n",
    "* Number of Reviews: Количество отзывов\n",
    "* Reviews: 2 последних отзыва и даты этих отзывов\n",
    "* URL_TA: страница ресторана на 'www.tripadvisor.com' \n",
    "* ID_TA: ID ресторана в TripAdvisor\n",
    "* Rating: Рейтинг ресторана"
   ]
  },
  {
   "cell_type": "markdown",
   "metadata": {},
   "source": [
    "Как видим, большинство признаков у нас требует очистки и предварительной обработки."
   ]
  },
  {
   "cell_type": "markdown",
   "metadata": {},
   "source": [
    "# Cleaning and Prepping Data\n",
    "Обычно данные содержат в себе кучу мусора, который необходимо почистить, для того чтобы привести их в приемлемый формат. Чистка данных — это необходимый этап решения почти любой реальной задачи.   \n",
    "![](https://analyticsindiamag.com/wp-content/uploads/2018/01/data-cleaning.png)"
   ]
  },
  {
   "cell_type": "markdown",
   "metadata": {},
   "source": [
    "## 1. Обработка NAN \n",
    "У наличия пропусков могут быть разные причины, но пропуски нужно либо заполнить, либо исключить из набора полностью. Но с пропусками нужно быть внимательным, **даже отсутствие информации может быть важным признаком!**   \n",
    "По этому перед обработкой NAN лучше вынести информацию о наличии пропуска как отдельный признак "
   ]
  },
  {
   "cell_type": "code",
   "execution_count": 284,
   "metadata": {
    "execution": {
     "iopub.execute_input": "2021-09-13T13:46:19.592977Z",
     "iopub.status.busy": "2021-09-13T13:46:19.592756Z",
     "iopub.status.idle": "2021-09-13T13:46:19.596567Z",
     "shell.execute_reply": "2021-09-13T13:46:19.595857Z",
     "shell.execute_reply.started": "2021-09-13T13:46:19.592945Z"
    }
   },
   "outputs": [],
   "source": [
    "# Создадим столбец\n",
    "#data['Number_of_Reviews_isNAN'] = pd.isna(data['Number of Reviews']).astype('uint8')"
   ]
  },
  {
   "cell_type": "code",
   "execution_count": 285,
   "metadata": {
    "execution": {
     "iopub.execute_input": "2021-09-13T13:46:19.597707Z",
     "iopub.status.busy": "2021-09-13T13:46:19.597475Z",
     "iopub.status.idle": "2021-09-13T13:46:19.608289Z",
     "shell.execute_reply": "2021-09-13T13:46:19.607327Z",
     "shell.execute_reply.started": "2021-09-13T13:46:19.597672Z"
    }
   },
   "outputs": [],
   "source": [
    "#data['Number_of_Reviews_isNAN']"
   ]
  },
  {
   "cell_type": "code",
   "execution_count": 286,
   "metadata": {
    "execution": {
     "iopub.execute_input": "2021-09-13T13:46:19.610238Z",
     "iopub.status.busy": "2021-09-13T13:46:19.609885Z",
     "iopub.status.idle": "2021-09-13T13:46:19.618693Z",
     "shell.execute_reply": "2021-09-13T13:46:19.617691Z",
     "shell.execute_reply.started": "2021-09-13T13:46:19.610158Z"
    }
   },
   "outputs": [],
   "source": [
    "# Далее заполняем пропуски 0, вы можете попробовать заполнением средним или средним по городу и тд...\n",
    "#data['Number of Reviews'].fillna(0, inplace=True)"
   ]
  },
  {
   "cell_type": "markdown",
   "metadata": {},
   "source": [
    "### 2. Обработка признаков\n",
    "Для начала посмотрим какие признаки у нас могут быть категориальными."
   ]
  },
  {
   "cell_type": "code",
   "execution_count": 287,
   "metadata": {
    "execution": {
     "iopub.execute_input": "2021-09-13T13:46:19.620593Z",
     "iopub.status.busy": "2021-09-13T13:46:19.620192Z",
     "iopub.status.idle": "2021-09-13T13:46:19.748539Z",
     "shell.execute_reply": "2021-09-13T13:46:19.747457Z",
     "shell.execute_reply.started": "2021-09-13T13:46:19.620523Z"
    }
   },
   "outputs": [
    {
     "data": {
      "text/plain": [
       "Restaurant_id        13094\n",
       "City                    31\n",
       "Cuisine Style        10732\n",
       "Ranking              12975\n",
       "Price Range              4\n",
       "Number of Reviews     1574\n",
       "Reviews              41858\n",
       "URL_TA               49963\n",
       "ID_TA                49963\n",
       "sample                   2\n",
       "Rating                  10\n",
       "dtype: int64"
      ]
     },
     "execution_count": 287,
     "metadata": {},
     "output_type": "execute_result"
    }
   ],
   "source": [
    "df.nunique(dropna=False)"
   ]
  },
  {
   "cell_type": "markdown",
   "metadata": {},
   "source": [
    "Какие признаки можно считать категориальными?"
   ]
  },
  {
   "cell_type": "markdown",
   "metadata": {},
   "source": [
    "Для кодирования категориальных признаков есть множество подходов:\n",
    "* Label Encoding\n",
    "* One-Hot Encoding\n",
    "* Target Encoding\n",
    "* Hashing\n",
    "\n",
    "Выбор кодирования зависит от признака и выбраной модели.\n",
    "Не будем сейчас сильно погружаться в эту тематику, давайте посмотрим лучше пример с One-Hot Encoding:\n",
    "![](https://i.imgur.com/mtimFxh.png)"
   ]
  },
  {
   "cell_type": "code",
   "execution_count": 288,
   "metadata": {
    "execution": {
     "iopub.execute_input": "2021-09-13T13:46:19.750576Z",
     "iopub.status.busy": "2021-09-13T13:46:19.750164Z",
     "iopub.status.idle": "2021-09-13T13:46:19.754742Z",
     "shell.execute_reply": "2021-09-13T13:46:19.753755Z",
     "shell.execute_reply.started": "2021-09-13T13:46:19.750504Z"
    }
   },
   "outputs": [],
   "source": [
    "# для One-Hot Encoding в pandas есть готовая функция - get_dummies. Особенно радует параметр dummy_na\n",
    "#data = pd.get_dummies(data, columns=['City'], dummy_na=True)"
   ]
  },
  {
   "cell_type": "code",
   "execution_count": 289,
   "metadata": {
    "execution": {
     "iopub.execute_input": "2021-09-13T13:46:19.756944Z",
     "iopub.status.busy": "2021-09-13T13:46:19.756563Z",
     "iopub.status.idle": "2021-09-13T13:46:19.766879Z",
     "shell.execute_reply": "2021-09-13T13:46:19.765903Z",
     "shell.execute_reply.started": "2021-09-13T13:46:19.756865Z"
    }
   },
   "outputs": [],
   "source": [
    "#data.head(5)"
   ]
  },
  {
   "cell_type": "code",
   "execution_count": 290,
   "metadata": {
    "execution": {
     "iopub.execute_input": "2021-09-13T13:46:19.770303Z",
     "iopub.status.busy": "2021-09-13T13:46:19.768814Z",
     "iopub.status.idle": "2021-09-13T13:46:19.778715Z",
     "shell.execute_reply": "2021-09-13T13:46:19.777596Z",
     "shell.execute_reply.started": "2021-09-13T13:46:19.769039Z"
    }
   },
   "outputs": [],
   "source": [
    "def look_at(row):\n",
    "    print('Уникальных значений (включая Nan): ', df[row].nunique(dropna=False),'\\n')\n",
    "    print('Value_counts:')\n",
    "    print(df[row].value_counts(),'\\n')\n",
    "    print('Количество Nan:')\n",
    "    print(df[row].isna().value_counts())\n",
    "    return"
   ]
  },
  {
   "cell_type": "markdown",
   "metadata": {},
   "source": [
    "#### Признак \"Restaurant_id\"."
   ]
  },
  {
   "cell_type": "code",
   "execution_count": 291,
   "metadata": {
    "execution": {
     "iopub.execute_input": "2021-09-13T13:46:19.780379Z",
     "iopub.status.busy": "2021-09-13T13:46:19.780083Z",
     "iopub.status.idle": "2021-09-13T13:46:19.829801Z",
     "shell.execute_reply": "2021-09-13T13:46:19.829036Z",
     "shell.execute_reply.started": "2021-09-13T13:46:19.780339Z"
    }
   },
   "outputs": [
    {
     "name": "stdout",
     "output_type": "stream",
     "text": [
      "Уникальных значений (включая Nan):  13094 \n",
      "\n",
      "Value_counts:\n",
      "id_871      19\n",
      "id_436      19\n",
      "id_633      19\n",
      "id_227      19\n",
      "id_430      18\n",
      "            ..\n",
      "id_16274     1\n",
      "id_8883      1\n",
      "id_13507     1\n",
      "id_11206     1\n",
      "id_10347     1\n",
      "Name: Restaurant_id, Length: 13094, dtype: int64 \n",
      "\n",
      "Количество Nan:\n",
      "False    50000\n",
      "Name: Restaurant_id, dtype: int64\n"
     ]
    }
   ],
   "source": [
    "# Посмотрим на признак в первом приближении\n",
    "look_at('Restaurant_id')"
   ]
  },
  {
   "cell_type": "code",
   "execution_count": 292,
   "metadata": {
    "execution": {
     "iopub.execute_input": "2021-09-13T13:46:19.831373Z",
     "iopub.status.busy": "2021-09-13T13:46:19.830946Z",
     "iopub.status.idle": "2021-09-13T13:46:19.865099Z",
     "shell.execute_reply": "2021-09-13T13:46:19.864477Z",
     "shell.execute_reply.started": "2021-09-13T13:46:19.831328Z"
    }
   },
   "outputs": [
    {
     "data": {
      "text/html": [
       "<div>\n",
       "<style scoped>\n",
       "    .dataframe tbody tr th:only-of-type {\n",
       "        vertical-align: middle;\n",
       "    }\n",
       "\n",
       "    .dataframe tbody tr th {\n",
       "        vertical-align: top;\n",
       "    }\n",
       "\n",
       "    .dataframe thead th {\n",
       "        text-align: right;\n",
       "    }\n",
       "</style>\n",
       "<table border=\"1\" class=\"dataframe\">\n",
       "  <thead>\n",
       "    <tr style=\"text-align: right;\">\n",
       "      <th></th>\n",
       "      <th>Restaurant_id</th>\n",
       "      <th>City</th>\n",
       "      <th>Cuisine Style</th>\n",
       "      <th>Ranking</th>\n",
       "      <th>Price Range</th>\n",
       "      <th>Number of Reviews</th>\n",
       "      <th>Reviews</th>\n",
       "      <th>URL_TA</th>\n",
       "      <th>ID_TA</th>\n",
       "      <th>sample</th>\n",
       "      <th>Rating</th>\n",
       "    </tr>\n",
       "  </thead>\n",
       "  <tbody>\n",
       "    <tr>\n",
       "      <th>871</th>\n",
       "      <td>id_871</td>\n",
       "      <td>Berlin</td>\n",
       "      <td>NaN</td>\n",
       "      <td>5900.0</td>\n",
       "      <td>NaN</td>\n",
       "      <td>5.0</td>\n",
       "      <td>[[], []]</td>\n",
       "      <td>/Restaurant_Review-g187323-d10057590-Reviews-K...</td>\n",
       "      <td>d10057590</td>\n",
       "      <td>0</td>\n",
       "      <td>0.0</td>\n",
       "    </tr>\n",
       "    <tr>\n",
       "      <th>10756</th>\n",
       "      <td>id_871</td>\n",
       "      <td>Milan</td>\n",
       "      <td>['Chinese', 'Seafood', 'Vegetarian Friendly']</td>\n",
       "      <td>873.0</td>\n",
       "      <td>$$ - $$$</td>\n",
       "      <td>69.0</td>\n",
       "      <td>[['My favourite Chinese Restaurant in Milan', ...</td>\n",
       "      <td>/Restaurant_Review-g187849-d8277124-Reviews-Ri...</td>\n",
       "      <td>d8277124</td>\n",
       "      <td>1</td>\n",
       "      <td>4.5</td>\n",
       "    </tr>\n",
       "    <tr>\n",
       "      <th>11172</th>\n",
       "      <td>id_871</td>\n",
       "      <td>Geneva</td>\n",
       "      <td>['International']</td>\n",
       "      <td>876.0</td>\n",
       "      <td>$$ - $$$</td>\n",
       "      <td>28.0</td>\n",
       "      <td>[['Wild Girls Mess - A place Where Staff igno....</td>\n",
       "      <td>/Restaurant_Review-g188057-d4462793-Reviews-BG...</td>\n",
       "      <td>d4462793</td>\n",
       "      <td>1</td>\n",
       "      <td>4.0</td>\n",
       "    </tr>\n",
       "    <tr>\n",
       "      <th>13239</th>\n",
       "      <td>id_871</td>\n",
       "      <td>Zurich</td>\n",
       "      <td>['Bar', 'Pub']</td>\n",
       "      <td>875.0</td>\n",
       "      <td>NaN</td>\n",
       "      <td>3.0</td>\n",
       "      <td>[['Schlager central'], ['04/11/2015']]</td>\n",
       "      <td>/Restaurant_Review-g188113-d7904953-Reviews-Pe...</td>\n",
       "      <td>d7904953</td>\n",
       "      <td>1</td>\n",
       "      <td>4.5</td>\n",
       "    </tr>\n",
       "    <tr>\n",
       "      <th>14275</th>\n",
       "      <td>id_871</td>\n",
       "      <td>Prague</td>\n",
       "      <td>['Czech', 'European', 'Eastern European']</td>\n",
       "      <td>872.0</td>\n",
       "      <td>$</td>\n",
       "      <td>66.0</td>\n",
       "      <td>[['Good food, reasonable prices, Czech beer t....</td>\n",
       "      <td>/Restaurant_Review-g274707-d4767690-Reviews-Re...</td>\n",
       "      <td>d4767690</td>\n",
       "      <td>1</td>\n",
       "      <td>4.5</td>\n",
       "    </tr>\n",
       "    <tr>\n",
       "      <th>15350</th>\n",
       "      <td>id_871</td>\n",
       "      <td>Krakow</td>\n",
       "      <td>['Fast Food', 'European', 'Greek', 'Vegetarian...</td>\n",
       "      <td>872.0</td>\n",
       "      <td>$</td>\n",
       "      <td>98.0</td>\n",
       "      <td>[['Good and Inexpensive!', 'Terrible service.'...</td>\n",
       "      <td>/Restaurant_Review-g274772-d1098630-Reviews-Ak...</td>\n",
       "      <td>d1098630</td>\n",
       "      <td>1</td>\n",
       "      <td>3.5</td>\n",
       "    </tr>\n",
       "    <tr>\n",
       "      <th>19209</th>\n",
       "      <td>id_871</td>\n",
       "      <td>Athens</td>\n",
       "      <td>NaN</td>\n",
       "      <td>873.0</td>\n",
       "      <td>NaN</td>\n",
       "      <td>9.0</td>\n",
       "      <td>[['Crepexarchia', 'Filling and delicious food ...</td>\n",
       "      <td>/Restaurant_Review-g189400-d10110357-Reviews-C...</td>\n",
       "      <td>d10110357</td>\n",
       "      <td>1</td>\n",
       "      <td>4.5</td>\n",
       "    </tr>\n",
       "    <tr>\n",
       "      <th>21434</th>\n",
       "      <td>id_871</td>\n",
       "      <td>Berlin</td>\n",
       "      <td>['Asian', 'Vegetarian Friendly', 'Gluten Free ...</td>\n",
       "      <td>872.0</td>\n",
       "      <td>$$ - $$$</td>\n",
       "      <td>37.0</td>\n",
       "      <td>[['Honest, fun and so good!', 'Amazing!!'], ['...</td>\n",
       "      <td>/Restaurant_Review-g187323-d12165690-Reviews-M...</td>\n",
       "      <td>d12165690</td>\n",
       "      <td>1</td>\n",
       "      <td>4.5</td>\n",
       "    </tr>\n",
       "    <tr>\n",
       "      <th>30423</th>\n",
       "      <td>id_871</td>\n",
       "      <td>Munich</td>\n",
       "      <td>['French', 'Mediterranean', 'European', 'Wine ...</td>\n",
       "      <td>879.0</td>\n",
       "      <td>$$$$</td>\n",
       "      <td>87.0</td>\n",
       "      <td>[['I will go back next time when in Munich', '...</td>\n",
       "      <td>/Restaurant_Review-g187309-d1342532-Reviews-Le...</td>\n",
       "      <td>d1342532</td>\n",
       "      <td>1</td>\n",
       "      <td>4.5</td>\n",
       "    </tr>\n",
       "    <tr>\n",
       "      <th>32885</th>\n",
       "      <td>id_871</td>\n",
       "      <td>Barcelona</td>\n",
       "      <td>['Mediterranean', 'Wine Bar', 'International',...</td>\n",
       "      <td>872.0</td>\n",
       "      <td>$$$$</td>\n",
       "      <td>102.0</td>\n",
       "      <td>[['Great wine tasting', 'Excellent meal with a...</td>\n",
       "      <td>/Restaurant_Review-g187497-d7332637-Reviews-Bo...</td>\n",
       "      <td>d7332637</td>\n",
       "      <td>1</td>\n",
       "      <td>4.5</td>\n",
       "    </tr>\n",
       "    <tr>\n",
       "      <th>36161</th>\n",
       "      <td>id_871</td>\n",
       "      <td>Edinburgh</td>\n",
       "      <td>['Italian', 'Wine Bar']</td>\n",
       "      <td>872.0</td>\n",
       "      <td>$$ - $$$</td>\n",
       "      <td>8.0</td>\n",
       "      <td>[['Great fine - simple, friendly and nice win....</td>\n",
       "      <td>/Restaurant_Review-g186525-d12868167-Reviews-B...</td>\n",
       "      <td>d12868167</td>\n",
       "      <td>1</td>\n",
       "      <td>5.0</td>\n",
       "    </tr>\n",
       "    <tr>\n",
       "      <th>38923</th>\n",
       "      <td>id_871</td>\n",
       "      <td>Dublin</td>\n",
       "      <td>['American', 'Irish', 'Barbecue']</td>\n",
       "      <td>872.0</td>\n",
       "      <td>$$ - $$$</td>\n",
       "      <td>10.0</td>\n",
       "      <td>[['Good food', 'Our new favourite BBQ joint'],...</td>\n",
       "      <td>/Restaurant_Review-g186605-d12713994-Reviews-S...</td>\n",
       "      <td>d12713994</td>\n",
       "      <td>1</td>\n",
       "      <td>4.5</td>\n",
       "    </tr>\n",
       "    <tr>\n",
       "      <th>41369</th>\n",
       "      <td>id_871</td>\n",
       "      <td>Warsaw</td>\n",
       "      <td>['Vietnamese']</td>\n",
       "      <td>872.0</td>\n",
       "      <td>$$ - $$$</td>\n",
       "      <td>20.0</td>\n",
       "      <td>[['Feels like they are further improving', 'De...</td>\n",
       "      <td>/Restaurant_Review-g274856-d9979918-Reviews-Re...</td>\n",
       "      <td>d9979918</td>\n",
       "      <td>1</td>\n",
       "      <td>4.0</td>\n",
       "    </tr>\n",
       "    <tr>\n",
       "      <th>41576</th>\n",
       "      <td>id_871</td>\n",
       "      <td>Lyon</td>\n",
       "      <td>NaN</td>\n",
       "      <td>872.0</td>\n",
       "      <td>NaN</td>\n",
       "      <td>43.0</td>\n",
       "      <td>[[], []]</td>\n",
       "      <td>/Restaurant_Review-g661468-d7214794-Reviews-Re...</td>\n",
       "      <td>d7214794</td>\n",
       "      <td>1</td>\n",
       "      <td>4.0</td>\n",
       "    </tr>\n",
       "    <tr>\n",
       "      <th>46687</th>\n",
       "      <td>id_871</td>\n",
       "      <td>Madrid</td>\n",
       "      <td>['Spanish']</td>\n",
       "      <td>872.0</td>\n",
       "      <td>$$ - $$$</td>\n",
       "      <td>327.0</td>\n",
       "      <td>[['Great cocido!', 'Delicious'], ['11/19/2017'...</td>\n",
       "      <td>/Restaurant_Review-g187514-d4187302-Reviews-Cr...</td>\n",
       "      <td>d4187302</td>\n",
       "      <td>1</td>\n",
       "      <td>4.0</td>\n",
       "    </tr>\n",
       "    <tr>\n",
       "      <th>46816</th>\n",
       "      <td>id_871</td>\n",
       "      <td>Brussels</td>\n",
       "      <td>['Italian', 'Pizza', 'European', 'Mediterranea...</td>\n",
       "      <td>872.0</td>\n",
       "      <td>$$ - $$$</td>\n",
       "      <td>39.0</td>\n",
       "      <td>[['I lovely this family restaurant', 'Good piz...</td>\n",
       "      <td>/Restaurant_Review-g188644-d4608409-Reviews-La...</td>\n",
       "      <td>d4608409</td>\n",
       "      <td>1</td>\n",
       "      <td>4.0</td>\n",
       "    </tr>\n",
       "    <tr>\n",
       "      <th>47161</th>\n",
       "      <td>id_871</td>\n",
       "      <td>Paris</td>\n",
       "      <td>['Lebanese', 'Mediterranean', 'Middle Eastern'...</td>\n",
       "      <td>872.0</td>\n",
       "      <td>$$ - $$$</td>\n",
       "      <td>476.0</td>\n",
       "      <td>[['Great food and lovely atmosphere', 'Beautif...</td>\n",
       "      <td>/Restaurant_Review-g187147-d719561-Reviews-Res...</td>\n",
       "      <td>d719561</td>\n",
       "      <td>1</td>\n",
       "      <td>4.0</td>\n",
       "    </tr>\n",
       "    <tr>\n",
       "      <th>49180</th>\n",
       "      <td>id_871</td>\n",
       "      <td>Helsinki</td>\n",
       "      <td>NaN</td>\n",
       "      <td>872.0</td>\n",
       "      <td>NaN</td>\n",
       "      <td>10.0</td>\n",
       "      <td>[['Decent hot dog shop', 'Good Czech beers'], ...</td>\n",
       "      <td>/Restaurant_Review-g189934-d7738356-Reviews-As...</td>\n",
       "      <td>d7738356</td>\n",
       "      <td>1</td>\n",
       "      <td>3.5</td>\n",
       "    </tr>\n",
       "    <tr>\n",
       "      <th>49895</th>\n",
       "      <td>id_871</td>\n",
       "      <td>Oporto</td>\n",
       "      <td>['Bar', 'European', 'Pub', 'Portuguese']</td>\n",
       "      <td>872.0</td>\n",
       "      <td>$</td>\n",
       "      <td>141.0</td>\n",
       "      <td>[['Football on TV', 'Nice place for a glass of...</td>\n",
       "      <td>/Restaurant_Review-g189180-d7315906-Reviews-Cr...</td>\n",
       "      <td>d7315906</td>\n",
       "      <td>1</td>\n",
       "      <td>3.5</td>\n",
       "    </tr>\n",
       "  </tbody>\n",
       "</table>\n",
       "</div>"
      ],
      "text/plain": [
       "      Restaurant_id       City  \\\n",
       "871          id_871     Berlin   \n",
       "10756        id_871      Milan   \n",
       "11172        id_871     Geneva   \n",
       "13239        id_871     Zurich   \n",
       "14275        id_871     Prague   \n",
       "15350        id_871     Krakow   \n",
       "19209        id_871     Athens   \n",
       "21434        id_871     Berlin   \n",
       "30423        id_871     Munich   \n",
       "32885        id_871  Barcelona   \n",
       "36161        id_871  Edinburgh   \n",
       "38923        id_871     Dublin   \n",
       "41369        id_871     Warsaw   \n",
       "41576        id_871       Lyon   \n",
       "46687        id_871     Madrid   \n",
       "46816        id_871   Brussels   \n",
       "47161        id_871      Paris   \n",
       "49180        id_871   Helsinki   \n",
       "49895        id_871     Oporto   \n",
       "\n",
       "                                           Cuisine Style  Ranking Price Range  \\\n",
       "871                                                  NaN   5900.0         NaN   \n",
       "10756      ['Chinese', 'Seafood', 'Vegetarian Friendly']    873.0    $$ - $$$   \n",
       "11172                                  ['International']    876.0    $$ - $$$   \n",
       "13239                                     ['Bar', 'Pub']    875.0         NaN   \n",
       "14275          ['Czech', 'European', 'Eastern European']    872.0           $   \n",
       "15350  ['Fast Food', 'European', 'Greek', 'Vegetarian...    872.0           $   \n",
       "19209                                                NaN    873.0         NaN   \n",
       "21434  ['Asian', 'Vegetarian Friendly', 'Gluten Free ...    872.0    $$ - $$$   \n",
       "30423  ['French', 'Mediterranean', 'European', 'Wine ...    879.0        $$$$   \n",
       "32885  ['Mediterranean', 'Wine Bar', 'International',...    872.0        $$$$   \n",
       "36161                            ['Italian', 'Wine Bar']    872.0    $$ - $$$   \n",
       "38923                  ['American', 'Irish', 'Barbecue']    872.0    $$ - $$$   \n",
       "41369                                     ['Vietnamese']    872.0    $$ - $$$   \n",
       "41576                                                NaN    872.0         NaN   \n",
       "46687                                        ['Spanish']    872.0    $$ - $$$   \n",
       "46816  ['Italian', 'Pizza', 'European', 'Mediterranea...    872.0    $$ - $$$   \n",
       "47161  ['Lebanese', 'Mediterranean', 'Middle Eastern'...    872.0    $$ - $$$   \n",
       "49180                                                NaN    872.0         NaN   \n",
       "49895           ['Bar', 'European', 'Pub', 'Portuguese']    872.0           $   \n",
       "\n",
       "       Number of Reviews                                            Reviews  \\\n",
       "871                  5.0                                           [[], []]   \n",
       "10756               69.0  [['My favourite Chinese Restaurant in Milan', ...   \n",
       "11172               28.0  [['Wild Girls Mess - A place Where Staff igno....   \n",
       "13239                3.0             [['Schlager central'], ['04/11/2015']]   \n",
       "14275               66.0  [['Good food, reasonable prices, Czech beer t....   \n",
       "15350               98.0  [['Good and Inexpensive!', 'Terrible service.'...   \n",
       "19209                9.0  [['Crepexarchia', 'Filling and delicious food ...   \n",
       "21434               37.0  [['Honest, fun and so good!', 'Amazing!!'], ['...   \n",
       "30423               87.0  [['I will go back next time when in Munich', '...   \n",
       "32885              102.0  [['Great wine tasting', 'Excellent meal with a...   \n",
       "36161                8.0  [['Great fine - simple, friendly and nice win....   \n",
       "38923               10.0  [['Good food', 'Our new favourite BBQ joint'],...   \n",
       "41369               20.0  [['Feels like they are further improving', 'De...   \n",
       "41576               43.0                                           [[], []]   \n",
       "46687              327.0  [['Great cocido!', 'Delicious'], ['11/19/2017'...   \n",
       "46816               39.0  [['I lovely this family restaurant', 'Good piz...   \n",
       "47161              476.0  [['Great food and lovely atmosphere', 'Beautif...   \n",
       "49180               10.0  [['Decent hot dog shop', 'Good Czech beers'], ...   \n",
       "49895              141.0  [['Football on TV', 'Nice place for a glass of...   \n",
       "\n",
       "                                                  URL_TA      ID_TA  sample  \\\n",
       "871    /Restaurant_Review-g187323-d10057590-Reviews-K...  d10057590       0   \n",
       "10756  /Restaurant_Review-g187849-d8277124-Reviews-Ri...   d8277124       1   \n",
       "11172  /Restaurant_Review-g188057-d4462793-Reviews-BG...   d4462793       1   \n",
       "13239  /Restaurant_Review-g188113-d7904953-Reviews-Pe...   d7904953       1   \n",
       "14275  /Restaurant_Review-g274707-d4767690-Reviews-Re...   d4767690       1   \n",
       "15350  /Restaurant_Review-g274772-d1098630-Reviews-Ak...   d1098630       1   \n",
       "19209  /Restaurant_Review-g189400-d10110357-Reviews-C...  d10110357       1   \n",
       "21434  /Restaurant_Review-g187323-d12165690-Reviews-M...  d12165690       1   \n",
       "30423  /Restaurant_Review-g187309-d1342532-Reviews-Le...   d1342532       1   \n",
       "32885  /Restaurant_Review-g187497-d7332637-Reviews-Bo...   d7332637       1   \n",
       "36161  /Restaurant_Review-g186525-d12868167-Reviews-B...  d12868167       1   \n",
       "38923  /Restaurant_Review-g186605-d12713994-Reviews-S...  d12713994       1   \n",
       "41369  /Restaurant_Review-g274856-d9979918-Reviews-Re...   d9979918       1   \n",
       "41576  /Restaurant_Review-g661468-d7214794-Reviews-Re...   d7214794       1   \n",
       "46687  /Restaurant_Review-g187514-d4187302-Reviews-Cr...   d4187302       1   \n",
       "46816  /Restaurant_Review-g188644-d4608409-Reviews-La...   d4608409       1   \n",
       "47161  /Restaurant_Review-g187147-d719561-Reviews-Res...    d719561       1   \n",
       "49180  /Restaurant_Review-g189934-d7738356-Reviews-As...   d7738356       1   \n",
       "49895  /Restaurant_Review-g189180-d7315906-Reviews-Cr...   d7315906       1   \n",
       "\n",
       "       Rating  \n",
       "871       0.0  \n",
       "10756     4.5  \n",
       "11172     4.0  \n",
       "13239     4.5  \n",
       "14275     4.5  \n",
       "15350     3.5  \n",
       "19209     4.5  \n",
       "21434     4.5  \n",
       "30423     4.5  \n",
       "32885     4.5  \n",
       "36161     5.0  \n",
       "38923     4.5  \n",
       "41369     4.0  \n",
       "41576     4.0  \n",
       "46687     4.0  \n",
       "46816     4.0  \n",
       "47161     4.0  \n",
       "49180     3.5  \n",
       "49895     3.5  "
      ]
     },
     "execution_count": 292,
     "metadata": {},
     "output_type": "execute_result"
    }
   ],
   "source": [
    "# Посмотрим на рестораны с одинаковым id\n",
    "df[df['Restaurant_id'] == 'id_871']"
   ]
  },
  {
   "cell_type": "code",
   "execution_count": 293,
   "metadata": {
    "execution": {
     "iopub.execute_input": "2021-09-13T13:46:19.866832Z",
     "iopub.status.busy": "2021-09-13T13:46:19.866416Z",
     "iopub.status.idle": "2021-09-13T13:46:19.906338Z",
     "shell.execute_reply": "2021-09-13T13:46:19.905381Z",
     "shell.execute_reply.started": "2021-09-13T13:46:19.866774Z"
    }
   },
   "outputs": [
    {
     "data": {
      "text/html": [
       "<div>\n",
       "<style scoped>\n",
       "    .dataframe tbody tr th:only-of-type {\n",
       "        vertical-align: middle;\n",
       "    }\n",
       "\n",
       "    .dataframe tbody tr th {\n",
       "        vertical-align: top;\n",
       "    }\n",
       "\n",
       "    .dataframe thead th {\n",
       "        text-align: right;\n",
       "    }\n",
       "</style>\n",
       "<table border=\"1\" class=\"dataframe\">\n",
       "  <thead>\n",
       "    <tr style=\"text-align: right;\">\n",
       "      <th></th>\n",
       "      <th>Restaurant_id</th>\n",
       "      <th>City</th>\n",
       "      <th>Cuisine Style</th>\n",
       "      <th>Ranking</th>\n",
       "      <th>Price Range</th>\n",
       "      <th>Number of Reviews</th>\n",
       "      <th>Reviews</th>\n",
       "      <th>URL_TA</th>\n",
       "      <th>ID_TA</th>\n",
       "      <th>sample</th>\n",
       "      <th>Rating</th>\n",
       "    </tr>\n",
       "  </thead>\n",
       "  <tbody>\n",
       "    <tr>\n",
       "      <th>436</th>\n",
       "      <td>id_436</td>\n",
       "      <td>Lisbon</td>\n",
       "      <td>['European', 'Portuguese']</td>\n",
       "      <td>2904.0</td>\n",
       "      <td>NaN</td>\n",
       "      <td>2.0</td>\n",
       "      <td>[[], []]</td>\n",
       "      <td>/Restaurant_Review-g189158-d5003144-Reviews-Gu...</td>\n",
       "      <td>d5003144</td>\n",
       "      <td>0</td>\n",
       "      <td>0.0</td>\n",
       "    </tr>\n",
       "    <tr>\n",
       "      <th>12955</th>\n",
       "      <td>id_436</td>\n",
       "      <td>Barcelona</td>\n",
       "      <td>['Seafood', 'Mediterranean', 'Spanish', 'Glute...</td>\n",
       "      <td>437.0</td>\n",
       "      <td>$$ - $$$</td>\n",
       "      <td>546.0</td>\n",
       "      <td>[['Fresh Fish', 'Perfect concept'], ['01/03/20...</td>\n",
       "      <td>/Restaurant_Review-g187497-d1592613-Reviews-La...</td>\n",
       "      <td>d1592613</td>\n",
       "      <td>1</td>\n",
       "      <td>4.5</td>\n",
       "    </tr>\n",
       "    <tr>\n",
       "      <th>14674</th>\n",
       "      <td>id_436</td>\n",
       "      <td>Copenhagen</td>\n",
       "      <td>['European', 'Spanish', 'Mediterranean', 'Vege...</td>\n",
       "      <td>437.0</td>\n",
       "      <td>$$ - $$$</td>\n",
       "      <td>89.0</td>\n",
       "      <td>[['Lovely restaurant', 'Great atmosphere and g...</td>\n",
       "      <td>/Restaurant_Review-g189541-d8738362-Reviews-To...</td>\n",
       "      <td>d8738362</td>\n",
       "      <td>1</td>\n",
       "      <td>4.0</td>\n",
       "    </tr>\n",
       "    <tr>\n",
       "      <th>16118</th>\n",
       "      <td>id_436</td>\n",
       "      <td>Oporto</td>\n",
       "      <td>['European', 'Portuguese', 'Soups', 'Cafe', 'V...</td>\n",
       "      <td>437.0</td>\n",
       "      <td>$</td>\n",
       "      <td>71.0</td>\n",
       "      <td>[['Super nice healthy and good', 'Great lunch ...</td>\n",
       "      <td>/Restaurant_Review-g189180-d9463122-Reviews-Ca...</td>\n",
       "      <td>d9463122</td>\n",
       "      <td>1</td>\n",
       "      <td>4.5</td>\n",
       "    </tr>\n",
       "    <tr>\n",
       "      <th>16215</th>\n",
       "      <td>id_436</td>\n",
       "      <td>Budapest</td>\n",
       "      <td>['American', 'Vegetarian Friendly', 'Vegan Opt...</td>\n",
       "      <td>437.0</td>\n",
       "      <td>$</td>\n",
       "      <td>68.0</td>\n",
       "      <td>[['Excellent', 'Best burger ever!'], ['12/05/2...</td>\n",
       "      <td>/Restaurant_Review-g274887-d10438365-Reviews-B...</td>\n",
       "      <td>d10438365</td>\n",
       "      <td>1</td>\n",
       "      <td>4.5</td>\n",
       "    </tr>\n",
       "    <tr>\n",
       "      <th>17377</th>\n",
       "      <td>id_436</td>\n",
       "      <td>Luxembourg</td>\n",
       "      <td>['Asian']</td>\n",
       "      <td>437.0</td>\n",
       "      <td>NaN</td>\n",
       "      <td>2.0</td>\n",
       "      <td>[['ZEN'], ['06/11/2016']]</td>\n",
       "      <td>/Restaurant_Review-g190356-d743888-Reviews-Zen...</td>\n",
       "      <td>d743888</td>\n",
       "      <td>1</td>\n",
       "      <td>4.5</td>\n",
       "    </tr>\n",
       "    <tr>\n",
       "      <th>18168</th>\n",
       "      <td>id_436</td>\n",
       "      <td>Oslo</td>\n",
       "      <td>['European', 'Scandinavian']</td>\n",
       "      <td>437.0</td>\n",
       "      <td>$$$$</td>\n",
       "      <td>51.0</td>\n",
       "      <td>[['Stunning views over Oslo', 'Brilliant break...</td>\n",
       "      <td>/Restaurant_Review-g190479-d2036436-Reviews-Re...</td>\n",
       "      <td>d2036436</td>\n",
       "      <td>1</td>\n",
       "      <td>4.0</td>\n",
       "    </tr>\n",
       "    <tr>\n",
       "      <th>18497</th>\n",
       "      <td>id_436</td>\n",
       "      <td>Milan</td>\n",
       "      <td>['Italian', 'Pizza', 'Mediterranean', 'Vegetar...</td>\n",
       "      <td>437.0</td>\n",
       "      <td>$$ - $$$</td>\n",
       "      <td>855.0</td>\n",
       "      <td>[['Nice Napoli style pizza place', 'Great Neap...</td>\n",
       "      <td>/Restaurant_Review-g187849-d1553645-Reviews-Il...</td>\n",
       "      <td>d1553645</td>\n",
       "      <td>1</td>\n",
       "      <td>4.0</td>\n",
       "    </tr>\n",
       "    <tr>\n",
       "      <th>22554</th>\n",
       "      <td>id_436</td>\n",
       "      <td>Ljubljana</td>\n",
       "      <td>NaN</td>\n",
       "      <td>437.0</td>\n",
       "      <td>NaN</td>\n",
       "      <td>14.0</td>\n",
       "      <td>[['Terrible staff and service', 'Disrespectful...</td>\n",
       "      <td>/Restaurant_Review-g274873-d12607480-Reviews-C...</td>\n",
       "      <td>d12607480</td>\n",
       "      <td>1</td>\n",
       "      <td>3.0</td>\n",
       "    </tr>\n",
       "    <tr>\n",
       "      <th>23313</th>\n",
       "      <td>id_436</td>\n",
       "      <td>Krakow</td>\n",
       "      <td>['Vegetarian Friendly']</td>\n",
       "      <td>437.0</td>\n",
       "      <td>$$ - $$$</td>\n",
       "      <td>18.0</td>\n",
       "      <td>[['Great find, 100% recommend', 'Amazing brunc...</td>\n",
       "      <td>/Restaurant_Review-g274772-d12404722-Reviews-R...</td>\n",
       "      <td>d12404722</td>\n",
       "      <td>1</td>\n",
       "      <td>4.5</td>\n",
       "    </tr>\n",
       "    <tr>\n",
       "      <th>26973</th>\n",
       "      <td>id_436</td>\n",
       "      <td>Stockholm</td>\n",
       "      <td>['Italian', 'Pizza', 'Vegetarian Friendly', 'G...</td>\n",
       "      <td>437.0</td>\n",
       "      <td>$$ - $$$</td>\n",
       "      <td>30.0</td>\n",
       "      <td>[['Awesome pizza', 'Meno male- a nice discover...</td>\n",
       "      <td>/Restaurant_Review-g189852-d12519439-Reviews-M...</td>\n",
       "      <td>d12519439</td>\n",
       "      <td>1</td>\n",
       "      <td>4.5</td>\n",
       "    </tr>\n",
       "    <tr>\n",
       "      <th>29686</th>\n",
       "      <td>id_436</td>\n",
       "      <td>Berlin</td>\n",
       "      <td>['Mediterranean', 'European', 'Italian', 'Seaf...</td>\n",
       "      <td>437.0</td>\n",
       "      <td>$$ - $$$</td>\n",
       "      <td>84.0</td>\n",
       "      <td>[['Excellent food', 'Buonissimo'], ['12/15/201...</td>\n",
       "      <td>/Restaurant_Review-g187323-d8087299-Reviews-In...</td>\n",
       "      <td>d8087299</td>\n",
       "      <td>1</td>\n",
       "      <td>4.5</td>\n",
       "    </tr>\n",
       "    <tr>\n",
       "      <th>31302</th>\n",
       "      <td>id_436</td>\n",
       "      <td>London</td>\n",
       "      <td>['Seafood', 'European', 'British', 'Soups', 'V...</td>\n",
       "      <td>437.0</td>\n",
       "      <td>$$$$</td>\n",
       "      <td>1606.0</td>\n",
       "      <td>[['Expensive but still worthwhile', 'Personali...</td>\n",
       "      <td>/Restaurant_Review-g186338-d733537-Reviews-Ben...</td>\n",
       "      <td>d733537</td>\n",
       "      <td>1</td>\n",
       "      <td>4.0</td>\n",
       "    </tr>\n",
       "    <tr>\n",
       "      <th>31861</th>\n",
       "      <td>id_436</td>\n",
       "      <td>Rome</td>\n",
       "      <td>['Italian', 'Cafe', 'Vegetarian Friendly', 'Ve...</td>\n",
       "      <td>437.0</td>\n",
       "      <td>$</td>\n",
       "      <td>374.0</td>\n",
       "      <td>[['A hidden gem!', 'Highly recommended!!'], ['...</td>\n",
       "      <td>/Restaurant_Review-g187791-d3340828-Reviews-Ba...</td>\n",
       "      <td>d3340828</td>\n",
       "      <td>1</td>\n",
       "      <td>4.5</td>\n",
       "    </tr>\n",
       "    <tr>\n",
       "      <th>33452</th>\n",
       "      <td>id_436</td>\n",
       "      <td>Munich</td>\n",
       "      <td>['Cafe', 'Mediterranean', 'European', 'Central...</td>\n",
       "      <td>440.0</td>\n",
       "      <td>$$ - $$$</td>\n",
       "      <td>83.0</td>\n",
       "      <td>[['fantastissimo', 'Excellent food und service...</td>\n",
       "      <td>/Restaurant_Review-g187309-d1837048-Reviews-L_...</td>\n",
       "      <td>d1837048</td>\n",
       "      <td>1</td>\n",
       "      <td>4.5</td>\n",
       "    </tr>\n",
       "    <tr>\n",
       "      <th>33799</th>\n",
       "      <td>id_436</td>\n",
       "      <td>Athens</td>\n",
       "      <td>['American', 'Bar', 'Central American', 'Veget...</td>\n",
       "      <td>437.0</td>\n",
       "      <td>$$ - $$$</td>\n",
       "      <td>207.0</td>\n",
       "      <td>[['Past its prime', 'Nice to be back'], ['11/2...</td>\n",
       "      <td>/Restaurant_Review-g189400-d789069-Reviews-TGI...</td>\n",
       "      <td>d789069</td>\n",
       "      <td>1</td>\n",
       "      <td>4.0</td>\n",
       "    </tr>\n",
       "    <tr>\n",
       "      <th>36902</th>\n",
       "      <td>id_436</td>\n",
       "      <td>Hamburg</td>\n",
       "      <td>['European', 'Swedish', 'Scandinavian', 'Danis...</td>\n",
       "      <td>437.0</td>\n",
       "      <td>$$ - $$$</td>\n",
       "      <td>47.0</td>\n",
       "      <td>[['Scandi cafe in hamburg', 'Scandinavian want...</td>\n",
       "      <td>/Restaurant_Review-g187331-d1962984-Reviews-Ka...</td>\n",
       "      <td>d1962984</td>\n",
       "      <td>1</td>\n",
       "      <td>4.0</td>\n",
       "    </tr>\n",
       "    <tr>\n",
       "      <th>41248</th>\n",
       "      <td>id_436</td>\n",
       "      <td>Vienna</td>\n",
       "      <td>['Japanese', 'Asian', 'Vegetarian Friendly', '...</td>\n",
       "      <td>437.0</td>\n",
       "      <td>$$ - $$$</td>\n",
       "      <td>119.0</td>\n",
       "      <td>[['Japan in Austria', 'Real Japanese food in V...</td>\n",
       "      <td>/Restaurant_Review-g190454-d788089-Reviews-Kui...</td>\n",
       "      <td>d788089</td>\n",
       "      <td>1</td>\n",
       "      <td>4.5</td>\n",
       "    </tr>\n",
       "    <tr>\n",
       "      <th>41298</th>\n",
       "      <td>id_436</td>\n",
       "      <td>Madrid</td>\n",
       "      <td>['Georgian', 'Vegetarian Friendly']</td>\n",
       "      <td>437.0</td>\n",
       "      <td>$</td>\n",
       "      <td>120.0</td>\n",
       "      <td>[['Authentic and delicious', 'Khachapuri is am...</td>\n",
       "      <td>/Restaurant_Review-g187514-d10536551-Reviews-K...</td>\n",
       "      <td>d10536551</td>\n",
       "      <td>1</td>\n",
       "      <td>4.5</td>\n",
       "    </tr>\n",
       "  </tbody>\n",
       "</table>\n",
       "</div>"
      ],
      "text/plain": [
       "      Restaurant_id        City  \\\n",
       "436          id_436      Lisbon   \n",
       "12955        id_436   Barcelona   \n",
       "14674        id_436  Copenhagen   \n",
       "16118        id_436      Oporto   \n",
       "16215        id_436    Budapest   \n",
       "17377        id_436  Luxembourg   \n",
       "18168        id_436        Oslo   \n",
       "18497        id_436       Milan   \n",
       "22554        id_436   Ljubljana   \n",
       "23313        id_436      Krakow   \n",
       "26973        id_436   Stockholm   \n",
       "29686        id_436      Berlin   \n",
       "31302        id_436      London   \n",
       "31861        id_436        Rome   \n",
       "33452        id_436      Munich   \n",
       "33799        id_436      Athens   \n",
       "36902        id_436     Hamburg   \n",
       "41248        id_436      Vienna   \n",
       "41298        id_436      Madrid   \n",
       "\n",
       "                                           Cuisine Style  Ranking Price Range  \\\n",
       "436                           ['European', 'Portuguese']   2904.0         NaN   \n",
       "12955  ['Seafood', 'Mediterranean', 'Spanish', 'Glute...    437.0    $$ - $$$   \n",
       "14674  ['European', 'Spanish', 'Mediterranean', 'Vege...    437.0    $$ - $$$   \n",
       "16118  ['European', 'Portuguese', 'Soups', 'Cafe', 'V...    437.0           $   \n",
       "16215  ['American', 'Vegetarian Friendly', 'Vegan Opt...    437.0           $   \n",
       "17377                                          ['Asian']    437.0         NaN   \n",
       "18168                       ['European', 'Scandinavian']    437.0        $$$$   \n",
       "18497  ['Italian', 'Pizza', 'Mediterranean', 'Vegetar...    437.0    $$ - $$$   \n",
       "22554                                                NaN    437.0         NaN   \n",
       "23313                            ['Vegetarian Friendly']    437.0    $$ - $$$   \n",
       "26973  ['Italian', 'Pizza', 'Vegetarian Friendly', 'G...    437.0    $$ - $$$   \n",
       "29686  ['Mediterranean', 'European', 'Italian', 'Seaf...    437.0    $$ - $$$   \n",
       "31302  ['Seafood', 'European', 'British', 'Soups', 'V...    437.0        $$$$   \n",
       "31861  ['Italian', 'Cafe', 'Vegetarian Friendly', 'Ve...    437.0           $   \n",
       "33452  ['Cafe', 'Mediterranean', 'European', 'Central...    440.0    $$ - $$$   \n",
       "33799  ['American', 'Bar', 'Central American', 'Veget...    437.0    $$ - $$$   \n",
       "36902  ['European', 'Swedish', 'Scandinavian', 'Danis...    437.0    $$ - $$$   \n",
       "41248  ['Japanese', 'Asian', 'Vegetarian Friendly', '...    437.0    $$ - $$$   \n",
       "41298                ['Georgian', 'Vegetarian Friendly']    437.0           $   \n",
       "\n",
       "       Number of Reviews                                            Reviews  \\\n",
       "436                  2.0                                           [[], []]   \n",
       "12955              546.0  [['Fresh Fish', 'Perfect concept'], ['01/03/20...   \n",
       "14674               89.0  [['Lovely restaurant', 'Great atmosphere and g...   \n",
       "16118               71.0  [['Super nice healthy and good', 'Great lunch ...   \n",
       "16215               68.0  [['Excellent', 'Best burger ever!'], ['12/05/2...   \n",
       "17377                2.0                          [['ZEN'], ['06/11/2016']]   \n",
       "18168               51.0  [['Stunning views over Oslo', 'Brilliant break...   \n",
       "18497              855.0  [['Nice Napoli style pizza place', 'Great Neap...   \n",
       "22554               14.0  [['Terrible staff and service', 'Disrespectful...   \n",
       "23313               18.0  [['Great find, 100% recommend', 'Amazing brunc...   \n",
       "26973               30.0  [['Awesome pizza', 'Meno male- a nice discover...   \n",
       "29686               84.0  [['Excellent food', 'Buonissimo'], ['12/15/201...   \n",
       "31302             1606.0  [['Expensive but still worthwhile', 'Personali...   \n",
       "31861              374.0  [['A hidden gem!', 'Highly recommended!!'], ['...   \n",
       "33452               83.0  [['fantastissimo', 'Excellent food und service...   \n",
       "33799              207.0  [['Past its prime', 'Nice to be back'], ['11/2...   \n",
       "36902               47.0  [['Scandi cafe in hamburg', 'Scandinavian want...   \n",
       "41248              119.0  [['Japan in Austria', 'Real Japanese food in V...   \n",
       "41298              120.0  [['Authentic and delicious', 'Khachapuri is am...   \n",
       "\n",
       "                                                  URL_TA      ID_TA  sample  \\\n",
       "436    /Restaurant_Review-g189158-d5003144-Reviews-Gu...   d5003144       0   \n",
       "12955  /Restaurant_Review-g187497-d1592613-Reviews-La...   d1592613       1   \n",
       "14674  /Restaurant_Review-g189541-d8738362-Reviews-To...   d8738362       1   \n",
       "16118  /Restaurant_Review-g189180-d9463122-Reviews-Ca...   d9463122       1   \n",
       "16215  /Restaurant_Review-g274887-d10438365-Reviews-B...  d10438365       1   \n",
       "17377  /Restaurant_Review-g190356-d743888-Reviews-Zen...    d743888       1   \n",
       "18168  /Restaurant_Review-g190479-d2036436-Reviews-Re...   d2036436       1   \n",
       "18497  /Restaurant_Review-g187849-d1553645-Reviews-Il...   d1553645       1   \n",
       "22554  /Restaurant_Review-g274873-d12607480-Reviews-C...  d12607480       1   \n",
       "23313  /Restaurant_Review-g274772-d12404722-Reviews-R...  d12404722       1   \n",
       "26973  /Restaurant_Review-g189852-d12519439-Reviews-M...  d12519439       1   \n",
       "29686  /Restaurant_Review-g187323-d8087299-Reviews-In...   d8087299       1   \n",
       "31302  /Restaurant_Review-g186338-d733537-Reviews-Ben...    d733537       1   \n",
       "31861  /Restaurant_Review-g187791-d3340828-Reviews-Ba...   d3340828       1   \n",
       "33452  /Restaurant_Review-g187309-d1837048-Reviews-L_...   d1837048       1   \n",
       "33799  /Restaurant_Review-g189400-d789069-Reviews-TGI...    d789069       1   \n",
       "36902  /Restaurant_Review-g187331-d1962984-Reviews-Ka...   d1962984       1   \n",
       "41248  /Restaurant_Review-g190454-d788089-Reviews-Kui...    d788089       1   \n",
       "41298  /Restaurant_Review-g187514-d10536551-Reviews-K...  d10536551       1   \n",
       "\n",
       "       Rating  \n",
       "436       0.0  \n",
       "12955     4.5  \n",
       "14674     4.0  \n",
       "16118     4.5  \n",
       "16215     4.5  \n",
       "17377     4.5  \n",
       "18168     4.0  \n",
       "18497     4.0  \n",
       "22554     3.0  \n",
       "23313     4.5  \n",
       "26973     4.5  \n",
       "29686     4.5  \n",
       "31302     4.0  \n",
       "31861     4.5  \n",
       "33452     4.5  \n",
       "33799     4.0  \n",
       "36902     4.0  \n",
       "41248     4.5  \n",
       "41298     4.5  "
      ]
     },
     "execution_count": 293,
     "metadata": {},
     "output_type": "execute_result"
    }
   ],
   "source": [
    "df[df['Restaurant_id'] == 'id_436']"
   ]
  },
  {
   "cell_type": "markdown",
   "metadata": {},
   "source": [
    "Во-первых, не похоже, что рестораны с одинаковым id принадлежат к одной сети из-за разных кухонь.  \n",
    "Во-вторых, очевидна взаимосвязь между id и Ranking в df_train."
   ]
  },
  {
   "cell_type": "code",
   "execution_count": 294,
   "metadata": {
    "execution": {
     "iopub.execute_input": "2021-09-13T13:46:19.908522Z",
     "iopub.status.busy": "2021-09-13T13:46:19.907957Z",
     "iopub.status.idle": "2021-09-13T13:46:19.985326Z",
     "shell.execute_reply": "2021-09-13T13:46:19.984193Z",
     "shell.execute_reply.started": "2021-09-13T13:46:19.908458Z"
    }
   },
   "outputs": [
    {
     "data": {
      "text/html": [
       "<div>\n",
       "<style scoped>\n",
       "    .dataframe tbody tr th:only-of-type {\n",
       "        vertical-align: middle;\n",
       "    }\n",
       "\n",
       "    .dataframe tbody tr th {\n",
       "        vertical-align: top;\n",
       "    }\n",
       "\n",
       "    .dataframe thead th {\n",
       "        text-align: right;\n",
       "    }\n",
       "</style>\n",
       "<table border=\"1\" class=\"dataframe\">\n",
       "  <thead>\n",
       "    <tr style=\"text-align: right;\">\n",
       "      <th></th>\n",
       "      <th>restaurant_id_num</th>\n",
       "      <th>Ranking</th>\n",
       "    </tr>\n",
       "  </thead>\n",
       "  <tbody>\n",
       "    <tr>\n",
       "      <th>restaurant_id_num</th>\n",
       "      <td>1.00000</td>\n",
       "      <td>0.82509</td>\n",
       "    </tr>\n",
       "    <tr>\n",
       "      <th>Ranking</th>\n",
       "      <td>0.82509</td>\n",
       "      <td>1.00000</td>\n",
       "    </tr>\n",
       "  </tbody>\n",
       "</table>\n",
       "</div>"
      ],
      "text/plain": [
       "                   restaurant_id_num  Ranking\n",
       "restaurant_id_num            1.00000  0.82509\n",
       "Ranking                      0.82509  1.00000"
      ]
     },
     "execution_count": 294,
     "metadata": {},
     "output_type": "execute_result"
    }
   ],
   "source": [
    "df['restaurant_id_num'] = df['Restaurant_id'].apply(lambda x: int(x.replace('id_','')))\n",
    "df[['restaurant_id_num','Ranking']].corr()"
   ]
  },
  {
   "cell_type": "code",
   "execution_count": 295,
   "metadata": {
    "execution": {
     "iopub.execute_input": "2021-09-13T13:46:19.987346Z",
     "iopub.status.busy": "2021-09-13T13:46:19.987034Z",
     "iopub.status.idle": "2021-09-13T13:46:20.050867Z",
     "shell.execute_reply": "2021-09-13T13:46:20.049928Z",
     "shell.execute_reply.started": "2021-09-13T13:46:19.987300Z"
    }
   },
   "outputs": [
    {
     "data": {
      "text/html": [
       "<div>\n",
       "<style scoped>\n",
       "    .dataframe tbody tr th:only-of-type {\n",
       "        vertical-align: middle;\n",
       "    }\n",
       "\n",
       "    .dataframe tbody tr th {\n",
       "        vertical-align: top;\n",
       "    }\n",
       "\n",
       "    .dataframe thead th {\n",
       "        text-align: right;\n",
       "    }\n",
       "</style>\n",
       "<table border=\"1\" class=\"dataframe\">\n",
       "  <thead>\n",
       "    <tr style=\"text-align: right;\">\n",
       "      <th></th>\n",
       "      <th>restaurant_id_num</th>\n",
       "      <th>Ranking</th>\n",
       "    </tr>\n",
       "  </thead>\n",
       "  <tbody>\n",
       "    <tr>\n",
       "      <th>restaurant_id_num</th>\n",
       "      <td>1.0</td>\n",
       "      <td>1.0</td>\n",
       "    </tr>\n",
       "    <tr>\n",
       "      <th>Ranking</th>\n",
       "      <td>1.0</td>\n",
       "      <td>1.0</td>\n",
       "    </tr>\n",
       "  </tbody>\n",
       "</table>\n",
       "</div>"
      ],
      "text/plain": [
       "                   restaurant_id_num  Ranking\n",
       "restaurant_id_num                1.0      1.0\n",
       "Ranking                          1.0      1.0"
      ]
     },
     "execution_count": 295,
     "metadata": {},
     "output_type": "execute_result"
    }
   ],
   "source": [
    "df_train['restaurant_id_num'] = df_train['Restaurant_id'].apply(lambda x: int(x.replace('id_','')))\n",
    "df_train[['restaurant_id_num','Ranking']].corr()"
   ]
  },
  {
   "cell_type": "markdown",
   "metadata": {},
   "source": [
    "#### Признак \"City\"."
   ]
  },
  {
   "cell_type": "code",
   "execution_count": 296,
   "metadata": {
    "execution": {
     "iopub.execute_input": "2021-09-13T13:46:20.052851Z",
     "iopub.status.busy": "2021-09-13T13:46:20.052348Z",
     "iopub.status.idle": "2021-09-13T13:46:20.085220Z",
     "shell.execute_reply": "2021-09-13T13:46:20.084303Z",
     "shell.execute_reply.started": "2021-09-13T13:46:20.052795Z"
    }
   },
   "outputs": [
    {
     "name": "stdout",
     "output_type": "stream",
     "text": [
      "Уникальных значений (включая Nan):  31 \n",
      "\n",
      "Value_counts:\n",
      "London        7193\n",
      "Paris         6108\n",
      "Madrid        3813\n",
      "Barcelona     3395\n",
      "Berlin        2705\n",
      "Milan         2694\n",
      "Rome          2589\n",
      "Prague        1816\n",
      "Lisbon        1647\n",
      "Vienna        1443\n",
      "Amsterdam     1372\n",
      "Brussels      1314\n",
      "Hamburg       1186\n",
      "Munich        1145\n",
      "Lyon          1126\n",
      "Stockholm     1033\n",
      "Budapest      1021\n",
      "Warsaw         925\n",
      "Dublin         836\n",
      "Copenhagen     819\n",
      "Athens         776\n",
      "Edinburgh      745\n",
      "Zurich         685\n",
      "Oporto         642\n",
      "Geneva         590\n",
      "Krakow         554\n",
      "Oslo           488\n",
      "Helsinki       475\n",
      "Bratislava     380\n",
      "Luxembourg     263\n",
      "Ljubljana      222\n",
      "Name: City, dtype: int64 \n",
      "\n",
      "Количество Nan:\n",
      "False    50000\n",
      "Name: City, dtype: int64\n"
     ]
    }
   ],
   "source": [
    "# Посмотрим на признак в первом приближении\n",
    "look_at('City')"
   ]
  },
  {
   "cell_type": "code",
   "execution_count": 297,
   "metadata": {
    "execution": {
     "iopub.execute_input": "2021-09-13T13:46:20.087242Z",
     "iopub.status.busy": "2021-09-13T13:46:20.086699Z",
     "iopub.status.idle": "2021-09-13T13:46:20.115102Z",
     "shell.execute_reply": "2021-09-13T13:46:20.114510Z",
     "shell.execute_reply.started": "2021-09-13T13:46:20.087168Z"
    }
   },
   "outputs": [
    {
     "data": {
      "text/plain": [
       "array([ True,  True,  True,  True,  True,  True,  True,  True,  True,\n",
       "        True,  True,  True,  True,  True,  True,  True,  True,  True,\n",
       "        True,  True,  True,  True,  True,  True,  True,  True,  True,\n",
       "        True,  True,  True,  True])"
      ]
     },
     "execution_count": 297,
     "metadata": {},
     "output_type": "execute_result"
    }
   ],
   "source": [
    "# Посмострим, совпадают ли города в df_train и df_test\n",
    "df_train['City'].value_counts().index.sort_values() == df_train['City'].value_counts().index.sort_values()"
   ]
  },
  {
   "cell_type": "markdown",
   "metadata": {},
   "source": [
    "City - категориальный признак, состоящий из 31 города Европы.  \n",
    "Пропусков нет.  \n",
    "Т.к. городов не много, я посмотрел на каждый, нашел ошибку в названии города Porto.  \n",
    "Кроме того, я составил небольшой дополнительный датасет по этим городам."
   ]
  },
  {
   "cell_type": "code",
   "execution_count": 298,
   "metadata": {
    "execution": {
     "iopub.execute_input": "2021-09-13T13:46:20.116499Z",
     "iopub.status.busy": "2021-09-13T13:46:20.116244Z",
     "iopub.status.idle": "2021-09-13T13:46:20.131500Z",
     "shell.execute_reply": "2021-09-13T13:46:20.130428Z",
     "shell.execute_reply.started": "2021-09-13T13:46:20.116449Z"
    }
   },
   "outputs": [],
   "source": [
    "df['City'] = df['City'].replace('Oporto','Porto')"
   ]
  },
  {
   "cell_type": "code",
   "execution_count": 299,
   "metadata": {
    "execution": {
     "iopub.execute_input": "2021-09-13T13:46:20.133372Z",
     "iopub.status.busy": "2021-09-13T13:46:20.133053Z",
     "iopub.status.idle": "2021-09-13T13:46:20.204977Z",
     "shell.execute_reply": "2021-09-13T13:46:20.203959Z",
     "shell.execute_reply.started": "2021-09-13T13:46:20.133322Z"
    }
   },
   "outputs": [
    {
     "data": {
      "text/html": [
       "<div>\n",
       "<style scoped>\n",
       "    .dataframe tbody tr th:only-of-type {\n",
       "        vertical-align: middle;\n",
       "    }\n",
       "\n",
       "    .dataframe tbody tr th {\n",
       "        vertical-align: top;\n",
       "    }\n",
       "\n",
       "    .dataframe thead th {\n",
       "        text-align: right;\n",
       "    }\n",
       "</style>\n",
       "<table border=\"1\" class=\"dataframe\">\n",
       "  <thead>\n",
       "    <tr style=\"text-align: right;\">\n",
       "      <th></th>\n",
       "      <th>Restaurant_id</th>\n",
       "      <th>City</th>\n",
       "      <th>Cuisine Style</th>\n",
       "      <th>Ranking</th>\n",
       "      <th>Price Range</th>\n",
       "      <th>Number of Reviews</th>\n",
       "      <th>Reviews</th>\n",
       "      <th>URL_TA</th>\n",
       "      <th>ID_TA</th>\n",
       "      <th>sample</th>\n",
       "      <th>Rating</th>\n",
       "      <th>restaurant_id_num</th>\n",
       "      <th>lat</th>\n",
       "      <th>lon</th>\n",
       "      <th>population</th>\n",
       "      <th>is_capital</th>\n",
       "    </tr>\n",
       "  </thead>\n",
       "  <tbody>\n",
       "    <tr>\n",
       "      <th>0</th>\n",
       "      <td>id_0</td>\n",
       "      <td>Paris</td>\n",
       "      <td>['Bar', 'Pub']</td>\n",
       "      <td>12963.0</td>\n",
       "      <td>$$ - $$$</td>\n",
       "      <td>4.0</td>\n",
       "      <td>[[], []]</td>\n",
       "      <td>/Restaurant_Review-g187147-d10746918-Reviews-L...</td>\n",
       "      <td>d10746918</td>\n",
       "      <td>0</td>\n",
       "      <td>0.0</td>\n",
       "      <td>0</td>\n",
       "      <td>48.856613</td>\n",
       "      <td>2.352222</td>\n",
       "      <td>2175601</td>\n",
       "      <td>1</td>\n",
       "    </tr>\n",
       "    <tr>\n",
       "      <th>1</th>\n",
       "      <td>id_1</td>\n",
       "      <td>Helsinki</td>\n",
       "      <td>['European', 'Scandinavian', 'Gluten Free Opti...</td>\n",
       "      <td>106.0</td>\n",
       "      <td>$$ - $$$</td>\n",
       "      <td>97.0</td>\n",
       "      <td>[['Very good reviews!', 'Fine dining in Hakani...</td>\n",
       "      <td>/Restaurant_Review-g189934-d6674944-Reviews-Ra...</td>\n",
       "      <td>d6674944</td>\n",
       "      <td>0</td>\n",
       "      <td>0.0</td>\n",
       "      <td>1</td>\n",
       "      <td>60.169857</td>\n",
       "      <td>24.938379</td>\n",
       "      <td>657674</td>\n",
       "      <td>1</td>\n",
       "    </tr>\n",
       "    <tr>\n",
       "      <th>2</th>\n",
       "      <td>id_2</td>\n",
       "      <td>Edinburgh</td>\n",
       "      <td>['Vegetarian Friendly']</td>\n",
       "      <td>810.0</td>\n",
       "      <td>$$ - $$$</td>\n",
       "      <td>28.0</td>\n",
       "      <td>[['Better than the Links', 'Ivy Black'], ['12/...</td>\n",
       "      <td>/Restaurant_Review-g186525-d13129638-Reviews-B...</td>\n",
       "      <td>d13129638</td>\n",
       "      <td>0</td>\n",
       "      <td>0.0</td>\n",
       "      <td>2</td>\n",
       "      <td>55.953251</td>\n",
       "      <td>-3.188267</td>\n",
       "      <td>488100</td>\n",
       "      <td>1</td>\n",
       "    </tr>\n",
       "    <tr>\n",
       "      <th>3</th>\n",
       "      <td>id_3</td>\n",
       "      <td>London</td>\n",
       "      <td>['Italian', 'Mediterranean', 'European', 'Vege...</td>\n",
       "      <td>1669.0</td>\n",
       "      <td>$$$$</td>\n",
       "      <td>202.0</td>\n",
       "      <td>[['Most exquisite', 'Delicious and authentic']...</td>\n",
       "      <td>/Restaurant_Review-g186338-d680417-Reviews-Qui...</td>\n",
       "      <td>d680417</td>\n",
       "      <td>0</td>\n",
       "      <td>0.0</td>\n",
       "      <td>3</td>\n",
       "      <td>51.507351</td>\n",
       "      <td>-0.127758</td>\n",
       "      <td>9126366</td>\n",
       "      <td>1</td>\n",
       "    </tr>\n",
       "    <tr>\n",
       "      <th>4</th>\n",
       "      <td>id_4</td>\n",
       "      <td>Bratislava</td>\n",
       "      <td>['Italian', 'Mediterranean', 'European', 'Seaf...</td>\n",
       "      <td>37.0</td>\n",
       "      <td>$$$$</td>\n",
       "      <td>162.0</td>\n",
       "      <td>[['Always the best in bratislava', 'Very good ...</td>\n",
       "      <td>/Restaurant_Review-g274924-d1112354-Reviews-Ma...</td>\n",
       "      <td>d1112354</td>\n",
       "      <td>0</td>\n",
       "      <td>0.0</td>\n",
       "      <td>4</td>\n",
       "      <td>48.148598</td>\n",
       "      <td>17.107748</td>\n",
       "      <td>432864</td>\n",
       "      <td>1</td>\n",
       "    </tr>\n",
       "  </tbody>\n",
       "</table>\n",
       "</div>"
      ],
      "text/plain": [
       "  Restaurant_id        City  \\\n",
       "0          id_0       Paris   \n",
       "1          id_1    Helsinki   \n",
       "2          id_2   Edinburgh   \n",
       "3          id_3      London   \n",
       "4          id_4  Bratislava   \n",
       "\n",
       "                                       Cuisine Style  Ranking Price Range  \\\n",
       "0                                     ['Bar', 'Pub']  12963.0    $$ - $$$   \n",
       "1  ['European', 'Scandinavian', 'Gluten Free Opti...    106.0    $$ - $$$   \n",
       "2                            ['Vegetarian Friendly']    810.0    $$ - $$$   \n",
       "3  ['Italian', 'Mediterranean', 'European', 'Vege...   1669.0        $$$$   \n",
       "4  ['Italian', 'Mediterranean', 'European', 'Seaf...     37.0        $$$$   \n",
       "\n",
       "   Number of Reviews                                            Reviews  \\\n",
       "0                4.0                                           [[], []]   \n",
       "1               97.0  [['Very good reviews!', 'Fine dining in Hakani...   \n",
       "2               28.0  [['Better than the Links', 'Ivy Black'], ['12/...   \n",
       "3              202.0  [['Most exquisite', 'Delicious and authentic']...   \n",
       "4              162.0  [['Always the best in bratislava', 'Very good ...   \n",
       "\n",
       "                                              URL_TA      ID_TA  sample  \\\n",
       "0  /Restaurant_Review-g187147-d10746918-Reviews-L...  d10746918       0   \n",
       "1  /Restaurant_Review-g189934-d6674944-Reviews-Ra...   d6674944       0   \n",
       "2  /Restaurant_Review-g186525-d13129638-Reviews-B...  d13129638       0   \n",
       "3  /Restaurant_Review-g186338-d680417-Reviews-Qui...    d680417       0   \n",
       "4  /Restaurant_Review-g274924-d1112354-Reviews-Ma...   d1112354       0   \n",
       "\n",
       "   Rating  restaurant_id_num        lat        lon  population  is_capital  \n",
       "0     0.0                  0  48.856613   2.352222     2175601           1  \n",
       "1     0.0                  1  60.169857  24.938379      657674           1  \n",
       "2     0.0                  2  55.953251  -3.188267      488100           1  \n",
       "3     0.0                  3  51.507351  -0.127758     9126366           1  \n",
       "4     0.0                  4  48.148598  17.107748      432864           1  "
      ]
     },
     "execution_count": 299,
     "metadata": {},
     "output_type": "execute_result"
    }
   ],
   "source": [
    "df = pd.merge(df, df_cities, how = 'left', on = 'City')\n",
    "df.head()"
   ]
  },
  {
   "cell_type": "code",
   "execution_count": 300,
   "metadata": {
    "execution": {
     "iopub.execute_input": "2021-09-13T13:46:20.211929Z",
     "iopub.status.busy": "2021-09-13T13:46:20.211639Z",
     "iopub.status.idle": "2021-09-13T13:46:20.280988Z",
     "shell.execute_reply": "2021-09-13T13:46:20.280087Z",
     "shell.execute_reply.started": "2021-09-13T13:46:20.211883Z"
    }
   },
   "outputs": [
    {
     "data": {
      "text/html": [
       "<div>\n",
       "<style scoped>\n",
       "    .dataframe tbody tr th:only-of-type {\n",
       "        vertical-align: middle;\n",
       "    }\n",
       "\n",
       "    .dataframe tbody tr th {\n",
       "        vertical-align: top;\n",
       "    }\n",
       "\n",
       "    .dataframe thead th {\n",
       "        text-align: right;\n",
       "    }\n",
       "</style>\n",
       "<table border=\"1\" class=\"dataframe\">\n",
       "  <thead>\n",
       "    <tr style=\"text-align: right;\">\n",
       "      <th></th>\n",
       "      <th>Restaurant_id</th>\n",
       "      <th>City</th>\n",
       "      <th>Cuisine Style</th>\n",
       "      <th>Ranking</th>\n",
       "      <th>Price Range</th>\n",
       "      <th>Number of Reviews</th>\n",
       "      <th>Reviews</th>\n",
       "      <th>URL_TA</th>\n",
       "      <th>ID_TA</th>\n",
       "      <th>sample</th>\n",
       "      <th>Rating</th>\n",
       "      <th>restaurant_id_num</th>\n",
       "      <th>lat</th>\n",
       "      <th>lon</th>\n",
       "      <th>population</th>\n",
       "      <th>is_capital</th>\n",
       "      <th>rest_count_in_city</th>\n",
       "    </tr>\n",
       "  </thead>\n",
       "  <tbody>\n",
       "    <tr>\n",
       "      <th>0</th>\n",
       "      <td>id_0</td>\n",
       "      <td>Paris</td>\n",
       "      <td>['Bar', 'Pub']</td>\n",
       "      <td>12963.0</td>\n",
       "      <td>$$ - $$$</td>\n",
       "      <td>4.0</td>\n",
       "      <td>[[], []]</td>\n",
       "      <td>/Restaurant_Review-g187147-d10746918-Reviews-L...</td>\n",
       "      <td>d10746918</td>\n",
       "      <td>0</td>\n",
       "      <td>0.0</td>\n",
       "      <td>0</td>\n",
       "      <td>48.856613</td>\n",
       "      <td>2.352222</td>\n",
       "      <td>2175601</td>\n",
       "      <td>1</td>\n",
       "      <td>6108</td>\n",
       "    </tr>\n",
       "    <tr>\n",
       "      <th>1</th>\n",
       "      <td>id_1</td>\n",
       "      <td>Helsinki</td>\n",
       "      <td>['European', 'Scandinavian', 'Gluten Free Opti...</td>\n",
       "      <td>106.0</td>\n",
       "      <td>$$ - $$$</td>\n",
       "      <td>97.0</td>\n",
       "      <td>[['Very good reviews!', 'Fine dining in Hakani...</td>\n",
       "      <td>/Restaurant_Review-g189934-d6674944-Reviews-Ra...</td>\n",
       "      <td>d6674944</td>\n",
       "      <td>0</td>\n",
       "      <td>0.0</td>\n",
       "      <td>1</td>\n",
       "      <td>60.169857</td>\n",
       "      <td>24.938379</td>\n",
       "      <td>657674</td>\n",
       "      <td>1</td>\n",
       "      <td>475</td>\n",
       "    </tr>\n",
       "    <tr>\n",
       "      <th>2</th>\n",
       "      <td>id_2</td>\n",
       "      <td>Edinburgh</td>\n",
       "      <td>['Vegetarian Friendly']</td>\n",
       "      <td>810.0</td>\n",
       "      <td>$$ - $$$</td>\n",
       "      <td>28.0</td>\n",
       "      <td>[['Better than the Links', 'Ivy Black'], ['12/...</td>\n",
       "      <td>/Restaurant_Review-g186525-d13129638-Reviews-B...</td>\n",
       "      <td>d13129638</td>\n",
       "      <td>0</td>\n",
       "      <td>0.0</td>\n",
       "      <td>2</td>\n",
       "      <td>55.953251</td>\n",
       "      <td>-3.188267</td>\n",
       "      <td>488100</td>\n",
       "      <td>1</td>\n",
       "      <td>745</td>\n",
       "    </tr>\n",
       "    <tr>\n",
       "      <th>3</th>\n",
       "      <td>id_3</td>\n",
       "      <td>London</td>\n",
       "      <td>['Italian', 'Mediterranean', 'European', 'Vege...</td>\n",
       "      <td>1669.0</td>\n",
       "      <td>$$$$</td>\n",
       "      <td>202.0</td>\n",
       "      <td>[['Most exquisite', 'Delicious and authentic']...</td>\n",
       "      <td>/Restaurant_Review-g186338-d680417-Reviews-Qui...</td>\n",
       "      <td>d680417</td>\n",
       "      <td>0</td>\n",
       "      <td>0.0</td>\n",
       "      <td>3</td>\n",
       "      <td>51.507351</td>\n",
       "      <td>-0.127758</td>\n",
       "      <td>9126366</td>\n",
       "      <td>1</td>\n",
       "      <td>7193</td>\n",
       "    </tr>\n",
       "    <tr>\n",
       "      <th>4</th>\n",
       "      <td>id_4</td>\n",
       "      <td>Bratislava</td>\n",
       "      <td>['Italian', 'Mediterranean', 'European', 'Seaf...</td>\n",
       "      <td>37.0</td>\n",
       "      <td>$$$$</td>\n",
       "      <td>162.0</td>\n",
       "      <td>[['Always the best in bratislava', 'Very good ...</td>\n",
       "      <td>/Restaurant_Review-g274924-d1112354-Reviews-Ma...</td>\n",
       "      <td>d1112354</td>\n",
       "      <td>0</td>\n",
       "      <td>0.0</td>\n",
       "      <td>4</td>\n",
       "      <td>48.148598</td>\n",
       "      <td>17.107748</td>\n",
       "      <td>432864</td>\n",
       "      <td>1</td>\n",
       "      <td>380</td>\n",
       "    </tr>\n",
       "  </tbody>\n",
       "</table>\n",
       "</div>"
      ],
      "text/plain": [
       "  Restaurant_id        City  \\\n",
       "0          id_0       Paris   \n",
       "1          id_1    Helsinki   \n",
       "2          id_2   Edinburgh   \n",
       "3          id_3      London   \n",
       "4          id_4  Bratislava   \n",
       "\n",
       "                                       Cuisine Style  Ranking Price Range  \\\n",
       "0                                     ['Bar', 'Pub']  12963.0    $$ - $$$   \n",
       "1  ['European', 'Scandinavian', 'Gluten Free Opti...    106.0    $$ - $$$   \n",
       "2                            ['Vegetarian Friendly']    810.0    $$ - $$$   \n",
       "3  ['Italian', 'Mediterranean', 'European', 'Vege...   1669.0        $$$$   \n",
       "4  ['Italian', 'Mediterranean', 'European', 'Seaf...     37.0        $$$$   \n",
       "\n",
       "   Number of Reviews                                            Reviews  \\\n",
       "0                4.0                                           [[], []]   \n",
       "1               97.0  [['Very good reviews!', 'Fine dining in Hakani...   \n",
       "2               28.0  [['Better than the Links', 'Ivy Black'], ['12/...   \n",
       "3              202.0  [['Most exquisite', 'Delicious and authentic']...   \n",
       "4              162.0  [['Always the best in bratislava', 'Very good ...   \n",
       "\n",
       "                                              URL_TA      ID_TA  sample  \\\n",
       "0  /Restaurant_Review-g187147-d10746918-Reviews-L...  d10746918       0   \n",
       "1  /Restaurant_Review-g189934-d6674944-Reviews-Ra...   d6674944       0   \n",
       "2  /Restaurant_Review-g186525-d13129638-Reviews-B...  d13129638       0   \n",
       "3  /Restaurant_Review-g186338-d680417-Reviews-Qui...    d680417       0   \n",
       "4  /Restaurant_Review-g274924-d1112354-Reviews-Ma...   d1112354       0   \n",
       "\n",
       "   Rating  restaurant_id_num        lat        lon  population  is_capital  \\\n",
       "0     0.0                  0  48.856613   2.352222     2175601           1   \n",
       "1     0.0                  1  60.169857  24.938379      657674           1   \n",
       "2     0.0                  2  55.953251  -3.188267      488100           1   \n",
       "3     0.0                  3  51.507351  -0.127758     9126366           1   \n",
       "4     0.0                  4  48.148598  17.107748      432864           1   \n",
       "\n",
       "   rest_count_in_city  \n",
       "0                6108  \n",
       "1                 475  \n",
       "2                 745  \n",
       "3                7193  \n",
       "4                 380  "
      ]
     },
     "execution_count": 300,
     "metadata": {},
     "output_type": "execute_result"
    }
   ],
   "source": [
    "# Посчитаем количество ресторанов в датасете для каждого города\n",
    "rest_count = pd.DataFrame(df['City'].value_counts()).reset_index()\n",
    "rest_count.columns = ['City','rest_count_in_city']\n",
    "df = pd.merge(df, rest_count, how = 'left', on = 'City')\n",
    "df.head()"
   ]
  },
  {
   "cell_type": "markdown",
   "metadata": {},
   "source": [
    "One-Hot Encoding для City я применю в конце, чтобы не загромождать раньше времени таблицу"
   ]
  },
  {
   "cell_type": "markdown",
   "metadata": {},
   "source": [
    "#### Признак \"Cuisine Style\"."
   ]
  },
  {
   "cell_type": "code",
   "execution_count": 301,
   "metadata": {
    "execution": {
     "iopub.execute_input": "2021-09-13T13:46:20.283189Z",
     "iopub.status.busy": "2021-09-13T13:46:20.282817Z",
     "iopub.status.idle": "2021-09-13T13:46:20.326236Z",
     "shell.execute_reply": "2021-09-13T13:46:20.325420Z",
     "shell.execute_reply.started": "2021-09-13T13:46:20.283133Z"
    }
   },
   "outputs": [
    {
     "name": "stdout",
     "output_type": "stream",
     "text": [
      "Уникальных значений (включая Nan):  10732 \n",
      "\n",
      "Value_counts:\n",
      "['Italian']                                                                                                                 1332\n",
      "['French']                                                                                                                  1019\n",
      "['Spanish']                                                                                                                  860\n",
      "['French', 'European']                                                                                                       503\n",
      "['Cafe']                                                                                                                     500\n",
      "                                                                                                                            ... \n",
      "['Polish', 'European', 'Eastern European', 'Soups', 'Vegetarian Friendly']                                                     1\n",
      "['Mediterranean', 'Spanish', 'Delicatessen', 'Wine Bar']                                                                       1\n",
      "['Italian', 'Bar', 'European', 'Pub', 'International', 'Mediterranean', 'Vegetarian Friendly']                                 1\n",
      "['European', 'Scandinavian', 'Cafe', 'Norwegian']                                                                              1\n",
      "['European', 'Italian', 'Mediterranean', 'International', 'Vegetarian Friendly', 'Vegan Options', 'Gluten Free Options']       1\n",
      "Name: Cuisine Style, Length: 10731, dtype: int64 \n",
      "\n",
      "Количество Nan:\n",
      "False    38410\n",
      "True     11590\n",
      "Name: Cuisine Style, dtype: int64\n"
     ]
    }
   ],
   "source": [
    "# Посмотрим на признак в первом приближении\n",
    "look_at('Cuisine Style')"
   ]
  },
  {
   "cell_type": "markdown",
   "metadata": {},
   "source": [
    "Cuisine Style - сложносоставной категориальный признак.\n",
    "Достаточно много пропущенных значений, я заменю их на unknown."
   ]
  },
  {
   "cell_type": "code",
   "execution_count": 302,
   "metadata": {
    "execution": {
     "iopub.execute_input": "2021-09-13T13:46:20.328352Z",
     "iopub.status.busy": "2021-09-13T13:46:20.328048Z",
     "iopub.status.idle": "2021-09-13T13:46:20.340761Z",
     "shell.execute_reply": "2021-09-13T13:46:20.339757Z",
     "shell.execute_reply.started": "2021-09-13T13:46:20.328297Z"
    }
   },
   "outputs": [],
   "source": [
    "df['Cuisine Style'] = df['Cuisine Style'].fillna(\"['unknown']\")"
   ]
  },
  {
   "cell_type": "code",
   "execution_count": 303,
   "metadata": {
    "execution": {
     "iopub.execute_input": "2021-09-13T13:46:20.342336Z",
     "iopub.status.busy": "2021-09-13T13:46:20.342038Z",
     "iopub.status.idle": "2021-09-13T13:46:20.355134Z",
     "shell.execute_reply": "2021-09-13T13:46:20.354253Z",
     "shell.execute_reply.started": "2021-09-13T13:46:20.342282Z"
    }
   },
   "outputs": [
    {
     "data": {
      "text/plain": [
       "str"
      ]
     },
     "execution_count": 303,
     "metadata": {},
     "output_type": "execute_result"
    }
   ],
   "source": [
    "type(df['Cuisine Style'][0])"
   ]
  },
  {
   "cell_type": "code",
   "execution_count": 304,
   "metadata": {
    "execution": {
     "iopub.execute_input": "2021-09-13T13:46:20.357462Z",
     "iopub.status.busy": "2021-09-13T13:46:20.356951Z",
     "iopub.status.idle": "2021-09-13T13:46:20.871695Z",
     "shell.execute_reply": "2021-09-13T13:46:20.870700Z",
     "shell.execute_reply.started": "2021-09-13T13:46:20.357402Z"
    }
   },
   "outputs": [],
   "source": [
    "# Т.к. значения признака  хоть и принадлежат к классу Srting, но имеют формат списка.\n",
    "# Чтобы спарсить значения воспользуюсь встроенной функцией eval(). В данном случае ее применение безопасно\n",
    "df['Cuisine Style'] = df['Cuisine Style'].apply(lambda x: eval(x))"
   ]
  },
  {
   "cell_type": "code",
   "execution_count": 305,
   "metadata": {
    "execution": {
     "iopub.execute_input": "2021-09-13T13:46:20.873460Z",
     "iopub.status.busy": "2021-09-13T13:46:20.873128Z",
     "iopub.status.idle": "2021-09-13T13:46:21.415942Z",
     "shell.execute_reply": "2021-09-13T13:46:21.414872Z",
     "shell.execute_reply.started": "2021-09-13T13:46:20.873404Z"
    }
   },
   "outputs": [
    {
     "data": {
      "text/plain": [
       "Vegetarian Friendly    14021\n",
       "European               12561\n",
       "unknown                11590\n",
       "Mediterranean           7820\n",
       "Italian                 7433\n",
       "                       ...  \n",
       "Fujian                     2\n",
       "Salvadoran                 1\n",
       "Xinjiang                   1\n",
       "Burmese                    1\n",
       "Latvian                    1\n",
       "Name: Cuisine Style, Length: 126, dtype: int64"
      ]
     },
     "execution_count": 305,
     "metadata": {},
     "output_type": "execute_result"
    }
   ],
   "source": [
    "cuisines = df.explode('Cuisine Style')['Cuisine Style'].value_counts()\n",
    "cuisines"
   ]
  },
  {
   "cell_type": "markdown",
   "metadata": {},
   "source": [
    "Кухонь всего 126 (включая unknown), можно посмотреть на них всех"
   ]
  },
  {
   "cell_type": "code",
   "execution_count": 306,
   "metadata": {
    "execution": {
     "iopub.execute_input": "2021-09-13T13:46:21.417610Z",
     "iopub.status.busy": "2021-09-13T13:46:21.417328Z",
     "iopub.status.idle": "2021-09-13T13:46:21.422676Z",
     "shell.execute_reply": "2021-09-13T13:46:21.421855Z",
     "shell.execute_reply.started": "2021-09-13T13:46:21.417557Z"
    }
   },
   "outputs": [],
   "source": [
    "def print_full(df):\n",
    "    ''' Функция для отображения всех строк DataFrame '''\n",
    "    import pandas as pd\n",
    "    pd.set_option('display.max_rows', len(df))\n",
    "    print(df)\n",
    "    pd.reset_option('display.max_rows')"
   ]
  },
  {
   "cell_type": "code",
   "execution_count": 307,
   "metadata": {
    "execution": {
     "iopub.execute_input": "2021-09-13T13:46:21.424933Z",
     "iopub.status.busy": "2021-09-13T13:46:21.424640Z",
     "iopub.status.idle": "2021-09-13T13:46:21.436742Z",
     "shell.execute_reply": "2021-09-13T13:46:21.435789Z",
     "shell.execute_reply.started": "2021-09-13T13:46:21.424878Z"
    }
   },
   "outputs": [
    {
     "name": "stdout",
     "output_type": "stream",
     "text": [
      "Vegetarian Friendly    14021\n",
      "European               12561\n",
      "unknown                11590\n",
      "Mediterranean           7820\n",
      "Italian                 7433\n",
      "Vegan Options           5684\n",
      "Gluten Free Options     5185\n",
      "Bar                     4094\n",
      "French                  3970\n",
      "Asian                   3786\n",
      "Pizza                   3502\n",
      "Spanish                 3456\n",
      "Pub                     3058\n",
      "Cafe                    2883\n",
      "Fast Food               2122\n",
      "British                 1992\n",
      "International           1966\n",
      "Seafood                 1878\n",
      "Japanese                1860\n",
      "Central European        1727\n",
      "American                1642\n",
      "Sushi                   1450\n",
      "Chinese                 1446\n",
      "Portuguese              1385\n",
      "Indian                  1328\n",
      "Middle Eastern           980\n",
      "Thai                     923\n",
      "Wine Bar                 877\n",
      "German                   820\n",
      "Halal                    773\n",
      "Greek                    768\n",
      "Healthy                  758\n",
      "Fusion                   748\n",
      "Czech                    745\n",
      "Steakhouse               729\n",
      "Barbecue                 710\n",
      "Contemporary             652\n",
      "Soups                    630\n",
      "Eastern European         629\n",
      "Vietnamese               622\n",
      "Grill                    617\n",
      "Gastropub                608\n",
      "Turkish                  574\n",
      "Mexican                  572\n",
      "South American           490\n",
      "Delicatessen             473\n",
      "Austrian                 462\n",
      "Polish                   453\n",
      "Scandinavian             449\n",
      "Hungarian                444\n",
      "Lebanese                 397\n",
      "Diner                    375\n",
      "Latin                    373\n",
      "Dutch                    368\n",
      "Irish                    352\n",
      "Street Food              336\n",
      "Belgian                  335\n",
      "Brew Pub                 299\n",
      "Danish                   225\n",
      "Swiss                    223\n",
      "Swedish                  223\n",
      "Argentinean              214\n",
      "Korean                   206\n",
      "Scottish                 199\n",
      "African                  193\n",
      "Moroccan                 173\n",
      "Central American         168\n",
      "Brazilian                152\n",
      "Pakistani                140\n",
      "Peruvian                 130\n",
      "Caribbean                124\n",
      "Nepali                   121\n",
      "Balti                    104\n",
      "Bangladeshi              100\n",
      "Norwegian                 96\n",
      "Israeli                   90\n",
      "Slovenian                 85\n",
      "Persian                   77\n",
      "Indonesian                71\n",
      "Russian                   66\n",
      "Arabic                    58\n",
      "Kosher                    56\n",
      "Venezuelan                51\n",
      "Ethiopian                 51\n",
      "Malaysian                 38\n",
      "Jamaican                  36\n",
      "Australian                36\n",
      "Croatian                  33\n",
      "Cuban                     32\n",
      "Sri Lankan                30\n",
      "Colombian                 30\n",
      "Taiwanese                 30\n",
      "Tibetan                   29\n",
      "Cajun & Creole            27\n",
      "Afghani                   27\n",
      "Egyptian                  24\n",
      "Southwestern              24\n",
      "Hawaiian                  23\n",
      "Tunisian                  23\n",
      "Cambodian                 22\n",
      "Singaporean               21\n",
      "Mongolian                 20\n",
      "Ukrainian                 20\n",
      "Georgian                  18\n",
      "Filipino                  17\n",
      "Armenian                  17\n",
      "Chilean                   16\n",
      "Romanian                  13\n",
      "Central Asian             12\n",
      "Minority Chinese          12\n",
      "Albanian                   8\n",
      "Ecuadorean                 8\n",
      "New Zealand                7\n",
      "Canadian                   7\n",
      "Native American            5\n",
      "Uzbek                      5\n",
      "Caucasian                  4\n",
      "Azerbaijani                3\n",
      "Welsh                      3\n",
      "Polynesian                 2\n",
      "Yunnan                     2\n",
      "Fujian                     2\n",
      "Salvadoran                 1\n",
      "Xinjiang                   1\n",
      "Burmese                    1\n",
      "Latvian                    1\n",
      "Name: Cuisine Style, dtype: int64\n"
     ]
    }
   ],
   "source": [
    "print_full(cuisines)"
   ]
  },
  {
   "cell_type": "code",
   "execution_count": 308,
   "metadata": {
    "execution": {
     "iopub.execute_input": "2021-09-13T13:46:21.438869Z",
     "iopub.status.busy": "2021-09-13T13:46:21.438543Z",
     "iopub.status.idle": "2021-09-13T13:46:21.457040Z",
     "shell.execute_reply": "2021-09-13T13:46:21.455810Z",
     "shell.execute_reply.started": "2021-09-13T13:46:21.438812Z"
    }
   },
   "outputs": [
    {
     "data": {
      "text/html": [
       "<div>\n",
       "<style scoped>\n",
       "    .dataframe tbody tr th:only-of-type {\n",
       "        vertical-align: middle;\n",
       "    }\n",
       "\n",
       "    .dataframe tbody tr th {\n",
       "        vertical-align: top;\n",
       "    }\n",
       "\n",
       "    .dataframe thead th {\n",
       "        text-align: right;\n",
       "    }\n",
       "</style>\n",
       "<table border=\"1\" class=\"dataframe\">\n",
       "  <thead>\n",
       "    <tr style=\"text-align: right;\">\n",
       "      <th></th>\n",
       "      <th>Cuisine Style</th>\n",
       "      <th>cuisine_type</th>\n",
       "    </tr>\n",
       "  </thead>\n",
       "  <tbody>\n",
       "    <tr>\n",
       "      <th>0</th>\n",
       "      <td>Vegetarian Friendly</td>\n",
       "      <td>Healthy</td>\n",
       "    </tr>\n",
       "    <tr>\n",
       "      <th>1</th>\n",
       "      <td>European</td>\n",
       "      <td>European</td>\n",
       "    </tr>\n",
       "    <tr>\n",
       "      <th>2</th>\n",
       "      <td>unknown</td>\n",
       "      <td>unknown</td>\n",
       "    </tr>\n",
       "    <tr>\n",
       "      <th>3</th>\n",
       "      <td>Mediterranean</td>\n",
       "      <td>Seafood</td>\n",
       "    </tr>\n",
       "    <tr>\n",
       "      <th>4</th>\n",
       "      <td>Italian</td>\n",
       "      <td>European_national</td>\n",
       "    </tr>\n",
       "    <tr>\n",
       "      <th>...</th>\n",
       "      <td>...</td>\n",
       "      <td>...</td>\n",
       "    </tr>\n",
       "    <tr>\n",
       "      <th>121</th>\n",
       "      <td>Salvadoran</td>\n",
       "      <td>American</td>\n",
       "    </tr>\n",
       "    <tr>\n",
       "      <th>122</th>\n",
       "      <td>Latvian</td>\n",
       "      <td>European_national</td>\n",
       "    </tr>\n",
       "    <tr>\n",
       "      <th>123</th>\n",
       "      <td>Yunnan</td>\n",
       "      <td>Asian_national</td>\n",
       "    </tr>\n",
       "    <tr>\n",
       "      <th>124</th>\n",
       "      <td>Burmese</td>\n",
       "      <td>Asian_national</td>\n",
       "    </tr>\n",
       "    <tr>\n",
       "      <th>125</th>\n",
       "      <td>Xinjiang</td>\n",
       "      <td>Asian_national</td>\n",
       "    </tr>\n",
       "  </tbody>\n",
       "</table>\n",
       "<p>126 rows × 2 columns</p>\n",
       "</div>"
      ],
      "text/plain": [
       "           Cuisine Style       cuisine_type\n",
       "0    Vegetarian Friendly            Healthy\n",
       "1               European           European\n",
       "2                unknown            unknown\n",
       "3          Mediterranean            Seafood\n",
       "4                Italian  European_national\n",
       "..                   ...                ...\n",
       "121           Salvadoran           American\n",
       "122              Latvian  European_national\n",
       "123               Yunnan     Asian_national\n",
       "124              Burmese     Asian_national\n",
       "125             Xinjiang     Asian_national\n",
       "\n",
       "[126 rows x 2 columns]"
      ]
     },
     "execution_count": 308,
     "metadata": {},
     "output_type": "execute_result"
    }
   ],
   "source": [
    "# Я вручную сгруппировал кухни по своему усмотрению, чтобы в дальнейшем применить multilabel encoding\n",
    "df_cuisine_types"
   ]
  },
  {
   "cell_type": "code",
   "execution_count": 309,
   "metadata": {
    "execution": {
     "iopub.execute_input": "2021-09-13T13:46:21.459291Z",
     "iopub.status.busy": "2021-09-13T13:46:21.458915Z",
     "iopub.status.idle": "2021-09-13T13:46:28.685189Z",
     "shell.execute_reply": "2021-09-13T13:46:28.684351Z",
     "shell.execute_reply.started": "2021-09-13T13:46:21.459225Z"
    }
   },
   "outputs": [
    {
     "data": {
      "text/html": [
       "<div>\n",
       "<style scoped>\n",
       "    .dataframe tbody tr th:only-of-type {\n",
       "        vertical-align: middle;\n",
       "    }\n",
       "\n",
       "    .dataframe tbody tr th {\n",
       "        vertical-align: top;\n",
       "    }\n",
       "\n",
       "    .dataframe thead th {\n",
       "        text-align: right;\n",
       "    }\n",
       "</style>\n",
       "<table border=\"1\" class=\"dataframe\">\n",
       "  <thead>\n",
       "    <tr style=\"text-align: right;\">\n",
       "      <th></th>\n",
       "      <th>Restaurant_id</th>\n",
       "      <th>City</th>\n",
       "      <th>Cuisine Style</th>\n",
       "      <th>Ranking</th>\n",
       "      <th>Price Range</th>\n",
       "      <th>Number of Reviews</th>\n",
       "      <th>Reviews</th>\n",
       "      <th>URL_TA</th>\n",
       "      <th>ID_TA</th>\n",
       "      <th>sample</th>\n",
       "      <th>Rating</th>\n",
       "      <th>restaurant_id_num</th>\n",
       "      <th>lat</th>\n",
       "      <th>lon</th>\n",
       "      <th>population</th>\n",
       "      <th>is_capital</th>\n",
       "      <th>rest_count_in_city</th>\n",
       "      <th>cuisine_type</th>\n",
       "    </tr>\n",
       "  </thead>\n",
       "  <tbody>\n",
       "    <tr>\n",
       "      <th>0</th>\n",
       "      <td>id_0</td>\n",
       "      <td>Paris</td>\n",
       "      <td>[Bar, Pub]</td>\n",
       "      <td>12963.0</td>\n",
       "      <td>$$ - $$$</td>\n",
       "      <td>4.0</td>\n",
       "      <td>[[], []]</td>\n",
       "      <td>/Restaurant_Review-g187147-d10746918-Reviews-L...</td>\n",
       "      <td>d10746918</td>\n",
       "      <td>0</td>\n",
       "      <td>0.0</td>\n",
       "      <td>0</td>\n",
       "      <td>48.856613</td>\n",
       "      <td>2.352222</td>\n",
       "      <td>2175601</td>\n",
       "      <td>1</td>\n",
       "      <td>6108</td>\n",
       "      <td>[Bar]</td>\n",
       "    </tr>\n",
       "    <tr>\n",
       "      <th>1</th>\n",
       "      <td>id_1</td>\n",
       "      <td>Helsinki</td>\n",
       "      <td>[European, Scandinavian, Gluten Free Options, ...</td>\n",
       "      <td>106.0</td>\n",
       "      <td>$$ - $$$</td>\n",
       "      <td>97.0</td>\n",
       "      <td>[['Very good reviews!', 'Fine dining in Hakani...</td>\n",
       "      <td>/Restaurant_Review-g189934-d6674944-Reviews-Ra...</td>\n",
       "      <td>d6674944</td>\n",
       "      <td>0</td>\n",
       "      <td>0.0</td>\n",
       "      <td>1</td>\n",
       "      <td>60.169857</td>\n",
       "      <td>24.938379</td>\n",
       "      <td>657674</td>\n",
       "      <td>1</td>\n",
       "      <td>475</td>\n",
       "      <td>[European, European_national, Healthy]</td>\n",
       "    </tr>\n",
       "    <tr>\n",
       "      <th>2</th>\n",
       "      <td>id_2</td>\n",
       "      <td>Edinburgh</td>\n",
       "      <td>[Vegetarian Friendly]</td>\n",
       "      <td>810.0</td>\n",
       "      <td>$$ - $$$</td>\n",
       "      <td>28.0</td>\n",
       "      <td>[['Better than the Links', 'Ivy Black'], ['12/...</td>\n",
       "      <td>/Restaurant_Review-g186525-d13129638-Reviews-B...</td>\n",
       "      <td>d13129638</td>\n",
       "      <td>0</td>\n",
       "      <td>0.0</td>\n",
       "      <td>2</td>\n",
       "      <td>55.953251</td>\n",
       "      <td>-3.188267</td>\n",
       "      <td>488100</td>\n",
       "      <td>1</td>\n",
       "      <td>745</td>\n",
       "      <td>[Healthy]</td>\n",
       "    </tr>\n",
       "    <tr>\n",
       "      <th>3</th>\n",
       "      <td>id_3</td>\n",
       "      <td>London</td>\n",
       "      <td>[Italian, Mediterranean, European, Vegetarian ...</td>\n",
       "      <td>1669.0</td>\n",
       "      <td>$$$$</td>\n",
       "      <td>202.0</td>\n",
       "      <td>[['Most exquisite', 'Delicious and authentic']...</td>\n",
       "      <td>/Restaurant_Review-g186338-d680417-Reviews-Qui...</td>\n",
       "      <td>d680417</td>\n",
       "      <td>0</td>\n",
       "      <td>0.0</td>\n",
       "      <td>3</td>\n",
       "      <td>51.507351</td>\n",
       "      <td>-0.127758</td>\n",
       "      <td>9126366</td>\n",
       "      <td>1</td>\n",
       "      <td>7193</td>\n",
       "      <td>[European_national, Seafood, European, Healthy]</td>\n",
       "    </tr>\n",
       "    <tr>\n",
       "      <th>4</th>\n",
       "      <td>id_4</td>\n",
       "      <td>Bratislava</td>\n",
       "      <td>[Italian, Mediterranean, European, Seafood, Ve...</td>\n",
       "      <td>37.0</td>\n",
       "      <td>$$$$</td>\n",
       "      <td>162.0</td>\n",
       "      <td>[['Always the best in bratislava', 'Very good ...</td>\n",
       "      <td>/Restaurant_Review-g274924-d1112354-Reviews-Ma...</td>\n",
       "      <td>d1112354</td>\n",
       "      <td>0</td>\n",
       "      <td>0.0</td>\n",
       "      <td>4</td>\n",
       "      <td>48.148598</td>\n",
       "      <td>17.107748</td>\n",
       "      <td>432864</td>\n",
       "      <td>1</td>\n",
       "      <td>380</td>\n",
       "      <td>[European_national, Seafood, European, Healthy]</td>\n",
       "    </tr>\n",
       "  </tbody>\n",
       "</table>\n",
       "</div>"
      ],
      "text/plain": [
       "  Restaurant_id        City  \\\n",
       "0          id_0       Paris   \n",
       "1          id_1    Helsinki   \n",
       "2          id_2   Edinburgh   \n",
       "3          id_3      London   \n",
       "4          id_4  Bratislava   \n",
       "\n",
       "                                       Cuisine Style  Ranking Price Range  \\\n",
       "0                                         [Bar, Pub]  12963.0    $$ - $$$   \n",
       "1  [European, Scandinavian, Gluten Free Options, ...    106.0    $$ - $$$   \n",
       "2                              [Vegetarian Friendly]    810.0    $$ - $$$   \n",
       "3  [Italian, Mediterranean, European, Vegetarian ...   1669.0        $$$$   \n",
       "4  [Italian, Mediterranean, European, Seafood, Ve...     37.0        $$$$   \n",
       "\n",
       "   Number of Reviews                                            Reviews  \\\n",
       "0                4.0                                           [[], []]   \n",
       "1               97.0  [['Very good reviews!', 'Fine dining in Hakani...   \n",
       "2               28.0  [['Better than the Links', 'Ivy Black'], ['12/...   \n",
       "3              202.0  [['Most exquisite', 'Delicious and authentic']...   \n",
       "4              162.0  [['Always the best in bratislava', 'Very good ...   \n",
       "\n",
       "                                              URL_TA      ID_TA  sample  \\\n",
       "0  /Restaurant_Review-g187147-d10746918-Reviews-L...  d10746918       0   \n",
       "1  /Restaurant_Review-g189934-d6674944-Reviews-Ra...   d6674944       0   \n",
       "2  /Restaurant_Review-g186525-d13129638-Reviews-B...  d13129638       0   \n",
       "3  /Restaurant_Review-g186338-d680417-Reviews-Qui...    d680417       0   \n",
       "4  /Restaurant_Review-g274924-d1112354-Reviews-Ma...   d1112354       0   \n",
       "\n",
       "   Rating  restaurant_id_num        lat        lon  population  is_capital  \\\n",
       "0     0.0                  0  48.856613   2.352222     2175601           1   \n",
       "1     0.0                  1  60.169857  24.938379      657674           1   \n",
       "2     0.0                  2  55.953251  -3.188267      488100           1   \n",
       "3     0.0                  3  51.507351  -0.127758     9126366           1   \n",
       "4     0.0                  4  48.148598  17.107748      432864           1   \n",
       "\n",
       "   rest_count_in_city                                     cuisine_type  \n",
       "0                6108                                            [Bar]  \n",
       "1                 475           [European, European_national, Healthy]  \n",
       "2                 745                                        [Healthy]  \n",
       "3                7193  [European_national, Seafood, European, Healthy]  \n",
       "4                 380  [European_national, Seafood, European, Healthy]  "
      ]
     },
     "execution_count": 309,
     "metadata": {},
     "output_type": "execute_result"
    }
   ],
   "source": [
    "# добавим столбец с типами предлагаемых кухонь\n",
    "df['idx'] = df.index\n",
    "df_tmp = pd.merge(df.explode('Cuisine Style')[['idx','Cuisine Style']], df_cuisine_types, on='Cuisine Style',how='left')\n",
    "df_tmp.drop_duplicates(['idx','cuisine_type'], inplace=True)\n",
    "df_tmp = df_tmp.groupby('idx')['cuisine_type'].apply(list).reset_index()\n",
    "df = pd.merge(df, df_tmp, on='idx', how='left')\n",
    "df.drop(['idx'], axis=1, inplace=True)\n",
    "df.head()"
   ]
  },
  {
   "cell_type": "code",
   "execution_count": 310,
   "metadata": {
    "execution": {
     "iopub.execute_input": "2021-09-13T13:46:28.686962Z",
     "iopub.status.busy": "2021-09-13T13:46:28.686689Z",
     "iopub.status.idle": "2021-09-13T13:46:28.752353Z",
     "shell.execute_reply": "2021-09-13T13:46:28.751340Z",
     "shell.execute_reply.started": "2021-09-13T13:46:28.686911Z"
    }
   },
   "outputs": [
    {
     "data": {
      "text/html": [
       "<div>\n",
       "<style scoped>\n",
       "    .dataframe tbody tr th:only-of-type {\n",
       "        vertical-align: middle;\n",
       "    }\n",
       "\n",
       "    .dataframe tbody tr th {\n",
       "        vertical-align: top;\n",
       "    }\n",
       "\n",
       "    .dataframe thead th {\n",
       "        text-align: right;\n",
       "    }\n",
       "</style>\n",
       "<table border=\"1\" class=\"dataframe\">\n",
       "  <thead>\n",
       "    <tr style=\"text-align: right;\">\n",
       "      <th></th>\n",
       "      <th>Restaurant_id</th>\n",
       "      <th>City</th>\n",
       "      <th>Cuisine Style</th>\n",
       "      <th>Ranking</th>\n",
       "      <th>Price Range</th>\n",
       "      <th>Number of Reviews</th>\n",
       "      <th>Reviews</th>\n",
       "      <th>URL_TA</th>\n",
       "      <th>ID_TA</th>\n",
       "      <th>sample</th>\n",
       "      <th>Rating</th>\n",
       "      <th>restaurant_id_num</th>\n",
       "      <th>lat</th>\n",
       "      <th>lon</th>\n",
       "      <th>population</th>\n",
       "      <th>is_capital</th>\n",
       "      <th>rest_count_in_city</th>\n",
       "      <th>cuisine_type</th>\n",
       "      <th>cuisine_count</th>\n",
       "    </tr>\n",
       "  </thead>\n",
       "  <tbody>\n",
       "    <tr>\n",
       "      <th>0</th>\n",
       "      <td>id_0</td>\n",
       "      <td>Paris</td>\n",
       "      <td>[Bar, Pub]</td>\n",
       "      <td>12963.0</td>\n",
       "      <td>$$ - $$$</td>\n",
       "      <td>4.0</td>\n",
       "      <td>[[], []]</td>\n",
       "      <td>/Restaurant_Review-g187147-d10746918-Reviews-L...</td>\n",
       "      <td>d10746918</td>\n",
       "      <td>0</td>\n",
       "      <td>0.0</td>\n",
       "      <td>0</td>\n",
       "      <td>48.856613</td>\n",
       "      <td>2.352222</td>\n",
       "      <td>2175601</td>\n",
       "      <td>1</td>\n",
       "      <td>6108</td>\n",
       "      <td>[Bar]</td>\n",
       "      <td>2</td>\n",
       "    </tr>\n",
       "    <tr>\n",
       "      <th>1</th>\n",
       "      <td>id_1</td>\n",
       "      <td>Helsinki</td>\n",
       "      <td>[European, Scandinavian, Gluten Free Options, ...</td>\n",
       "      <td>106.0</td>\n",
       "      <td>$$ - $$$</td>\n",
       "      <td>97.0</td>\n",
       "      <td>[['Very good reviews!', 'Fine dining in Hakani...</td>\n",
       "      <td>/Restaurant_Review-g189934-d6674944-Reviews-Ra...</td>\n",
       "      <td>d6674944</td>\n",
       "      <td>0</td>\n",
       "      <td>0.0</td>\n",
       "      <td>1</td>\n",
       "      <td>60.169857</td>\n",
       "      <td>24.938379</td>\n",
       "      <td>657674</td>\n",
       "      <td>1</td>\n",
       "      <td>475</td>\n",
       "      <td>[European, European_national, Healthy]</td>\n",
       "      <td>5</td>\n",
       "    </tr>\n",
       "    <tr>\n",
       "      <th>2</th>\n",
       "      <td>id_2</td>\n",
       "      <td>Edinburgh</td>\n",
       "      <td>[Vegetarian Friendly]</td>\n",
       "      <td>810.0</td>\n",
       "      <td>$$ - $$$</td>\n",
       "      <td>28.0</td>\n",
       "      <td>[['Better than the Links', 'Ivy Black'], ['12/...</td>\n",
       "      <td>/Restaurant_Review-g186525-d13129638-Reviews-B...</td>\n",
       "      <td>d13129638</td>\n",
       "      <td>0</td>\n",
       "      <td>0.0</td>\n",
       "      <td>2</td>\n",
       "      <td>55.953251</td>\n",
       "      <td>-3.188267</td>\n",
       "      <td>488100</td>\n",
       "      <td>1</td>\n",
       "      <td>745</td>\n",
       "      <td>[Healthy]</td>\n",
       "      <td>1</td>\n",
       "    </tr>\n",
       "    <tr>\n",
       "      <th>3</th>\n",
       "      <td>id_3</td>\n",
       "      <td>London</td>\n",
       "      <td>[Italian, Mediterranean, European, Vegetarian ...</td>\n",
       "      <td>1669.0</td>\n",
       "      <td>$$$$</td>\n",
       "      <td>202.0</td>\n",
       "      <td>[['Most exquisite', 'Delicious and authentic']...</td>\n",
       "      <td>/Restaurant_Review-g186338-d680417-Reviews-Qui...</td>\n",
       "      <td>d680417</td>\n",
       "      <td>0</td>\n",
       "      <td>0.0</td>\n",
       "      <td>3</td>\n",
       "      <td>51.507351</td>\n",
       "      <td>-0.127758</td>\n",
       "      <td>9126366</td>\n",
       "      <td>1</td>\n",
       "      <td>7193</td>\n",
       "      <td>[European_national, Seafood, European, Healthy]</td>\n",
       "      <td>5</td>\n",
       "    </tr>\n",
       "    <tr>\n",
       "      <th>4</th>\n",
       "      <td>id_4</td>\n",
       "      <td>Bratislava</td>\n",
       "      <td>[Italian, Mediterranean, European, Seafood, Ve...</td>\n",
       "      <td>37.0</td>\n",
       "      <td>$$$$</td>\n",
       "      <td>162.0</td>\n",
       "      <td>[['Always the best in bratislava', 'Very good ...</td>\n",
       "      <td>/Restaurant_Review-g274924-d1112354-Reviews-Ma...</td>\n",
       "      <td>d1112354</td>\n",
       "      <td>0</td>\n",
       "      <td>0.0</td>\n",
       "      <td>4</td>\n",
       "      <td>48.148598</td>\n",
       "      <td>17.107748</td>\n",
       "      <td>432864</td>\n",
       "      <td>1</td>\n",
       "      <td>380</td>\n",
       "      <td>[European_national, Seafood, European, Healthy]</td>\n",
       "      <td>6</td>\n",
       "    </tr>\n",
       "  </tbody>\n",
       "</table>\n",
       "</div>"
      ],
      "text/plain": [
       "  Restaurant_id        City  \\\n",
       "0          id_0       Paris   \n",
       "1          id_1    Helsinki   \n",
       "2          id_2   Edinburgh   \n",
       "3          id_3      London   \n",
       "4          id_4  Bratislava   \n",
       "\n",
       "                                       Cuisine Style  Ranking Price Range  \\\n",
       "0                                         [Bar, Pub]  12963.0    $$ - $$$   \n",
       "1  [European, Scandinavian, Gluten Free Options, ...    106.0    $$ - $$$   \n",
       "2                              [Vegetarian Friendly]    810.0    $$ - $$$   \n",
       "3  [Italian, Mediterranean, European, Vegetarian ...   1669.0        $$$$   \n",
       "4  [Italian, Mediterranean, European, Seafood, Ve...     37.0        $$$$   \n",
       "\n",
       "   Number of Reviews                                            Reviews  \\\n",
       "0                4.0                                           [[], []]   \n",
       "1               97.0  [['Very good reviews!', 'Fine dining in Hakani...   \n",
       "2               28.0  [['Better than the Links', 'Ivy Black'], ['12/...   \n",
       "3              202.0  [['Most exquisite', 'Delicious and authentic']...   \n",
       "4              162.0  [['Always the best in bratislava', 'Very good ...   \n",
       "\n",
       "                                              URL_TA      ID_TA  sample  \\\n",
       "0  /Restaurant_Review-g187147-d10746918-Reviews-L...  d10746918       0   \n",
       "1  /Restaurant_Review-g189934-d6674944-Reviews-Ra...   d6674944       0   \n",
       "2  /Restaurant_Review-g186525-d13129638-Reviews-B...  d13129638       0   \n",
       "3  /Restaurant_Review-g186338-d680417-Reviews-Qui...    d680417       0   \n",
       "4  /Restaurant_Review-g274924-d1112354-Reviews-Ma...   d1112354       0   \n",
       "\n",
       "   Rating  restaurant_id_num        lat        lon  population  is_capital  \\\n",
       "0     0.0                  0  48.856613   2.352222     2175601           1   \n",
       "1     0.0                  1  60.169857  24.938379      657674           1   \n",
       "2     0.0                  2  55.953251  -3.188267      488100           1   \n",
       "3     0.0                  3  51.507351  -0.127758     9126366           1   \n",
       "4     0.0                  4  48.148598  17.107748      432864           1   \n",
       "\n",
       "   rest_count_in_city                                     cuisine_type  \\\n",
       "0                6108                                            [Bar]   \n",
       "1                 475           [European, European_national, Healthy]   \n",
       "2                 745                                        [Healthy]   \n",
       "3                7193  [European_national, Seafood, European, Healthy]   \n",
       "4                 380  [European_national, Seafood, European, Healthy]   \n",
       "\n",
       "   cuisine_count  \n",
       "0              2  \n",
       "1              5  \n",
       "2              1  \n",
       "3              5  \n",
       "4              6  "
      ]
     },
     "execution_count": 310,
     "metadata": {},
     "output_type": "execute_result"
    }
   ],
   "source": [
    "# Также добавим признак количество предлагаемых кухонь\n",
    "df['cuisine_count'] = df['Cuisine Style'].str.len()\n",
    "df.head()"
   ]
  },
  {
   "cell_type": "code",
   "execution_count": 311,
   "metadata": {
    "execution": {
     "iopub.execute_input": "2021-09-13T13:46:28.754053Z",
     "iopub.status.busy": "2021-09-13T13:46:28.753821Z",
     "iopub.status.idle": "2021-09-13T13:46:28.823127Z",
     "shell.execute_reply": "2021-09-13T13:46:28.822020Z",
     "shell.execute_reply.started": "2021-09-13T13:46:28.754019Z"
    }
   },
   "outputs": [
    {
     "data": {
      "text/html": [
       "<div>\n",
       "<style scoped>\n",
       "    .dataframe tbody tr th:only-of-type {\n",
       "        vertical-align: middle;\n",
       "    }\n",
       "\n",
       "    .dataframe tbody tr th {\n",
       "        vertical-align: top;\n",
       "    }\n",
       "\n",
       "    .dataframe thead th {\n",
       "        text-align: right;\n",
       "    }\n",
       "</style>\n",
       "<table border=\"1\" class=\"dataframe\">\n",
       "  <thead>\n",
       "    <tr style=\"text-align: right;\">\n",
       "      <th></th>\n",
       "      <th>Restaurant_id</th>\n",
       "      <th>City</th>\n",
       "      <th>Cuisine Style</th>\n",
       "      <th>Ranking</th>\n",
       "      <th>Price Range</th>\n",
       "      <th>Number of Reviews</th>\n",
       "      <th>Reviews</th>\n",
       "      <th>URL_TA</th>\n",
       "      <th>ID_TA</th>\n",
       "      <th>sample</th>\n",
       "      <th>Rating</th>\n",
       "      <th>restaurant_id_num</th>\n",
       "      <th>lat</th>\n",
       "      <th>lon</th>\n",
       "      <th>population</th>\n",
       "      <th>is_capital</th>\n",
       "      <th>rest_count_in_city</th>\n",
       "      <th>cuisine_type</th>\n",
       "      <th>cuisine_count</th>\n",
       "      <th>missed_cuisine</th>\n",
       "    </tr>\n",
       "  </thead>\n",
       "  <tbody>\n",
       "    <tr>\n",
       "      <th>0</th>\n",
       "      <td>id_0</td>\n",
       "      <td>Paris</td>\n",
       "      <td>[Bar, Pub]</td>\n",
       "      <td>12963.0</td>\n",
       "      <td>$$ - $$$</td>\n",
       "      <td>4.0</td>\n",
       "      <td>[[], []]</td>\n",
       "      <td>/Restaurant_Review-g187147-d10746918-Reviews-L...</td>\n",
       "      <td>d10746918</td>\n",
       "      <td>0</td>\n",
       "      <td>0.0</td>\n",
       "      <td>0</td>\n",
       "      <td>48.856613</td>\n",
       "      <td>2.352222</td>\n",
       "      <td>2175601</td>\n",
       "      <td>1</td>\n",
       "      <td>6108</td>\n",
       "      <td>[Bar]</td>\n",
       "      <td>2</td>\n",
       "      <td>0</td>\n",
       "    </tr>\n",
       "    <tr>\n",
       "      <th>1</th>\n",
       "      <td>id_1</td>\n",
       "      <td>Helsinki</td>\n",
       "      <td>[European, Scandinavian, Gluten Free Options, ...</td>\n",
       "      <td>106.0</td>\n",
       "      <td>$$ - $$$</td>\n",
       "      <td>97.0</td>\n",
       "      <td>[['Very good reviews!', 'Fine dining in Hakani...</td>\n",
       "      <td>/Restaurant_Review-g189934-d6674944-Reviews-Ra...</td>\n",
       "      <td>d6674944</td>\n",
       "      <td>0</td>\n",
       "      <td>0.0</td>\n",
       "      <td>1</td>\n",
       "      <td>60.169857</td>\n",
       "      <td>24.938379</td>\n",
       "      <td>657674</td>\n",
       "      <td>1</td>\n",
       "      <td>475</td>\n",
       "      <td>[European, European_national, Healthy]</td>\n",
       "      <td>5</td>\n",
       "      <td>0</td>\n",
       "    </tr>\n",
       "    <tr>\n",
       "      <th>2</th>\n",
       "      <td>id_2</td>\n",
       "      <td>Edinburgh</td>\n",
       "      <td>[Vegetarian Friendly]</td>\n",
       "      <td>810.0</td>\n",
       "      <td>$$ - $$$</td>\n",
       "      <td>28.0</td>\n",
       "      <td>[['Better than the Links', 'Ivy Black'], ['12/...</td>\n",
       "      <td>/Restaurant_Review-g186525-d13129638-Reviews-B...</td>\n",
       "      <td>d13129638</td>\n",
       "      <td>0</td>\n",
       "      <td>0.0</td>\n",
       "      <td>2</td>\n",
       "      <td>55.953251</td>\n",
       "      <td>-3.188267</td>\n",
       "      <td>488100</td>\n",
       "      <td>1</td>\n",
       "      <td>745</td>\n",
       "      <td>[Healthy]</td>\n",
       "      <td>1</td>\n",
       "      <td>0</td>\n",
       "    </tr>\n",
       "    <tr>\n",
       "      <th>3</th>\n",
       "      <td>id_3</td>\n",
       "      <td>London</td>\n",
       "      <td>[Italian, Mediterranean, European, Vegetarian ...</td>\n",
       "      <td>1669.0</td>\n",
       "      <td>$$$$</td>\n",
       "      <td>202.0</td>\n",
       "      <td>[['Most exquisite', 'Delicious and authentic']...</td>\n",
       "      <td>/Restaurant_Review-g186338-d680417-Reviews-Qui...</td>\n",
       "      <td>d680417</td>\n",
       "      <td>0</td>\n",
       "      <td>0.0</td>\n",
       "      <td>3</td>\n",
       "      <td>51.507351</td>\n",
       "      <td>-0.127758</td>\n",
       "      <td>9126366</td>\n",
       "      <td>1</td>\n",
       "      <td>7193</td>\n",
       "      <td>[European_national, Seafood, European, Healthy]</td>\n",
       "      <td>5</td>\n",
       "      <td>0</td>\n",
       "    </tr>\n",
       "    <tr>\n",
       "      <th>4</th>\n",
       "      <td>id_4</td>\n",
       "      <td>Bratislava</td>\n",
       "      <td>[Italian, Mediterranean, European, Seafood, Ve...</td>\n",
       "      <td>37.0</td>\n",
       "      <td>$$$$</td>\n",
       "      <td>162.0</td>\n",
       "      <td>[['Always the best in bratislava', 'Very good ...</td>\n",
       "      <td>/Restaurant_Review-g274924-d1112354-Reviews-Ma...</td>\n",
       "      <td>d1112354</td>\n",
       "      <td>0</td>\n",
       "      <td>0.0</td>\n",
       "      <td>4</td>\n",
       "      <td>48.148598</td>\n",
       "      <td>17.107748</td>\n",
       "      <td>432864</td>\n",
       "      <td>1</td>\n",
       "      <td>380</td>\n",
       "      <td>[European_national, Seafood, European, Healthy]</td>\n",
       "      <td>6</td>\n",
       "      <td>0</td>\n",
       "    </tr>\n",
       "  </tbody>\n",
       "</table>\n",
       "</div>"
      ],
      "text/plain": [
       "  Restaurant_id        City  \\\n",
       "0          id_0       Paris   \n",
       "1          id_1    Helsinki   \n",
       "2          id_2   Edinburgh   \n",
       "3          id_3      London   \n",
       "4          id_4  Bratislava   \n",
       "\n",
       "                                       Cuisine Style  Ranking Price Range  \\\n",
       "0                                         [Bar, Pub]  12963.0    $$ - $$$   \n",
       "1  [European, Scandinavian, Gluten Free Options, ...    106.0    $$ - $$$   \n",
       "2                              [Vegetarian Friendly]    810.0    $$ - $$$   \n",
       "3  [Italian, Mediterranean, European, Vegetarian ...   1669.0        $$$$   \n",
       "4  [Italian, Mediterranean, European, Seafood, Ve...     37.0        $$$$   \n",
       "\n",
       "   Number of Reviews                                            Reviews  \\\n",
       "0                4.0                                           [[], []]   \n",
       "1               97.0  [['Very good reviews!', 'Fine dining in Hakani...   \n",
       "2               28.0  [['Better than the Links', 'Ivy Black'], ['12/...   \n",
       "3              202.0  [['Most exquisite', 'Delicious and authentic']...   \n",
       "4              162.0  [['Always the best in bratislava', 'Very good ...   \n",
       "\n",
       "                                              URL_TA      ID_TA  sample  \\\n",
       "0  /Restaurant_Review-g187147-d10746918-Reviews-L...  d10746918       0   \n",
       "1  /Restaurant_Review-g189934-d6674944-Reviews-Ra...   d6674944       0   \n",
       "2  /Restaurant_Review-g186525-d13129638-Reviews-B...  d13129638       0   \n",
       "3  /Restaurant_Review-g186338-d680417-Reviews-Qui...    d680417       0   \n",
       "4  /Restaurant_Review-g274924-d1112354-Reviews-Ma...   d1112354       0   \n",
       "\n",
       "   Rating  restaurant_id_num        lat        lon  population  is_capital  \\\n",
       "0     0.0                  0  48.856613   2.352222     2175601           1   \n",
       "1     0.0                  1  60.169857  24.938379      657674           1   \n",
       "2     0.0                  2  55.953251  -3.188267      488100           1   \n",
       "3     0.0                  3  51.507351  -0.127758     9126366           1   \n",
       "4     0.0                  4  48.148598  17.107748      432864           1   \n",
       "\n",
       "   rest_count_in_city                                     cuisine_type  \\\n",
       "0                6108                                            [Bar]   \n",
       "1                 475           [European, European_national, Healthy]   \n",
       "2                 745                                        [Healthy]   \n",
       "3                7193  [European_national, Seafood, European, Healthy]   \n",
       "4                 380  [European_national, Seafood, European, Healthy]   \n",
       "\n",
       "   cuisine_count  missed_cuisine  \n",
       "0              2               0  \n",
       "1              5               0  \n",
       "2              1               0  \n",
       "3              5               0  \n",
       "4              6               0  "
      ]
     },
     "execution_count": 311,
     "metadata": {},
     "output_type": "execute_result"
    }
   ],
   "source": [
    "# Сейчас unknown считается за одну предлагаемую кухню. Исправим это.\n",
    "df['missed_cuisine']=df['Cuisine Style'].apply(lambda x: 1 if x == ['unknown'] else 0)\n",
    "df['cuisine_count'] = (1-df['missed_cuisine'])*df['cuisine_count']\n",
    "df.head()"
   ]
  },
  {
   "cell_type": "markdown",
   "metadata": {},
   "source": [
    "#### Признак \"Ranking\"."
   ]
  },
  {
   "cell_type": "code",
   "execution_count": 312,
   "metadata": {
    "execution": {
     "iopub.execute_input": "2021-09-13T13:46:28.825066Z",
     "iopub.status.busy": "2021-09-13T13:46:28.824770Z",
     "iopub.status.idle": "2021-09-13T13:46:28.842676Z",
     "shell.execute_reply": "2021-09-13T13:46:28.841840Z",
     "shell.execute_reply.started": "2021-09-13T13:46:28.825017Z"
    }
   },
   "outputs": [
    {
     "name": "stdout",
     "output_type": "stream",
     "text": [
      "Уникальных значений (включая Nan):  12975 \n",
      "\n",
      "Value_counts:\n",
      "93.0       22\n",
      "72.0       21\n",
      "491.0      21\n",
      "842.0      21\n",
      "1013.0     20\n",
      "           ..\n",
      "8027.0      1\n",
      "10415.0     1\n",
      "14621.0     1\n",
      "11766.0     1\n",
      "10585.0     1\n",
      "Name: Ranking, Length: 12975, dtype: int64 \n",
      "\n",
      "Количество Nan:\n",
      "False    50000\n",
      "Name: Ranking, dtype: int64\n"
     ]
    }
   ],
   "source": [
    "# Посмотрим на признак в первом приближении\n",
    "look_at('Ranking')"
   ]
  },
  {
   "cell_type": "code",
   "execution_count": 313,
   "metadata": {
    "execution": {
     "iopub.execute_input": "2021-09-13T13:46:28.844250Z",
     "iopub.status.busy": "2021-09-13T13:46:28.843993Z",
     "iopub.status.idle": "2021-09-13T13:46:28.856850Z",
     "shell.execute_reply": "2021-09-13T13:46:28.855682Z",
     "shell.execute_reply.started": "2021-09-13T13:46:28.844187Z"
    }
   },
   "outputs": [
    {
     "data": {
      "text/plain": [
       "Barcelona     1\n",
       "Warsaw        1\n",
       "Madrid        1\n",
       "Milan         1\n",
       "Paris         1\n",
       "Ljubljana     1\n",
       "Oslo          1\n",
       "Stockholm     1\n",
       "Zurich        1\n",
       "Berlin        1\n",
       "Geneva        1\n",
       "Amsterdam     1\n",
       "Krakow        1\n",
       "Vienna        1\n",
       "Porto         1\n",
       "Edinburgh     1\n",
       "Bratislava    1\n",
       "Copenhagen    1\n",
       "Dublin        1\n",
       "London        1\n",
       "Athens        1\n",
       "Brussels      1\n",
       "Name: City, dtype: int64"
      ]
     },
     "execution_count": 313,
     "metadata": {},
     "output_type": "execute_result"
    }
   ],
   "source": [
    "df[df['Ranking'] == 93]['City'].value_counts()"
   ]
  },
  {
   "cell_type": "code",
   "execution_count": 314,
   "metadata": {
    "execution": {
     "iopub.execute_input": "2021-09-13T13:46:28.858433Z",
     "iopub.status.busy": "2021-09-13T13:46:28.858164Z",
     "iopub.status.idle": "2021-09-13T13:46:31.780229Z",
     "shell.execute_reply": "2021-09-13T13:46:31.779091Z",
     "shell.execute_reply.started": "2021-09-13T13:46:28.858396Z"
    }
   },
   "outputs": [
    {
     "data": {
      "image/png": "[encoded data removed]",
      "text/plain": [
       "<Figure size 1008x720 with 1 Axes>"
      ]
     },
     "metadata": {
      "needs_background": "light"
     },
     "output_type": "display_data"
    }
   ],
   "source": [
    "# посмотрим на топ 10 городов\n",
    "plt.rcParams['figure.figsize'] = (14,10)\n",
    "for x in (df['City'].value_counts())[0:10].index:\n",
    "    df['Ranking'][df['City'] == x].hist(bins=100)\n",
    "plt.show()"
   ]
  },
  {
   "cell_type": "code",
   "execution_count": 315,
   "metadata": {
    "execution": {
     "iopub.execute_input": "2021-09-13T13:46:31.781905Z",
     "iopub.status.busy": "2021-09-13T13:46:31.781655Z",
     "iopub.status.idle": "2021-09-13T13:46:31.833905Z",
     "shell.execute_reply": "2021-09-13T13:46:31.833145Z",
     "shell.execute_reply.started": "2021-09-13T13:46:31.781870Z"
    }
   },
   "outputs": [
    {
     "name": "stdout",
     "output_type": "stream",
     "text": [
      "Float64Index([1.0, 6.0, 10.0, 11.0, 12.0, 13.0, 16.0, 17.0, 18.0, 20.0], dtype='float64')\n",
      "Float64Index([1.0, 2.0, 3.0, 4.0, 5.0, 6.0, 7.0, 10.0, 11.0, 16.0], dtype='float64')\n",
      "Float64Index([2.0, 4.0, 9.0, 12.0, 14.0, 15.0, 20.0, 21.0, 22.0, 24.0], dtype='float64')\n"
     ]
    }
   ],
   "source": [
    "# Нет информации обо всех рангах для каждого города, вероятно из-за того, что не все растораны города присутствуют датасете TripAdvisor\n",
    "print(df[df['City'] == 'London']['Ranking'].value_counts().index.sort_values(ascending = True)[0:10])\n",
    "print(df[df['City'] == 'Madrid']['Ranking'].value_counts().index.sort_values(ascending = True)[0:10])\n",
    "print(df[df['City'] == 'Berlin']['Ranking'].value_counts().index.sort_values(ascending = True)[0:10])"
   ]
  },
  {
   "cell_type": "code",
   "execution_count": 316,
   "metadata": {
    "execution": {
     "iopub.execute_input": "2021-09-13T13:46:31.835513Z",
     "iopub.status.busy": "2021-09-13T13:46:31.835227Z",
     "iopub.status.idle": "2021-09-13T13:46:31.859846Z",
     "shell.execute_reply": "2021-09-13T13:46:31.859099Z",
     "shell.execute_reply.started": "2021-09-13T13:46:31.835450Z"
    }
   },
   "outputs": [
    {
     "name": "stdout",
     "output_type": "stream",
     "text": [
      "16444.0\n",
      "7193\n"
     ]
    }
   ],
   "source": [
    "# Естественно сильно отличается последний ранг с общим количеством ресторанов в городе\n",
    "print(df['Ranking'][df['City'] == 'London'].max())\n",
    "print(len(df['Ranking'][df['City'] == 'London']))"
   ]
  },
  {
   "cell_type": "markdown",
   "metadata": {},
   "source": [
    "Получается, что Ranking распределен равномерно, просто в больших городах больше ресторанов, из-за мы этого для каждого города своя верхняя граница ранга.\n",
    "Для объективности картины нужно нормировать ранг."
   ]
  },
  {
   "cell_type": "code",
   "execution_count": 317,
   "metadata": {
    "execution": {
     "iopub.execute_input": "2021-09-13T13:46:31.861642Z",
     "iopub.status.busy": "2021-09-13T13:46:31.861354Z",
     "iopub.status.idle": "2021-09-13T13:46:31.971480Z",
     "shell.execute_reply": "2021-09-13T13:46:31.970549Z",
     "shell.execute_reply.started": "2021-09-13T13:46:31.861591Z"
    }
   },
   "outputs": [
    {
     "data": {
      "text/html": [
       "<div>\n",
       "<style scoped>\n",
       "    .dataframe tbody tr th:only-of-type {\n",
       "        vertical-align: middle;\n",
       "    }\n",
       "\n",
       "    .dataframe tbody tr th {\n",
       "        vertical-align: top;\n",
       "    }\n",
       "\n",
       "    .dataframe thead th {\n",
       "        text-align: right;\n",
       "    }\n",
       "</style>\n",
       "<table border=\"1\" class=\"dataframe\">\n",
       "  <thead>\n",
       "    <tr style=\"text-align: right;\">\n",
       "      <th></th>\n",
       "      <th>Restaurant_id</th>\n",
       "      <th>City</th>\n",
       "      <th>Cuisine Style</th>\n",
       "      <th>Ranking</th>\n",
       "      <th>Price Range</th>\n",
       "      <th>Number of Reviews</th>\n",
       "      <th>Reviews</th>\n",
       "      <th>URL_TA</th>\n",
       "      <th>ID_TA</th>\n",
       "      <th>sample</th>\n",
       "      <th>...</th>\n",
       "      <th>lat</th>\n",
       "      <th>lon</th>\n",
       "      <th>population</th>\n",
       "      <th>is_capital</th>\n",
       "      <th>rest_count_in_city</th>\n",
       "      <th>cuisine_type</th>\n",
       "      <th>cuisine_count</th>\n",
       "      <th>missed_cuisine</th>\n",
       "      <th>max_rank_in_city</th>\n",
       "      <th>norm_rank</th>\n",
       "    </tr>\n",
       "  </thead>\n",
       "  <tbody>\n",
       "    <tr>\n",
       "      <th>0</th>\n",
       "      <td>id_0</td>\n",
       "      <td>Paris</td>\n",
       "      <td>[Bar, Pub]</td>\n",
       "      <td>12963.0</td>\n",
       "      <td>$$ - $$$</td>\n",
       "      <td>4.0</td>\n",
       "      <td>[[], []]</td>\n",
       "      <td>/Restaurant_Review-g187147-d10746918-Reviews-L...</td>\n",
       "      <td>d10746918</td>\n",
       "      <td>0</td>\n",
       "      <td>...</td>\n",
       "      <td>48.856613</td>\n",
       "      <td>2.352222</td>\n",
       "      <td>2175601</td>\n",
       "      <td>1</td>\n",
       "      <td>6108</td>\n",
       "      <td>[Bar]</td>\n",
       "      <td>2</td>\n",
       "      <td>0</td>\n",
       "      <td>13986.0</td>\n",
       "      <td>0.073216</td>\n",
       "    </tr>\n",
       "    <tr>\n",
       "      <th>1</th>\n",
       "      <td>id_1</td>\n",
       "      <td>Helsinki</td>\n",
       "      <td>[European, Scandinavian, Gluten Free Options, ...</td>\n",
       "      <td>106.0</td>\n",
       "      <td>$$ - $$$</td>\n",
       "      <td>97.0</td>\n",
       "      <td>[['Very good reviews!', 'Fine dining in Hakani...</td>\n",
       "      <td>/Restaurant_Review-g189934-d6674944-Reviews-Ra...</td>\n",
       "      <td>d6674944</td>\n",
       "      <td>0</td>\n",
       "      <td>...</td>\n",
       "      <td>60.169857</td>\n",
       "      <td>24.938379</td>\n",
       "      <td>657674</td>\n",
       "      <td>1</td>\n",
       "      <td>475</td>\n",
       "      <td>[European, European_national, Healthy]</td>\n",
       "      <td>5</td>\n",
       "      <td>0</td>\n",
       "      <td>1141.0</td>\n",
       "      <td>0.907975</td>\n",
       "    </tr>\n",
       "    <tr>\n",
       "      <th>2</th>\n",
       "      <td>id_2</td>\n",
       "      <td>Edinburgh</td>\n",
       "      <td>[Vegetarian Friendly]</td>\n",
       "      <td>810.0</td>\n",
       "      <td>$$ - $$$</td>\n",
       "      <td>28.0</td>\n",
       "      <td>[['Better than the Links', 'Ivy Black'], ['12/...</td>\n",
       "      <td>/Restaurant_Review-g186525-d13129638-Reviews-B...</td>\n",
       "      <td>d13129638</td>\n",
       "      <td>0</td>\n",
       "      <td>...</td>\n",
       "      <td>55.953251</td>\n",
       "      <td>-3.188267</td>\n",
       "      <td>488100</td>\n",
       "      <td>1</td>\n",
       "      <td>745</td>\n",
       "      <td>[Healthy]</td>\n",
       "      <td>1</td>\n",
       "      <td>0</td>\n",
       "      <td>1766.0</td>\n",
       "      <td>0.541903</td>\n",
       "    </tr>\n",
       "    <tr>\n",
       "      <th>3</th>\n",
       "      <td>id_3</td>\n",
       "      <td>London</td>\n",
       "      <td>[Italian, Mediterranean, European, Vegetarian ...</td>\n",
       "      <td>1669.0</td>\n",
       "      <td>$$$$</td>\n",
       "      <td>202.0</td>\n",
       "      <td>[['Most exquisite', 'Delicious and authentic']...</td>\n",
       "      <td>/Restaurant_Review-g186338-d680417-Reviews-Qui...</td>\n",
       "      <td>d680417</td>\n",
       "      <td>0</td>\n",
       "      <td>...</td>\n",
       "      <td>51.507351</td>\n",
       "      <td>-0.127758</td>\n",
       "      <td>9126366</td>\n",
       "      <td>1</td>\n",
       "      <td>7193</td>\n",
       "      <td>[European_national, Seafood, European, Healthy]</td>\n",
       "      <td>5</td>\n",
       "      <td>0</td>\n",
       "      <td>16444.0</td>\n",
       "      <td>0.898565</td>\n",
       "    </tr>\n",
       "    <tr>\n",
       "      <th>4</th>\n",
       "      <td>id_4</td>\n",
       "      <td>Bratislava</td>\n",
       "      <td>[Italian, Mediterranean, European, Seafood, Ve...</td>\n",
       "      <td>37.0</td>\n",
       "      <td>$$$$</td>\n",
       "      <td>162.0</td>\n",
       "      <td>[['Always the best in bratislava', 'Very good ...</td>\n",
       "      <td>/Restaurant_Review-g274924-d1112354-Reviews-Ma...</td>\n",
       "      <td>d1112354</td>\n",
       "      <td>0</td>\n",
       "      <td>...</td>\n",
       "      <td>48.148598</td>\n",
       "      <td>17.107748</td>\n",
       "      <td>432864</td>\n",
       "      <td>1</td>\n",
       "      <td>380</td>\n",
       "      <td>[European_national, Seafood, European, Healthy]</td>\n",
       "      <td>6</td>\n",
       "      <td>0</td>\n",
       "      <td>889.0</td>\n",
       "      <td>0.959505</td>\n",
       "    </tr>\n",
       "  </tbody>\n",
       "</table>\n",
       "<p>5 rows × 22 columns</p>\n",
       "</div>"
      ],
      "text/plain": [
       "  Restaurant_id        City  \\\n",
       "0          id_0       Paris   \n",
       "1          id_1    Helsinki   \n",
       "2          id_2   Edinburgh   \n",
       "3          id_3      London   \n",
       "4          id_4  Bratislava   \n",
       "\n",
       "                                       Cuisine Style  Ranking Price Range  \\\n",
       "0                                         [Bar, Pub]  12963.0    $$ - $$$   \n",
       "1  [European, Scandinavian, Gluten Free Options, ...    106.0    $$ - $$$   \n",
       "2                              [Vegetarian Friendly]    810.0    $$ - $$$   \n",
       "3  [Italian, Mediterranean, European, Vegetarian ...   1669.0        $$$$   \n",
       "4  [Italian, Mediterranean, European, Seafood, Ve...     37.0        $$$$   \n",
       "\n",
       "   Number of Reviews                                            Reviews  \\\n",
       "0                4.0                                           [[], []]   \n",
       "1               97.0  [['Very good reviews!', 'Fine dining in Hakani...   \n",
       "2               28.0  [['Better than the Links', 'Ivy Black'], ['12/...   \n",
       "3              202.0  [['Most exquisite', 'Delicious and authentic']...   \n",
       "4              162.0  [['Always the best in bratislava', 'Very good ...   \n",
       "\n",
       "                                              URL_TA      ID_TA  sample  ...  \\\n",
       "0  /Restaurant_Review-g187147-d10746918-Reviews-L...  d10746918       0  ...   \n",
       "1  /Restaurant_Review-g189934-d6674944-Reviews-Ra...   d6674944       0  ...   \n",
       "2  /Restaurant_Review-g186525-d13129638-Reviews-B...  d13129638       0  ...   \n",
       "3  /Restaurant_Review-g186338-d680417-Reviews-Qui...    d680417       0  ...   \n",
       "4  /Restaurant_Review-g274924-d1112354-Reviews-Ma...   d1112354       0  ...   \n",
       "\n",
       "         lat        lon  population  is_capital  rest_count_in_city  \\\n",
       "0  48.856613   2.352222     2175601           1                6108   \n",
       "1  60.169857  24.938379      657674           1                 475   \n",
       "2  55.953251  -3.188267      488100           1                 745   \n",
       "3  51.507351  -0.127758     9126366           1                7193   \n",
       "4  48.148598  17.107748      432864           1                 380   \n",
       "\n",
       "                                      cuisine_type  cuisine_count  \\\n",
       "0                                            [Bar]              2   \n",
       "1           [European, European_national, Healthy]              5   \n",
       "2                                        [Healthy]              1   \n",
       "3  [European_national, Seafood, European, Healthy]              5   \n",
       "4  [European_national, Seafood, European, Healthy]              6   \n",
       "\n",
       "  missed_cuisine  max_rank_in_city  norm_rank  \n",
       "0              0           13986.0   0.073216  \n",
       "1              0            1141.0   0.907975  \n",
       "2              0            1766.0   0.541903  \n",
       "3              0           16444.0   0.898565  \n",
       "4              0             889.0   0.959505  \n",
       "\n",
       "[5 rows x 22 columns]"
      ]
     },
     "execution_count": 317,
     "metadata": {},
     "output_type": "execute_result"
    }
   ],
   "source": [
    "# найдем максимальный ранг в каждом городе\n",
    "max_rank = df.groupby(df['City'])['Ranking'].max().reset_index()\n",
    "max_rank.rename(columns = {'Ranking':'max_rank_in_city'}, inplace=True)\n",
    "\n",
    "# добавим эту информацию в наш датасет\n",
    "df = pd.merge(df,max_rank, on='City',how='left')\n",
    "\n",
    "# идея нормирования в данном случае такая: новый ранг ресторана на 1 месте равен единице, а новый ранг ресторана на последнем месте стремится к 0.\n",
    "df['norm_rank'] = (df['max_rank_in_city']+1-df['Ranking'])/df['max_rank_in_city']\n",
    "df.head()"
   ]
  },
  {
   "cell_type": "markdown",
   "metadata": {},
   "source": [
    "#### Признак \"Price Range\"."
   ]
  },
  {
   "cell_type": "code",
   "execution_count": 318,
   "metadata": {
    "execution": {
     "iopub.execute_input": "2021-09-13T13:46:31.973139Z",
     "iopub.status.busy": "2021-09-13T13:46:31.972858Z",
     "iopub.status.idle": "2021-09-13T13:46:32.005904Z",
     "shell.execute_reply": "2021-09-13T13:46:32.005101Z",
     "shell.execute_reply.started": "2021-09-13T13:46:31.973058Z"
    }
   },
   "outputs": [
    {
     "name": "stdout",
     "output_type": "stream",
     "text": [
      "Уникальных значений (включая Nan):  4 \n",
      "\n",
      "Value_counts:\n",
      "$$ - $$$    23041\n",
      "$            7816\n",
      "$$$$         1782\n",
      "Name: Price Range, dtype: int64 \n",
      "\n",
      "Количество Nan:\n",
      "False    32639\n",
      "True     17361\n",
      "Name: Price Range, dtype: int64\n"
     ]
    }
   ],
   "source": [
    "# Посмотрим на признак в первом приближении\n",
    "look_at('Price Range')"
   ]
  },
  {
   "cell_type": "markdown",
   "metadata": {},
   "source": [
    "По описанию 'Price Range' это - Цены в ресторане.  \n",
    "Их можно поставить по возрастанию (значит это не категориальный признак). А это значит, что их можно заменить последовательными числами, например 1,2,3  "
   ]
  },
  {
   "cell_type": "code",
   "execution_count": 319,
   "metadata": {
    "execution": {
     "iopub.execute_input": "2021-09-13T13:46:35.700376Z",
     "iopub.status.busy": "2021-09-13T13:46:35.700000Z",
     "iopub.status.idle": "2021-09-13T13:46:35.783268Z",
     "shell.execute_reply": "2021-09-13T13:46:35.782260Z",
     "shell.execute_reply.started": "2021-09-13T13:46:35.700303Z"
    }
   },
   "outputs": [
    {
     "data": {
      "text/plain": [
       "2    40402\n",
       "1     7816\n",
       "3     1782\n",
       "Name: Price Range, dtype: int64"
      ]
     },
     "execution_count": 319,
     "metadata": {},
     "output_type": "execute_result"
    }
   ],
   "source": [
    "# заменим категориальные признаки на ординальные.\n",
    "# Пропуски заменим на среднюю цену, т.к. это самый популярный вариант\n",
    "# Чтобы не потерялась информация о пропусках, предварительно создадим отдельный признак\n",
    "\n",
    "df['missed_price_range'] = pd.isna(df['Price Range']).astype('uint8')\n",
    "\n",
    "def price_range_ord(cell):\n",
    "    if type(cell) == str:\n",
    "        cell = cell.replace('$$$$', '3')\n",
    "        cell = cell.replace('$$ - $$$', '2')\n",
    "        cell = cell.replace('$', '1')\n",
    "        cell = int(cell)\n",
    "        return cell\n",
    "    cell = 2\n",
    "    return cell\n",
    "\n",
    "df['Price Range'] = df['Price Range'].apply(price_range_ord)"
   ]
  },
  {
   "cell_type": "code",
   "execution_count": null,
   "metadata": {},
   "outputs": [],
   "source": [
    "print(df['Price Range'].value_counts())\n",
    "print(df['missed_price_range'].value_counts())"
   ]
  },
  {
   "cell_type": "code",
   "execution_count": null,
   "metadata": {},
   "outputs": [],
   "source": [
    "# Чтобы не "
   ]
  },
  {
   "cell_type": "markdown",
   "metadata": {},
   "source": [
    "> Для некоторых алгоритмов МЛ даже для не категориальных признаков можно применить One-Hot Encoding, и это может улучшить качество модели. Пробуйте разные подходы к кодированию признака - никто не знает заранее, что может взлететь."
   ]
  },
  {
   "cell_type": "markdown",
   "metadata": {},
   "source": [
    "### Обработать другие признаки вы должны самостоятельно!\n",
    "Для обработки других признаков вам возможно придется даже написать свою функцию, а может даже и не одну, но в этом и есть ваша практика в этом модуле!     \n",
    "Следуя подсказкам в модуле вы сможете более подробно узнать, как сделать эти приобразования."
   ]
  },
  {
   "cell_type": "code",
   "execution_count": null,
   "metadata": {},
   "outputs": [],
   "source": [
    "# тут ваш код на обработку других признаков\n",
    "# ....."
   ]
  },
  {
   "cell_type": "markdown",
   "metadata": {},
   "source": [
    "![](https://cs10.pikabu.ru/post_img/2018/09/06/11/1536261023140110012.jpg)"
   ]
  },
  {
   "cell_type": "markdown",
   "metadata": {},
   "source": [
    "# EDA \n",
    "[Exploratory Data Analysis](https://ru.wikipedia.org/wiki/Разведочный_анализ_данных) - Анализ данных\n",
    "На этом этапе мы строим графики, ищем закономерности, аномалии, выбросы или связи между признаками.\n",
    "В общем цель этого этапа понять, что эти данные могут нам дать и как признаки могут быть взаимосвязаны между собой.\n",
    "Понимание изначальных признаков позволит сгенерировать новые, более сильные и, тем самым, сделать нашу модель лучше.\n",
    "![](https://miro.medium.com/max/2598/1*RXdMb7Uk6mGqWqPguHULaQ.png)"
   ]
  },
  {
   "cell_type": "markdown",
   "metadata": {},
   "source": [
    "### Посмотрим распределение признака"
   ]
  },
  {
   "cell_type": "code",
   "execution_count": 26,
   "metadata": {
    "execution": {
     "iopub.execute_input": "2021-09-13T10:22:25.294040Z",
     "iopub.status.busy": "2021-09-13T10:22:25.293722Z",
     "iopub.status.idle": "2021-09-13T10:22:25.808041Z",
     "shell.execute_reply": "2021-09-13T10:22:25.807065Z",
     "shell.execute_reply.started": "2021-09-13T10:22:25.293984Z"
    }
   },
   "outputs": [
    {
     "data": {
      "text/plain": [
       "<matplotlib.axes._subplots.AxesSubplot at 0x7f09a221b400>"
      ]
     },
     "execution_count": 26,
     "metadata": {},
     "output_type": "execute_result"
    },
    {
     "data": {
      "image/png": "[encoded data removed]",
      "text/plain": [
       "<Figure size 720x504 with 1 Axes>"
      ]
     },
     "metadata": {
      "needs_background": "light"
     },
     "output_type": "display_data"
    }
   ],
   "source": [
    "plt.rcParams['figure.figsize'] = (10,7)\n",
    "df_train['Ranking'].hist(bins=100)"
   ]
  },
  {
   "cell_type": "markdown",
   "metadata": {},
   "source": [
    "У нас много ресторанов, которые не дотягивают и до 2500 места в своем городе, а что там по городам?"
   ]
  },
  {
   "cell_type": "code",
   "execution_count": 27,
   "metadata": {
    "execution": {
     "iopub.execute_input": "2021-09-13T10:22:54.864451Z",
     "iopub.status.busy": "2021-09-13T10:22:54.863933Z",
     "iopub.status.idle": "2021-09-13T10:22:55.315369Z",
     "shell.execute_reply": "2021-09-13T10:22:55.314546Z",
     "shell.execute_reply.started": "2021-09-13T10:22:54.864366Z"
    }
   },
   "outputs": [
    {
     "data": {
      "text/plain": [
       "<matplotlib.axes._subplots.AxesSubplot at 0x7f09a1e8d748>"
      ]
     },
     "execution_count": 27,
     "metadata": {},
     "output_type": "execute_result"
    },
    {
     "data": {
      "image/png": "[encoded data removed]",
      "text/plain": [
       "<Figure size 720x504 with 1 Axes>"
      ]
     },
     "metadata": {
      "needs_background": "light"
     },
     "output_type": "display_data"
    }
   ],
   "source": [
    "df_train['City'].value_counts(ascending=True).plot(kind='barh')"
   ]
  },
  {
   "cell_type": "markdown",
   "metadata": {},
   "source": [
    "А кто-то говорил, что французы любят поесть=) Посмотрим, как изменится распределение в большом городе:"
   ]
  },
  {
   "cell_type": "code",
   "execution_count": 28,
   "metadata": {
    "execution": {
     "iopub.execute_input": "2021-09-13T10:23:12.159394Z",
     "iopub.status.busy": "2021-09-13T10:23:12.158886Z",
     "iopub.status.idle": "2021-09-13T10:23:12.698734Z",
     "shell.execute_reply": "2021-09-13T10:23:12.697721Z",
     "shell.execute_reply.started": "2021-09-13T10:23:12.159325Z"
    }
   },
   "outputs": [
    {
     "data": {
      "text/plain": [
       "<matplotlib.axes._subplots.AxesSubplot at 0x7f09a2006d68>"
      ]
     },
     "execution_count": 28,
     "metadata": {},
     "output_type": "execute_result"
    },
    {
     "data": {
      "image/png": "[encoded data removed]",
      "text/plain": [
       "<Figure size 720x504 with 1 Axes>"
      ]
     },
     "metadata": {
      "needs_background": "light"
     },
     "output_type": "display_data"
    }
   ],
   "source": [
    "df_train['Ranking'][df_train['City'] =='London'].hist(bins=100)"
   ]
  },
  {
   "cell_type": "code",
   "execution_count": 29,
   "metadata": {
    "execution": {
     "iopub.execute_input": "2021-09-13T10:23:28.222477Z",
     "iopub.status.busy": "2021-09-13T10:23:28.221966Z",
     "iopub.status.idle": "2021-09-13T10:23:30.881434Z",
     "shell.execute_reply": "2021-09-13T10:23:30.880495Z",
     "shell.execute_reply.started": "2021-09-13T10:23:28.222400Z"
    }
   },
   "outputs": [
    {
     "data": {
      "image/png": "[encoded data removed]",
      "text/plain": [
       "<Figure size 720x504 with 1 Axes>"
      ]
     },
     "metadata": {
      "needs_background": "light"
     },
     "output_type": "display_data"
    }
   ],
   "source": [
    "# посмотрим на топ 10 городов\n",
    "for x in (df_train['City'].value_counts())[0:10].index:\n",
    "    df_train['Ranking'][df_train['City'] == x].hist(bins=100)\n",
    "plt.show()"
   ]
  },
  {
   "cell_type": "code",
   "execution_count": 30,
   "metadata": {
    "execution": {
     "iopub.execute_input": "2021-09-13T10:23:49.794393Z",
     "iopub.status.busy": "2021-09-13T10:23:49.794060Z",
     "iopub.status.idle": "2021-09-13T10:23:49.838517Z",
     "shell.execute_reply": "2021-09-13T10:23:49.837511Z",
     "shell.execute_reply.started": "2021-09-13T10:23:49.794326Z"
    }
   },
   "outputs": [
    {
     "name": "stdout",
     "output_type": "stream",
     "text": [
      "Float64Index([    1.0,     6.0,    10.0,    11.0,    13.0,    16.0,    17.0,\n",
      "                 18.0,    20.0,    23.0,\n",
      "              ...\n",
      "              16402.0, 16406.0, 16408.0, 16411.0, 16418.0, 16420.0, 16435.0,\n",
      "              16437.0, 16441.0, 16444.0],\n",
      "             dtype='float64', length=5757)\n",
      "Float64Index([   1.0,    2.0,    3.0,    4.0,    6.0,    7.0,   10.0,   11.0,\n",
      "                16.0,   20.0,\n",
      "              ...\n",
      "              8790.0, 8791.0, 8793.0, 8795.0, 8799.0, 8801.0, 8803.0, 8806.0,\n",
      "              8808.0, 8809.0],\n",
      "             dtype='float64', length=3108)\n",
      "Float64Index([   2.0,    4.0,    9.0,   12.0,   14.0,   15.0,   20.0,   21.0,\n",
      "                22.0,   24.0,\n",
      "              ...\n",
      "              6332.0, 6340.0, 6347.0, 6348.0, 6350.0, 6353.0, 6358.0, 6368.0,\n",
      "              6370.0, 6372.0],\n",
      "             dtype='float64', length=2155)\n"
     ]
    }
   ],
   "source": [
    "# Нет информации обо всех рангах для каждого города\n",
    "print(df_train[df_train['City'] == 'London']['Ranking'].value_counts().index.sort_values(ascending = True))\n",
    "print(df_train[df_train['City'] == 'Madrid']['Ranking'].value_counts().index.sort_values(ascending = True))\n",
    "print(df_train[df_train['City'] == 'Berlin']['Ranking'].value_counts().index.sort_values(ascending = True))"
   ]
  },
  {
   "cell_type": "code",
   "execution_count": 31,
   "metadata": {
    "execution": {
     "iopub.execute_input": "2021-09-13T10:23:55.358609Z",
     "iopub.status.busy": "2021-09-13T10:23:55.358271Z",
     "iopub.status.idle": "2021-09-13T10:23:55.380151Z",
     "shell.execute_reply": "2021-09-13T10:23:55.378999Z",
     "shell.execute_reply.started": "2021-09-13T10:23:55.358557Z"
    }
   },
   "outputs": [
    {
     "name": "stdout",
     "output_type": "stream",
     "text": [
      "16444.0\n",
      "5757\n"
     ]
    }
   ],
   "source": [
    "# Естественно сильно отличается последний ранг с общим количеством городов\n",
    "print(df_train['Ranking'][df_train['City'] == 'London'].max())\n",
    "print(len(df_train['Ranking'][df_train['City'] == 'London']))"
   ]
  },
  {
   "cell_type": "code",
   "execution_count": 32,
   "metadata": {
    "execution": {
     "iopub.execute_input": "2021-09-13T10:24:06.704284Z",
     "iopub.status.busy": "2021-09-13T10:24:06.703982Z",
     "iopub.status.idle": "2021-09-13T10:24:06.718076Z",
     "shell.execute_reply": "2021-09-13T10:24:06.717118Z",
     "shell.execute_reply.started": "2021-09-13T10:24:06.704222Z"
    }
   },
   "outputs": [
    {
     "data": {
      "text/plain": [
       "1080.0     19\n",
       "437.0      18\n",
       "491.0      18\n",
       "345.0      18\n",
       "431.0      18\n",
       "           ..\n",
       "14711.0     1\n",
       "9409.0      1\n",
       "14109.0     1\n",
       "10501.0     1\n",
       "5699.0      1\n",
       "Name: Ranking, Length: 11936, dtype: int64"
      ]
     },
     "execution_count": 32,
     "metadata": {},
     "output_type": "execute_result"
    }
   ],
   "source": [
    "df_train['Ranking'].value_counts()"
   ]
  },
  {
   "cell_type": "code",
   "execution_count": 33,
   "metadata": {
    "execution": {
     "iopub.execute_input": "2021-09-13T10:24:11.895422Z",
     "iopub.status.busy": "2021-09-13T10:24:11.895059Z",
     "iopub.status.idle": "2021-09-13T10:24:11.905862Z",
     "shell.execute_reply": "2021-09-13T10:24:11.904944Z",
     "shell.execute_reply.started": "2021-09-13T10:24:11.895338Z"
    }
   },
   "outputs": [
    {
     "data": {
      "text/plain": [
       "London        1\n",
       "Bratislava    1\n",
       "Barcelona     1\n",
       "Budapest      1\n",
       "Zurich        1\n",
       "Munich        1\n",
       "Madrid        1\n",
       "Helsinki      1\n",
       "Dublin        1\n",
       "Hamburg       1\n",
       "Luxembourg    1\n",
       "Krakow        1\n",
       "Geneva        1\n",
       "Oslo          1\n",
       "Vienna        1\n",
       "Lyon          1\n",
       "Paris         1\n",
       "Athens        1\n",
       "Name: City, dtype: int64"
      ]
     },
     "execution_count": 33,
     "metadata": {},
     "output_type": "execute_result"
    }
   ],
   "source": [
    "df_train['City'][df_train['Ranking'] == 491].value_counts()"
   ]
  },
  {
   "cell_type": "markdown",
   "metadata": {},
   "source": [
    "Получается, что Ranking имеет нормальное распределение, просто в больших городах больше ресторанов, из-за мы этого имеем смещение.\n",
    "\n",
    ">Подумайте как из этого можно сделать признак для вашей модели. Я покажу вам пример, как визуализация помогает находить взаимосвязи. А далее действуйте без подсказок =) \n"
   ]
  },
  {
   "cell_type": "markdown",
   "metadata": {},
   "source": [
    "### Посмотрим распределение целевой переменной"
   ]
  },
  {
   "cell_type": "code",
   "execution_count": 34,
   "metadata": {
    "execution": {
     "iopub.execute_input": "2021-09-13T10:24:25.694368Z",
     "iopub.status.busy": "2021-09-13T10:24:25.694038Z",
     "iopub.status.idle": "2021-09-13T10:24:25.906730Z",
     "shell.execute_reply": "2021-09-13T10:24:25.905658Z",
     "shell.execute_reply.started": "2021-09-13T10:24:25.694313Z"
    }
   },
   "outputs": [
    {
     "data": {
      "text/plain": [
       "<matplotlib.axes._subplots.AxesSubplot at 0x7f098e919b70>"
      ]
     },
     "execution_count": 34,
     "metadata": {},
     "output_type": "execute_result"
    },
    {
     "data": {
      "image/png": "[encoded data removed]",
      "text/plain": [
       "<Figure size 720x504 with 1 Axes>"
      ]
     },
     "metadata": {
      "needs_background": "light"
     },
     "output_type": "display_data"
    }
   ],
   "source": [
    "df_train['Rating'].value_counts(ascending=True).plot(kind='barh')"
   ]
  },
  {
   "cell_type": "markdown",
   "metadata": {},
   "source": [
    "### Посмотрим распределение целевой переменной относительно признака"
   ]
  },
  {
   "cell_type": "code",
   "execution_count": 35,
   "metadata": {
    "execution": {
     "iopub.execute_input": "2021-09-13T10:24:33.387164Z",
     "iopub.status.busy": "2021-09-13T10:24:33.386846Z",
     "iopub.status.idle": "2021-09-13T10:24:33.891718Z",
     "shell.execute_reply": "2021-09-13T10:24:33.890352Z",
     "shell.execute_reply.started": "2021-09-13T10:24:33.387121Z"
    }
   },
   "outputs": [
    {
     "data": {
      "text/plain": [
       "<matplotlib.axes._subplots.AxesSubplot at 0x7f09872a0b00>"
      ]
     },
     "execution_count": 35,
     "metadata": {},
     "output_type": "execute_result"
    },
    {
     "data": {
      "image/png": "[encoded data removed]",
      "text/plain": [
       "<Figure size 720x504 with 1 Axes>"
      ]
     },
     "metadata": {
      "needs_background": "light"
     },
     "output_type": "display_data"
    }
   ],
   "source": [
    "df_train['Ranking'][df_train['Rating'] == 5].hist(bins=100)"
   ]
  },
  {
   "cell_type": "code",
   "execution_count": 36,
   "metadata": {
    "execution": {
     "iopub.execute_input": "2021-09-13T10:24:56.845235Z",
     "iopub.status.busy": "2021-09-13T10:24:56.844929Z",
     "iopub.status.idle": "2021-09-13T10:24:57.356959Z",
     "shell.execute_reply": "2021-09-13T10:24:57.355689Z",
     "shell.execute_reply.started": "2021-09-13T10:24:56.845190Z"
    }
   },
   "outputs": [
    {
     "data": {
      "text/plain": [
       "<matplotlib.axes._subplots.AxesSubplot at 0x7f09871739b0>"
      ]
     },
     "execution_count": 36,
     "metadata": {},
     "output_type": "execute_result"
    },
    {
     "data": {
      "image/png": "[encoded data removed]",
      "text/plain": [
       "<Figure size 720x504 with 1 Axes>"
      ]
     },
     "metadata": {
      "needs_background": "light"
     },
     "output_type": "display_data"
    }
   ],
   "source": [
    "df_train['Ranking'][df_train['Rating'] < 4].hist(bins=100)"
   ]
  },
  {
   "cell_type": "markdown",
   "metadata": {},
   "source": [
    "### И один из моих любимых - [корреляция признаков](https://ru.wikipedia.org/wiki/Корреляция)\n",
    "На этом графике уже сейчас вы сможете заметить, как признаки связаны между собой и с целевой переменной."
   ]
  },
  {
   "cell_type": "code",
   "execution_count": 38,
   "metadata": {
    "execution": {
     "iopub.execute_input": "2021-09-13T10:25:13.235652Z",
     "iopub.status.busy": "2021-09-13T10:25:13.235200Z",
     "iopub.status.idle": "2021-09-13T10:25:14.569666Z",
     "shell.execute_reply": "2021-09-13T10:25:14.568546Z",
     "shell.execute_reply.started": "2021-09-13T10:25:13.235610Z"
    }
   },
   "outputs": [
    {
     "data": {
      "text/plain": [
       "<matplotlib.axes._subplots.AxesSubplot at 0x7f09a1ce63c8>"
      ]
     },
     "execution_count": 38,
     "metadata": {},
     "output_type": "execute_result"
    },
    {
     "data": {
      "image/png": "[encoded data removed]",
      "text/plain": [
       "<Figure size 1080x720 with 2 Axes>"
      ]
     },
     "metadata": {
      "needs_background": "light"
     },
     "output_type": "display_data"
    }
   ],
   "source": [
    "plt.rcParams['figure.figsize'] = (15,10)\n",
    "sns.heatmap(data.drop(['sample'], axis=1).corr(),)"
   ]
  },
  {
   "cell_type": "markdown",
   "metadata": {},
   "source": [
    "Вообще благодаря визуализации в этом датасете можно узнать много интересных фактов, например:\n",
    "* где больше Пицерий в Мадриде или Лондоне?\n",
    "* в каком городе кухня ресторанов более разнообразна?\n",
    "\n",
    "придумайте свои вопрос и найдите на него ответ в данных)"
   ]
  },
  {
   "cell_type": "markdown",
   "metadata": {},
   "source": [
    "# Data Preprocessing\n",
    "Теперь, для удобства и воспроизводимости кода, завернем всю обработку в одну большую функцию."
   ]
  },
  {
   "cell_type": "code",
   "execution_count": null,
   "metadata": {},
   "outputs": [],
   "source": [
    "# на всякий случай, заново подгружаем данные\n",
    "df_train = pd.read_csv(DATA_DIR+'/main_task.csv')\n",
    "df_test = pd.read_csv(DATA_DIR+'/kaggle_task.csv')\n",
    "df_train['sample'] = 1 # помечаем где у нас трейн\n",
    "df_test['sample'] = 0 # помечаем где у нас тест\n",
    "df_test['Rating'] = 0 # в тесте у нас нет значения Rating, мы его должны предсказать, по этому пока просто заполняем нулями\n",
    "\n",
    "data = df_test.append(df_train, sort=False).reset_index(drop=True) # объединяем\n",
    "data.info()"
   ]
  },
  {
   "cell_type": "code",
   "execution_count": null,
   "metadata": {},
   "outputs": [],
   "source": [
    "def preproc_data(df_input):\n",
    "    '''includes several functions to pre-process the predictor data.'''\n",
    "    \n",
    "    df_output = df_input.copy()\n",
    "    \n",
    "    # ################### 1. Предобработка ############################################################## \n",
    "    # убираем не нужные для модели признаки\n",
    "    df_output.drop(['Restaurant_id','ID_TA',], axis = 1, inplace=True)\n",
    "    \n",
    "    \n",
    "    # ################### 2. NAN ############################################################## \n",
    "    # Далее заполняем пропуски, вы можете попробовать заполнением средним или средним по городу и тд...\n",
    "    df_output['Number of Reviews'].fillna(0, inplace=True)\n",
    "    # тут ваш код по обработке NAN\n",
    "    # ....\n",
    "    \n",
    "    \n",
    "    # ################### 3. Encoding ############################################################## \n",
    "    # для One-Hot Encoding в pandas есть готовая функция - get_dummies. Особенно радует параметр dummy_na\n",
    "    df_output = pd.get_dummies(df_output, columns=[ 'City',], dummy_na=True)\n",
    "    # тут ваш код не Encoding фитчей\n",
    "    # ....\n",
    "    \n",
    "    \n",
    "    # ################### 4. Feature Engineering ####################################################\n",
    "    # тут ваш код не генерацию новых фитчей\n",
    "    # ....\n",
    "    \n",
    "    \n",
    "    # ################### 5. Clean #################################################### \n",
    "    # убираем признаки которые еще не успели обработать, \n",
    "    # модель на признаках с dtypes \"object\" обучаться не будет, просто выберим их и удалим\n",
    "    object_columns = [s for s in df_output.columns if df_output[s].dtypes == 'object']\n",
    "    df_output.drop(object_columns, axis = 1, inplace=True)\n",
    "    \n",
    "    return df_output"
   ]
  },
  {
   "cell_type": "markdown",
   "metadata": {},
   "source": [
    ">По хорошему, можно было бы перевести эту большую функцию в класс и разбить на подфункции (согласно ООП). "
   ]
  },
  {
   "cell_type": "markdown",
   "metadata": {},
   "source": [
    "#### Запускаем и проверяем что получилось"
   ]
  },
  {
   "cell_type": "code",
   "execution_count": null,
   "metadata": {},
   "outputs": [],
   "source": [
    "df_preproc = preproc_data(data)\n",
    "df_preproc.sample(10)"
   ]
  },
  {
   "cell_type": "code",
   "execution_count": null,
   "metadata": {},
   "outputs": [],
   "source": [
    "df_preproc.info()"
   ]
  },
  {
   "cell_type": "code",
   "execution_count": null,
   "metadata": {},
   "outputs": [],
   "source": [
    "# Теперь выделим тестовую часть\n",
    "train_data = df_preproc.query('sample == 1').drop(['sample'], axis=1)\n",
    "test_data = df_preproc.query('sample == 0').drop(['sample'], axis=1)\n",
    "\n",
    "y = train_data.Rating.values            # наш таргет\n",
    "X = train_data.drop(['Rating'], axis=1)"
   ]
  },
  {
   "cell_type": "markdown",
   "metadata": {},
   "source": [
    "**Перед тем как отправлять наши данные на обучение, разделим данные на еще один тест и трейн, для валидации. \n",
    "Это поможет нам проверить, как хорошо наша модель работает, до отправки submissiona на kaggle.**"
   ]
  },
  {
   "cell_type": "code",
   "execution_count": null,
   "metadata": {},
   "outputs": [],
   "source": [
    "# Воспользуемся специальной функцие train_test_split для разбивки тестовых данных\n",
    "# выделим 20% данных на валидацию (параметр test_size)\n",
    "X_train, X_test, y_train, y_test = train_test_split(X, y, test_size=0.2, random_state=RANDOM_SEED)"
   ]
  },
  {
   "cell_type": "code",
   "execution_count": null,
   "metadata": {},
   "outputs": [],
   "source": [
    "# проверяем\n",
    "test_data.shape, train_data.shape, X.shape, X_train.shape, X_test.shape"
   ]
  },
  {
   "cell_type": "markdown",
   "metadata": {},
   "source": [
    "# Model \n",
    "Сам ML"
   ]
  },
  {
   "cell_type": "code",
   "execution_count": null,
   "metadata": {},
   "outputs": [],
   "source": [
    "# Импортируем необходимые библиотеки:\n",
    "from sklearn.ensemble import RandomForestRegressor # инструмент для создания и обучения модели\n",
    "from sklearn import metrics # инструменты для оценки точности модели"
   ]
  },
  {
   "cell_type": "code",
   "execution_count": null,
   "metadata": {},
   "outputs": [],
   "source": [
    "# Создаём модель (НАСТРОЙКИ НЕ ТРОГАЕМ)\n",
    "model = RandomForestRegressor(n_estimators=100, verbose=1, n_jobs=-1, random_state=RANDOM_SEED)"
   ]
  },
  {
   "cell_type": "code",
   "execution_count": null,
   "metadata": {},
   "outputs": [],
   "source": [
    "# Обучаем модель на тестовом наборе данных\n",
    "model.fit(X_train, y_train)\n",
    "\n",
    "# Используем обученную модель для предсказания рейтинга ресторанов в тестовой выборке.\n",
    "# Предсказанные значения записываем в переменную y_pred\n",
    "y_pred = model.predict(X_test)"
   ]
  },
  {
   "cell_type": "code",
   "execution_count": null,
   "metadata": {},
   "outputs": [],
   "source": [
    "# Сравниваем предсказанные значения (y_pred) с реальными (y_test), и смотрим насколько они в среднем отличаются\n",
    "# Метрика называется Mean Absolute Error (MAE) и показывает среднее отклонение предсказанных значений от фактических.\n",
    "print('MAE:', metrics.mean_absolute_error(y_test, y_pred))"
   ]
  },
  {
   "cell_type": "code",
   "execution_count": null,
   "metadata": {},
   "outputs": [],
   "source": [
    "# в RandomForestRegressor есть возможность вывести самые важные признаки для модели\n",
    "plt.rcParams['figure.figsize'] = (10,10)\n",
    "feat_importances = pd.Series(model.feature_importances_, index=X.columns)\n",
    "feat_importances.nlargest(15).plot(kind='barh')"
   ]
  },
  {
   "cell_type": "markdown",
   "metadata": {},
   "source": [
    "# Submission\n",
    "Если все устраевает - готовим Submission на кагл"
   ]
  },
  {
   "cell_type": "code",
   "execution_count": null,
   "metadata": {},
   "outputs": [],
   "source": [
    "test_data.sample(10)"
   ]
  },
  {
   "cell_type": "code",
   "execution_count": null,
   "metadata": {},
   "outputs": [],
   "source": [
    "test_data = test_data.drop(['Rating'], axis=1)"
   ]
  },
  {
   "cell_type": "code",
   "execution_count": null,
   "metadata": {},
   "outputs": [],
   "source": [
    "sample_submission"
   ]
  },
  {
   "cell_type": "code",
   "execution_count": null,
   "metadata": {},
   "outputs": [],
   "source": [
    "predict_submission = model.predict(test_data)"
   ]
  },
  {
   "cell_type": "code",
   "execution_count": null,
   "metadata": {},
   "outputs": [],
   "source": [
    "predict_submission"
   ]
  },
  {
   "cell_type": "code",
   "execution_count": null,
   "metadata": {},
   "outputs": [],
   "source": [
    "sample_submission['Rating'] = predict_submission\n",
    "sample_submission.to_csv('submission.csv', index=False)\n",
    "sample_submission.head(10)"
   ]
  },
  {
   "cell_type": "markdown",
   "metadata": {},
   "source": [
    "# What's next?\n",
    "Или что делать, чтоб улучшить результат:\n",
    "* Обработать оставшиеся признаки в понятный для машины формат\n",
    "* Посмотреть, что еще можно извлечь из признаков\n",
    "* Сгенерировать новые признаки\n",
    "* Подгрузить дополнительные данные, например: по населению или благосостоянию городов\n",
    "* Подобрать состав признаков\n",
    "\n",
    "В общем, процесс творческий и весьма увлекательный! Удачи в соревновании!\n"
   ]
  },
  {
   "cell_type": "code",
   "execution_count": null,
   "metadata": {},
   "outputs": [],
   "source": []
  }
 ],
 "metadata": {
  "kernelspec": {
   "display_name": "Python 3",
   "language": "python",
   "name": "python3"
  },
  "language_info": {
   "codemirror_mode": {
    "name": "ipython",
    "version": 3
   },
   "file_extension": ".py",
   "mimetype": "text/x-python",
   "name": "python",
   "nbconvert_exporter": "python",
   "pygments_lexer": "ipython3",
   "version": "3.8.6"
  }
 },
 "nbformat": 4,
 "nbformat_minor": 4
}
