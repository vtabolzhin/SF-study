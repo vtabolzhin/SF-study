{
 "cells": [
  {
   "cell_type": "code",
   "execution_count": 1,
   "id": "2513d138",
   "metadata": {},
   "outputs": [],
   "source": [
    "number = 2.5\n",
    "people = ['Alex', 'Stas', 'Eugen']"
   ]
  },
  {
   "cell_type": "code",
   "execution_count": 2,
   "id": "d8047b9a",
   "metadata": {},
   "outputs": [
    {
     "data": {
      "text/plain": [
       "float"
      ]
     },
     "execution_count": 2,
     "metadata": {},
     "output_type": "execute_result"
    }
   ],
   "source": [
    "number.__class__"
   ]
  },
  {
   "cell_type": "code",
   "execution_count": 7,
   "id": "350d6736",
   "metadata": {},
   "outputs": [
    {
     "data": {
      "text/plain": [
       "float"
      ]
     },
     "execution_count": 7,
     "metadata": {},
     "output_type": "execute_result"
    }
   ],
   "source": [
    "number.__class__"
   ]
  },
  {
   "cell_type": "code",
   "execution_count": 12,
   "id": "3d026dc5",
   "metadata": {},
   "outputs": [
    {
     "name": "stdout",
     "output_type": "stream",
     "text": [
      "<class 'list'>\n"
     ]
    }
   ],
   "source": [
    "print(people.__class__)"
   ]
  },
  {
   "cell_type": "code",
   "execution_count": 13,
   "id": "8d65a968",
   "metadata": {},
   "outputs": [],
   "source": [
    "class SalesReport(): # class's name in CamelCase format\n",
    "    pass"
   ]
  },
  {
   "cell_type": "code",
   "execution_count": 14,
   "id": "6472b71f",
   "metadata": {},
   "outputs": [],
   "source": [
    "def build_report(): # function's name in snake_case format\n",
    "    pass"
   ]
  },
  {
   "cell_type": "code",
   "execution_count": 15,
   "id": "7d15bfdc",
   "metadata": {},
   "outputs": [],
   "source": [
    "class SkillactoryStudent():\n",
    "    pass"
   ]
  },
  {
   "cell_type": "code",
   "execution_count": 18,
   "id": "9add76b5",
   "metadata": {},
   "outputs": [
    {
     "data": {
      "text/plain": [
       "False"
      ]
     },
     "execution_count": 18,
     "metadata": {},
     "output_type": "execute_result"
    }
   ],
   "source": [
    "report_1 = SalesReport()\n",
    "report_2 = SalesReport()\n",
    "report_1 == report_2"
   ]
  },
  {
   "cell_type": "code",
   "execution_count": 9,
   "id": "3d721be2",
   "metadata": {},
   "outputs": [],
   "source": [
    "class DepartmentReport():\n",
    "    \n",
    "    def __init__(self, company_name):\n",
    "        self.revenues=[]\n",
    "        self.company_name = company_name\n",
    "    \n",
    "    def add_revenue(self, revenue):\n",
    "        self.revenues.append(revenue)\n",
    "    \n",
    "    def average_revenue(self):\n",
    "        mean = sum(self.revenues)/len(self.revenues)\n",
    "        return f\"Average department revenue for {self.company_name}: {round(mean)}\""
   ]
  },
  {
   "cell_type": "code",
   "execution_count": 10,
   "id": "5d5acc3f",
   "metadata": {},
   "outputs": [
    {
     "name": "stdout",
     "output_type": "stream",
     "text": [
      "Average department revenue for Danon: 700000\n"
     ]
    }
   ],
   "source": [
    "report = DepartmentReport(\"Danon\")\n",
    "report.add_revenue(1_000_000)\n",
    "report.add_revenue(400_000)\n",
    "\n",
    "print(report.average_revenue())\n",
    "# => Average department revenue for Danon: 7000000"
   ]
  },
  {
   "cell_type": "code",
   "execution_count": 15,
   "id": "0337efc3",
   "metadata": {},
   "outputs": [],
   "source": [
    "class Dog():\n",
    "    def __init__(self, name=\"\"):\n",
    "        self.name = name\n",
    "        \n",
    "    def bark(self):\n",
    "        print(\"Bark!\")\n",
    "        \n",
    "    def give_paw(self):\n",
    "        print(\"Paw\")"
   ]
  },
  {
   "cell_type": "code",
   "execution_count": 16,
   "id": "4dad1e9f",
   "metadata": {},
   "outputs": [
    {
     "name": "stdout",
     "output_type": "stream",
     "text": [
      "Bark!\n",
      "Paw\n"
     ]
    }
   ],
   "source": [
    "dog = Dog()\n",
    "dog.bark()\n",
    "dog.give_paw()"
   ]
  }
 ],
 "metadata": {
  "kernelspec": {
   "display_name": "Python 3",
   "language": "python",
   "name": "python3"
  },
  "language_info": {
   "codemirror_mode": {
    "name": "ipython",
    "version": 3
   },
   "file_extension": ".py",
   "mimetype": "text/x-python",
   "name": "python",
   "nbconvert_exporter": "python",
   "pygments_lexer": "ipython3",
   "version": "3.8.6"
  }
 },
 "nbformat": 4,
 "nbformat_minor": 5
}
