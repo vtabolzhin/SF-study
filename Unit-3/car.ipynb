{
 "cells": [
  {
   "cell_type": "code",
   "execution_count": 11,
   "id": "a66b08f6",
   "metadata": {},
   "outputs": [],
   "source": [
    "class Car():\n",
    "    \"\"\"A simple attempt to represent a car.\"\"\"\n",
    "    \n",
    "    def __init__(self, model, manufacturer, year):\n",
    "        \"\"\"Initialize description attributes.\"\"\"\n",
    "        self.model = model\n",
    "        self.manufacturer = manufacturer\n",
    "        self.year = year\n",
    "        self.odometer_reading = 0\n",
    "        \n",
    "        \n",
    "    def get_descriptive_name(self):\n",
    "        \"\"\"Returns a neatly formatted descriptive name.\"\"\"\n",
    "        long_name = f\"{self.year} {self.manufacturer} {self.model}\"\n",
    "        return long_name.title()\n",
    "    \n",
    "    \n",
    "    def read_odometer(self):\n",
    "        \"\"\"Print a statement showing a car's mileage.\"\"\"\n",
    "        print(f\"This car has {self.odometer_reading} miles on it.\")\n",
    "        \n",
    "        \n",
    "    def update_odometer(self, mileage):\n",
    "        \"\"\"Set the odometr reading to the given value.\"\"\"\n",
    "        if mileage <= self.odometer_reading:\n",
    "            print(\"You can't roll back an odometer!\")\n",
    "        else:\n",
    "            self.odometer_reading = mileage"
   ]
  },
  {
   "cell_type": "code",
   "execution_count": 16,
   "id": "cce6fa89",
   "metadata": {},
   "outputs": [
    {
     "name": "stdout",
     "output_type": "stream",
     "text": [
      "2000 Toyota Townace\n",
      "This car has 32 miles on it.\n"
     ]
    }
   ],
   "source": [
    "my_car = Car(\"townace\", \"toyota\", 2000)"
   ]
  },
  {
   "cell_type": "code",
   "execution_count": 23,
   "id": "794b12d1",
   "metadata": {},
   "outputs": [
    {
     "name": "stdout",
     "output_type": "stream",
     "text": [
      "You can't roll back an odometer!\n",
      "2000 Toyota Townace\n",
      "This car has 34 miles on it.\n"
     ]
    }
   ],
   "source": [
    "my_car.update_odometer(34)\n",
    "print(my_car.get_descriptive_name())\n",
    "my_car.read_odometer()"
   ]
  },
  {
   "cell_type": "code",
   "execution_count": 40,
   "id": "fcab8c46",
   "metadata": {},
   "outputs": [],
   "source": [
    "class Battery():\n",
    "    \"\"\"\"\"\"\n",
    "    \n",
    "    def __init__(self, battery_size=75):\n",
    "        \"\"\"\"\"\"\n",
    "        self.battery_size = battery_size\n",
    "        \n",
    "    def describe_battery(self):\n",
    "        print(f\"This car has {self.battery_size}-kWh battery.\")\n",
    "\n",
    "class Electric_Car(Car):\n",
    "    \"\"\"\"\"\"\n",
    "    \n",
    "    def __init__(self, model, manufacturer, year):\n",
    "        super().__init__(model, manufacturer, year)\n",
    "        self.battery = Battery()\n",
    "        \n",
    "        \n",
    "    "
   ]
  },
  {
   "cell_type": "code",
   "execution_count": 41,
   "id": "6c1a1269",
   "metadata": {},
   "outputs": [],
   "source": [
    "my_leaf = Electric_Car(\"leaf\", \"nissan\", 2014)"
   ]
  },
  {
   "cell_type": "code",
   "execution_count": 43,
   "id": "d368f11a",
   "metadata": {},
   "outputs": [
    {
     "name": "stdout",
     "output_type": "stream",
     "text": [
      "2014 Nissan Leaf\n",
      "This car has 75-kWh battery.\n"
     ]
    }
   ],
   "source": [
    "print(my_leaf.get_descriptive_name())\n",
    "my_leaf.battery.describe_battery()"
   ]
  }
 ],
 "metadata": {
  "kernelspec": {
   "display_name": "Python 3",
   "language": "python",
   "name": "python3"
  },
  "language_info": {
   "codemirror_mode": {
    "name": "ipython",
    "version": 3
   },
   "file_extension": ".py",
   "mimetype": "text/x-python",
   "name": "python",
   "nbconvert_exporter": "python",
   "pygments_lexer": "ipython3",
   "version": "3.8.6"
  }
 },
 "nbformat": 4,
 "nbformat_minor": 5
}
