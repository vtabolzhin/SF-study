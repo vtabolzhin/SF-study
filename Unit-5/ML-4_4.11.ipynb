{
 "cells": [
  {
   "cell_type": "code",
   "execution_count": 2,
   "id": "ca586c44",
   "metadata": {},
   "outputs": [],
   "source": [
    "import pandas as pd\n",
    "import numpy as np\n",
    "import matplotlib.pyplot as plt\n",
    "import seaborn as sns\n",
    "%matplotlib inline"
   ]
  },
  {
   "cell_type": "code",
   "execution_count": 3,
   "id": "65959d93",
   "metadata": {},
   "outputs": [
    {
     "data": {
      "text/html": [
       "<div>\n",
       "<style scoped>\n",
       "    .dataframe tbody tr th:only-of-type {\n",
       "        vertical-align: middle;\n",
       "    }\n",
       "\n",
       "    .dataframe tbody tr th {\n",
       "        vertical-align: top;\n",
       "    }\n",
       "\n",
       "    .dataframe thead th {\n",
       "        text-align: right;\n",
       "    }\n",
       "</style>\n",
       "<table border=\"1\" class=\"dataframe\">\n",
       "  <thead>\n",
       "    <tr style=\"text-align: right;\">\n",
       "      <th></th>\n",
       "      <th>Survived</th>\n",
       "      <th>Pclass</th>\n",
       "      <th>Name</th>\n",
       "      <th>Sex</th>\n",
       "      <th>Age</th>\n",
       "      <th>Siblings/Spouses Aboard</th>\n",
       "      <th>Parents/Children Aboard</th>\n",
       "      <th>Fare</th>\n",
       "    </tr>\n",
       "  </thead>\n",
       "  <tbody>\n",
       "    <tr>\n",
       "      <th>882</th>\n",
       "      <td>0</td>\n",
       "      <td>2</td>\n",
       "      <td>Rev. Juozas Montvila</td>\n",
       "      <td>male</td>\n",
       "      <td>27.0</td>\n",
       "      <td>0</td>\n",
       "      <td>0</td>\n",
       "      <td>13.00</td>\n",
       "    </tr>\n",
       "    <tr>\n",
       "      <th>883</th>\n",
       "      <td>1</td>\n",
       "      <td>1</td>\n",
       "      <td>Miss. Margaret Edith Graham</td>\n",
       "      <td>female</td>\n",
       "      <td>19.0</td>\n",
       "      <td>0</td>\n",
       "      <td>0</td>\n",
       "      <td>30.00</td>\n",
       "    </tr>\n",
       "    <tr>\n",
       "      <th>884</th>\n",
       "      <td>0</td>\n",
       "      <td>3</td>\n",
       "      <td>Miss. Catherine Helen Johnston</td>\n",
       "      <td>female</td>\n",
       "      <td>7.0</td>\n",
       "      <td>1</td>\n",
       "      <td>2</td>\n",
       "      <td>23.45</td>\n",
       "    </tr>\n",
       "    <tr>\n",
       "      <th>885</th>\n",
       "      <td>1</td>\n",
       "      <td>1</td>\n",
       "      <td>Mr. Karl Howell Behr</td>\n",
       "      <td>male</td>\n",
       "      <td>26.0</td>\n",
       "      <td>0</td>\n",
       "      <td>0</td>\n",
       "      <td>30.00</td>\n",
       "    </tr>\n",
       "    <tr>\n",
       "      <th>886</th>\n",
       "      <td>0</td>\n",
       "      <td>3</td>\n",
       "      <td>Mr. Patrick Dooley</td>\n",
       "      <td>male</td>\n",
       "      <td>32.0</td>\n",
       "      <td>0</td>\n",
       "      <td>0</td>\n",
       "      <td>7.75</td>\n",
       "    </tr>\n",
       "  </tbody>\n",
       "</table>\n",
       "</div>"
      ],
      "text/plain": [
       "     Survived  Pclass                            Name     Sex   Age  \\\n",
       "882         0       2            Rev. Juozas Montvila    male  27.0   \n",
       "883         1       1     Miss. Margaret Edith Graham  female  19.0   \n",
       "884         0       3  Miss. Catherine Helen Johnston  female   7.0   \n",
       "885         1       1            Mr. Karl Howell Behr    male  26.0   \n",
       "886         0       3              Mr. Patrick Dooley    male  32.0   \n",
       "\n",
       "     Siblings/Spouses Aboard  Parents/Children Aboard   Fare  \n",
       "882                        0                        0  13.00  \n",
       "883                        0                        0  30.00  \n",
       "884                        1                        2  23.45  \n",
       "885                        0                        0  30.00  \n",
       "886                        0                        0   7.75  "
      ]
     },
     "execution_count": 3,
     "metadata": {},
     "output_type": "execute_result"
    }
   ],
   "source": [
    "titanic = pd.read_csv('./titanic.csv')\n",
    "titanic.tail()"
   ]
  },
  {
   "cell_type": "code",
   "execution_count": 6,
   "id": "4f5c1035",
   "metadata": {},
   "outputs": [
    {
     "data": {
      "text/plain": [
       "(array([492., 191.,  45.,  45.,  48.,  13.,  11.,  11.,   9.,   2.,   0.,\n",
       "          0.,   5.,   4.,   2.,   6.,   0.,   0.,   0.,   0.,   0.,   0.,\n",
       "          0.,   0.,   0.,   0.,   0.,   0.,   0.,   3.]),\n",
       " array([  0.     ,  17.07764,  34.15528,  51.23292,  68.31056,  85.3882 ,\n",
       "        102.46584, 119.54348, 136.62112, 153.69876, 170.7764 , 187.85404,\n",
       "        204.93168, 222.00932, 239.08696, 256.1646 , 273.24224, 290.31988,\n",
       "        307.39752, 324.47516, 341.5528 , 358.63044, 375.70808, 392.78572,\n",
       "        409.86336, 426.941  , 444.01864, 461.09628, 478.17392, 495.25156,\n",
       "        512.3292 ]),\n",
       " <BarContainer object of 30 artists>)"
      ]
     },
     "execution_count": 6,
     "metadata": {},
     "output_type": "execute_result"
    },
    {
     "data": {
      "image/png": "[encoded data removed]",
      "text/plain": [
       "<Figure size 432x288 with 1 Axes>"
      ]
     },
     "metadata": {
      "needs_background": "light"
     },
     "output_type": "display_data"
    }
   ],
   "source": [
    "plt.hist(titanic['Fare'], bins=30)\n",
    "#plt.show()"
   ]
  },
  {
   "cell_type": "code",
   "execution_count": 18,
   "id": "31e2a1c9",
   "metadata": {},
   "outputs": [
    {
     "data": {
      "text/plain": [
       "<AxesSubplot:xlabel='Survived', ylabel='count'>"
      ]
     },
     "execution_count": 18,
     "metadata": {},
     "output_type": "execute_result"
    },
    {
     "data": {
      "image/png": "[encoded data removed]",
      "text/plain": [
       "<Figure size 432x288 with 1 Axes>"
      ]
     },
     "metadata": {
      "needs_background": "light"
     },
     "output_type": "display_data"
    }
   ],
   "source": [
    "sns.countplot(x='Survived', data=titanic)"
   ]
  },
  {
   "cell_type": "markdown",
   "id": "8464737b",
   "metadata": {},
   "source": [
    "Задание 4.11.1  \n",
    "1 point possible (graded)  \n",
    "Загрузите данные train.csv, оставьте в данных только признаки 'fine_amount', 'state_fee', 'late_fee', 'discount_amount', 'balance_due', 'compliance', затем избавьтесь от пропусков.  \n",
    "\n",
    "Обучим модель на несбалансированных данных. Целевой переменной будет 'compliance', разделите данные на обучающую и тестовую выборки в соотношении 70%/30% без перемешивания.  \n",
    "\n",
    "Обучите DecisionTreeClassifier из scikit-learn с параметром random_state=23. Посчитайте значения метрики F1 на тренировочной выборке и на тестовой выборке.  \n",
    "\n",
    "Затем сделайте эту же выборку сбалансированной с помощью undersampling.  \n",
    "\n",
    "Для этого посчитайте количество примеров (n) класса-меньшинства, затем из класса-большинства возьмите n первых примеров.  \n",
    "\n",
    "То есть, в терминологии Python, возьмите срез (slice) от начала и до n, где n — количество примеров класса, которого в выборке представлено меньше.  \n",
    "\n",
    "Соедините две части выборки (с уменьшенным классом-большинством и с изначальным классом-меньшинством), сделайте точно такое же разбиение, как в задаче выше, и обучите такую же модель.  \n",
    "\n",
    "Посчитайте значение метрики F1 на новой тестовой выборке с помощью новой модели. Вычтите из значения метрики на тестовой части сбалансированной выборки значение метрики на тестовой части несбалансированной выборки и запишите результат в переменную result."
   ]
  },
  {
   "cell_type": "code",
   "execution_count": 29,
   "id": "1e62a6f5",
   "metadata": {},
   "outputs": [
    {
     "data": {
      "text/html": [
       "<div>\n",
       "<style scoped>\n",
       "    .dataframe tbody tr th:only-of-type {\n",
       "        vertical-align: middle;\n",
       "    }\n",
       "\n",
       "    .dataframe tbody tr th {\n",
       "        vertical-align: top;\n",
       "    }\n",
       "\n",
       "    .dataframe thead th {\n",
       "        text-align: right;\n",
       "    }\n",
       "</style>\n",
       "<table border=\"1\" class=\"dataframe\">\n",
       "  <thead>\n",
       "    <tr style=\"text-align: right;\">\n",
       "      <th></th>\n",
       "      <th>ticket_id</th>\n",
       "      <th>agency_name</th>\n",
       "      <th>inspector_name</th>\n",
       "      <th>violator_name</th>\n",
       "      <th>violation_street_number</th>\n",
       "      <th>violation_street_name</th>\n",
       "      <th>violation_zip_code</th>\n",
       "      <th>mailing_address_str_number</th>\n",
       "      <th>mailing_address_str_name</th>\n",
       "      <th>city</th>\n",
       "      <th>...</th>\n",
       "      <th>clean_up_cost</th>\n",
       "      <th>judgment_amount</th>\n",
       "      <th>payment_amount</th>\n",
       "      <th>balance_due</th>\n",
       "      <th>payment_date</th>\n",
       "      <th>payment_status</th>\n",
       "      <th>collection_status</th>\n",
       "      <th>grafitti_status</th>\n",
       "      <th>compliance_detail</th>\n",
       "      <th>compliance</th>\n",
       "    </tr>\n",
       "  </thead>\n",
       "  <tbody>\n",
       "    <tr>\n",
       "      <th>250301</th>\n",
       "      <td>325555</td>\n",
       "      <td>Buildings, Safety Engineering &amp; Env Department</td>\n",
       "      <td>Bush, Wesley</td>\n",
       "      <td>WESTGATE TERRACE APARTMENTS LLC</td>\n",
       "      <td>10701.0</td>\n",
       "      <td>SANTA MARIA</td>\n",
       "      <td>NaN</td>\n",
       "      <td>1715.0</td>\n",
       "      <td>MEYERS</td>\n",
       "      <td>DETROIT</td>\n",
       "      <td>...</td>\n",
       "      <td>0.0</td>\n",
       "      <td>0.0</td>\n",
       "      <td>0.0</td>\n",
       "      <td>0.0</td>\n",
       "      <td>NaN</td>\n",
       "      <td>NO PAYMENT APPLIED</td>\n",
       "      <td>NaN</td>\n",
       "      <td>NaN</td>\n",
       "      <td>not responsible by disposition</td>\n",
       "      <td>NaN</td>\n",
       "    </tr>\n",
       "    <tr>\n",
       "      <th>250302</th>\n",
       "      <td>325557</td>\n",
       "      <td>Buildings, Safety Engineering &amp; Env Department</td>\n",
       "      <td>Bush, Wesley</td>\n",
       "      <td>WESTGATE TERRACE APARTMENTS LLC</td>\n",
       "      <td>10701.0</td>\n",
       "      <td>MEYERS RD</td>\n",
       "      <td>NaN</td>\n",
       "      <td>1715.0</td>\n",
       "      <td>MEYERS</td>\n",
       "      <td>DETROIT</td>\n",
       "      <td>...</td>\n",
       "      <td>0.0</td>\n",
       "      <td>0.0</td>\n",
       "      <td>0.0</td>\n",
       "      <td>0.0</td>\n",
       "      <td>NaN</td>\n",
       "      <td>NO PAYMENT APPLIED</td>\n",
       "      <td>NaN</td>\n",
       "      <td>NaN</td>\n",
       "      <td>not responsible by disposition</td>\n",
       "      <td>NaN</td>\n",
       "    </tr>\n",
       "    <tr>\n",
       "      <th>250303</th>\n",
       "      <td>325562</td>\n",
       "      <td>Buildings, Safety Engineering &amp; Env Department</td>\n",
       "      <td>Bush, Wesley</td>\n",
       "      <td>WESTGATE TERRACE APARTMENTS LLC</td>\n",
       "      <td>10701.0</td>\n",
       "      <td>MEYERS RD</td>\n",
       "      <td>NaN</td>\n",
       "      <td>1715.0</td>\n",
       "      <td>MEYERS</td>\n",
       "      <td>DETROIT</td>\n",
       "      <td>...</td>\n",
       "      <td>0.0</td>\n",
       "      <td>0.0</td>\n",
       "      <td>0.0</td>\n",
       "      <td>0.0</td>\n",
       "      <td>NaN</td>\n",
       "      <td>NO PAYMENT APPLIED</td>\n",
       "      <td>NaN</td>\n",
       "      <td>NaN</td>\n",
       "      <td>not responsible by disposition</td>\n",
       "      <td>NaN</td>\n",
       "    </tr>\n",
       "    <tr>\n",
       "      <th>250304</th>\n",
       "      <td>325559</td>\n",
       "      <td>Buildings, Safety Engineering &amp; Env Department</td>\n",
       "      <td>Bush, Wesley</td>\n",
       "      <td>WESTGATE TERRACE APARTMENTS LLC</td>\n",
       "      <td>10701.0</td>\n",
       "      <td>MEYERS RD</td>\n",
       "      <td>NaN</td>\n",
       "      <td>1715.0</td>\n",
       "      <td>MEYERS</td>\n",
       "      <td>DETROIT</td>\n",
       "      <td>...</td>\n",
       "      <td>0.0</td>\n",
       "      <td>0.0</td>\n",
       "      <td>0.0</td>\n",
       "      <td>0.0</td>\n",
       "      <td>NaN</td>\n",
       "      <td>NO PAYMENT APPLIED</td>\n",
       "      <td>NaN</td>\n",
       "      <td>NaN</td>\n",
       "      <td>not responsible by disposition</td>\n",
       "      <td>NaN</td>\n",
       "    </tr>\n",
       "    <tr>\n",
       "      <th>250305</th>\n",
       "      <td>325561</td>\n",
       "      <td>Buildings, Safety Engineering &amp; Env Department</td>\n",
       "      <td>Bush, Wesley</td>\n",
       "      <td>WESTGATE TERRACE APARTMENTS LLC</td>\n",
       "      <td>10701.0</td>\n",
       "      <td>MEYERS RD</td>\n",
       "      <td>NaN</td>\n",
       "      <td>1715.0</td>\n",
       "      <td>MEYERS</td>\n",
       "      <td>DETROIT</td>\n",
       "      <td>...</td>\n",
       "      <td>0.0</td>\n",
       "      <td>0.0</td>\n",
       "      <td>0.0</td>\n",
       "      <td>0.0</td>\n",
       "      <td>NaN</td>\n",
       "      <td>NO PAYMENT APPLIED</td>\n",
       "      <td>NaN</td>\n",
       "      <td>NaN</td>\n",
       "      <td>not responsible by disposition</td>\n",
       "      <td>NaN</td>\n",
       "    </tr>\n",
       "  </tbody>\n",
       "</table>\n",
       "<p>5 rows × 34 columns</p>\n",
       "</div>"
      ],
      "text/plain": [
       "        ticket_id                                     agency_name  \\\n",
       "250301     325555  Buildings, Safety Engineering & Env Department   \n",
       "250302     325557  Buildings, Safety Engineering & Env Department   \n",
       "250303     325562  Buildings, Safety Engineering & Env Department   \n",
       "250304     325559  Buildings, Safety Engineering & Env Department   \n",
       "250305     325561  Buildings, Safety Engineering & Env Department   \n",
       "\n",
       "       inspector_name                    violator_name  \\\n",
       "250301   Bush, Wesley  WESTGATE TERRACE APARTMENTS LLC   \n",
       "250302   Bush, Wesley  WESTGATE TERRACE APARTMENTS LLC   \n",
       "250303   Bush, Wesley  WESTGATE TERRACE APARTMENTS LLC   \n",
       "250304   Bush, Wesley  WESTGATE TERRACE APARTMENTS LLC   \n",
       "250305   Bush, Wesley  WESTGATE TERRACE APARTMENTS LLC   \n",
       "\n",
       "        violation_street_number violation_street_name  violation_zip_code  \\\n",
       "250301                  10701.0           SANTA MARIA                 NaN   \n",
       "250302                  10701.0             MEYERS RD                 NaN   \n",
       "250303                  10701.0             MEYERS RD                 NaN   \n",
       "250304                  10701.0             MEYERS RD                 NaN   \n",
       "250305                  10701.0             MEYERS RD                 NaN   \n",
       "\n",
       "        mailing_address_str_number mailing_address_str_name     city  ...  \\\n",
       "250301                      1715.0                   MEYERS  DETROIT  ...   \n",
       "250302                      1715.0                   MEYERS  DETROIT  ...   \n",
       "250303                      1715.0                   MEYERS  DETROIT  ...   \n",
       "250304                      1715.0                   MEYERS  DETROIT  ...   \n",
       "250305                      1715.0                   MEYERS  DETROIT  ...   \n",
       "\n",
       "       clean_up_cost judgment_amount payment_amount balance_due payment_date  \\\n",
       "250301           0.0             0.0            0.0         0.0          NaN   \n",
       "250302           0.0             0.0            0.0         0.0          NaN   \n",
       "250303           0.0             0.0            0.0         0.0          NaN   \n",
       "250304           0.0             0.0            0.0         0.0          NaN   \n",
       "250305           0.0             0.0            0.0         0.0          NaN   \n",
       "\n",
       "            payment_status collection_status grafitti_status  \\\n",
       "250301  NO PAYMENT APPLIED               NaN             NaN   \n",
       "250302  NO PAYMENT APPLIED               NaN             NaN   \n",
       "250303  NO PAYMENT APPLIED               NaN             NaN   \n",
       "250304  NO PAYMENT APPLIED               NaN             NaN   \n",
       "250305  NO PAYMENT APPLIED               NaN             NaN   \n",
       "\n",
       "                     compliance_detail  compliance  \n",
       "250301  not responsible by disposition         NaN  \n",
       "250302  not responsible by disposition         NaN  \n",
       "250303  not responsible by disposition         NaN  \n",
       "250304  not responsible by disposition         NaN  \n",
       "250305  not responsible by disposition         NaN  \n",
       "\n",
       "[5 rows x 34 columns]"
      ]
     },
     "execution_count": 29,
     "metadata": {},
     "output_type": "execute_result"
    }
   ],
   "source": [
    "from sklearn.model_selection import train_test_split, StratifiedKFold\n",
    "from sklearn.tree import DecisionTreeClassifier\n",
    "from sklearn.metrics import accuracy_score, f1_score\n",
    "\n",
    "data = pd.read_csv('./train.csv', encoding = 'ISO-8859-1', low_memory=False)\n",
    "data.tail()"
   ]
  },
  {
   "cell_type": "code",
   "execution_count": 30,
   "id": "0ce9702a",
   "metadata": {},
   "outputs": [],
   "source": [
    "data = data[['fine_amount', 'state_fee', 'late_fee',\\\n",
    "             'discount_amount', 'balance_due', 'compliance']].dropna()"
   ]
  },
  {
   "cell_type": "code",
   "execution_count": 36,
   "id": "a721e27d",
   "metadata": {},
   "outputs": [
    {
     "data": {
      "text/plain": [
       "<AxesSubplot:xlabel='compliance', ylabel='count'>"
      ]
     },
     "execution_count": 36,
     "metadata": {},
     "output_type": "execute_result"
    },
    {
     "data": {
      "image/png": "[encoded data removed]",
      "text/plain": [
       "<Figure size 432x288 with 1 Axes>"
      ]
     },
     "metadata": {
      "needs_background": "light"
     },
     "output_type": "display_data"
    }
   ],
   "source": [
    "sns.countplot(x='compliance', data=data)"
   ]
  },
  {
   "cell_type": "code",
   "execution_count": 44,
   "id": "8a4a3f6a",
   "metadata": {},
   "outputs": [
    {
     "name": "stdout",
     "output_type": "stream",
     "text": [
      "[train] F1-score = 0.66\n",
      "[valid] F1_score = 0.58\n"
     ]
    }
   ],
   "source": [
    "X = np.array(data.drop('compliance', axis=1))\n",
    "y = np.array(data['compliance'])\n",
    "clf = DecisionTreeClassifier(random_state=23)\n",
    "\n",
    "def f1_scr(X,y):\n",
    "    X_train, X_valid, y_train, y_valid = train_test_split(X, y, test_size=0.3, shuffle=False)\n",
    "    clf.fit(X_train,y_train)\n",
    "    y_pred_train = clf.predict(X_train)\n",
    "    f1_train = f1_score(y_train, y_pred_train)\n",
    "    y_pred_valid = clf.predict(X_valid)\n",
    "    f1_valid = f1_score(y_valid, y_pred_valid)\n",
    "    print(f'[train] F1-score = {f1_train:.2f}\\n[valid] F1_score = {f1_valid:.2f}')\n",
    "    return f1_valid\n",
    "\n",
    "f1_default = f1_scr(X,y)\n"
   ]
  },
  {
   "cell_type": "code",
   "execution_count": 78,
   "id": "fd560aa9",
   "metadata": {},
   "outputs": [
    {
     "name": "stdout",
     "output_type": "stream",
     "text": [
      "[train] F1-score = 0.92\n",
      "[valid] F1_score = 0.76\n"
     ]
    }
   ],
   "source": [
    "n_count = data['compliance'].value_counts(ascending=True).iloc[0]\n",
    "new_data = pd.concat([data[data['compliance']==0].iloc[:n_count], data[data['compliance']==1]])\n",
    "new_data = new_data.sort_index()\n",
    "X = np.array(new_data.drop('compliance', axis=1))\n",
    "y = np.array(new_data['compliance'])\n",
    "f1_undersamp = f1_scr(X,y)\n",
    "\n",
    "result = f1_undersamp - f1_default"
   ]
  }
 ],
 "metadata": {
  "kernelspec": {
   "display_name": "Python 3",
   "language": "python",
   "name": "python3"
  },
  "language_info": {
   "codemirror_mode": {
    "name": "ipython",
    "version": 3
   },
   "file_extension": ".py",
   "mimetype": "text/x-python",
   "name": "python",
   "nbconvert_exporter": "python",
   "pygments_lexer": "ipython3",
   "version": "3.9.4"
  }
 },
 "nbformat": 4,
 "nbformat_minor": 5
}
