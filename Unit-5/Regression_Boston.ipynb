{
 "cells": [
  {
   "cell_type": "code",
   "execution_count": 1,
   "id": "21361ae1",
   "metadata": {},
   "outputs": [],
   "source": [
    "from sklearn.datasets import load_boston\n",
    "from sklearn.metrics import mean_squared_error\n",
    "from sklearn.linear_model import LinearRegression\n",
    "from sklearn.model_selection import train_test_split\n",
    "from matplotlib import pyplot as plt\n",
    "import pandas as pd\n",
    "import numpy as np\n",
    "np.set_printoptions(suppress=True)\n",
    "%matplotlib inline"
   ]
  },
  {
   "cell_type": "code",
   "execution_count": 2,
   "id": "aa2aa73e",
   "metadata": {},
   "outputs": [],
   "source": [
    "def prepare_boston_data():\n",
    "    # подгружаем boston dataset\n",
    "    data = load_boston()\n",
    "    X, y = data['data'], data['target']\n",
    "\n",
    "    # нормализуем X\n",
    "    X = (X - np.mean(X, axis=0))/np.std(X, axis=0)\n",
    "\n",
    "    # добавляем столбец свободных членов (bias линейной модели)\n",
    "    n = X.shape[0]  # количество строк\n",
    "    X = np.hstack([np.ones(n).reshape(n, 1), X])\n",
    "\n",
    "    return X, y\n",
    "\n",
    "def print_regression_metrics(y_true, y_pred):\n",
    "    mse = mean_squared_error(y_true, y_pred)\n",
    "    rmse = np.sqrt(mse)\n",
    "    print(f'mse: {mse:.2f}, rmse: {rmse:.2f}')"
   ]
  },
  {
   "cell_type": "markdown",
   "id": "0b26edd2",
   "metadata": {},
   "source": [
    "Обернем написанную нами линейную регрессию методом матричных операций в класс:"
   ]
  },
  {
   "cell_type": "code",
   "execution_count": 3,
   "id": "552b51e4",
   "metadata": {},
   "outputs": [],
   "source": [
    "class LinRegAlgebra():\n",
    "    def __init__(self):\n",
    "        self.theta = None\n",
    "        self.X = None\n",
    "            \n",
    "    def fit(self, X, y):\n",
    "        self.theta = (np.linalg.inv((X.T).dot(X))).dot((X.T).dot(y))\n",
    "            \n",
    "    def predict(self, X):\n",
    "        if self.theta is None:\n",
    "            raise Exception(\"You should train the model first\")\n",
    "        return X.dot(self.theta)"
   ]
  },
  {
   "cell_type": "code",
   "execution_count": 4,
   "id": "fe9a559d",
   "metadata": {},
   "outputs": [
    {
     "name": "stdout",
     "output_type": "stream",
     "text": [
      "mse: 21.89, rmse: 4.68\n"
     ]
    }
   ],
   "source": [
    "# пробуем модель на всем датасете\n",
    "X, y = prepare_boston_data()\n",
    "model = LinRegAlgebra()\n",
    "model.fit(X, y)\n",
    "y_pred = model.predict(X)\n",
    "print_regression_metrics(y,y_pred)"
   ]
  },
  {
   "cell_type": "code",
   "execution_count": 5,
   "id": "0b571290",
   "metadata": {},
   "outputs": [
    {
     "name": "stdout",
     "output_type": "stream",
     "text": [
      "mse: 13.71, rmse: 3.70\n"
     ]
    }
   ],
   "source": [
    "# пробуем модель на train_test\n",
    "X_train, X_test, y_train, y_test = train_test_split(X, y, test_size = 0.2)\n",
    "model_train = LinRegAlgebra()\n",
    "model_train.fit(X_train,y_train)\n",
    "y_pred = model.predict(X_test)\n",
    "print_regression_metrics(y_test,y_pred)"
   ]
  },
  {
   "cell_type": "markdown",
   "id": "17fbb611",
   "metadata": {},
   "source": [
    "Сделаем базовый абстрактный класс для регрессии:"
   ]
  },
  {
   "cell_type": "code",
   "execution_count": 6,
   "id": "7447e27e",
   "metadata": {},
   "outputs": [],
   "source": [
    "class RegOptimizer():\n",
    "    def __init__(self, alpha, n_iters):\n",
    "        self._theta = None\n",
    "        self._alpha = alpha\n",
    "        self._n_iters = n_iters\n",
    "    \n",
    "    def fit(self, X, y, start_theta, message=True):\n",
    "        self._theta = self.optimize(X, y, start_theta, message)\n",
    "    \n",
    "    def optimize(self, X, y, start_theta):\n",
    "        raise NotImplementedError()\n",
    "\n",
    "    def grad_func(self, X, y, theta):\n",
    "        raise NotImplementedError()\n",
    "    \n",
    "    def gradient_step(self, theta, alpha, theta_grad):\n",
    "        return theta - alpha*theta_grad\n",
    "\n",
    "    def predict(self, X):\n",
    "        if self._theta is None:\n",
    "            raise Exception('You should train the model first')\n",
    "        return X.dot(self._theta)"
   ]
  },
  {
   "cell_type": "markdown",
   "id": "3f1ab900",
   "metadata": {},
   "source": [
    "А теперь класс с моделью классической линейной регрессии"
   ]
  },
  {
   "cell_type": "code",
   "execution_count": 7,
   "id": "aa0cd09d",
   "metadata": {},
   "outputs": [],
   "source": [
    "class LinReg(RegOptimizer):\n",
    "    \n",
    "    def optimize(self, X, y, start_theta, message): # функция градиентного спуска по кол-ву итераций\n",
    "        theta = start_theta.copy()\n",
    "                \n",
    "        for i in range(self._n_iters):\n",
    "            theta_grad = self.grad_func(X, y, theta)\n",
    "            theta = self.gradient_step(theta, theta_grad, self._alpha)\n",
    "            \n",
    "        return theta\n",
    "        \n",
    "    def grad_func(self, X, y, theta): # конкретизируем градиент для классической линейной регрессии\n",
    "        n = X.shape[0]\n",
    "        return (1/n)*(X.T).dot(X.dot(theta)-y)"
   ]
  },
  {
   "cell_type": "code",
   "execution_count": 8,
   "id": "6e64d9e3",
   "metadata": {},
   "outputs": [
    {
     "name": "stdout",
     "output_type": "stream",
     "text": [
      "mse: 22.21, rmse: 4.71\n"
     ]
    }
   ],
   "source": [
    "alpha = 0.01\n",
    "n_iters = 1000\n",
    "start_theta = np.ones(X.shape[1])\n",
    "\n",
    "model_grad = LinReg(alpha, n_iters)\n",
    "model_grad.fit(X, y, start_theta)\n",
    "y_pred = model_grad.predict(X)\n",
    "\n",
    "print_regression_metrics(y, y_pred)"
   ]
  },
  {
   "cell_type": "markdown",
   "id": "4b90bc8b",
   "metadata": {},
   "source": [
    "Сделайте для градиентного спуска остановку алгоритма, если максимальное из абсолютных значений компонент градиента становится меньше 0.01. Для градиентного спуска установите alpha = 0.2.\n",
    "\n",
    "На какой итерации останавливается градиентный спуск?"
   ]
  },
  {
   "cell_type": "code",
   "execution_count": 9,
   "id": "e392890e",
   "metadata": {},
   "outputs": [],
   "source": [
    "class LinRegFast(RegOptimizer):\n",
    "    \n",
    "    def optimize(self, X, y, start_theta, message): # функция градиентного спуска по кол-ву итераций\n",
    "        theta = start_theta.copy()\n",
    "                \n",
    "        for i in range(self._n_iters):\n",
    "            theta_grad = self.grad_func(X, y, theta)\n",
    "            theta = self.gradient_step(theta, theta_grad, self._alpha)\n",
    "            if np.max(theta_grad) < 0.01:\n",
    "                break\n",
    "        \n",
    "        if message:\n",
    "            print('Model training completed successfully')\n",
    "            print(f'Number of iterations: {i}')\n",
    "            \n",
    "        return theta\n",
    "        \n",
    "    def grad_func(self, X, y, theta): # конкретизируем градиент для классической линейной регрессии\n",
    "        n = X.shape[0]\n",
    "        return (1/n)*(X.T).dot(X.dot(theta)-y)"
   ]
  },
  {
   "cell_type": "code",
   "execution_count": 10,
   "id": "07bd19bf",
   "metadata": {},
   "outputs": [
    {
     "name": "stdout",
     "output_type": "stream",
     "text": [
      "Model training completed successfully\n",
      "Number of iterations: 212\n",
      "mse: 21.90, rmse: 4.68\n"
     ]
    }
   ],
   "source": [
    "alpha = 0.2\n",
    "n_iters = 1000\n",
    "start_theta = np.ones(X.shape[1])\n",
    "\n",
    "model_grad_fast = LinRegFast(alpha, n_iters)\n",
    "model_grad_fast.fit(X, y, start_theta)\n",
    "y_pred = model_grad_fast.predict(X)\n",
    "\n",
    "print_regression_metrics(y, y_pred)"
   ]
  },
  {
   "cell_type": "code",
   "execution_count": 11,
   "id": "59f893d9",
   "metadata": {},
   "outputs": [
    {
     "name": "stdout",
     "output_type": "stream",
     "text": [
      "Матричный метод: \n",
      "72.9 µs ± 258 ns per loop (mean ± std. dev. of 7 runs, 10000 loops each)\n",
      "Градиентный спуск 1000 итераций: \n",
      "9.09 ms ± 33.5 µs per loop (mean ± std. dev. of 7 runs, 100 loops each)\n",
      "Градиентный спуск по условию: \n",
      "3.12 ms ± 26.6 µs per loop (mean ± std. dev. of 7 runs, 100 loops each)\n"
     ]
    }
   ],
   "source": [
    "# Сравните скорость обучения градиентным спуском и матричными операциями.\n",
    "model = LinRegAlgebra()\n",
    "print('Матричный метод: ')\n",
    "%timeit model.fit(X, y)\n",
    "\n",
    "model_grad = LinReg(alpha, n_iters)\n",
    "print('Градиентный спуск 1000 итераций: ')\n",
    "%timeit model_grad.fit(X, y, start_theta)\n",
    "\n",
    "model_grad_fast = LinRegFast(alpha, n_iters)\n",
    "print('Градиентный спуск по условию: ')\n",
    "%timeit model_grad_fast.fit(X, y, start_theta, message=False)\n"
   ]
  },
  {
   "cell_type": "markdown",
   "id": "41d00e85",
   "metadata": {},
   "source": [
    "Добавьте к признакам нелинейной модели квадрат признака DIS и переобучите модель. Какой получился RMSE? Подсказка: используйте написанную нами линейную регрессию методом матричных операций."
   ]
  },
  {
   "cell_type": "code",
   "execution_count": 12,
   "id": "ca9c011b",
   "metadata": {},
   "outputs": [],
   "source": [
    "def prepare_boston_data_new():\n",
    "    # подгружаем boston dataset\n",
    "    data = load_boston()\n",
    "    X, y = data['data'], data['target']\n",
    "    \n",
    "    # добавляем к признакам нелинейной модели квадрат признака DIS\n",
    "    ind = np.where(data.feature_names=='DIS')[0] # индекс столбца с признаком DIS\n",
    "    #X = np.hstack([X,(X[:,ind])**2])\n",
    "    \n",
    "    X = np.hstack([X, np.sqrt(X[:, 5:6]), X[:, 6:7] ** 3, (X[:,ind])**2])\n",
    "    \n",
    "    # нормализуем X\n",
    "    X = (X - np.mean(X, axis=0))/np.std(X, axis=0)\n",
    "    \n",
    "    # добавляем столбец свободных членов (bias линейной модели)\n",
    "    n = X.shape[0]  # количество строк\n",
    "    X = np.hstack([np.ones(n).reshape(n, 1), X])\n",
    "    \n",
    "    return X, y"
   ]
  },
  {
   "cell_type": "code",
   "execution_count": 14,
   "id": "afdf992c",
   "metadata": {},
   "outputs": [
    {
     "name": "stdout",
     "output_type": "stream",
     "text": [
      "mse: 16.06, rmse: 4.01\n"
     ]
    }
   ],
   "source": [
    "X, y = prepare_boston_data_new()\n",
    "\n",
    "model = LinRegAlgebra()\n",
    "model.fit(X,y)\n",
    "y_pred = model.predict(X)\n",
    "print_regression_metrics(y, y_pred)"
   ]
  },
  {
   "cell_type": "code",
   "execution_count": 55,
   "id": "0ab484ed",
   "metadata": {},
   "outputs": [],
   "source": [
    "def train_validate(X, y):\n",
    "    # Разбить данные на train/valid\n",
    "    X_train, X_valid, y_train, y_valid = train_test_split(X, y, test_size=0.2, shuffle=True)#, random_state=1)\n",
    "\n",
    "    # Создать и обучить линейную регрессию\n",
    "    linreg_alg = LinRegAlgebra()\n",
    "    linreg_alg.fit(X_train, y_train)\n",
    "\n",
    "    # Сделать предсказания по валидционной выборке\n",
    "    y_pred = linreg_alg.predict(X_valid)\n",
    "\n",
    "    # Посчитать значение ошибок MSE и RMSE для валидационных данных\n",
    "    print_regression_metrics(y_valid, y_pred)"
   ]
  },
  {
   "cell_type": "code",
   "execution_count": 16,
   "id": "9ce64112",
   "metadata": {},
   "outputs": [
    {
     "name": "stdout",
     "output_type": "stream",
     "text": [
      "mse: 13.59, rmse: 3.69\n"
     ]
    }
   ],
   "source": [
    "# Подготовить данные без модификации признаков\n",
    "X, y = prepare_boston_data_new()\n",
    "# Провести эксперимент\n",
    "train_validate(X, y)"
   ]
  },
  {
   "cell_type": "code",
   "execution_count": 17,
   "id": "d3e97355",
   "metadata": {},
   "outputs": [],
   "source": [
    "def prepare_boston_data_new2():\n",
    "    # подгружаем boston dataset\n",
    "    data = load_boston()\n",
    "    X, y = data['data'], data['target']\n",
    "    \n",
    "    X = np.hstack([X, np.sqrt(X[:, 5:6]), X[:, 6:7] ** 3])\n",
    "    \n",
    "    # нормализуем X\n",
    "    #X = (X - np.mean(X, axis=0))/np.std(X, axis=0)\n",
    "    \n",
    "    # добавляем столбец свободных членов (bias линейной модели)\n",
    "    n = X.shape[0]  # количество строк\n",
    "    X = np.hstack([np.ones(n).reshape(n, 1), X])\n",
    "    \n",
    "    return X, y"
   ]
  },
  {
   "cell_type": "code",
   "execution_count": 18,
   "id": "81e8e3bb",
   "metadata": {},
   "outputs": [
    {
     "name": "stdout",
     "output_type": "stream",
     "text": [
      "mse: 14.28, rmse: 3.78\n"
     ]
    }
   ],
   "source": [
    "# Подготовить данные без модификации признаков\n",
    "X, y = prepare_boston_data_new2()\n",
    "# Провести эксперимент\n",
    "train_validate(X, y)"
   ]
  },
  {
   "cell_type": "code",
   "execution_count": 50,
   "id": "869b4ca8",
   "metadata": {},
   "outputs": [],
   "source": [
    "def prepare_boston_data_poly():\n",
    "    # подгружаем boston dataset\n",
    "    data = load_boston()\n",
    "    X, y = data['data'], data['target']\n",
    "    \n",
    "    X = np.hstack([X, np.sqrt(X[:,[5]])])\n",
    "    \n",
    "    # нормализуем X\n",
    "    X = (X - np.mean(X, axis=0))/np.std(X, axis=0)\n",
    "    \n",
    "    # добавляем столбец свободных членов (bias линейной модели)\n",
    "    n = X.shape[0]  # количество строк\n",
    "    X = np.hstack([np.ones(n).reshape(n, 1), X])\n",
    "    \n",
    "    return X, y"
   ]
  },
  {
   "cell_type": "code",
   "execution_count": 80,
   "id": "9c9225cd",
   "metadata": {},
   "outputs": [
    {
     "name": "stdout",
     "output_type": "stream",
     "text": [
      "mse: 15.68, rmse: 3.96\n"
     ]
    }
   ],
   "source": [
    "# Подготовить данные без модификации признаков\n",
    "X, y = prepare_boston_data_poly()\n",
    "# Провести эксперимент\n",
    "train_validate(X, y)"
   ]
  },
  {
   "cell_type": "code",
   "execution_count": 92,
   "id": "2dee81f3",
   "metadata": {},
   "outputs": [
    {
     "data": {
      "image/png": "[encoded data removed]",
      "text/plain": [
       "<Figure size 432x288 with 1 Axes>"
      ]
     },
     "metadata": {
      "needs_background": "light"
     },
     "output_type": "display_data"
    },
    {
     "name": "stdout",
     "output_type": "stream",
     "text": [
      "Mean rmse: 4.196296210420031\n"
     ]
    }
   ],
   "source": [
    "rmse = []\n",
    "for i in range(500):\n",
    "    X,y = prepare_boston_data_new()\n",
    "    # Разбить данные на train/valid\n",
    "    X_train, X_valid, y_train, y_valid = train_test_split(X, y, test_size=0.2, shuffle=True)#, random_state=1)\n",
    "\n",
    "    # Создать и обучить линейную регрессию\n",
    "    linreg_alg = LinRegAlgebra()\n",
    "    linreg_alg.fit(X_train, y_train)\n",
    "\n",
    "    # Сделать предсказания по валидционной выборке\n",
    "    y_pred = linreg_alg.predict(X_valid)\n",
    "    mse = mean_squared_error(y_valid, y_pred)\n",
    "    rmse.append(np.sqrt(mse))\n",
    "\n",
    "plt.plot(rmse)\n",
    "plt.show()\n",
    "print(f\"Mean rmse: {np.mean(rmse)}\")"
   ]
  }
 ],
 "metadata": {
  "kernelspec": {
   "display_name": "Python 3",
   "language": "python",
   "name": "python3"
  },
  "language_info": {
   "codemirror_mode": {
    "name": "ipython",
    "version": 3
   },
   "file_extension": ".py",
   "mimetype": "text/x-python",
   "name": "python",
   "nbconvert_exporter": "python",
   "pygments_lexer": "ipython3",
   "version": "3.9.4"
  }
 },
 "nbformat": 4,
 "nbformat_minor": 5
}
