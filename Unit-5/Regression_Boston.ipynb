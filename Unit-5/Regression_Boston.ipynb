{
 "cells": [
  {
   "cell_type": "code",
   "execution_count": 2,
   "id": "21361ae1",
   "metadata": {},
   "outputs": [],
   "source": [
    "from sklearn.datasets import load_boston\n",
    "from sklearn.metrics import mean_squared_error\n",
    "from sklearn.linear_model import LinearRegression\n",
    "from sklearn.model_selection import train_test_split\n",
    "from matplotlib import pyplot as plt\n",
    "import pandas as pd\n",
    "import numpy as np\n",
    "np.set_printoptions(suppress=True)\n",
    "%matplotlib inline"
   ]
  },
  {
   "cell_type": "code",
   "execution_count": 5,
   "id": "aa2aa73e",
   "metadata": {},
   "outputs": [],
   "source": [
    "def prepare_boston_data():\n",
    "    # подгружает boston dataset\n",
    "    data = load_boston()\n",
    "    X, y = data['data'], data['target']\n",
    "\n",
    "    # нормализуем X\n",
    "    X = (X - np.mean(X, axis=0))/np.std(X, axis=0)\n",
    "\n",
    "    # добавляем столбец свободных членов (bias линейной модели)\n",
    "    n = X.shape[0]  # количество строк\n",
    "    X = np.hstack([np.ones(n).reshape(n, 1), X])\n",
    "\n",
    "    return X, y\n",
    "\n",
    "def print_regression_metrics(y_true, y_pred):\n",
    "    mse = mean_squared_error(y_true, y_pred)\n",
    "    rmse = np.sqrt(mse)\n",
    "    print(f'mse: {mse:.2f}, rmse: {rmse:.2f}')"
   ]
  },
  {
   "cell_type": "markdown",
   "id": "0b26edd2",
   "metadata": {},
   "source": [
    "Обернем написанную нами линейную регрессию методом матричных операций в класс:"
   ]
  },
  {
   "cell_type": "code",
   "execution_count": 18,
   "id": "552b51e4",
   "metadata": {},
   "outputs": [],
   "source": [
    "class LinRegAlgebra():\n",
    "    def __init__(self):\n",
    "        self.theta = None\n",
    "        self.X = None\n",
    "            \n",
    "    def fit(self, X, y):\n",
    "        self.theta = (np.linalg.inv((X.T).dot(X))).dot((X.T).dot(y))\n",
    "            \n",
    "    def predict(self, X):\n",
    "        if self.theta is None:\n",
    "            raise Exception(\"You should train the model first\")\n",
    "        return X.dot(self.theta)"
   ]
  },
  {
   "cell_type": "code",
   "execution_count": 23,
   "id": "fe9a559d",
   "metadata": {},
   "outputs": [
    {
     "name": "stdout",
     "output_type": "stream",
     "text": [
      "mse: 21.89, rmse: 4.68\n"
     ]
    }
   ],
   "source": [
    "# пробуем модель на всем датасете\n",
    "X, y = prepare_boston_data()\n",
    "model = LinRegAlgebra()\n",
    "model.fit(X, y)\n",
    "y_pred = model.predict(X)\n",
    "print_regression_metrics(y,y_pred)"
   ]
  },
  {
   "cell_type": "code",
   "execution_count": 65,
   "id": "0b571290",
   "metadata": {},
   "outputs": [
    {
     "name": "stdout",
     "output_type": "stream",
     "text": [
      "mse: 19.96, rmse: 4.47\n"
     ]
    }
   ],
   "source": [
    "# пробуем модель на train_test\n",
    "X_train, X_test, y_train, y_test = train_test_split(X, y, test_size = 0.2)\n",
    "model_train = LinRegAlgebra()\n",
    "model_train.fit(X_train,y_train)\n",
    "y_pred = model.predict(X_test)\n",
    "print_regression_metrics(y_test,y_pred)"
   ]
  }
 ],
 "metadata": {
  "kernelspec": {
   "display_name": "Python 3",
   "language": "python",
   "name": "python3"
  },
  "language_info": {
   "codemirror_mode": {
    "name": "ipython",
    "version": 3
   },
   "file_extension": ".py",
   "mimetype": "text/x-python",
   "name": "python",
   "nbconvert_exporter": "python",
   "pygments_lexer": "ipython3",
   "version": "3.8.6"
  }
 },
 "nbformat": 4,
 "nbformat_minor": 5
}
