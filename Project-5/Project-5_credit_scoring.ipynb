{
 "cells": [
  {
   "cell_type": "code",
   "execution_count": 2,
   "id": "43ebe1b4",
   "metadata": {},
   "outputs": [],
   "source": [
    "import pandas as pd\n",
    "import numpy as np\n",
    "import matplotlib.pyplot as plt\n",
    "import seaborn as sns\n",
    "%matplotlib inline"
   ]
  },
  {
   "cell_type": "code",
   "execution_count": 3,
   "id": "ab4d8af3",
   "metadata": {},
   "outputs": [
    {
     "data": {
      "text/html": [
       "<div>\n",
       "<style scoped>\n",
       "    .dataframe tbody tr th:only-of-type {\n",
       "        vertical-align: middle;\n",
       "    }\n",
       "\n",
       "    .dataframe tbody tr th {\n",
       "        vertical-align: top;\n",
       "    }\n",
       "\n",
       "    .dataframe thead th {\n",
       "        text-align: right;\n",
       "    }\n",
       "</style>\n",
       "<table border=\"1\" class=\"dataframe\">\n",
       "  <thead>\n",
       "    <tr style=\"text-align: right;\">\n",
       "      <th></th>\n",
       "      <th>client_id</th>\n",
       "      <th>education</th>\n",
       "      <th>sex</th>\n",
       "      <th>age</th>\n",
       "      <th>car</th>\n",
       "      <th>car_type</th>\n",
       "      <th>decline_app_cnt</th>\n",
       "      <th>good_work</th>\n",
       "      <th>bki_request_cnt</th>\n",
       "      <th>home_address</th>\n",
       "      <th>work_address</th>\n",
       "      <th>income</th>\n",
       "      <th>foreign_passport</th>\n",
       "      <th>default</th>\n",
       "    </tr>\n",
       "  </thead>\n",
       "  <tbody>\n",
       "    <tr>\n",
       "      <th>73794</th>\n",
       "      <td>54887</td>\n",
       "      <td>GRD</td>\n",
       "      <td>F</td>\n",
       "      <td>45</td>\n",
       "      <td>N</td>\n",
       "      <td>N</td>\n",
       "      <td>0</td>\n",
       "      <td>0</td>\n",
       "      <td>3</td>\n",
       "      <td>1</td>\n",
       "      <td>2</td>\n",
       "      <td>17000</td>\n",
       "      <td>N</td>\n",
       "      <td>0</td>\n",
       "    </tr>\n",
       "    <tr>\n",
       "      <th>73795</th>\n",
       "      <td>76821</td>\n",
       "      <td>SCH</td>\n",
       "      <td>M</td>\n",
       "      <td>41</td>\n",
       "      <td>Y</td>\n",
       "      <td>Y</td>\n",
       "      <td>0</td>\n",
       "      <td>0</td>\n",
       "      <td>1</td>\n",
       "      <td>2</td>\n",
       "      <td>2</td>\n",
       "      <td>70000</td>\n",
       "      <td>N</td>\n",
       "      <td>0</td>\n",
       "    </tr>\n",
       "    <tr>\n",
       "      <th>73796</th>\n",
       "      <td>103695</td>\n",
       "      <td>SCH</td>\n",
       "      <td>M</td>\n",
       "      <td>31</td>\n",
       "      <td>N</td>\n",
       "      <td>N</td>\n",
       "      <td>0</td>\n",
       "      <td>0</td>\n",
       "      <td>4</td>\n",
       "      <td>2</td>\n",
       "      <td>3</td>\n",
       "      <td>45000</td>\n",
       "      <td>N</td>\n",
       "      <td>0</td>\n",
       "    </tr>\n",
       "    <tr>\n",
       "      <th>73797</th>\n",
       "      <td>861</td>\n",
       "      <td>SCH</td>\n",
       "      <td>F</td>\n",
       "      <td>29</td>\n",
       "      <td>N</td>\n",
       "      <td>N</td>\n",
       "      <td>0</td>\n",
       "      <td>1</td>\n",
       "      <td>3</td>\n",
       "      <td>1</td>\n",
       "      <td>3</td>\n",
       "      <td>13000</td>\n",
       "      <td>N</td>\n",
       "      <td>1</td>\n",
       "    </tr>\n",
       "    <tr>\n",
       "      <th>73798</th>\n",
       "      <td>15796</td>\n",
       "      <td>GRD</td>\n",
       "      <td>M</td>\n",
       "      <td>34</td>\n",
       "      <td>N</td>\n",
       "      <td>N</td>\n",
       "      <td>0</td>\n",
       "      <td>0</td>\n",
       "      <td>2</td>\n",
       "      <td>2</td>\n",
       "      <td>3</td>\n",
       "      <td>25000</td>\n",
       "      <td>N</td>\n",
       "      <td>0</td>\n",
       "    </tr>\n",
       "  </tbody>\n",
       "</table>\n",
       "</div>"
      ],
      "text/plain": [
       "       client_id education sex  age car car_type  decline_app_cnt  good_work  \\\n",
       "73794      54887       GRD   F   45   N        N                0          0   \n",
       "73795      76821       SCH   M   41   Y        Y                0          0   \n",
       "73796     103695       SCH   M   31   N        N                0          0   \n",
       "73797        861       SCH   F   29   N        N                0          1   \n",
       "73798      15796       GRD   M   34   N        N                0          0   \n",
       "\n",
       "       bki_request_cnt  home_address  work_address  income foreign_passport  \\\n",
       "73794                3             1             2   17000                N   \n",
       "73795                1             2             2   70000                N   \n",
       "73796                4             2             3   45000                N   \n",
       "73797                3             1             3   13000                N   \n",
       "73798                2             2             3   25000                N   \n",
       "\n",
       "       default  \n",
       "73794        0  \n",
       "73795        0  \n",
       "73796        0  \n",
       "73797        1  \n",
       "73798        0  "
      ]
     },
     "execution_count": 3,
     "metadata": {},
     "output_type": "execute_result"
    }
   ],
   "source": [
    "data = pd.read_csv('./train.csv')\n",
    "data.tail()"
   ]
  },
  {
   "cell_type": "code",
   "execution_count": 30,
   "id": "3f2ff215",
   "metadata": {},
   "outputs": [
    {
     "name": "stdout",
     "output_type": "stream",
     "text": [
      "Train size = (73799, 14)\n"
     ]
    }
   ],
   "source": [
    "print(f'Train size = {data.shape}')"
   ]
  },
  {
   "cell_type": "markdown",
   "id": "7567db94",
   "metadata": {},
   "source": [
    "Посмотрим на данные:\n",
    "\n",
    "- client_id - идентификатор клиента\n",
    "- education - уровень образования\n",
    "- sex - пол заёмщика\n",
    "- age - возраст заёмщика\n",
    "- car - флаг наличия автомобиля\n",
    "- car_type - флаг автомобиля-иномарки\n",
    "- decline_app_cnt - количество отказанных прошлых заявок\n",
    "- good_work - флаг наличия «хорошей» работы\n",
    "- bki_request_cnt - количество запросов в БКИ\n",
    "- home_address - категоризатор домашнего адреса\n",
    "- work_address - категоризатор рабочего адреса\n",
    "- income - доход заёмщика\n",
    "- foreign_passport - наличие загранпаспорта\n",
    "- default - наличие дефолта"
   ]
  },
  {
   "cell_type": "code",
   "execution_count": 4,
   "id": "b5492403",
   "metadata": {},
   "outputs": [
    {
     "data": {
      "text/plain": [
       "<AxesSubplot:xlabel='default', ylabel='count'>"
      ]
     },
     "execution_count": 4,
     "metadata": {},
     "output_type": "execute_result"
    },
    {
     "data": {
      "image/png": "[encoded data removed]",
      "text/plain": [
       "<Figure size 432x288 with 1 Axes>"
      ]
     },
     "metadata": {
      "needs_background": "light"
     },
     "output_type": "display_data"
    }
   ],
   "source": [
    "sns.countplot(x='default', data=data)"
   ]
  },
  {
   "cell_type": "code",
   "execution_count": 5,
   "id": "78ffd971",
   "metadata": {},
   "outputs": [
    {
     "data": {
      "image/png": "[encoded data removed]",
      "text/plain": [
       "<Figure size 1080x504 with 1 Axes>"
      ]
     },
     "metadata": {
      "needs_background": "light"
     },
     "output_type": "display_data"
    }
   ],
   "source": [
    "# нормирование на размер датасета\n",
    "norm_target = (data\n",
    "               .default\n",
    "               .value_counts(normalize=True)\n",
    "               .mul(100)\n",
    "               .rename('percent')\n",
    "               .reset_index())\n",
    "\n",
    "plt.figure(figsize=(15, 7))\n",
    "ax = sns.barplot(x='index', y='percent', data=norm_target)\n",
    "\n",
    "# Вывод значений над графиками - annotate()\n",
    "# В цикле смотрим каждый столбец графика и на нем отмечаем значения\n",
    "for p in ax.patches:\n",
    "    percentage = '{:.1f}%'.format(p.get_height())\n",
    "    ax.annotate(percentage,  # текст\n",
    "                (p.get_x() + p.get_width() / 2., p.get_height()),  # координата xy\n",
    "                ha='center', # центрирование\n",
    "                va='center',\n",
    "                xytext=(0, 10),\n",
    "                textcoords='offset points', # точка смещения относительно координаты\n",
    "                fontsize=14)\n",
    "\n",
    "plt.title('Default', fontsize=20)\n",
    "\n",
    "plt.xlabel('default', fontsize=14)\n",
    "plt.ylabel('Проценты', fontsize=14)\n",
    "\n",
    "plt.xticks(fontsize=14)\n",
    "plt.yticks(fontsize=14)\n",
    "plt.show()"
   ]
  },
  {
   "cell_type": "code",
   "execution_count": 6,
   "id": "d7c7e87c",
   "metadata": {},
   "outputs": [
    {
     "name": "stdout",
     "output_type": "stream",
     "text": [
      "<class 'pandas.core.frame.DataFrame'>\n",
      "RangeIndex: 73799 entries, 0 to 73798\n",
      "Data columns (total 14 columns):\n",
      " #   Column            Non-Null Count  Dtype \n",
      "---  ------            --------------  ----- \n",
      " 0   client_id         73799 non-null  int64 \n",
      " 1   education         73492 non-null  object\n",
      " 2   sex               73799 non-null  object\n",
      " 3   age               73799 non-null  int64 \n",
      " 4   car               73799 non-null  object\n",
      " 5   car_type          73799 non-null  object\n",
      " 6   decline_app_cnt   73799 non-null  int64 \n",
      " 7   good_work         73799 non-null  int64 \n",
      " 8   bki_request_cnt   73799 non-null  int64 \n",
      " 9   home_address      73799 non-null  int64 \n",
      " 10  work_address      73799 non-null  int64 \n",
      " 11  income            73799 non-null  int64 \n",
      " 12  foreign_passport  73799 non-null  object\n",
      " 13  default           73799 non-null  int64 \n",
      "dtypes: int64(9), object(5)\n",
      "memory usage: 7.9+ MB\n"
     ]
    }
   ],
   "source": [
    "data.info()"
   ]
  },
  {
   "cell_type": "code",
   "execution_count": 7,
   "id": "99316daf",
   "metadata": {
    "scrolled": true
   },
   "outputs": [],
   "source": [
    "# заменим object features на числовые\n",
    "# sex --> dummies\n",
    "# data = data.join(pd.get_dummies(data['sex'])).drop('sex', axis=1)\n",
    "# data"
   ]
  },
  {
   "cell_type": "code",
   "execution_count": 8,
   "id": "32695f08",
   "metadata": {},
   "outputs": [],
   "source": [
    "# car, car_type, foreign_passport\n",
    "#for col in ['car', 'car_type', 'foreign_passport']:\n",
    "#    data[col] = data[col].apply(lambda x: 1 if x=='Y' else 0)\n",
    "#data"
   ]
  },
  {
   "cell_type": "code",
   "execution_count": 9,
   "id": "c430d151",
   "metadata": {},
   "outputs": [
    {
     "name": "stdout",
     "output_type": "stream",
     "text": [
      "<class 'pandas.core.frame.DataFrame'>\n",
      "RangeIndex: 73799 entries, 0 to 73798\n",
      "Data columns (total 14 columns):\n",
      " #   Column            Non-Null Count  Dtype \n",
      "---  ------            --------------  ----- \n",
      " 0   client_id         73799 non-null  int64 \n",
      " 1   education         73492 non-null  object\n",
      " 2   sex               73799 non-null  object\n",
      " 3   age               73799 non-null  int64 \n",
      " 4   car               73799 non-null  object\n",
      " 5   car_type          73799 non-null  object\n",
      " 6   decline_app_cnt   73799 non-null  int64 \n",
      " 7   good_work         73799 non-null  int64 \n",
      " 8   bki_request_cnt   73799 non-null  int64 \n",
      " 9   home_address      73799 non-null  int64 \n",
      " 10  work_address      73799 non-null  int64 \n",
      " 11  income            73799 non-null  int64 \n",
      " 12  foreign_passport  73799 non-null  object\n",
      " 13  default           73799 non-null  int64 \n",
      "dtypes: int64(9), object(5)\n",
      "memory usage: 7.9+ MB\n"
     ]
    }
   ],
   "source": [
    "data.info()"
   ]
  },
  {
   "cell_type": "code",
   "execution_count": 10,
   "id": "0a4215fc",
   "metadata": {},
   "outputs": [
    {
     "data": {
      "text/plain": [
       "client_id             0\n",
       "education           307\n",
       "sex                   0\n",
       "age                   0\n",
       "car                   0\n",
       "car_type              0\n",
       "decline_app_cnt       0\n",
       "good_work             0\n",
       "bki_request_cnt       0\n",
       "home_address          0\n",
       "work_address          0\n",
       "income                0\n",
       "foreign_passport      0\n",
       "default               0\n",
       "dtype: int64"
      ]
     },
     "execution_count": 10,
     "metadata": {},
     "output_type": "execute_result"
    }
   ],
   "source": [
    "data.isna().sum()"
   ]
  },
  {
   "cell_type": "code",
   "execution_count": 11,
   "id": "58ac2939",
   "metadata": {},
   "outputs": [
    {
     "data": {
      "text/plain": [
       "array(['SCH', 'GRD', 'UGR', 'PGR', 'ACD', nan], dtype=object)"
      ]
     },
     "execution_count": 11,
     "metadata": {},
     "output_type": "execute_result"
    }
   ],
   "source": [
    "data.education.unique()"
   ]
  },
  {
   "cell_type": "code",
   "execution_count": 12,
   "id": "356b4338",
   "metadata": {},
   "outputs": [
    {
     "data": {
      "text/plain": [
       "<AxesSubplot:>"
      ]
     },
     "execution_count": 12,
     "metadata": {},
     "output_type": "execute_result"
    },
    {
     "data": {
      "image/png": "[encoded data removed]",
      "text/plain": [
       "<Figure size 432x288 with 1 Axes>"
      ]
     },
     "metadata": {
      "needs_background": "light"
     },
     "output_type": "display_data"
    }
   ],
   "source": [
    "data.education.value_counts().plot.barh()"
   ]
  },
  {
   "cell_type": "markdown",
   "id": "7a4bf32f",
   "metadata": {},
   "source": [
    "SCH - school, школа, 8 классов\n",
    "\n",
    "GRD - graduate, колледж, 10-12 классов\n",
    "\n",
    "UGR - undergraduate, ВУЗ\n",
    "\n",
    "PGR - postgraduate, аспирант\n",
    "\n",
    "ACD - academy, профессор"
   ]
  },
  {
   "cell_type": "code",
   "execution_count": 13,
   "id": "4f9602f0",
   "metadata": {},
   "outputs": [
    {
     "data": {
      "text/plain": [
       "<AxesSubplot:xlabel='default', ylabel='count'>"
      ]
     },
     "execution_count": 13,
     "metadata": {},
     "output_type": "execute_result"
    },
    {
     "data": {
      "image/png": "[encoded data removed]",
      "text/plain": [
       "<Figure size 1440x576 with 2 Axes>"
      ]
     },
     "metadata": {
      "needs_background": "light"
     },
     "output_type": "display_data"
    }
   ],
   "source": [
    "# заполним пропуски в поле 'education'\n",
    "tmp = data[data.education.isna()]\n",
    "fig,axes = plt.subplots(nrows=1, ncols=2, figsize=(20,8))\n",
    "\n",
    "sns.countplot(x='default', data=data, ax=axes[0])\n",
    "sns.countplot(x='default', data=tmp, ax=axes[1])"
   ]
  },
  {
   "cell_type": "code",
   "execution_count": 14,
   "id": "7baab9cc",
   "metadata": {},
   "outputs": [
    {
     "data": {
      "text/plain": [
       "[0.0, 60.0, 0.0, 60.0, 0.0, 60.0]"
      ]
     },
     "execution_count": 14,
     "metadata": {},
     "output_type": "execute_result"
    },
    {
     "data": {
      "image/png": "[encoded data removed]",
      "text/plain": [
       "<Figure size 1440x576 with 3 Axes>"
      ]
     },
     "metadata": {
      "needs_background": "light"
     },
     "output_type": "display_data"
    }
   ],
   "source": [
    "tmp = data[data.education.isna()]\n",
    "fig,axes = plt.subplots(nrows=1, ncols=3, figsize=(20,8))\n",
    "\n",
    "sns.countplot(x='age', data=data, ax=axes[0])\n",
    "sns.countplot(x='age', data=tmp, ax=axes[1])\n",
    "sns.countplot(x='age', data=data[data.education=='SCH'], ax=axes[2])\n",
    "\n",
    "plt.setp(axes, xlim=(0,60))"
   ]
  },
  {
   "cell_type": "code",
   "execution_count": 15,
   "id": "ae329126",
   "metadata": {},
   "outputs": [
    {
     "data": {
      "text/plain": [
       "<AxesSubplot:xlabel='good_work', ylabel='count'>"
      ]
     },
     "execution_count": 15,
     "metadata": {},
     "output_type": "execute_result"
    },
    {
     "data": {
      "image/png": "[encoded data removed]",
      "text/plain": [
       "<Figure size 1440x576 with 2 Axes>"
      ]
     },
     "metadata": {
      "needs_background": "light"
     },
     "output_type": "display_data"
    }
   ],
   "source": [
    "tmp = data[data.education.isna()]\n",
    "fig,axes = plt.subplots(nrows=1, ncols=2, figsize=(20,8))\n",
    "\n",
    "sns.countplot(x='good_work', data=data, ax=axes[0])\n",
    "sns.countplot(x='good_work', data=tmp, ax=axes[1])"
   ]
  },
  {
   "cell_type": "code",
   "execution_count": 16,
   "id": "a127d3b2",
   "metadata": {},
   "outputs": [
    {
     "name": "stdout",
     "output_type": "stream",
     "text": [
      "<class 'pandas.core.frame.DataFrame'>\n",
      "RangeIndex: 73799 entries, 0 to 73798\n",
      "Data columns (total 14 columns):\n",
      " #   Column            Non-Null Count  Dtype \n",
      "---  ------            --------------  ----- \n",
      " 0   client_id         73799 non-null  int64 \n",
      " 1   education         73799 non-null  object\n",
      " 2   sex               73799 non-null  object\n",
      " 3   age               73799 non-null  int64 \n",
      " 4   car               73799 non-null  object\n",
      " 5   car_type          73799 non-null  object\n",
      " 6   decline_app_cnt   73799 non-null  int64 \n",
      " 7   good_work         73799 non-null  int64 \n",
      " 8   bki_request_cnt   73799 non-null  int64 \n",
      " 9   home_address      73799 non-null  int64 \n",
      " 10  work_address      73799 non-null  int64 \n",
      " 11  income            73799 non-null  int64 \n",
      " 12  foreign_passport  73799 non-null  object\n",
      " 13  default           73799 non-null  int64 \n",
      "dtypes: int64(9), object(5)\n",
      "memory usage: 7.9+ MB\n"
     ]
    }
   ],
   "source": [
    "# т.к. пропущенных данных не много, то заменим их модой\n",
    "from scipy.stats import mode\n",
    "\n",
    "edu_moda = mode(data.education)[0][0]\n",
    "data.education.fillna(edu_moda, inplace=True)\n",
    "data.info()"
   ]
  },
  {
   "cell_type": "code",
   "execution_count": 17,
   "id": "d664c04b",
   "metadata": {},
   "outputs": [
    {
     "data": {
      "text/plain": [
       "client_id           73799\n",
       "education               5\n",
       "sex                     2\n",
       "age                    52\n",
       "car                     2\n",
       "car_type                2\n",
       "decline_app_cnt        21\n",
       "good_work               2\n",
       "bki_request_cnt        38\n",
       "home_address            3\n",
       "work_address            3\n",
       "income                966\n",
       "foreign_passport        2\n",
       "default                 2\n",
       "dtype: int64"
      ]
     },
     "execution_count": 17,
     "metadata": {},
     "output_type": "execute_result"
    }
   ],
   "source": [
    "data.nunique()"
   ]
  },
  {
   "cell_type": "code",
   "execution_count": 134,
   "id": "5c37a5ae",
   "metadata": {},
   "outputs": [],
   "source": [
    "# бинарные переменные\n",
    "bin_cols = ['sex', 'car', 'car_type', 'good_work', 'foreign_passport']\n",
    "\n",
    "# категориальные переменные\n",
    "cat_cols = ['education', 'home_address', 'work_address']\n",
    "\n",
    "# числовые переменные\n",
    "num_cols = ['age', 'decline_app_cnt', 'bki_request_cnt', 'income']"
   ]
  },
  {
   "cell_type": "code",
   "execution_count": 19,
   "id": "509f34ff",
   "metadata": {},
   "outputs": [],
   "source": [
    "import pandas as pd\n",
    "from sklearn.model_selection import train_test_split\n",
    "\n",
    "train, validation = train_test_split(data, test_size=0.33, random_state=42)"
   ]
  },
  {
   "cell_type": "code",
   "execution_count": 20,
   "id": "c81bd21d",
   "metadata": {},
   "outputs": [
    {
     "name": "stderr",
     "output_type": "stream",
     "text": [
      "c:\\users\\user\\appdata\\local\\programs\\python\\python39\\lib\\site-packages\\seaborn\\distributions.py:2557: FutureWarning: `distplot` is a deprecated function and will be removed in a future version. Please adapt your code to use either `displot` (a figure-level function with similar flexibility) or `histplot` (an axes-level function for histograms).\n",
      "  warnings.warn(msg, FutureWarning)\n",
      "c:\\users\\user\\appdata\\local\\programs\\python\\python39\\lib\\site-packages\\seaborn\\distributions.py:2557: FutureWarning: `distplot` is a deprecated function and will be removed in a future version. Please adapt your code to use either `displot` (a figure-level function with similar flexibility) or `histplot` (an axes-level function for histograms).\n",
      "  warnings.warn(msg, FutureWarning)\n",
      "c:\\users\\user\\appdata\\local\\programs\\python\\python39\\lib\\site-packages\\seaborn\\distributions.py:2557: FutureWarning: `distplot` is a deprecated function and will be removed in a future version. Please adapt your code to use either `displot` (a figure-level function with similar flexibility) or `histplot` (an axes-level function for histograms).\n",
      "  warnings.warn(msg, FutureWarning)\n",
      "c:\\users\\user\\appdata\\local\\programs\\python\\python39\\lib\\site-packages\\seaborn\\distributions.py:2557: FutureWarning: `distplot` is a deprecated function and will be removed in a future version. Please adapt your code to use either `displot` (a figure-level function with similar flexibility) or `histplot` (an axes-level function for histograms).\n",
      "  warnings.warn(msg, FutureWarning)\n"
     ]
    },
    {
     "data": {
      "image/png": "[encoded data removed]",
      "text/plain": [
       "<Figure size 864x576 with 4 Axes>"
      ]
     },
     "metadata": {},
     "output_type": "display_data"
    }
   ],
   "source": [
    "fig,axes = plt.subplots(nrows=2,ncols=2,figsize=(12,8),facecolor='w')\n",
    "ax=axes.ravel()\n",
    "for i,col in enumerate(num_cols):\n",
    "    sns.distplot(train[col][train[col] > 0].dropna(), kde=False, rug=False, ax=ax[i])\n",
    "    #ax[i].set_title(col)\n",
    "plt.tight_layout()\n",
    "plt.show()"
   ]
  },
  {
   "cell_type": "markdown",
   "id": "57adeb37",
   "metadata": {},
   "source": [
    "После построения гистограмм стало очевидно, что распределения всех числовых переменных имеют тяжёлый правый хвост.   \n",
    "…Насколько я помню, для того чтобы сделать распределение данных переменных более нормальным, можно работать с логарифмированными величинами этих переменных. Тогда я смогу избежать чувствительности к сильным отклонениям в суммах у линейных моделей."
   ]
  },
  {
   "cell_type": "code",
   "execution_count": 21,
   "id": "b9e2f81e",
   "metadata": {},
   "outputs": [
    {
     "name": "stderr",
     "output_type": "stream",
     "text": [
      "c:\\users\\user\\appdata\\local\\programs\\python\\python39\\lib\\site-packages\\seaborn\\distributions.py:2557: FutureWarning: `distplot` is a deprecated function and will be removed in a future version. Please adapt your code to use either `displot` (a figure-level function with similar flexibility) or `histplot` (an axes-level function for histograms).\n",
      "  warnings.warn(msg, FutureWarning)\n",
      "c:\\users\\user\\appdata\\local\\programs\\python\\python39\\lib\\site-packages\\seaborn\\distributions.py:2557: FutureWarning: `distplot` is a deprecated function and will be removed in a future version. Please adapt your code to use either `displot` (a figure-level function with similar flexibility) or `histplot` (an axes-level function for histograms).\n",
      "  warnings.warn(msg, FutureWarning)\n",
      "c:\\users\\user\\appdata\\local\\programs\\python\\python39\\lib\\site-packages\\seaborn\\distributions.py:2557: FutureWarning: `distplot` is a deprecated function and will be removed in a future version. Please adapt your code to use either `displot` (a figure-level function with similar flexibility) or `histplot` (an axes-level function for histograms).\n",
      "  warnings.warn(msg, FutureWarning)\n",
      "c:\\users\\user\\appdata\\local\\programs\\python\\python39\\lib\\site-packages\\seaborn\\distributions.py:2557: FutureWarning: `distplot` is a deprecated function and will be removed in a future version. Please adapt your code to use either `displot` (a figure-level function with similar flexibility) or `histplot` (an axes-level function for histograms).\n",
      "  warnings.warn(msg, FutureWarning)\n"
     ]
    },
    {
     "data": {
      "image/png": "[encoded data removed]",
      "text/plain": [
       "<Figure size 864x576 with 4 Axes>"
      ]
     },
     "metadata": {},
     "output_type": "display_data"
    }
   ],
   "source": [
    "df_log = np.log(train[num_cols]+1)\n",
    "fig,axes = plt.subplots(nrows=2,ncols=2,figsize=(12,8),facecolor='w')\n",
    "ax=axes.ravel()\n",
    "for i,col in enumerate(num_cols):\n",
    "    sns.distplot(df_log[col][df_log[col] > 0].dropna(), kde=False, rug=False, ax=ax[i])\n",
    "    #ax[i].set_title(col)\n",
    "plt.tight_layout()\n",
    "plt.show()"
   ]
  },
  {
   "cell_type": "markdown",
   "id": "b0ab84d2",
   "metadata": {},
   "source": [
    "Постройте графики распределения логарифмированных переменных, чтобы переменные стали менее смещенными. Такой принцип можно применить перед построением модели и сравнить значение метрики."
   ]
  },
  {
   "cell_type": "code",
   "execution_count": 22,
   "id": "1d1e8187",
   "metadata": {},
   "outputs": [
    {
     "data": {
      "image/png": "[encoded data removed]",
      "text/plain": [
       "<Figure size 864x576 with 4 Axes>"
      ]
     },
     "metadata": {},
     "output_type": "display_data"
    }
   ],
   "source": [
    "tmp = df_log.join(train['default'], how='left')\n",
    "fig,axes = plt.subplots(nrows=2,ncols=2,figsize=(12,8),facecolor='w')\n",
    "ax=axes.ravel()\n",
    "for i,col in enumerate(num_cols):\n",
    "    sns.boxplot(x='default', y=col, data=tmp, ax=ax[i])\n",
    "    plt.ylabel(col, fontsize=14)\n",
    "    plt.xlabel('Default', fontsize=14)\n",
    "plt.tight_layout()\n",
    "plt.show()"
   ]
  },
  {
   "cell_type": "markdown",
   "id": "4bdfea6e",
   "metadata": {},
   "source": [
    "Постройте boxplot’ы для численных переменных и ответьте на следующие вопросы:\n",
    "\n",
    "Дефолтные клиенты в среднем ...\n",
    "\n",
    "младше  \n",
    " верно   \n",
    "Дефолтные клиенты в среднем имеют ... количество отмененных заявок\n",
    "\n",
    "большое  \n",
    " верно   \n",
    "Дефолтные клиенты в среднем имеют ... запросов в БКИ\n",
    "\n",
    "больше  \n",
    " верно  \n",
    "Дефолтные клиенты в среднем имеют более ... доход\n",
    "\n",
    "низкий  \n",
    " верно  "
   ]
  },
  {
   "cell_type": "markdown",
   "id": "f8bda2ff",
   "metadata": {},
   "source": [
    "Вы помните, что сильная корреляция между переменными вредна для линейных моделей из-за неустойчивости полученных оценок.\n",
    "\n",
    "Как работать с корреляцией? \n",
    "\n",
    "→ Способ 1. Отобрать низко коррелируемые признаки .\n",
    "\n",
    "→ Способ 2. Использовать регуляризацию, чтобы в процессе обучения штрафовать модель за сложность, выраженную в величине весов, при этом задавая величину штрафа. Изменяя эту величину, я смогу контролировать переобучение и устойчивость модели. \n",
    "\n",
    "Но начнём с простого..."
   ]
  },
  {
   "cell_type": "code",
   "execution_count": 23,
   "id": "11bd48d6",
   "metadata": {},
   "outputs": [
    {
     "data": {
      "text/plain": [
       "<AxesSubplot:>"
      ]
     },
     "execution_count": 23,
     "metadata": {},
     "output_type": "execute_result"
    },
    {
     "data": {
      "image/png": "[encoded data removed]",
      "text/plain": [
       "<Figure size 432x288 with 2 Axes>"
      ]
     },
     "metadata": {
      "needs_background": "light"
     },
     "output_type": "display_data"
    }
   ],
   "source": [
    "sns.heatmap(train[num_cols].corr().abs(), vmin=0, vmax=1)"
   ]
  },
  {
   "cell_type": "markdown",
   "id": "a4c59bc7",
   "metadata": {},
   "source": [
    "Сделайте выводы на основе графика и напишите их в поле ниже:  \n",
    "\n",
    "Числовые признаки имеют невысокий коэффициент корреляции, т.е. можно сказать, линейно независимы  \n",
    "  верно .\n",
    "  \n",
    "Пояснение  \n",
    "\n",
    "Как мы видим, взаимосвязь пар числовых признаков по Пирсону слабая. Максимальный коэффициент -0.127734 и 0.125163. Это очень здорово для нашей линейной модели!"
   ]
  },
  {
   "cell_type": "markdown",
   "id": "d8923d1b",
   "metadata": {},
   "source": [
    "Для оценки значимости числовых переменных будем использовать функцию f_classif из библиотеки sklearn.  \n",
    "\n",
    "Возможности модуля sklearn.feature_selection могут быть использованы не только для выбора важных признаков, но и для уменьшения размерности, улучшения предсказательной силы моделей, либо для повышения их производительности на очень многомерных наборах данных.  \n",
    "\n",
    "В основе метода оценки значимости переменных лежит однофакторный дисперсионный анализ (ANOVA). Основу процедуры составляет обобщение результатов двух выборочных t-тестов для независимых выборок (2-sample t).   \n",
    "\n",
    "В качестве меры значимости мы будем использовать значение f-статистики. Чем значение статистики выше, тем меньше вероятность того, что средние значения не отличаются, и тем важнее данный признак для нашей линейной модели."
   ]
  },
  {
   "cell_type": "code",
   "execution_count": 115,
   "id": "665142f3",
   "metadata": {},
   "outputs": [],
   "source": [
    "def hist_features(df, cols, target):\n",
    "    number_of_features = len(cols)\n",
    "    X = np.log(df[cols]+1) #define feature data\n",
    "    y = df[target] #define target data.\n",
    "    \n",
    "    default = X[y==1] #define features of default borrowes\n",
    "    stable = X[y==0] #define features of good, stable borrowes\n",
    "    \n",
    "    fig, axes = plt.subplots(nrows=number_of_features, ncols=1, figsize=(10,8), facecolor='w')\n",
    "    ax = axes.ravel() #flat axes with numpy ravel\n",
    "    for i in range(number_of_features):\n",
    "        _, bins = np.histogram(X.iloc[:,i], bins=100) #ранжируем bins по общему датасету\n",
    "        #red color for default class, green color for stable class\n",
    "        #alpha is for transparency in the overlapped region\n",
    "        ax[i].hist(default.iloc[:,i], bins=bins, color='r', alpha=0.5)\n",
    "        ax[i].hist(stable.iloc[:,i], bins=bins, color='g', alpha=0.3)\n",
    "        ax[i].set_title(X.columns[i], fontsize=9)\n",
    "        ax[i].set_xticks(())\n",
    "        ax[i].set_yticks(())\n",
    "\n",
    "    ax[0].legend(['default','stable'], loc='best', fontsize=8)\n",
    "    plt.tight_layout()\n",
    "\n",
    "    plt.show()    "
   ]
  },
  {
   "cell_type": "code",
   "execution_count": 116,
   "id": "1622a2d4",
   "metadata": {},
   "outputs": [
    {
     "data": {
      "image/png": "[encoded data removed]",
      "text/plain": [
       "<Figure size 720x576 with 4 Axes>"
      ]
     },
     "metadata": {},
     "output_type": "display_data"
    }
   ],
   "source": [
    "hist_features(data,num_cols,'default')"
   ]
  },
  {
   "cell_type": "code",
   "execution_count": 24,
   "id": "ad9bdf0c",
   "metadata": {},
   "outputs": [
    {
     "data": {
      "text/plain": [
       "<AxesSubplot:>"
      ]
     },
     "execution_count": 24,
     "metadata": {},
     "output_type": "execute_result"
    },
    {
     "data": {
      "image/png": "[encoded data removed]",
      "text/plain": [
       "<Figure size 432x288 with 1 Axes>"
      ]
     },
     "metadata": {
      "needs_background": "light"
     },
     "output_type": "display_data"
    }
   ],
   "source": [
    "from sklearn.feature_selection import f_classif\n",
    "imp_num = pd.Series(f_classif(train[num_cols], train['default'])[0], index = num_cols)\n",
    "imp_num.sort_values(inplace = True)\n",
    "imp_num.plot(kind = 'barh')"
   ]
  },
  {
   "cell_type": "code",
   "execution_count": 28,
   "id": "3159cff5",
   "metadata": {},
   "outputs": [
    {
     "data": {
      "text/html": [
       "<div>\n",
       "<style scoped>\n",
       "    .dataframe tbody tr th:only-of-type {\n",
       "        vertical-align: middle;\n",
       "    }\n",
       "\n",
       "    .dataframe tbody tr th {\n",
       "        vertical-align: top;\n",
       "    }\n",
       "\n",
       "    .dataframe thead th {\n",
       "        text-align: right;\n",
       "    }\n",
       "</style>\n",
       "<table border=\"1\" class=\"dataframe\">\n",
       "  <thead>\n",
       "    <tr style=\"text-align: right;\">\n",
       "      <th></th>\n",
       "      <th>age</th>\n",
       "      <th>decline_app_cnt</th>\n",
       "      <th>bki_request_cnt</th>\n",
       "      <th>income</th>\n",
       "    </tr>\n",
       "  </thead>\n",
       "  <tbody>\n",
       "    <tr>\n",
       "      <th>f_statistic</th>\n",
       "      <td>23.698242</td>\n",
       "      <td>6.732567e+02</td>\n",
       "      <td>3.165910e+02</td>\n",
       "      <td>6.860102e+01</td>\n",
       "    </tr>\n",
       "    <tr>\n",
       "      <th>p_values</th>\n",
       "      <td>0.000001</td>\n",
       "      <td>1.908616e-147</td>\n",
       "      <td>1.330527e-70</td>\n",
       "      <td>1.235267e-16</td>\n",
       "    </tr>\n",
       "  </tbody>\n",
       "</table>\n",
       "</div>"
      ],
      "text/plain": [
       "                   age  decline_app_cnt  bki_request_cnt        income\n",
       "f_statistic  23.698242     6.732567e+02     3.165910e+02  6.860102e+01\n",
       "p_values      0.000001    1.908616e-147     1.330527e-70  1.235267e-16"
      ]
     },
     "execution_count": 28,
     "metadata": {},
     "output_type": "execute_result"
    }
   ],
   "source": [
    "pd.DataFrame(f_classif(train[num_cols], train['default']), columns=num_cols, index=['f_statistic','p_values'])"
   ]
  },
  {
   "cell_type": "code",
   "execution_count": 31,
   "id": "6084c283",
   "metadata": {},
   "outputs": [
    {
     "data": {
      "text/html": [
       "<div>\n",
       "<style scoped>\n",
       "    .dataframe tbody tr th:only-of-type {\n",
       "        vertical-align: middle;\n",
       "    }\n",
       "\n",
       "    .dataframe tbody tr th {\n",
       "        vertical-align: top;\n",
       "    }\n",
       "\n",
       "    .dataframe thead th {\n",
       "        text-align: right;\n",
       "    }\n",
       "</style>\n",
       "<table border=\"1\" class=\"dataframe\">\n",
       "  <thead>\n",
       "    <tr style=\"text-align: right;\">\n",
       "      <th></th>\n",
       "      <th>0</th>\n",
       "      <th>1</th>\n",
       "      <th>2</th>\n",
       "      <th>3</th>\n",
       "    </tr>\n",
       "  </thead>\n",
       "  <tbody>\n",
       "    <tr>\n",
       "      <th>count</th>\n",
       "      <td>4.944500e+04</td>\n",
       "      <td>4.944500e+04</td>\n",
       "      <td>4.944500e+04</td>\n",
       "      <td>4.944500e+04</td>\n",
       "    </tr>\n",
       "    <tr>\n",
       "      <th>mean</th>\n",
       "      <td>-3.499184e-17</td>\n",
       "      <td>1.853777e-17</td>\n",
       "      <td>-9.003034e-17</td>\n",
       "      <td>-3.808147e-17</td>\n",
       "    </tr>\n",
       "    <tr>\n",
       "      <th>std</th>\n",
       "      <td>1.000010e+00</td>\n",
       "      <td>1.000010e+00</td>\n",
       "      <td>1.000010e+00</td>\n",
       "      <td>1.000010e+00</td>\n",
       "    </tr>\n",
       "    <tr>\n",
       "      <th>min</th>\n",
       "      <td>-1.591712e+00</td>\n",
       "      <td>-3.451953e-01</td>\n",
       "      <td>-8.910240e-01</td>\n",
       "      <td>-8.721797e-01</td>\n",
       "    </tr>\n",
       "    <tr>\n",
       "      <th>25%</th>\n",
       "      <td>-8.090616e-01</td>\n",
       "      <td>-3.451953e-01</td>\n",
       "      <td>-8.910240e-01</td>\n",
       "      <td>-4.579378e-01</td>\n",
       "    </tr>\n",
       "    <tr>\n",
       "      <th>50%</th>\n",
       "      <td>-2.003334e-01</td>\n",
       "      <td>-3.451953e-01</td>\n",
       "      <td>-4.460205e-01</td>\n",
       "      <td>-2.399158e-01</td>\n",
       "    </tr>\n",
       "    <tr>\n",
       "      <th>75%</th>\n",
       "      <td>7.562395e-01</td>\n",
       "      <td>-3.451953e-01</td>\n",
       "      <td>4.439865e-01</td>\n",
       "      <td>1.525239e-01</td>\n",
       "    </tr>\n",
       "    <tr>\n",
       "      <th>max</th>\n",
       "      <td>2.843308e+00</td>\n",
       "      <td>4.085515e+01</td>\n",
       "      <td>2.269416e+01</td>\n",
       "      <td>2.090822e+01</td>\n",
       "    </tr>\n",
       "  </tbody>\n",
       "</table>\n",
       "</div>"
      ],
      "text/plain": [
       "                  0             1             2             3\n",
       "count  4.944500e+04  4.944500e+04  4.944500e+04  4.944500e+04\n",
       "mean  -3.499184e-17  1.853777e-17 -9.003034e-17 -3.808147e-17\n",
       "std    1.000010e+00  1.000010e+00  1.000010e+00  1.000010e+00\n",
       "min   -1.591712e+00 -3.451953e-01 -8.910240e-01 -8.721797e-01\n",
       "25%   -8.090616e-01 -3.451953e-01 -8.910240e-01 -4.579378e-01\n",
       "50%   -2.003334e-01 -3.451953e-01 -4.460205e-01 -2.399158e-01\n",
       "75%    7.562395e-01 -3.451953e-01  4.439865e-01  1.525239e-01\n",
       "max    2.843308e+00  4.085515e+01  2.269416e+01  2.090822e+01"
      ]
     },
     "execution_count": 31,
     "metadata": {},
     "output_type": "execute_result"
    }
   ],
   "source": [
    "from sklearn.preprocessing import StandardScaler\n",
    "from sklearn.decomposition import PCA\n",
    "\n",
    "scaler = StandardScaler()\n",
    "X_scaled = scaler.fit_transform(train[num_cols])\n",
    "\n",
    "pd.DataFrame(X_scaled).describe()"
   ]
  },
  {
   "cell_type": "code",
   "execution_count": 51,
   "id": "3d192743",
   "metadata": {},
   "outputs": [
    {
     "name": "stdout",
     "output_type": "stream",
     "text": [
      "shape of X_pca  (49445, 3)\n"
     ]
    },
    {
     "data": {
      "text/plain": [
       "array([0.36468546, 0.32819361, 0.30712093])"
      ]
     },
     "execution_count": 51,
     "metadata": {},
     "output_type": "execute_result"
    }
   ],
   "source": [
    "pca = PCA(n_components=3)\n",
    "X_pca = pca.fit_transform(X_scaled)\n",
    "#let's check the shape of X_pca array\n",
    "print('shape of X_pca ',X_pca.shape)\n",
    "ex_variance = np.var(X_pca, axis=0)\n",
    "ex_variance_ratio = ex_variance/np.sum(ex_variance)\n",
    "ex_variance_ratio"
   ]
  },
  {
   "cell_type": "code",
   "execution_count": 47,
   "id": "12ec075c",
   "metadata": {},
   "outputs": [
    {
     "data": {
      "image/png": "[encoded data removed]",
      "text/plain": [
       "<Figure size 576x288 with 2 Axes>"
      ]
     },
     "metadata": {},
     "output_type": "display_data"
    }
   ],
   "source": [
    "plt.matshow(pca.components_,cmap='viridis')\n",
    "plt.yticks([0,1],['1st Comp','2nd Comp'],fontsize=10, color='w')\n",
    "plt.colorbar()\n",
    "plt.xticks(range(len(num_cols)),num_cols,rotation=65,ha='left', color='w')\n",
    "#plt.tight_layout()\n",
    "plt.show()"
   ]
  },
  {
   "cell_type": "code",
   "execution_count": 48,
   "id": "6072f22c",
   "metadata": {},
   "outputs": [
    {
     "data": {
      "text/plain": [
       "array([[-0.26843535,  0.69430756,  0.63156221,  0.21681478],\n",
       "       [ 0.71381221, -0.27607115,  0.44837245,  0.46175642]])"
      ]
     },
     "execution_count": 48,
     "metadata": {},
     "output_type": "execute_result"
    }
   ],
   "source": [
    "pca.components_"
   ]
  },
  {
   "cell_type": "code",
   "execution_count": 52,
   "id": "92f6da8b",
   "metadata": {},
   "outputs": [
    {
     "data": {
      "image/png": "[encoded data removed]",
      "text/plain": [
       "<Figure size 504x360 with 1 Axes>"
      ]
     },
     "metadata": {},
     "output_type": "display_data"
    }
   ],
   "source": [
    "Xax=X_pca[:,0]\n",
    "Yax=X_pca[:,1]\n",
    "labels=train.default\n",
    "cdict={0:'red',1:'green'}\n",
    "labl={0:'Malignant',1:'Benign'}\n",
    "marker={0:'*',1:'o'}\n",
    "alpha={0:.3, 1:.5}\n",
    "fig,ax=plt.subplots(figsize=(7,5))\n",
    "fig.patch.set_facecolor('white')\n",
    "for l in np.unique(labels):\n",
    "    ix=np.where(labels==l)\n",
    "    ax.scatter(Xax[ix],Yax[ix],c=cdict[l],s=40,\\\n",
    "           label=labl[l],marker=marker[l],alpha=alpha[l])\n",
    "# for loop ends\n",
    "plt.xlabel(\"First Principal Component\",fontsize=14)\n",
    "plt.ylabel(\"Second Principal Component\",fontsize=14)\n",
    "plt.legend()\n",
    "plt.show()\n",
    "# please check the scatter plot of the remaining component and you will understand the difference"
   ]
  },
  {
   "cell_type": "markdown",
   "id": "c6749987",
   "metadata": {},
   "source": [
    "Чтобы алгоритмы машинного обучения могли работать с категориальными данными, их нужно преобразовать в числа...  \n",
    "Самый простой способ — отобразить каждое значение категории в уникальное число. Например, в поле sex значение sex = female преобразовать в , а sex = male — в . Эту простую операцию приходится делать достаточно часто, поэтому в модуле sklearn.preprocessing именно для этой задачи реализован класс LabelEncoder.  \n",
    "\n",
    "Метод fit этого класса находит все уникальные значения и строит таблицу для соответствия каждой категории некоторому числу, а метод transform непосредственно преобразует значения в числа. После fit у label_encoder будет доступно поле classes_, содержащее все уникальные значения. Можно их пронумеровать и убедиться, что преобразование выполнено верно."
   ]
  },
  {
   "cell_type": "code",
   "execution_count": 126,
   "id": "549cdf92",
   "metadata": {},
   "outputs": [
    {
     "name": "stdout",
     "output_type": "stream",
     "text": [
      "{0: 'ACD', 1: 'GRD', 2: 'PGR', 3: 'SCH', 4: 'UGR'}\n"
     ]
    }
   ],
   "source": [
    "from sklearn.preprocessing import LabelEncoder\n",
    "\n",
    "label_encoder = LabelEncoder()\n",
    "label_encoder.fit(train['education'])\n",
    "print(dict(enumerate(label_encoder.classes_)))"
   ]
  },
  {
   "cell_type": "code",
   "execution_count": 127,
   "id": "4dad7284",
   "metadata": {},
   "outputs": [
    {
     "name": "stderr",
     "output_type": "stream",
     "text": [
      "<ipython-input-127-e175c6782d10>:4: SettingWithCopyWarning: \n",
      "A value is trying to be set on a copy of a slice from a DataFrame.\n",
      "Try using .loc[row_indexer,col_indexer] = value instead\n",
      "\n",
      "See the caveats in the documentation: https://pandas.pydata.org/pandas-docs/stable/user_guide/indexing.html#returning-a-view-versus-a-copy\n",
      "  train[col] = label_encoder.fit_transform(train[col])\n"
     ]
    },
    {
     "data": {
      "text/html": [
       "<div>\n",
       "<style scoped>\n",
       "    .dataframe tbody tr th:only-of-type {\n",
       "        vertical-align: middle;\n",
       "    }\n",
       "\n",
       "    .dataframe tbody tr th {\n",
       "        vertical-align: top;\n",
       "    }\n",
       "\n",
       "    .dataframe thead th {\n",
       "        text-align: right;\n",
       "    }\n",
       "</style>\n",
       "<table border=\"1\" class=\"dataframe\">\n",
       "  <thead>\n",
       "    <tr style=\"text-align: right;\">\n",
       "      <th></th>\n",
       "      <th>client_id</th>\n",
       "      <th>education</th>\n",
       "      <th>sex</th>\n",
       "      <th>age</th>\n",
       "      <th>car</th>\n",
       "      <th>car_type</th>\n",
       "      <th>decline_app_cnt</th>\n",
       "      <th>good_work</th>\n",
       "      <th>bki_request_cnt</th>\n",
       "      <th>home_address</th>\n",
       "      <th>work_address</th>\n",
       "      <th>income</th>\n",
       "      <th>foreign_passport</th>\n",
       "      <th>default</th>\n",
       "    </tr>\n",
       "  </thead>\n",
       "  <tbody>\n",
       "    <tr>\n",
       "      <th>37194</th>\n",
       "      <td>15225</td>\n",
       "      <td>SCH</td>\n",
       "      <td>1</td>\n",
       "      <td>28</td>\n",
       "      <td>0</td>\n",
       "      <td>0</td>\n",
       "      <td>1</td>\n",
       "      <td>0</td>\n",
       "      <td>5</td>\n",
       "      <td>1</td>\n",
       "      <td>1</td>\n",
       "      <td>32000</td>\n",
       "      <td>0</td>\n",
       "      <td>0</td>\n",
       "    </tr>\n",
       "    <tr>\n",
       "      <th>6265</th>\n",
       "      <td>1002</td>\n",
       "      <td>GRD</td>\n",
       "      <td>0</td>\n",
       "      <td>54</td>\n",
       "      <td>1</td>\n",
       "      <td>0</td>\n",
       "      <td>0</td>\n",
       "      <td>0</td>\n",
       "      <td>6</td>\n",
       "      <td>2</td>\n",
       "      <td>3</td>\n",
       "      <td>80000</td>\n",
       "      <td>0</td>\n",
       "      <td>0</td>\n",
       "    </tr>\n",
       "    <tr>\n",
       "      <th>54886</th>\n",
       "      <td>16226</td>\n",
       "      <td>GRD</td>\n",
       "      <td>1</td>\n",
       "      <td>30</td>\n",
       "      <td>0</td>\n",
       "      <td>0</td>\n",
       "      <td>0</td>\n",
       "      <td>0</td>\n",
       "      <td>4</td>\n",
       "      <td>2</td>\n",
       "      <td>3</td>\n",
       "      <td>45000</td>\n",
       "      <td>0</td>\n",
       "      <td>0</td>\n",
       "    </tr>\n",
       "    <tr>\n",
       "      <th>860</th>\n",
       "      <td>3695</td>\n",
       "      <td>SCH</td>\n",
       "      <td>1</td>\n",
       "      <td>35</td>\n",
       "      <td>1</td>\n",
       "      <td>0</td>\n",
       "      <td>0</td>\n",
       "      <td>0</td>\n",
       "      <td>1</td>\n",
       "      <td>1</td>\n",
       "      <td>2</td>\n",
       "      <td>30000</td>\n",
       "      <td>0</td>\n",
       "      <td>0</td>\n",
       "    </tr>\n",
       "    <tr>\n",
       "      <th>15795</th>\n",
       "      <td>94361</td>\n",
       "      <td>UGR</td>\n",
       "      <td>0</td>\n",
       "      <td>58</td>\n",
       "      <td>0</td>\n",
       "      <td>0</td>\n",
       "      <td>0</td>\n",
       "      <td>0</td>\n",
       "      <td>6</td>\n",
       "      <td>2</td>\n",
       "      <td>3</td>\n",
       "      <td>16000</td>\n",
       "      <td>0</td>\n",
       "      <td>0</td>\n",
       "    </tr>\n",
       "  </tbody>\n",
       "</table>\n",
       "</div>"
      ],
      "text/plain": [
       "       client_id education  sex  age  car  car_type  decline_app_cnt  \\\n",
       "37194      15225       SCH    1   28    0         0                1   \n",
       "6265        1002       GRD    0   54    1         0                0   \n",
       "54886      16226       GRD    1   30    0         0                0   \n",
       "860         3695       SCH    1   35    1         0                0   \n",
       "15795      94361       UGR    0   58    0         0                0   \n",
       "\n",
       "       good_work  bki_request_cnt  home_address  work_address  income  \\\n",
       "37194          0                5             1             1   32000   \n",
       "6265           0                6             2             3   80000   \n",
       "54886          0                4             2             3   45000   \n",
       "860            0                1             1             2   30000   \n",
       "15795          0                6             2             3   16000   \n",
       "\n",
       "       foreign_passport  default  \n",
       "37194                 0        0  \n",
       "6265                  0        0  \n",
       "54886                 0        0  \n",
       "860                   0        0  \n",
       "15795                 0        0  "
      ]
     },
     "execution_count": 127,
     "metadata": {},
     "output_type": "execute_result"
    }
   ],
   "source": [
    "label_encoder = LabelEncoder()\n",
    "\n",
    "for col in bin_cols:\n",
    "    train[col] = label_encoder.fit_transform(train[col])\n",
    "    \n",
    "train.tail()"
   ]
  },
  {
   "cell_type": "markdown",
   "id": "3064b108",
   "metadata": {},
   "source": [
    "Почему мы применили метод только к бинарным переменным? Единственным минусом использования кодирования при помощи LabelEncoder() является то, что при использовании этого подхода мы должны быть уверены, что признак не может принимать неизвестных ранее значений.  \n",
    "\n",
    "→ Что произойдет, если у нас появятся данные с другими категориями? LabelEncoder будет ругаться, что не знает новую категорию.  \n",
    "\n",
    "Например, если у нас появится новый пол (помимо женского и мужского), признак sex придется обрабатывать по-другому.  \n",
    "\n",
    "Исходя из описания, наши признаки строго бинарные (принимают только два значения) и сюрпризов (новых неизвестных значений) быть не должно."
   ]
  },
  {
   "cell_type": "markdown",
   "id": "b5f0f838",
   "metadata": {},
   "source": [
    "#### ЗНАЧИМОСТЬ КАТЕГОРИАЛЬНЫХ ПРИЗНАКОВ\n",
    "\n",
    "Для оценки значимости категориальных и бинарных переменных будем использовать функцию mutual_info_classif из библиотеки sklearn. Данная функция опирается на непараметрические методы, основанные на оценке энтропии в группах категориальных переменных."
   ]
  },
  {
   "cell_type": "code",
   "execution_count": 136,
   "id": "59439ad8",
   "metadata": {},
   "outputs": [
    {
     "name": "stderr",
     "output_type": "stream",
     "text": [
      "<ipython-input-136-d4467b46820b>:3: SettingWithCopyWarning: \n",
      "A value is trying to be set on a copy of a slice from a DataFrame.\n",
      "Try using .loc[row_indexer,col_indexer] = value instead\n",
      "\n",
      "See the caveats in the documentation: https://pandas.pydata.org/pandas-docs/stable/user_guide/indexing.html#returning-a-view-versus-a-copy\n",
      "  train['education'] = label_encoder.fit_transform(train['education'])\n"
     ]
    },
    {
     "data": {
      "text/plain": [
       "<AxesSubplot:>"
      ]
     },
     "execution_count": 136,
     "metadata": {},
     "output_type": "execute_result"
    },
    {
     "data": {
      "image/png": "[encoded data removed]",
      "text/plain": [
       "<Figure size 432x288 with 1 Axes>"
      ]
     },
     "metadata": {
      "needs_background": "light"
     },
     "output_type": "display_data"
    }
   ],
   "source": [
    "from sklearn.feature_selection import mutual_info_classif\n",
    "\n",
    "train['education'] = label_encoder.fit_transform(train['education'])\n",
    "\n",
    "imp_cat = pd.Series(mutual_info_classif(train[bin_cols+cat_cols], train['default'],\\\n",
    "                                        discrete_features=True), index=[bin_cols+cat_cols])\n",
    "imp_cat.sort_values(inplace = True)\n",
    "imp_cat.plot(kind = 'barh')"
   ]
  },
  {
   "cell_type": "markdown",
   "id": "2b42ed44",
   "metadata": {},
   "source": [
    "Сначала необходимо провести разделение на трейн и тест, а затем применять стандартизирование и все остальное. Перед обучением регрессии нам следует стандартизировать числовые признаки, а также воспользоваться dummy-кодированием для категориальных переменных, то есть создать отдельную бинарную переменную для каждой категории.  \n",
    "\n",
    "Как вы уже поняли, LabelEncoder не совсем подходит для признаков с двумя и большим количеством категорий. Для того, чтобы мы смогли применять линейные модели на таких данных, нам необходим другой метод, который называется One-Hot Encoding. Смысл его точно такой же, как у dummy-кодирования.  \n",
    "\n",
    "Предположим, что некоторый признак может принимать пять разных значений. В этом случае One Hot Encoding подразумевает создание пяти новых признаков, все из которых равны нулю, за исключением одного. На позицию, соответствующую численному значению признака, мы помещаем 1.  \n",
    "\n",
    "Эта техника реализована в sklearn.preprocessing в классе OneHotEncoder. По умолчанию OneHotEncoder преобразует данные в разреженную матрицу, чтобы не расходовать память на хранение многочисленных нулей.  \n",
    "\n",
    "X_cat = OneHotEncoder(sparse = False).fit_transform(train[cat_cols].values)  \n",
    "Затем каждое целочисленное значение представляется в виде двоичного вектора. Он в свою очередь представляет собой все нулевые значения, кроме индекса целого числа, который отмечен . Когда для выходной переменной используется One Hot Encoding, группа закодированных переменных может предложить более детальный набор предсказаний, чем одна метка."
   ]
  },
  {
   "cell_type": "code",
   "execution_count": 143,
   "id": "4fd653af",
   "metadata": {},
   "outputs": [
    {
     "data": {
      "text/plain": [
       "(49445, 11)"
      ]
     },
     "execution_count": 143,
     "metadata": {},
     "output_type": "execute_result"
    }
   ],
   "source": [
    "from sklearn.preprocessing import OneHotEncoder\n",
    "\n",
    "X_cat = OneHotEncoder(sparse=False).fit_transform(train[cat_cols])#.values)\n",
    "X_cat.shape"
   ]
  },
  {
   "cell_type": "code",
   "execution_count": 148,
   "id": "fdb6967c",
   "metadata": {},
   "outputs": [
    {
     "data": {
      "text/plain": [
       "education       5\n",
       "home_address    3\n",
       "work_address    3\n",
       "dtype: int64"
      ]
     },
     "execution_count": 148,
     "metadata": {},
     "output_type": "execute_result"
    }
   ],
   "source": [
    "train[cat_cols].nunique()"
   ]
  },
  {
   "cell_type": "code",
   "execution_count": 151,
   "id": "b66403e2",
   "metadata": {},
   "outputs": [
    {
     "data": {
      "text/plain": [
       "0     2\n",
       "1     2\n",
       "2     2\n",
       "3     2\n",
       "4     2\n",
       "5     2\n",
       "6     2\n",
       "7     2\n",
       "8     2\n",
       "9     2\n",
       "10    2\n",
       "dtype: int64"
      ]
     },
     "execution_count": 151,
     "metadata": {},
     "output_type": "execute_result"
    }
   ],
   "source": [
    "pd.DataFrame(X_cat).nunique()"
   ]
  },
  {
   "cell_type": "code",
   "execution_count": 152,
   "id": "83087a40",
   "metadata": {},
   "outputs": [],
   "source": [
    "# Стандартизация числовых переменных\n",
    "\n",
    "X_num = StandardScaler().fit_transform(train[num_cols].values)"
   ]
  },
  {
   "cell_type": "markdown",
   "id": "f318ddfc",
   "metadata": {},
   "source": [
    "И объединим стандартизованные числовые, бинарные и закодированные категориальные переменные в одно признаковое пространство, разделив при этом признаки и целевую переменную."
   ]
  },
  {
   "cell_type": "code",
   "execution_count": 157,
   "id": "784e49f1",
   "metadata": {},
   "outputs": [],
   "source": [
    "X_train = np.hstack([X_num, train[bin_cols].values, X_cat])\n",
    "y_train = train['default'].values"
   ]
  },
  {
   "cell_type": "code",
   "execution_count": 159,
   "id": "f3eed0bd",
   "metadata": {},
   "outputs": [
    {
     "data": {
      "text/plain": [
       "(49445, 20)"
      ]
     },
     "execution_count": 159,
     "metadata": {},
     "output_type": "execute_result"
    }
   ],
   "source": [
    "X_train.shape"
   ]
  },
  {
   "cell_type": "markdown",
   "id": "189c8f8e",
   "metadata": {},
   "source": [
    "→ ЗАДАНИЕ\n",
    "\n",
    "Проделайте все те же манипуляции с данными на наборе данных validation, которые мы специально отделили в самом начале при знакомстве с данными.  \n",
    "\n",
    "После преобразования отделите целевую переменную default в validation-наборе данных. Это будут ваши ответы, запишите их в переменную y_true, оставшаяся часть будет храниться в X_validation.  \n",
    "\n",
    "Обучите модель на валидационном наборе данных на стандартных настройках логистической регрессии.  \n",
    "\n",
    "Используйте обученную модель для предсказания дефолта в validation-выборке. Запишите предсказанные значения в переменную y_pred = model.predict_proba(X_validation)."
   ]
  },
  {
   "cell_type": "code",
   "execution_count": null,
   "id": "5312727e",
   "metadata": {},
   "outputs": [],
   "source": []
  }
 ],
 "metadata": {
  "kernelspec": {
   "display_name": "Python 3",
   "language": "python",
   "name": "python3"
  },
  "language_info": {
   "codemirror_mode": {
    "name": "ipython",
    "version": 3
   },
   "file_extension": ".py",
   "mimetype": "text/x-python",
   "name": "python",
   "nbconvert_exporter": "python",
   "pygments_lexer": "ipython3",
   "version": "3.9.4"
  }
 },
 "nbformat": 4,
 "nbformat_minor": 5
}
