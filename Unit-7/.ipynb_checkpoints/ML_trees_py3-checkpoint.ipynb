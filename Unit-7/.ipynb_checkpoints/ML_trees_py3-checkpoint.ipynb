{
 "cells": [
  {
   "cell_type": "markdown",
   "metadata": {},
   "source": [
    "**Корректность проверена на Python 3.6:**\n",
    "+ numpy 1.15.4\n",
    "+ matplotlib 3.0.2\n",
    "+ sklearn 0.20.2"
   ]
  },
  {
   "cell_type": "markdown",
   "metadata": {},
   "source": [
    "# Sklearn"
   ]
  },
  {
   "cell_type": "markdown",
   "metadata": {},
   "source": [
    "## sklearn.tree"
   ]
  },
  {
   "cell_type": "markdown",
   "metadata": {},
   "source": [
    "документация: http://scikit-learn.org/stable/modules/classes.html#module-sklearn.tree\n",
    "\n",
    "примеры: http://scikit-learn.org/stable/modules/classes.html#module-sklearn.tree"
   ]
  },
  {
   "cell_type": "code",
   "execution_count": 3,
   "metadata": {},
   "outputs": [],
   "source": [
    "from matplotlib.colors import ListedColormap\n",
    "from sklearn import model_selection, datasets, metrics, tree \n",
    "\n",
    "import numpy as np"
   ]
  },
  {
   "cell_type": "code",
   "execution_count": 4,
   "metadata": {},
   "outputs": [
    {
     "name": "stdout",
     "output_type": "stream",
     "text": [
      "Populating the interactive namespace from numpy and matplotlib\n"
     ]
    }
   ],
   "source": [
    "%pylab inline"
   ]
  },
  {
   "cell_type": "markdown",
   "metadata": {},
   "source": [
    "### Генерация данных"
   ]
  },
  {
   "cell_type": "code",
   "execution_count": 5,
   "metadata": {},
   "outputs": [],
   "source": [
    "classification_problem = datasets.make_classification(n_features = 2, n_informative = 2, \n",
    "                                                      n_classes = 3, n_redundant=0, \n",
    "                                                      n_clusters_per_class=1, random_state=3)"
   ]
  },
  {
   "cell_type": "code",
   "execution_count": 6,
   "metadata": {},
   "outputs": [
    {
     "data": {
      "text/plain": [
       "(array([[ 2.21886651,  1.38263506],\n",
       "        [ 2.07169996, -1.07356824],\n",
       "        [-1.93977262, -0.85055602],\n",
       "        [ 2.08436759,  1.07500638],\n",
       "        [ 0.94998372,  0.61538543],\n",
       "        [-0.3878893 , -0.95580336],\n",
       "        [ 1.98118534,  0.58871202],\n",
       "        [ 1.65508134, -1.29954273],\n",
       "        [ 2.60996691,  0.67390406],\n",
       "        [-0.29137472, -0.2257671 ],\n",
       "        [-0.98418733, -0.29293569],\n",
       "        [-0.15399877,  0.42254322],\n",
       "        [-0.22167729, -0.32467969],\n",
       "        [ 2.88285048, -1.44657734],\n",
       "        [ 1.17459743, -0.90427191],\n",
       "        [-0.31704075, -0.34842358],\n",
       "        [ 1.48023527, -1.08130433],\n",
       "        [ 1.51863252, -1.23980866],\n",
       "        [-0.7044121 , -0.06132962],\n",
       "        [ 1.06060558,  0.83918244],\n",
       "        [ 3.04237626, -2.38948447],\n",
       "        [-1.60671473, -1.21737505],\n",
       "        [-0.2410213 , -0.44815041],\n",
       "        [ 1.88783328, -1.70376068],\n",
       "        [ 0.1286542 , -0.52542956],\n",
       "        [-1.68428971,  1.29496961],\n",
       "        [-0.7699091 , -0.5500474 ],\n",
       "        [ 3.06365602, -2.16142073],\n",
       "        [-1.06474935, -0.43325423],\n",
       "        [-0.34416853, -0.71806993],\n",
       "        [ 2.13404983, -1.41250053],\n",
       "        [ 1.12563852, -1.39883012],\n",
       "        [ 2.000055  , -1.44905962],\n",
       "        [ 2.07135111,  1.45797007],\n",
       "        [ 0.80113229,  1.51109105],\n",
       "        [ 2.62368333,  0.97996059],\n",
       "        [ 1.09390904, -0.70146568],\n",
       "        [-0.1183851 , -0.35544532],\n",
       "        [ 1.17333444,  0.8640935 ],\n",
       "        [-1.1156508 , -0.9907937 ],\n",
       "        [-0.81128541, -1.53956321],\n",
       "        [-0.28911786,  1.80794921],\n",
       "        [ 3.45454483,  1.9851971 ],\n",
       "        [ 0.02133037, -0.62434463],\n",
       "        [ 0.59841259, -0.04398496],\n",
       "        [ 0.99792686, -0.87150485],\n",
       "        [-0.85644943, -0.48631119],\n",
       "        [-1.64094355, -1.32990543],\n",
       "        [ 1.61122064,  1.43035   ],\n",
       "        [-0.47741667,  0.40071521],\n",
       "        [-1.10545981, -0.95005675],\n",
       "        [-1.32837543, -0.91830056],\n",
       "        [-1.40997215, -1.7379404 ],\n",
       "        [-0.63517453,  1.70819656],\n",
       "        [-1.66026857, -1.79291055],\n",
       "        [-2.08667919, -1.4558544 ],\n",
       "        [-1.01112963, -1.17566007],\n",
       "        [ 1.05504391, -0.92904441],\n",
       "        [ 1.56089307, -1.07593588],\n",
       "        [-1.02077644, -0.43813357],\n",
       "        [ 1.23337839, -1.28522633],\n",
       "        [ 1.82285256, -1.41324137],\n",
       "        [-0.61454121,  0.73624857],\n",
       "        [ 0.06002548, -0.52987444],\n",
       "        [-1.90919636, -1.53206942],\n",
       "        [ 0.02749183,  1.15880374],\n",
       "        [ 1.2933655 ,  0.95998478],\n",
       "        [-0.79602966, -1.31557627],\n",
       "        [-0.06295081, -0.38382879],\n",
       "        [ 0.50745175,  0.66381198],\n",
       "        [ 0.68720831,  1.15451708],\n",
       "        [-1.02570858, -1.59946684],\n",
       "        [ 0.70062503,  1.13342295],\n",
       "        [ 0.60428992,  0.31102739],\n",
       "        [ 1.33764201,  0.50085218],\n",
       "        [-1.33086696, -2.04470326],\n",
       "        [ 3.82123978, -3.02454592],\n",
       "        [ 0.35349941,  1.7568708 ],\n",
       "        [ 1.24014399, -1.26401561],\n",
       "        [-1.72769968, -1.36013607],\n",
       "        [ 0.99198476,  1.0465677 ],\n",
       "        [ 1.30497256, -1.41630712],\n",
       "        [ 1.10752442,  0.5284127 ],\n",
       "        [ 0.49288933,  0.98962118],\n",
       "        [ 1.7049971 ,  0.88542637],\n",
       "        [-0.9734183 , -1.21238512],\n",
       "        [ 2.37549206,  1.46462522],\n",
       "        [ 0.58721603, -0.34446576],\n",
       "        [ 0.5544552 , -0.30371376],\n",
       "        [ 0.67693958, -0.44757352],\n",
       "        [ 1.75696695,  0.26743655],\n",
       "        [ 2.37576193, -1.37351716],\n",
       "        [-0.9613415 , -0.36093225],\n",
       "        [-1.75417666,  0.88729595],\n",
       "        [ 0.28401087, -0.41971289],\n",
       "        [ 0.66021391, -0.82571524],\n",
       "        [ 1.52070322, -1.45906096],\n",
       "        [-1.64108316, -0.71790889],\n",
       "        [ 1.54666436,  1.36255256],\n",
       "        [-2.15412795, -2.232662  ]]),\n",
       " array([0, 1, 2, 0, 0, 2, 0, 1, 0, 1, 0, 0, 1, 1, 2, 1, 1, 1, 1, 0, 1, 2,\n",
       "        2, 1, 1, 0, 2, 1, 2, 2, 1, 1, 1, 0, 0, 0, 1, 1, 0, 2, 2, 0, 0, 2,\n",
       "        0, 1, 2, 2, 0, 0, 2, 2, 2, 0, 2, 2, 2, 1, 1, 2, 0, 1, 0, 1, 2, 0,\n",
       "        0, 2, 2, 0, 0, 2, 0, 0, 0, 2, 1, 0, 1, 2, 0, 1, 0, 0, 0, 2, 0, 2,\n",
       "        1, 2, 0, 1, 2, 1, 1, 1, 1, 2, 0, 2]))"
      ]
     },
     "execution_count": 6,
     "metadata": {},
     "output_type": "execute_result"
    }
   ],
   "source": [
    "classification_problem"
   ]
  },
  {
   "cell_type": "code",
   "execution_count": 7,
   "metadata": {},
   "outputs": [],
   "source": [
    "colors = ListedColormap(['red', 'blue', 'yellow'])\n",
    "light_colors = ListedColormap(['lightcoral', 'lightblue', 'lightyellow'])"
   ]
  },
  {
   "cell_type": "code",
   "execution_count": 9,
   "metadata": {},
   "outputs": [
    {
     "data": {
      "image/png": "[encoded data removed]",
      "text/plain": [
       "<Figure size 576x432 with 1 Axes>"
      ]
     },
     "metadata": {
      "needs_background": "light"
     },
     "output_type": "display_data"
    }
   ],
   "source": [
    "pylab.figure(figsize=(8,6))\n",
    "pylab.scatter(list(map(lambda x: x[0], classification_problem[0])), list(map(lambda x: x[1], classification_problem[0])), \n",
    "              c=classification_problem[1], cmap=colors, s=100);\n"
   ]
  },
  {
   "cell_type": "code",
   "execution_count": 10,
   "metadata": {},
   "outputs": [],
   "source": [
    "train_data, test_data, train_labels, test_labels = model_selection.train_test_split(classification_problem[0], \n",
    "                                                                                     classification_problem[1], \n",
    "                                                                                     test_size = 0.3,\n",
    "                                                                                     random_state = 1)"
   ]
  },
  {
   "cell_type": "markdown",
   "metadata": {},
   "source": [
    "### Модель DecisionTreeClassifier"
   ]
  },
  {
   "cell_type": "code",
   "execution_count": 11,
   "metadata": {},
   "outputs": [
    {
     "data": {
      "text/plain": [
       "DecisionTreeClassifier(random_state=1)"
      ]
     },
     "execution_count": 11,
     "metadata": {},
     "output_type": "execute_result"
    }
   ],
   "source": [
    "clf = tree.DecisionTreeClassifier(random_state=1)\n",
    "clf.fit(train_data, train_labels)"
   ]
  },
  {
   "cell_type": "code",
   "execution_count": 12,
   "metadata": {},
   "outputs": [
    {
     "data": {
      "text/plain": [
       "0.7666666666666667"
      ]
     },
     "execution_count": 12,
     "metadata": {},
     "output_type": "execute_result"
    }
   ],
   "source": [
    "predictions = clf.predict(test_data)\n",
    "metrics.accuracy_score(test_labels, predictions)"
   ]
  },
  {
   "cell_type": "code",
   "execution_count": 13,
   "metadata": {},
   "outputs": [
    {
     "data": {
      "text/plain": [
       "array([0, 0, 0, 0, 0, 1, 1, 0, 0, 0, 2, 2, 2, 2, 2, 1, 0, 1, 0, 2, 2, 0,\n",
       "       2, 0, 0, 0, 2, 1, 2, 0])"
      ]
     },
     "execution_count": 13,
     "metadata": {},
     "output_type": "execute_result"
    }
   ],
   "source": [
    "predictions"
   ]
  },
  {
   "cell_type": "markdown",
   "metadata": {},
   "source": [
    "### Разделяющая поверхность"
   ]
  },
  {
   "cell_type": "code",
   "execution_count": null,
   "metadata": {},
   "outputs": [],
   "source": [
    "def get_meshgrid(data, step=.05, border=.5,):\n",
    "    x_min, x_max = data[:, 0].min() - border, data[:, 0].max() + border\n",
    "    y_min, y_max = data[:, 1].min() - border, data[:, 1].max() + border\n",
    "    return np.meshgrid(np.arange(x_min, x_max, step), np.arange(y_min, y_max, step))"
   ]
  },
  {
   "cell_type": "code",
   "execution_count": null,
   "metadata": {},
   "outputs": [],
   "source": [
    "def plot_decision_surface(estimator, train_data, train_labels, test_data, test_labels, \n",
    "                          colors = colors, light_colors = light_colors):\n",
    "    #fit model\n",
    "    estimator.fit(train_data, train_labels)\n",
    "    \n",
    "    #set figure size\n",
    "    pyplot.figure(figsize = (16, 6))\n",
    "    \n",
    "    #plot decision surface on the train data \n",
    "    pyplot.subplot(1,2,1)\n",
    "    xx, yy = get_meshgrid(train_data)\n",
    "    mesh_predictions = np.array(estimator.predict(np.c_[xx.ravel(), yy.ravel()])).reshape(xx.shape)\n",
    "    pyplot.pcolormesh(xx, yy, mesh_predictions, cmap = light_colors)\n",
    "    pyplot.scatter(train_data[:, 0], train_data[:, 1], c = train_labels, s = 100, cmap = colors)\n",
    "    pyplot.title('Train data, accuracy={:.2f}'.format(metrics.accuracy_score(train_labels, estimator.predict(train_data))))\n",
    "    \n",
    "    #plot decision surface on the test data\n",
    "    pyplot.subplot(1,2,2)\n",
    "    pyplot.pcolormesh(xx, yy, mesh_predictions, cmap = light_colors)\n",
    "    pyplot.scatter(test_data[:, 0], test_data[:, 1], c = test_labels, s = 100, cmap = colors)\n",
    "    pyplot.title('Test data, accuracy={:.2f}'.format(metrics.accuracy_score(test_labels, estimator.predict(test_data))))"
   ]
  },
  {
   "cell_type": "code",
   "execution_count": null,
   "metadata": {},
   "outputs": [],
   "source": [
    "estimator = tree.DecisionTreeClassifier(random_state = 1, max_depth = 1)\n",
    "\n",
    "plot_decision_surface(estimator, train_data, train_labels, test_data, test_labels)"
   ]
  },
  {
   "cell_type": "code",
   "execution_count": null,
   "metadata": {},
   "outputs": [],
   "source": [
    "plot_decision_surface(tree.DecisionTreeClassifier(random_state = 1, max_depth = 2),\n",
    "                      train_data, train_labels, test_data, test_labels)"
   ]
  },
  {
   "cell_type": "code",
   "execution_count": null,
   "metadata": {},
   "outputs": [],
   "source": [
    "plot_decision_surface(tree.DecisionTreeClassifier(random_state = 1, max_depth = 3),\n",
    "                      train_data, train_labels, test_data, test_labels)"
   ]
  },
  {
   "cell_type": "code",
   "execution_count": null,
   "metadata": {},
   "outputs": [],
   "source": [
    "plot_decision_surface(tree.DecisionTreeClassifier(random_state = 1),\n",
    "                      train_data, train_labels, test_data, test_labels)"
   ]
  },
  {
   "cell_type": "code",
   "execution_count": null,
   "metadata": {},
   "outputs": [],
   "source": [
    "plot_decision_surface(tree.DecisionTreeClassifier(random_state = 1, min_samples_leaf = 4), \n",
    "                      train_data, train_labels, test_data, test_labels)"
   ]
  },
  {
   "cell_type": "code",
   "execution_count": null,
   "metadata": {},
   "outputs": [],
   "source": []
  }
 ],
 "metadata": {
  "kernelspec": {
   "display_name": "Python 3",
   "language": "python",
   "name": "python3"
  },
  "language_info": {
   "codemirror_mode": {
    "name": "ipython",
    "version": 3
   },
   "file_extension": ".py",
   "mimetype": "text/x-python",
   "name": "python",
   "nbconvert_exporter": "python",
   "pygments_lexer": "ipython3",
   "version": "3.9.4"
  }
 },
 "nbformat": 4,
 "nbformat_minor": 1
}
