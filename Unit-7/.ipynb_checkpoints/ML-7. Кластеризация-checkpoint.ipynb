{
 "cells": [
  {
   "cell_type": "code",
   "execution_count": 29,
   "id": "caec090d",
   "metadata": {},
   "outputs": [],
   "source": [
    "import numpy as np\n",
    "import pandas as pd\n",
    "import matplotlib.pyplot as plt\n",
    "from sklearn import datasets\n",
    "from sklearn.preprocessing import StandardScaler\n",
    "\n",
    "from itertools import cycle, islice"
   ]
  },
  {
   "cell_type": "code",
   "execution_count": 2,
   "id": "bed3c514",
   "metadata": {},
   "outputs": [],
   "source": [
    "plt.rcParams['figure.figsize'] = 12,8"
   ]
  },
  {
   "cell_type": "code",
   "execution_count": null,
   "id": "8f8df514",
   "metadata": {},
   "outputs": [],
   "source": [
    "np.random.seed(0)\n",
    "\n",
    "# Количество объектов в каждом датасете\n",
    "n_samples = 1500\n",
    "\n",
    "# Вписанные круги\n",
    "noisy_circles = datasets.make_circles(n_samples=n_samples, factor=0.5, noise=0.05)\n",
    "# Оставляем только признаки датасета, т.к. для кластеризации нам не нужны истинные классы объектов\n",
    "X, y = noisy_circles\n",
    "noisy_circles = X\n",
    "\n",
    "# Полукруги\n",
    "noisy_moons = datasets.make_moons(n_samples=n_samples, noise=0.05)\n",
    "X, y = noisy_moons\n",
    "noisy_moons = X\n",
    "\n",
    "# Кластеры в форме круга\n",
    "blobs = datasets.make_blobs(n_samples=n_samples, random_state=8)\n",
    "X, y = blobs\n",
    "blobs = X\n",
    "\n",
    "# Отсутствие кластерной структуры\n",
    "no_structure = np.random.rand(n_samples, 2)\n",
    "\n",
    "# Кластеры лентовидной формы\n",
    "X, y = datasets.make_blobs(n_samples = n_samples, random_state=170)\n",
    "transformation = [[0.6, -0.6],[-0.4, 0.8]]\n",
    "aniso = np.dot(X,transformation)"
   ]
  },
  {
   "cell_type": "code",
   "execution_count": 81,
   "id": "1e7fe406",
   "metadata": {},
   "outputs": [
    {
     "data": {
      "text/plain": [
       "<matplotlib.collections.PathCollection at 0x2353ecef940>"
      ]
     },
     "execution_count": 81,
     "metadata": {},
     "output_type": "execute_result"
    },
    {
     "data": {
      "image/png": "[encoded data removed]",
      "text/plain": [
       "<Figure size 864x576 with 1 Axes>"
      ]
     },
     "metadata": {
      "needs_background": "light"
     },
     "output_type": "display_data"
    }
   ],
   "source": [
    "data = datasets.make_blobs(n_samples = 100, centers=2)\n",
    "X, y = data\n",
    "plt.scatter(X[:,0],X[:,1])\n",
    "table = pd.DataFrame(X)\n",
    "table['target'] = y\n",
    "#table[table.target==0][0]\n",
    "transformation = [[0.6, -0.6],[-0.4, 0.8]]\n",
    "X_1 = np.array(table[table.target==1].drop('target', axis=1))\n",
    "#X_1\n",
    "aniso = np.dot(X_1,transformation)\n",
    "plt.scatter(table[table.target==1][0],table[table.target==1][1], color='red')\n",
    "plt.scatter(aniso[:,0],aniso[:,1], color='green')\n"
   ]
  },
  {
   "cell_type": "code",
   "execution_count": 59,
   "id": "ccc07958",
   "metadata": {},
   "outputs": [
    {
     "data": {
      "text/plain": [
       "array([[ -8.75428759,   3.77272918],\n",
       "       [  2.73718516,  -7.04390428],\n",
       "       [ -8.913715  ,   3.88027393],\n",
       "       [ -8.50221482,   4.16078744],\n",
       "       [ -0.09938009,  -9.02097587],\n",
       "       [  1.0366727 ,  -6.52542577],\n",
       "       [ -7.12762434,   3.19489123],\n",
       "       [ -7.82799068,   3.07459091],\n",
       "       [-10.96391928,   5.89252861],\n",
       "       [ -8.08636281,   4.41668837],\n",
       "       [  1.03662131,  -5.95634461],\n",
       "       [  2.82756881,  -7.87485338],\n",
       "       [  3.00156193,  -8.43303521],\n",
       "       [ -9.19682584,   3.86339646],\n",
       "       [  2.66398047,  -7.84859006],\n",
       "       [  0.75011309,  -8.06072194],\n",
       "       [ -8.37895561,   3.91400552],\n",
       "       [  3.54604252,  -7.92575153],\n",
       "       [ -9.93970244,   5.41437743],\n",
       "       [ -5.61799799,   4.48560918],\n",
       "       [  2.02161392,  -7.19873196],\n",
       "       [  2.38048256,  -8.84738962],\n",
       "       [ -8.07696507,   3.33690451],\n",
       "       [  2.36936591,  -7.86942931],\n",
       "       [  2.43287411,  -8.55985067],\n",
       "       [  3.25026457, -11.51508348],\n",
       "       [  3.11725129,  -8.64005358],\n",
       "       [ -9.3205244 ,   2.31518031],\n",
       "       [  1.57449551,  -6.69140628],\n",
       "       [ -8.93617933,   5.31572888],\n",
       "       [ -7.82830295,   5.26410979],\n",
       "       [ -6.60048643,   4.26178422],\n",
       "       [  2.4203251 ,  -7.20797297],\n",
       "       [ -7.35752672,   3.86847552],\n",
       "       [  2.120731  ,  -7.4775854 ],\n",
       "       [  1.22755991,  -8.2688705 ],\n",
       "       [  2.05298154,  -8.14952238],\n",
       "       [  3.52017276,  -7.83275495],\n",
       "       [  2.68877898,  -9.75410893],\n",
       "       [  2.3312067 ,  -8.73127285],\n",
       "       [ -9.48037389,   4.22467242],\n",
       "       [  3.21261775,  -9.79693914],\n",
       "       [ -6.7421062 ,   4.18825274],\n",
       "       [ -9.39454413,   3.03494948],\n",
       "       [  3.09343228,  -8.18040362],\n",
       "       [ -7.35209183,   4.5538006 ],\n",
       "       [ -6.96590466,   5.10204583],\n",
       "       [ -8.531022  ,   5.35798195],\n",
       "       [ -7.76187227,   2.07098926],\n",
       "       [  1.91889182,  -9.01235073],\n",
       "       [  2.24637624, -10.52820768],\n",
       "       [ -8.69344259,   3.45128775],\n",
       "       [  2.03102681,  -7.59644884],\n",
       "       [ -8.37417984,   2.87784347],\n",
       "       [ -8.37664789,   5.91456004],\n",
       "       [ -8.69440701,   5.46188454],\n",
       "       [  1.25875587,  -8.14525467],\n",
       "       [ -7.66530041,   2.91817097],\n",
       "       [  2.4670965 , -10.39367864],\n",
       "       [ -7.15487982,   3.10886644],\n",
       "       [  2.57266436,  -8.3655984 ],\n",
       "       [  1.27711963,  -9.95262453],\n",
       "       [ -9.45227187,   4.99045362],\n",
       "       [  2.86233877,  -9.77062122],\n",
       "       [ -8.18591374,   3.72490313],\n",
       "       [ -8.16633114,   3.53041395],\n",
       "       [  1.84092857,  -9.09590156],\n",
       "       [  3.84547118,  -9.00998093],\n",
       "       [ -6.81228756,   2.36500171],\n",
       "       [ -7.67155131,   3.63950248],\n",
       "       [ -9.7355686 ,   3.95656437],\n",
       "       [  2.11560484,  -6.1907735 ],\n",
       "       [ -7.32205456,   3.62661465],\n",
       "       [  2.06318304,  -7.7642101 ],\n",
       "       [ -8.60137784,   4.516648  ],\n",
       "       [  0.56643287,  -9.60288463],\n",
       "       [  1.02670321,  -8.8047741 ],\n",
       "       [  1.46072382,  -8.77585498],\n",
       "       [ -7.48715324,   2.68898405],\n",
       "       [  1.73702148,  -8.04425428],\n",
       "       [ -9.20998825,   3.73171418],\n",
       "       [ -8.29469954,   3.69197696],\n",
       "       [ -7.16218286,   4.59319231],\n",
       "       [ -6.73005177,   3.01143448],\n",
       "       [  2.58781084,  -8.44793407],\n",
       "       [  1.27934801,  -7.8102059 ],\n",
       "       [ -9.02312026,   1.9269955 ],\n",
       "       [  1.97853342,  -7.86929988],\n",
       "       [ -7.99106536,   5.44874805],\n",
       "       [ -7.28226401,   7.42975546],\n",
       "       [ -7.59295434,   4.8360507 ],\n",
       "       [ -7.28590962,   3.14400896],\n",
       "       [  1.75717196,  -9.58156723],\n",
       "       [  3.34915187,  -9.50283403],\n",
       "       [  3.18010015,  -7.20453678],\n",
       "       [ -7.77240857,   4.17853081],\n",
       "       [-10.14651935,   6.01239616],\n",
       "       [  0.80514557,  -7.28384729],\n",
       "       [  2.1657907 ,  -8.00333351],\n",
       "       [  3.00308251,  -6.9791208 ]])"
      ]
     },
     "execution_count": 59,
     "metadata": {},
     "output_type": "execute_result"
    }
   ],
   "source": [
    "data = datasets.make_blobs(n_samples = 100, centers=2)\n",
    "X, y = data\n",
    "X"
   ]
  },
  {
   "cell_type": "code",
   "execution_count": 57,
   "id": "fc61f948",
   "metadata": {},
   "outputs": [],
   "source": [
    "?np.random.rand"
   ]
  }
 ],
 "metadata": {
  "kernelspec": {
   "display_name": "Python 3",
   "language": "python",
   "name": "python3"
  },
  "language_info": {
   "codemirror_mode": {
    "name": "ipython",
    "version": 3
   },
   "file_extension": ".py",
   "mimetype": "text/x-python",
   "name": "python",
   "nbconvert_exporter": "python",
   "pygments_lexer": "ipython3",
   "version": "3.9.4"
  }
 },
 "nbformat": 4,
 "nbformat_minor": 5
}
