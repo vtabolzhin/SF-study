{
 "cells": [
  {
   "cell_type": "code",
   "execution_count": 1,
   "metadata": {},
   "outputs": [],
   "source": [
    "import json\n",
    "with open('data.json', 'rb') as infile:\n",
    "    data = json.load(infile)"
   ]
  },
  {
   "cell_type": "code",
   "execution_count": 2,
   "metadata": {},
   "outputs": [
    {
     "data": {
      "text/plain": [
       "dict"
      ]
     },
     "execution_count": 2,
     "metadata": {},
     "output_type": "execute_result"
    }
   ],
   "source": [
    "type(data)"
   ]
  },
  {
   "cell_type": "code",
   "execution_count": 3,
   "metadata": {},
   "outputs": [
    {
     "data": {
      "text/plain": [
       "dict_keys(['events_data'])"
      ]
     },
     "execution_count": 3,
     "metadata": {},
     "output_type": "execute_result"
    }
   ],
   "source": [
    "data.keys()"
   ]
  },
  {
   "cell_type": "code",
   "execution_count": 20,
   "metadata": {},
   "outputs": [
    {
     "data": {
      "text/plain": [
       "{'id': 47946124,\n",
       " 'client_id': 62526,\n",
       " 'user_id': 110777,\n",
       " 'category': 'page',\n",
       " 'action': 'enter',\n",
       " 'options': {'name': 'landing'}}"
      ]
     },
     "execution_count": 20,
     "metadata": {},
     "output_type": "execute_result"
    }
   ],
   "source": [
    "data['events_data'][0]"
   ]
  },
  {
   "cell_type": "code",
   "execution_count": 10,
   "metadata": {},
   "outputs": [
    {
     "data": {
      "text/plain": [
       "107"
      ]
     },
     "execution_count": 10,
     "metadata": {},
     "output_type": "execute_result"
    }
   ],
   "source": [
    "data_list = data['events_data']\n",
    "len(data_list)"
   ]
  },
  {
   "cell_type": "code",
   "execution_count": 17,
   "metadata": {},
   "outputs": [
    {
     "name": "stdout",
     "output_type": "stream",
     "text": [
      "107\n",
      "['page', 'page', 'page', 'datepicker', 'table', 'table', 'table', 'table', 'datepicker', 'datepicker', 'datepicker', 'datepicker', 'datepicker', 'page', 'page', 'page', 'page', 'page', 'page', 'page', 'page', 'page', 'page', 'page', 'page', 'page', 'page', 'page', 'page', 'page', 'page', 'page', 'page', 'report', 'report', 'report', 'report', 'page', 'report', 'page', 'page', 'page', 'table', 'table', 'table', 'table', 'page', 'page', 'page', 'page', 'page', 'page', 'page', 'page', 'page', 'page', 'page', 'page', 'report', 'page', 'page', 'page', 'page', 'page', 'report', 'page', 'page', 'page', 'page', 'page', 'page', 'page', 'page', 'page', 'page', 'page', 'page', 'page', 'datepicker', 'datepicker', 'datepicker', 'datepicker', 'datepicker', 'datepicker', 'datepicker', 'page', 'page', 'page', 'page', 'page', 'page', 'report', 'table', 'table', 'datepicker', 'datepicker', 'page', 'page', 'page', 'page', 'page', 'page', 'page', 'page', 'page', 'page', 'page']\n"
     ]
    }
   ],
   "source": [
    "categories=[]\n",
    "for item in data_list:\n",
    "    categories.append(item['category'])\n",
    "print(len(categories))\n",
    "print(categories)"
   ]
  },
  {
   "cell_type": "code",
   "execution_count": 19,
   "metadata": {},
   "outputs": [
    {
     "name": "stdout",
     "output_type": "stream",
     "text": [
      "Counter({'page': 74, 'datepicker': 15, 'table': 10, 'report': 8})\n"
     ]
    }
   ],
   "source": [
    "import collections\n",
    "c = collections.Counter(categories)\n",
    "#for category in categories:\n",
    "#    c[category] += 1\n",
    "print(c)"
   ]
  },
  {
   "cell_type": "code",
   "execution_count": 21,
   "metadata": {},
   "outputs": [
    {
     "data": {
      "text/plain": [
       "[27115, 27115, 27115, 27115, 60459, 60459, 60459, 60459, 58113, 58113]"
      ]
     },
     "execution_count": 21,
     "metadata": {},
     "output_type": "execute_result"
    }
   ],
   "source": [
    "table_client = [x['client_id'] for x in data_list if x['category'] == 'table']\n",
    "#for item in data_list:\n",
    "#    table_client = []\n",
    "table_client"
   ]
  },
  {
   "cell_type": "code",
   "execution_count": 24,
   "metadata": {},
   "outputs": [
    {
     "name": "stdout",
     "output_type": "stream",
     "text": [
      "3\n",
      "4\n"
     ]
    }
   ],
   "source": [
    "c = collections.Counter(table_client)\n",
    "print(len(c))\n",
    "print(c[27115])"
   ]
  },
  {
   "cell_type": "code",
   "execution_count": 31,
   "metadata": {},
   "outputs": [
    {
     "name": "stdout",
     "output_type": "stream",
     "text": [
      "3\n",
      "2\n",
      "Counter({60459: 5, 62602: 2, 58113: 1})\n"
     ]
    }
   ],
   "source": [
    "active_clients = [x['client_id'] for x in data_list if x['action'] and x['category']=='report']\n",
    "c = collections.Counter(active_clients)\n",
    "print(len(c))\n",
    "print(c[62602])\n",
    "print(c)"
   ]
  },
  {
   "cell_type": "code",
   "execution_count": 34,
   "metadata": {},
   "outputs": [
    {
     "name": "stdout",
     "output_type": "stream",
     "text": [
      "[1, 2, 3, 4, 5]\n",
      "<class 'list'>\n"
     ]
    }
   ],
   "source": [
    "numbers = [1, 2, 2, 3, 3, 4, 5]\n",
    "unique_numbers = list(set(numbers))\n",
    "print(unique_numbers)\n",
    "print(type(unique_numbers))"
   ]
  }
 ],
 "metadata": {
  "kernelspec": {
   "display_name": "Python 3",
   "language": "python",
   "name": "python3"
  },
  "language_info": {
   "codemirror_mode": {
    "name": "ipython",
    "version": 3
   },
   "file_extension": ".py",
   "mimetype": "text/x-python",
   "name": "python",
   "nbconvert_exporter": "python",
   "pygments_lexer": "ipython3",
   "version": "3.8.5"
  }
 },
 "nbformat": 4,
 "nbformat_minor": 4
}
