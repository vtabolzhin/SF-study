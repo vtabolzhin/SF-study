{
 "cells": [
  {
   "cell_type": "code",
   "execution_count": 18,
   "metadata": {},
   "outputs": [
    {
     "output_type": "stream",
     "name": "stdout",
     "text": [
      "dict_keys(['gender', 'race/ethnicity', 'parental level of education', 'lunch', 'test preparation course', 'math score', 'reading score', 'writing score'])\n"
     ]
    },
    {
     "output_type": "execute_result",
     "data": {
      "text/plain": [
       "{\"associate's degree\",\n",
       " \"bachelor's degree\",\n",
       " 'high school',\n",
       " \"master's degree\",\n",
       " 'some college',\n",
       " 'some high school'}"
      ]
     },
     "metadata": {},
     "execution_count": 18
    }
   ],
   "source": [
    "data_list = []\n",
    "data_dict = {}\n",
    "with open(\"StudentsPerformance.csv\") as f:\n",
    "    for line in f:\n",
    "        data_list.append(line[1:-2].split('\",\"'))\n",
    "for i in range(len(data_list[1:])):\n",
    "    data_list[i+1][-1] = int(data_list[i+1][-1])\n",
    "    data_list[i+1][-2] = int(data_list[i+1][-2])\n",
    "    data_list[i+1][-3] = int(data_list[i+1][-3])\n",
    "for i in range(len(data_list[0])):\n",
    "    data_dict[data_list[0][i]]=[r[i] for r in data_list[1:]]\n",
    "\n",
    "print(data_dict.keys())\n",
    "ethnicity = set(data_dict['parental level of education'])\n",
    "ethnicity"
   ]
  },
  {
   "cell_type": "code",
   "execution_count": null,
   "metadata": {},
   "outputs": [],
   "source": []
  }
 ],
 "metadata": {
  "kernelspec": {
   "name": "python3",
   "language": "python",
   "display_name": "Python 3"
  },
  "language_info": {
   "codemirror_mode": {
    "name": "ipython",
    "version": 3
   },
   "file_extension": ".py",
   "mimetype": "text/x-python",
   "name": "python",
   "nbconvert_exporter": "python",
   "pygments_lexer": "ipython3",
   "version": "3.8.5-final"
  }
 },
 "nbformat": 4,
 "nbformat_minor": 4
}