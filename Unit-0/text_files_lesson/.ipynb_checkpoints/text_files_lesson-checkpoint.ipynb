{
 "cells": [
  {
   "cell_type": "code",
   "execution_count": 17,
   "metadata": {},
   "outputs": [
    {
     "name": "stdout",
     "output_type": "stream",
     "text": [
      "male - 482\n",
      "female - 518\n"
     ]
    }
   ],
   "source": [
    "f = open('StudentsPerformance.csv')\n",
    "counter_male = 0\n",
    "counter_female = 0\n",
    "current_list = {}\n",
    "current_gender = ''\n",
    "for line in f:\n",
    "    current_list = line.split(',')\n",
    "    current_gender = current_list[0][1:-1]\n",
    "    if current_gender == 'male':\n",
    "        counter_male += 1\n",
    "    elif current_gender == 'female':\n",
    "        counter_female += 1\n",
    "print('male -',counter_male)\n",
    "print('female -',counter_female)\n",
    "f.close()"
   ]
  },
  {
   "cell_type": "code",
   "execution_count": null,
   "metadata": {},
   "outputs": [],
   "source": [
    "f = open('StudentsPerformance.csv')\n",
    "counter = 0\n",
    "parental_education = {}\n",
    "for line in f:\n",
    "    info = line.split(',')\n",
    "    parental_education.setdefault(info[2][1:-1])\n",
    "mylist = list(parental_education)    \n",
    "print(parental_education)\n",
    "print(mylist)\n",
    "print(len(mylist))\n",
    "f.close()"
   ]
  },
  {
   "cell_type": "code",
   "execution_count": null,
   "metadata": {},
   "outputs": [],
   "source": [
    "f = open('StudentsPerformance.csv')\n",
    "counter = 0\n",
    "next(f)\n",
    "for line in f:\n",
    "    info = line.split(',')\n",
    "    \n",
    "print()\n",
    "f.close()"
   ]
  },
  {
   "cell_type": "code",
   "execution_count": 36,
   "metadata": {},
   "outputs": [
    {
     "name": "stdout",
     "output_type": "stream",
     "text": [
      "free/reduced\n",
      "645\n",
      "64.5\n"
     ]
    }
   ],
   "source": [
    "f = open('StudentsPerformance.csv')\n",
    "counter = 0\n",
    "total = 0\n",
    "next(f)\n",
    "for line in f:\n",
    "    info = line.split(',')\n",
    "    lunch = info[3][1:-1]\n",
    "    if lunch == 'standard':\n",
    "        counter +=1\n",
    "    total+=1\n",
    "print(lunch)\n",
    "print(counter)\n",
    "print(counter/total*100)\n",
    "f.close()"
   ]
  },
  {
   "cell_type": "code",
   "execution_count": 40,
   "metadata": {},
   "outputs": [
    {
     "name": "stdout",
     "output_type": "stream",
     "text": [
      "319\n"
     ]
    }
   ],
   "source": [
    "f = open('StudentsPerformance.csv')\n",
    "counter = 0\n",
    "next(f)\n",
    "for line in f:\n",
    "    info = line.split(',')\n",
    "    if info[1][1:-1] == 'group C':\n",
    "        counter += 1\n",
    "print(counter)\n",
    "f.close()"
   ]
  },
  {
   "cell_type": "code",
   "execution_count": 42,
   "metadata": {},
   "outputs": [
    {
     "name": "stdout",
     "output_type": "stream",
     "text": [
      "5\n"
     ]
    }
   ],
   "source": [
    "f = open('StudentsPerformance.csv')\n",
    "counter = {}\n",
    "next(f)\n",
    "for line in f:\n",
    "    info = line.split(',')\n",
    "    counter.setdefault(info[1][1:-1])\n",
    "print(len(counter))\n",
    "f.close()"
   ]
  },
  {
   "cell_type": "code",
   "execution_count": 96,
   "metadata": {},
   "outputs": [
    {
     "name": "stdout",
     "output_type": "stream",
     "text": [
      "68 59 86.76470588235294\n"
     ]
    }
   ],
   "source": [
    "import re\n",
    "pattern = re.compile('\\d+')\n",
    "f = open('StudentsPerformance.csv')\n",
    "exams = []\n",
    "next(f)\n",
    "for line in f:\n",
    "    info = line.split(',')\n",
    "    for i,item in enumerate(info):\n",
    "        if pattern.search(item):\n",
    "            info[i] = int(re.match(pattern,item[1:]).group(0))\n",
    "        else:\n",
    "            info[i] = item[1:-1]\n",
    "    exams.append(info)\n",
    "count_mark = 0\n",
    "count_mark2 = 0\n",
    "for i,item in enumerate(exams):\n",
    "    if item[7]>90:\n",
    "        count_mark += 1\n",
    "        if item[3] == 'standard':\n",
    "            count_mark2 += 1\n",
    "print(count_mark,count_mark2,count_mark2/count_mark*100)\n",
    "f.close()"
   ]
  },
  {
   "cell_type": "code",
   "execution_count": 119,
   "metadata": {},
   "outputs": [
    {
     "name": "stdout",
     "output_type": "stream",
     "text": [
      "1000\n",
      "{'group B': {\"bachelor's degree\": 20, \"master's degree\": 6, \"associate's degree\": 41, 'some college': 37, 'high school': 48, 'some high school': 38}, 'group C': {'some college': 69, \"associate's degree\": 78, 'some high school': 49, 'high school': 64, \"master's degree\": 19, \"bachelor's degree\": 40}, 'group A': {\"associate's degree\": 14, 'some college': 18, \"master's degree\": 3, 'some high school': 24, \"bachelor's degree\": 12, 'high school': 18}, 'group D': {'high school': 44, \"associate's degree\": 50, 'some college': 67, \"bachelor's degree\": 28, \"master's degree\": 23, 'some high school': 50}, 'group E': {\"master's degree\": 8, 'some college': 35, \"associate's degree\": 39, \"bachelor's degree\": 18, 'some high school': 18, 'high school': 22}}\n"
     ]
    }
   ],
   "source": [
    "f = open('StudentsPerformance.csv')\n",
    "counter = 0\n",
    "race = {}\n",
    "next(f)\n",
    "for line in f:\n",
    "    info = line.split(',')\n",
    "    cur_race = info[1][1:-1]\n",
    "    parents = info[2][1:-1]\n",
    "    if cur_race in race:\n",
    "        if parents in race[cur_race]:\n",
    "            race[cur_race][parents] += 1\n",
    "        else:\n",
    "            race[cur_race][parents] = 1\n",
    "    else:\n",
    "        race[cur_race] = {}\n",
    "        race[cur_race][parents] = 1\n",
    "for item in race.values():\n",
    "    counter += sum(item.values())\n",
    "print(counter)    \n",
    "print(race)\n",
    "f.close()"
   ]
  },
  {
   "cell_type": "code",
   "execution_count": 160,
   "metadata": {
    "scrolled": true
   },
   "outputs": [
    {
     "name": "stdout",
     "output_type": "stream",
     "text": [
      "63.02253521126761\n"
     ]
    }
   ],
   "source": [
    "f = open('StudentsPerformance.csv')\n",
    "counter = 0\n",
    "mydict = {}\n",
    "scores = []\n",
    "math_max_score = 0\n",
    "next(f)\n",
    "for line in f:\n",
    "    info = line.split(',')\n",
    "    condition_1 = info[3][1:-1] # lunch\n",
    "    condition_2 = int(info[7][1:-2]) # writing score\n",
    "    if condition_1 == 'free/reduced': scores.append(condition_2)\n",
    "\n",
    "#for score in scores:\n",
    "#    if score[0]>math_max_score:\n",
    "#        math_max_score = score[0]\n",
    "\n",
    "#r_scores = [x[1] for x in scores if x[0] == math_max_score]\n",
    "        \n",
    "print(sum(scores)/len(scores))\n",
    " \n",
    "\n",
    "f.close()"
   ]
  },
  {
   "cell_type": "code",
   "execution_count": null,
   "metadata": {},
   "outputs": [],
   "source": [
    "INPUT_FILE = \"StudentsPerformance.csv\"\n",
    "data_list = []\n",
    "for line in open(INPUT_FILE).readlines():\n",
    "    data_list.append(line[1:-2].split('\",\"'))\n",
    "for line in data_list[1:]:\n",
    "    line[-3] = int(line[-3])\n",
    "    line[-2] = int(line[-2])\n",
    "    line[-1] = int(line[-1])\n",
    "data_dict = {}\n",
    "for i in range(len(data_list[0])):\n",
    "    data_dict[data_list[0][i]] = [r[i] for r in data_list[1:]]"
   ]
  }
 ],
 "metadata": {
  "kernelspec": {
   "display_name": "Python 3",
   "language": "python",
   "name": "python3"
  },
  "language_info": {
   "codemirror_mode": {
    "name": "ipython",
    "version": 3
   },
   "file_extension": ".py",
   "mimetype": "text/x-python",
   "name": "python",
   "nbconvert_exporter": "python",
   "pygments_lexer": "ipython3",
   "version": "3.8.5"
  }
 },
 "nbformat": 4,
 "nbformat_minor": 4
}
